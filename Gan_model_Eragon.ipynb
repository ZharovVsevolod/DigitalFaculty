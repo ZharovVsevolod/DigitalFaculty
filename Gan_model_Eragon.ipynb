{
 "cells": [
  {
   "cell_type": "code",
   "execution_count": 2,
   "metadata": {},
   "outputs": [],
   "source": [
    "%load_ext autoreload\n",
    "%autoreload 2\n",
    "\n",
    "import warnings\n",
    "warnings.filterwarnings('ignore')\n",
    "\n",
    "import matplotlib.pyplot as plt\n",
    "%matplotlib inline\n",
    "\n",
    "import itertools\n",
    "\n",
    "import torch\n",
    "from torch import nn\n",
    "\n",
    "import youtokentome as yttm\n",
    "\n",
    "from utils.base import get_params_number, init_random_seed, train_loop_GAN, save_texts_to_file\n",
    "from utils.poetry import *\n",
    "from utils.transformer_tools import *\n",
    "\n",
    "init_random_seed(1702)"
   ]
  },
  {
   "cell_type": "code",
   "execution_count": 3,
   "metadata": {},
   "outputs": [
    {
     "name": "stdout",
     "output_type": "stream",
     "text": [
      "23766\n",
      "15844\n",
      "7922\n"
     ]
    }
   ],
   "source": [
    "horus = load_chunks(\"./datasets/Eragon/Eragon_red.txt\", chunk_size=300)\n",
    "\n",
    "ALL_LEN = len(horus)\n",
    "print(ALL_LEN)\n",
    "len_for_steps = int(ALL_LEN / 3)\n",
    "horus_for_GAN = horus[len_for_steps * 2:]\n",
    "horus = horus[:len_for_steps * 2]\n",
    "print(len(horus))\n",
    "print(len(horus_for_GAN))"
   ]
  },
  {
   "cell_type": "code",
   "execution_count": 4,
   "metadata": {},
   "outputs": [
    {
     "name": "stdout",
     "output_type": "stream",
     "text": [
      "7822\n",
      "100\n"
     ]
    }
   ],
   "source": [
    "for_mauve_test = horus_for_GAN[len(horus_for_GAN)-100:]\n",
    "horus_for_GAN = horus_for_GAN[:len(horus_for_GAN)-100]\n",
    "\n",
    "print(len(horus_for_GAN))\n",
    "print(len(for_mauve_test))"
   ]
  },
  {
   "cell_type": "code",
   "execution_count": 5,
   "metadata": {},
   "outputs": [
    {
     "name": "stdout",
     "output_type": "stream",
     "text": [
      "<PAD> <UNK> <BOS> <EOS> ▁ e a t o n r h i s d l u g w m c f y p . , b v k I ’ “ ” E T A S H W R ? x B z N O G j — M D Y - q F ! V C L ; U K û J P : ö í Z ë é Q ‘ á ) ( Û ä 0 / ó î Í 2 â ï ú 5 3 ü 1 7 – ô Ä 9 $ X 8 ° © ] [ 6 4 ê Ú É ▁t he ▁a in ▁s ▁the ed ▁w ou on ▁h re nd er ▁b ▁f ▁o is ra ▁c at ▁to it ing ▁m en ar ▁d ▁and or ▁he ▁of es ll ▁l ▁th an ro as ▁p ▁n ▁“ ▁e ▁in ▁y ad ▁you id ▁I ▁g ld ▁his gh ▁be ▁E rag im ow le ragon ve st ▁T ot ith ▁st ▁Eragon ▁u ▁as ac ▁re ▁on al se ir ▁with ▁S ri ▁it ur ▁that ▁we ▁ha ▁was ver ly ▁A hi ’s .” ▁for ent ght ▁H rom ould ut om ▁The et ce ap ▁her ay ▁an ion ▁him ill ▁sa out ard ▁k ▁R ▁wh her ▁had ▁not ain oo il ▁sh ▁at s, if ic ch s. ran rou ted ▁He ter ore all ▁from ▁have ke ▁me ▁so ▁B pp ▁se ▁W hed ag am ▁they ked ru ▁but ight ▁is ▁said hira aphira ▁Saphira ▁le e, el ▁them ▁sp ec ▁she ▁con e. ▁O ▁their ’t ▁do ▁would ?” th ▁ex ▁were ind hen our ry ong ▁G ▁your ed, ▁su ▁“I ▁kn ▁ne ▁li ▁N ▁— lf ▁then ▁un ed. ack ▁v oran ▁int ▁M and em ble ▁cl ves ▁fe ss ▁Roran un ▁if ▁or ers ▁al ▁are ▁can ▁up ▁no ▁could um ▁bl ast qu est ▁ag ant ▁will ▁de row ▁ar ood ▁out ▁by led ▁my ess au ▁D ire ,” ord one round ▁ab ther ▁into ▁fl ul ide ▁all ▁one ▁ro ▁en ell ist ▁F ven ▁over ust ▁j ▁ch ck self ▁com ous You ▁who ▁whi ▁sw ak ▁what ep ▁It hat ▁ra ▁“W op ▁man urn ▁this ▁pro ge fore ▁V es, ▁ac here ▁like art ▁tw ▁r ▁hand ▁did ▁know ▁back ▁. ▁again ward ▁sm us ough ▁pl ▁“T ear rough ▁when es. ered ▁el ▁said, hing ▁sl ▁Brom are ▁more ost ure ▁us very ▁ey ▁C ft ▁than ched ome reat ▁our ▁sc ▁before ▁tim ort ound way ada ▁go ▁am ▁ri ▁any on’t ▁po ▁qu oun ive ▁other ake urt nder ▁only arden ▁head ation ori ▁through ▁how asu ig ▁She y, ing, ▁U y. ▁too asuada ose ate ect ▁long ▁exp ▁been ▁Nasuada ved ought ▁“A ct ▁should rya ▁co ing. ▁loo pped ace ▁im ang ▁pre ie ▁Arya ▁about n’t war ▁dis pt rin ▁bet od ▁wor ull ▁arm ▁under ren ice sed agh er, ick ▁L ▁Varden ade orn ▁asked ree urtagh rg ▁rem ond ▁gl bat own ▁where er. ▁Murtagh ▁off fter sp ▁K ▁Eragon. ▁I’ ▁They ▁ru end ▁dwar ▁around ▁cont ath ame ▁wat wn ▁tra ▁You rik ave een !” ▁himself ▁dragon orix romis ▁att ▁now albat ▁even ach ▁which albatorix ▁thought ▁two ▁down ▁app ink ped ▁there ▁Galbatorix ▁every ▁Orik ced dd ▁unt ff ▁As ▁fo able ▁gra ▁bec ▁We ated ly. ▁mag ▁war ▁Th ▁pe ▁him. ▁sword gg tain ting ine ared ▁against ▁sur ▁see ove ▁well ron ▁until ol ▁right ▁time ▁has ▁ret iz ▁magic ▁sold ▁And ence ▁wa ▁still ▁mind ance ▁Rid ▁hel ▁mu ▁upon ite ▁soldi ▁toward other ish ab av ment ▁Oromis oth ally ▁left ▁Eragon’s ors ened ci ▁J ▁might urned ▁don’t ▁away ▁some ity ever ▁him, ▁must mb ▁“You ▁sk ▁Urg ▁way ies ried ause ▁elves ▁“N ark ▁Eragon, ▁Urgal ▁seem red owed ▁If ling ▁men ▁while ▁here ▁When ▁ent ▁word ▁its pl ly, ather os tle ▁think la ished mp ▁In ▁fir ied air ▁far rim ▁shi ▁never ween ings ▁day ▁imp ▁own ady ▁much ▁eyes ▁kill ▁His ▁may ▁Ra ful va ross ▁“H ▁Then ▁between ▁With ▁lif ud ined atter ▁des ▁enough ▁bel ’z ’zac ▁need less ▁ground ▁op age bed ▁ed ▁want ▁kne ▁Ra’zac ▁looked ▁P iff ▁first ue ’ll ber ip ▁tre leas ▁An az ook og ion. ▁made ▁after ▁fac ail had ▁vo ▁sn old ▁fore ▁gu arn ▁ad ▁res ▁without ▁you, ress ▁rest elt rat ▁beh ▁end ▁just ’re ged ▁dwarves ▁comp ▁ste ▁air lo ass ions ▁“S ▁many ign ▁cons ▁those ▁“B les ▁it. ▁spell ▁few ▁“It ▁tru ople ▁help ▁per und ▁find ving ▁saw ible a, ▁dec eep ▁Saphira. ▁Al ▁ins ince ▁say ▁wait aw ▁“What ▁another ▁On arm ▁elf ank ▁feet ris ▁fight ▁land ▁each ▁mom ung ▁beg ▁though ▁moment ▁felt ▁last ▁che ▁people ▁acc ▁most ▁fin ▁side ▁inc ▁them. ▁ob ▁remain ▁fing ▁get ▁it, ile xt ▁sil right mpire ▁tell ▁light aught ▁took ▁behind ▁cle ▁Empire rew ▁let ▁chi ▁I’m ▁But ans ious ached ▁rec ▁nor atrin per ▁dist ▁good ▁happ ons ▁such ion, ▁else ▁voice not cked ▁face ult ower omet mer ▁spe ▁great gth ▁shall ▁set ▁mo ▁hard ▁nec o, ▁te ▁What act ▁take ▁make ▁small ▁“The med king ▁knew eld ▁es ▁Katrin ▁three ▁bro ▁ran get ▁keep ▁Be a. ▁dark ▁Saphira’s ▁because ▁lo ▁sec aster sh ▁star ither rong ▁bo ▁found hes ▁“D ▁soldiers ▁once hall ▁you. ▁bat ▁seemed ▁hum ▁car ▁night me alf ps ▁bu ▁open ▁wall hy ountain ▁Rider ▁prot ▁“We ▁fire ▁across thing ▁ear de ▁diff ▁both ▁conf ▁Gar ▁Car ense ▁sat ▁cannot aking ▁stru ▁stre ▁Dû ▁met ▁feel ▁stood ▁Saphira, oke ▁def sel ▁somet ching ured ▁hop ▁St ens ▁won’t eod ected ▁Urgals ▁turned ▁Carva ▁dwarf vered idd ▁Y ▁year ▁bre vent ▁contin ▁Carvahall rown ▁Is ▁them, ▁ser ▁Jeod rying lain ▁plac ▁nothing ▁There h, ▁supp ▁heart ▁disc ▁underst ▁cur ▁poin ▁sto ▁use ▁min igh ▁breat sw ▁bar\n"
     ]
    }
   ],
   "source": [
    "BPE_MODEL_FILENAME = './models/tokens/eragon_bpe_1000.yttm'\n",
    "\n",
    "tokenizer = yttm.BPE(BPE_MODEL_FILENAME)\n",
    "print(' '.join(tokenizer.vocab()))"
   ]
  },
  {
   "cell_type": "code",
   "execution_count": 6,
   "metadata": {},
   "outputs": [
    {
     "name": "stdout",
     "output_type": "stream",
     "text": [
      "Количество случаев с неизвестными n-граммами символов 0\n"
     ]
    }
   ],
   "source": [
    "token_ids = tokenizer.encode(horus_for_GAN, bos=True, eos=True)\n",
    "\n",
    "unknown_subwords_in_test = sum(1 for text in token_ids for token_id in text if token_id == 1)\n",
    "print('Количество случаев с неизвестными n-граммами символов', unknown_subwords_in_test)"
   ]
  },
  {
   "cell_type": "code",
   "execution_count": 7,
   "metadata": {},
   "outputs": [
    {
     "data": {
      "image/png": "[encoded data removed]",
      "text/plain": [
       "<Figure size 640x480 with 1 Axes>"
      ]
     },
     "metadata": {},
     "output_type": "display_data"
    }
   ],
   "source": [
    "plt.hist([len(sent) for sent in token_ids], bins=30)\n",
    "plt.title('Распределение длин фрагментов в токенах')\n",
    "plt.yscale('log')"
   ]
  },
  {
   "cell_type": "code",
   "execution_count": 8,
   "metadata": {},
   "outputs": [],
   "source": [
    "start_length = 20\n",
    "end_length = 60\n",
    "\n",
    "all_dataset = Dataset_for_GAN(token_ids, start_len=start_length, end_len=end_length)"
   ]
  },
  {
   "cell_type": "code",
   "execution_count": 9,
   "metadata": {},
   "outputs": [
    {
     "name": "stdout",
     "output_type": "stream",
     "text": [
      "[595 176 110 368  19 117 806 121 296 136 298 147 130 588 210 591 394 266\n",
      " 168 139]\n",
      "[159 820 328 585  13  19 133 197 699 165 397 270 953   5 128 267 278 768\n",
      " 109 138 180 114 267 139 274 311 134 136 274 118 469 136 354 113 143 685\n",
      " 188 135 185 168 110 382 129 692  24 606 298 661 254 950 157 496   9 131\n",
      " 229 808 448 392   4 155]\n",
      "['well as a common fighter — and then pitting her against twelve of']\n",
      "['his finest swordsmen.” “How did she defeat them?” “She healed them of their fear and their hate and all the things that drive a man to kill. And then while they stood grinning at each other like id']\n"
     ]
    }
   ],
   "source": [
    "check = all_dataset[2036]\n",
    "\n",
    "print(check[0])\n",
    "print(check[1])\n",
    "print(tokenizer.decode(check[0].tolist()))\n",
    "print(tokenizer.decode(check[1].tolist()))"
   ]
  },
  {
   "cell_type": "code",
   "execution_count": 10,
   "metadata": {},
   "outputs": [
    {
     "name": "stdout",
     "output_type": "stream",
     "text": [
      "Количество параметров дискриминатора 399301\n",
      "Количество параметров генератора 3148520\n"
     ]
    }
   ],
   "source": [
    "D_model = LSTM_Discriminator(100, 256, tokenizer.vocab_size())\n",
    "print('Количество параметров дискриминатора', get_params_number(D_model))\n",
    "\n",
    "G_model = Language_Model(\n",
    "    vocab_size = tokenizer.vocab_size(),\n",
    "    embedding_size = 256,\n",
    "    backbone = Transformer_Encoder(\n",
    "        nn.TransformerEncoderLayer(\n",
    "            d_model = 256,\n",
    "            nhead = 16,\n",
    "            dim_feedforward = 512,\n",
    "            dropout = 0.1\n",
    "        ),\n",
    "        num_layers=5\n",
    "    ),\n",
    "    emb_dropout = 0.1\n",
    ")\n",
    "print('Количество параметров генератора', get_params_number(G_model))"
   ]
  },
  {
   "cell_type": "code",
   "execution_count": 12,
   "metadata": {},
   "outputs": [
    {
     "data": {
      "text/plain": [
       "<All keys matched successfully>"
      ]
     },
     "execution_count": 12,
     "metadata": {},
     "output_type": "execute_result"
    }
   ],
   "source": [
    "optimizer_SD_G = torch.load('./models/Lord/Eragon/Lord_opt.pth')\n",
    "G_model.load_state_dict(torch.load('./models/Lord/Eragon/Lord.pth'))"
   ]
  },
  {
   "cell_type": "code",
   "execution_count": 13,
   "metadata": {},
   "outputs": [
    {
     "name": "stdout",
     "output_type": "stream",
     "text": [
      "Эпоха 0\n"
     ]
    },
    {
     "name": "stderr",
     "output_type": "stream",
     "text": [
      "123it [00:59,  2.07it/s]\n"
     ]
    },
    {
     "name": "stdout",
     "output_type": "stream",
     "text": [
      "Эпоха прошла за 59.33 секунд\n",
      "Средняя функция потерь для дискриминатора = 0.7035545055580333\n",
      "Средняя функция потерь для генератора = 2.3691782372269206\n",
      "Today we are going tomorrow, but we can’t go to the Varden.” Eragon gestured at Murtagh. “For the first time we’ll have to leave.” Murtagh shook his head.\n",
      "Следующая эпоха\n",
      "Эпоха 1\n"
     ]
    },
    {
     "name": "stderr",
     "output_type": "stream",
     "text": [
      "123it [00:58,  2.10it/s]\n"
     ]
    },
    {
     "name": "stdout",
     "output_type": "stream",
     "text": [
      "Эпоха прошла за 58.62 секунд\n",
      "Средняя функция потерь для дискриминатора = 0.06978082507697304\n",
      "Средняя функция потерь для генератора = 5.258122847332218\n",
      "Today we are going in the middle of Alagaësia.” She paused. “Perhaps,” said Angela. “Of course not, I\n",
      "Следующая эпоха\n",
      "Эпоха 2\n"
     ]
    },
    {
     "name": "stderr",
     "output_type": "stream",
     "text": [
      "123it [00:58,  2.09it/s]\n"
     ]
    },
    {
     "name": "stdout",
     "output_type": "stream",
     "text": [
      "Эпоха прошла за 58.79 секунд\n",
      "Средняя функция потерь для дискриминатора = 0.04113429546454633\n",
      "Средняя функция потерь для генератора = 6.299775906694614\n",
      "Today we are going to Tronjheim. We can’t go to Tronjheim. They’ll be safely here for the rest of the Beor Mountains, but they’ll be\n",
      "Следующая эпоха\n",
      "Эпоха 3\n"
     ]
    },
    {
     "name": "stderr",
     "output_type": "stream",
     "text": [
      "123it [00:58,  2.09it/s]\n"
     ]
    },
    {
     "name": "stdout",
     "output_type": "stream",
     "text": [
      "Эпоха прошла за 58.77 секунд\n",
      "Средняя функция потерь для дискриминатора = 0.04303621391129748\n",
      "Средняя функция потерь для генератора = 6.834927074308318\n",
      "Today we are going to Tronjheim.” “And what will you do?” Orik shrugged. “Once we can get out of here.” “Fine,” said Eragon, “but\n",
      "Следующая эпоха\n",
      "Эпоха 4\n"
     ]
    },
    {
     "name": "stderr",
     "output_type": "stream",
     "text": [
      "123it [00:58,  2.09it/s]\n"
     ]
    },
    {
     "name": "stdout",
     "output_type": "stream",
     "text": [
      "Эпоха прошла за 58.81 секунд\n",
      "Средняя функция потерь для дискриминатора = 0.04423734378372508\n",
      "Средняя функция потерь для генератора = 6.476590148801726\n",
      "Today we are going to Teirm, and I will be able to escape for the rest of your life.” “Onlyour day,” said Brom. “Of cour\n",
      "Следующая эпоха\n",
      "Эпоха 5\n"
     ]
    },
    {
     "name": "stderr",
     "output_type": "stream",
     "text": [
      "123it [00:59,  2.06it/s]\n"
     ]
    },
    {
     "name": "stdout",
     "output_type": "stream",
     "text": [
      "Эпоха прошла за 59.66 секунд\n",
      "Средняя функция потерь для дискриминатора = 0.019910353637201998\n",
      "Средняя функция потерь для генератора = 7.416053686684709\n",
      "Today we are going to Tronjheim. That is why we aren’t going here?” asked Eragon. He shook his head. “I’m not going to get out of here,” said\n",
      "Следующая эпоха\n",
      "Эпоха 6\n"
     ]
    },
    {
     "name": "stderr",
     "output_type": "stream",
     "text": [
      "123it [01:00,  2.04it/s]\n"
     ]
    },
    {
     "name": "stdout",
     "output_type": "stream",
     "text": [
      "Эпоха прошла за 60.22 секунд\n",
      "Средняя функция потерь для дискриминатора = 0.01782854890727203\n",
      "Средняя функция потерь для генератора = 7.714709704484397\n",
      "Today we are going in the Spine, and we can cross the Empire.” “Yes, Ma’am.” “Good. We’ve never seen before,” said Brom, “but\n",
      "Следующая эпоха\n",
      "Эпоха 7\n"
     ]
    },
    {
     "name": "stderr",
     "output_type": "stream",
     "text": [
      "123it [00:58,  2.10it/s]\n"
     ]
    },
    {
     "name": "stdout",
     "output_type": "stream",
     "text": [
      "Эпоха прошла за 58.65 секунд\n",
      "Средняя функция потерь для дискриминатора = 0.015281949033279245\n",
      "Средняя функция потерь для генератора = 7.995974125900889\n",
      "Today we are going together.” “Of course,” said Eragon, “but we can’t go to the ground.” “Yes,” said Brom. He gestured at the corner\n",
      "Следующая эпоха\n",
      "Эпоха 8\n"
     ]
    },
    {
     "name": "stderr",
     "output_type": "stream",
     "text": [
      "123it [00:58,  2.09it/s]\n"
     ]
    },
    {
     "name": "stdout",
     "output_type": "stream",
     "text": [
      "Эпоха прошла за 58.83 секунд\n",
      "Средняя функция потерь для дискриминатора = 0.01833710708320368\n",
      "Средняя функция потерь для генератора = 8.146408802125512\n",
      "Today we are going to Cithríhví.” “And what is it?” “Of course not,” said Eragon. “Good. That is why you aren’t going to\n",
      "Следующая эпоха\n",
      "Эпоха 9\n"
     ]
    },
    {
     "name": "stderr",
     "output_type": "stream",
     "text": [
      "123it [00:58,  2.10it/s]\n"
     ]
    },
    {
     "name": "stdout",
     "output_type": "stream",
     "text": [
      "Эпоха прошла за 58.67 секунд\n",
      "Средняя функция потерь для дискриминатора = 0.014072863068488404\n",
      "Средняя функция потерь для генератора = 9.17434280674632\n",
      "Today we are going?” asked Eragon. “Once we are in Tronjheim, I will be able to see if we can accompany me. We’ll have to go to the\n",
      "Следующая эпоха\n",
      "Эпоха 10\n"
     ]
    },
    {
     "name": "stderr",
     "output_type": "stream",
     "text": [
      "123it [00:58,  2.10it/s]\n"
     ]
    },
    {
     "name": "stdout",
     "output_type": "stream",
     "text": [
      "Эпоха прошла за 58.68 секунд\n",
      "Средняя функция потерь для дискриминатора = 0.013044596728736277\n",
      "Средняя функция потерь для генератора = 9.356206482988062\n",
      "Today we are going to call ourselves.” “Of course,” said Brom. “These are too late. We can’t stay here for the night.” Eragon shook his head.\n",
      "Следующая эпоха\n",
      "Эпоха 11\n"
     ]
    },
    {
     "name": "stderr",
     "output_type": "stream",
     "text": [
      "123it [00:58,  2.09it/s]\n"
     ]
    },
    {
     "name": "stdout",
     "output_type": "stream",
     "text": [
      "Эпоха прошла за 58.83 секунд\n",
      "Средняя функция потерь для дискриминатора = 0.010444128986427227\n",
      "Средняя функция потерь для генератора = 9.27919126526127\n",
      "Today we are going to Tronjheim. We can’t go anywhere in the Beor River.” After a minute, Eragon asked, “Where are you going?” The dwarf\n",
      "Следующая эпоха\n",
      "Эпоха 12\n"
     ]
    },
    {
     "name": "stderr",
     "output_type": "stream",
     "text": [
      "123it [00:58,  2.09it/s]\n"
     ]
    },
    {
     "name": "stdout",
     "output_type": "stream",
     "text": [
      "Эпоха прошла за 58.76 секунд\n",
      "Средняя функция потерь для дискриминатора = 0.011475103332545623\n",
      "Средняя функция потерь для генератора = 10.05411519461531\n",
      "Today we are going together. We can’t be able to find a certain ways.” “Perhaps I’ve never seen anything else. It’s a matter of\n",
      "Следующая эпоха\n",
      "Эпоха 13\n"
     ]
    },
    {
     "name": "stderr",
     "output_type": "stream",
     "text": [
      "123it [00:58,  2.10it/s]\n"
     ]
    },
    {
     "name": "stdout",
     "output_type": "stream",
     "text": [
      "Эпоха прошла за 58.55 секунд\n",
      "Средняя функция потерь для дискриминатора = 0.01346595215668421\n",
      "Средняя функция потерь для генератора = 9.08798996995135\n",
      "Today we are going in the Spine.” “That’s why we’re going to find the Ra’zac?” asked Roran. “Perhaps we can find a few months.” “T\n",
      "Следующая эпоха\n",
      "Эпоха 14\n"
     ]
    },
    {
     "name": "stderr",
     "output_type": "stream",
     "text": [
      "123it [00:58,  2.09it/s]\n"
     ]
    },
    {
     "name": "stdout",
     "output_type": "stream",
     "text": [
      "Эпоха прошла за 58.82 секунд\n",
      "Средняя функция потерь для дискриминатора = 0.013724620824436491\n",
      "Средняя функция потерь для генератора = 9.35500400046992\n",
      "Today we are going to hide the rooms in the center of Tronjheim’s city. We have to go with ourselves to the Varden. They’ll be able to\n",
      "Следующая эпоха\n",
      "Эпоха 15\n"
     ]
    },
    {
     "name": "stderr",
     "output_type": "stream",
     "text": [
      "123it [00:58,  2.09it/s]\n"
     ]
    },
    {
     "name": "stdout",
     "output_type": "stream",
     "text": [
      "Эпоха прошла за 58.99 секунд\n",
      "Средняя функция потерь для дискриминатора = 0.012050409597577527\n",
      "Средняя функция потерь для генератора = 9.823715349523033\n",
      "Today we are going.” “Come now,” said Brom. “Yes, but I don’t know. That is why you’ve been here?” “No. . I don’t want to be able to\n",
      "Следующая эпоха\n",
      "Эпоха 16\n"
     ]
    },
    {
     "name": "stderr",
     "output_type": "stream",
     "text": [
      "123it [00:58,  2.08it/s]\n"
     ]
    },
    {
     "name": "stdout",
     "output_type": "stream",
     "text": [
      "Эпоха прошла за 59.0 секунд\n",
      "Средняя функция потерь для дискриминатора = 0.012187774911166994\n",
      "Средняя функция потерь для генератора = 9.5872192460347\n",
      "Today we are going.” “Perhaps,” said Brom. “Yes.” He gestured toward the corner of his eye. “For a long while ago,” said Brom.\n",
      "Следующая эпоха\n",
      "Эпоха 17\n"
     ]
    },
    {
     "name": "stderr",
     "output_type": "stream",
     "text": [
      "123it [00:58,  2.09it/s]\n"
     ]
    },
    {
     "name": "stdout",
     "output_type": "stream",
     "text": [
      "Эпоха прошла за 58.96 секунд\n",
      "Средняя функция потерь для дискриминатора = 0.01023898292481956\n",
      "Средняя функция потерь для генератора = 10.099557457900628\n",
      "Today we are going to Teirm, and I can’t be able to find out the citadeless.” “Perhaps,” said Roran, “but we’ll be a\n",
      "Следующая эпоха\n",
      "Эпоха 18\n"
     ]
    },
    {
     "name": "stderr",
     "output_type": "stream",
     "text": [
      "123it [00:58,  2.10it/s]\n"
     ]
    },
    {
     "name": "stdout",
     "output_type": "stream",
     "text": [
      "Эпоха прошла за 58.7 секунд\n",
      "Средняя функция потерь для дискриминатора = 0.01132961854750832\n",
      "Средняя функция потерь для генератора = 10.422767150692824\n",
      "Today we are going.” “Yes, Master,” said Eragon, “but we can’t go together, and we can’t be able to escape the Empire.” He stopped, then\n",
      "Следующая эпоха\n",
      "Эпоха 19\n"
     ]
    },
    {
     "name": "stderr",
     "output_type": "stream",
     "text": [
      "123it [00:58,  2.09it/s]\n"
     ]
    },
    {
     "name": "stdout",
     "output_type": "stream",
     "text": [
      "Эпоха прошла за 58.87 секунд\n",
      "Средняя функция потерь для дискриминатора = 0.013546929879036421\n",
      "Средняя функция потерь для генератора = 11.494212840630755\n",
      "Today we are going together. We are awkward, but we have to go.” “Perhaps,” said Eragon, “but we can’t get tomorrow. It’s\n",
      "Следующая эпоха\n",
      "Эпоха 20\n"
     ]
    },
    {
     "name": "stderr",
     "output_type": "stream",
     "text": [
      "123it [00:58,  2.11it/s]\n"
     ]
    },
    {
     "name": "stdout",
     "output_type": "stream",
     "text": [
      "Эпоха прошла за 58.41 секунд\n",
      "Средняя функция потерь для дискриминатора = 0.016805028727082196\n",
      "Средняя функция потерь для генератора = 10.780455224882296\n",
      "Today we are going to Tronjheim.” “And what do you want?” asked Eragon. Orik shook his head. “Aye,” said Ajihad. “Your possession is\n",
      "Следующая эпоха\n",
      "Эпоха 21\n"
     ]
    },
    {
     "name": "stderr",
     "output_type": "stream",
     "text": [
      "123it [00:58,  2.10it/s]\n"
     ]
    },
    {
     "name": "stdout",
     "output_type": "stream",
     "text": [
      "Эпоха прошла за 58.48 секунд\n",
      "Средняя функция потерь для дискриминатора = 0.004739073014887224\n",
      "Средняя функция потерь для генератора = 10.439693699038125\n",
      "Today we are going along the Beor Mountains.” Eragon shook his head. “Maybe,” said Angela. “Of course. . I have to do this,\n",
      "Следующая эпоха\n",
      "Эпоха 22\n"
     ]
    },
    {
     "name": "stderr",
     "output_type": "stream",
     "text": [
      "123it [00:58,  2.11it/s]\n"
     ]
    },
    {
     "name": "stdout",
     "output_type": "stream",
     "text": [
      "Эпоха прошла за 58.41 секунд\n",
      "Средняя функция потерь для дискриминатора = 0.0048236374217284295\n",
      "Средняя функция потерь для генератора = 11.97102307110298\n",
      "Today we are going together. We aren’t going together,she said. He glanced at her.Not only is the right thing, but I have no choice to\n",
      "Следующая эпоха\n",
      "Эпоха 23\n"
     ]
    },
    {
     "name": "stderr",
     "output_type": "stream",
     "text": [
      "123it [00:58,  2.11it/s]\n"
     ]
    },
    {
     "name": "stdout",
     "output_type": "stream",
     "text": [
      "Эпоха прошла за 58.37 секунд\n",
      "Средняя функция потерь для дискриминатора = 0.009090403968949114\n",
      "Средняя функция потерь для генератора = 11.903523367594897\n",
      "Today we are going together. We aren’t much to go to the Varden. We can’t stay with us, but we’ll be able to see the Varden.” After a few minutes,\n",
      "Следующая эпоха\n",
      "Эпоха 24\n"
     ]
    },
    {
     "name": "stderr",
     "output_type": "stream",
     "text": [
      "123it [00:58,  2.10it/s]\n"
     ]
    },
    {
     "name": "stdout",
     "output_type": "stream",
     "text": [
      "Эпоха прошла за 58.48 секунд\n",
      "Средняя функция потерь для дискриминатора = 0.0036758846061245532\n",
      "Средняя функция потерь для генератора = 12.712369523397307\n",
      "Today we are going.” “Of course,” said Eragon, “it doesn’t mean that if we aren’t going to the Varden. That’s the right thing to do, and I\n",
      "Следующая эпоха\n",
      "Эпоха 25\n"
     ]
    },
    {
     "name": "stderr",
     "output_type": "stream",
     "text": [
      "123it [00:58,  2.11it/s]\n"
     ]
    },
    {
     "name": "stdout",
     "output_type": "stream",
     "text": [
      "Эпоха прошла за 58.41 секунд\n",
      "Средняя функция потерь для дискриминатора = 0.006315085886609911\n",
      "Средняя функция потерь для генератора = 13.51346546266137\n",
      "Today we are going to Teirm. I can’t wait until we’re going to the road.” Eragon grunted. “I don’t know,” said Brom, “but we’ll be a\n",
      "Следующая эпоха\n",
      "Эпоха 26\n"
     ]
    },
    {
     "name": "stderr",
     "output_type": "stream",
     "text": [
      "123it [00:58,  2.11it/s]\n"
     ]
    },
    {
     "name": "stdout",
     "output_type": "stream",
     "text": [
      "Эпоха прошла за 58.43 секунд\n",
      "Средняя функция потерь для дискриминатора = 0.012100329517391113\n",
      "Средняя функция потерь для генератора = 13.340684510828034\n",
      "Today we are going to Surda.” The dwarf eyed him on his cheek and said, “For now, I will be able to help you.” “My Lady Nightst\n",
      "Следующая эпоха\n",
      "Эпоха 27\n"
     ]
    },
    {
     "name": "stderr",
     "output_type": "stream",
     "text": [
      "123it [00:58,  2.11it/s]\n"
     ]
    },
    {
     "name": "stdout",
     "output_type": "stream",
     "text": [
      "Эпоха прошла за 58.33 секунд\n",
      "Средняя функция потерь для дискриминатора = 0.008068050292289316\n",
      "Средняя функция потерь для генератора = 13.628245322684931\n",
      "Today we are going in the middle of the Beor Mountains’ forest, and the city of Dras-Leona. At last they reached the Beor Mountain\n",
      "Следующая эпоха\n",
      "Эпоха 28\n"
     ]
    },
    {
     "name": "stderr",
     "output_type": "stream",
     "text": [
      "123it [00:58,  2.11it/s]\n"
     ]
    },
    {
     "name": "stdout",
     "output_type": "stream",
     "text": [
      "Эпоха прошла за 58.4 секунд\n",
      "Средняя функция потерь для дискриминатора = 0.00971925779441239\n",
      "Средняя функция потерь для генератора = 13.055822659314163\n",
      "Today we are going tomorrow. We can’t go to the Varden. We’ll have to get out of the Beor Mountains, but we’ll be able to escape the Empire.\n",
      "Следующая эпоха\n",
      "Эпоха 29\n"
     ]
    },
    {
     "name": "stderr",
     "output_type": "stream",
     "text": [
      "123it [00:58,  2.11it/s]\n"
     ]
    },
    {
     "name": "stdout",
     "output_type": "stream",
     "text": [
      "Эпоха прошла за 58.33 секунд\n",
      "Средняя функция потерь для дискриминатора = 0.008302374959163078\n",
      "Средняя функция потерь для генератора = 14.429894462833559\n",
      "Today we are going to Tronjheim, where are you going? We can’t go together,she said.I’m glad you can’t be able to find out of\n",
      "Следующая эпоха\n",
      "Эпоха 30\n"
     ]
    },
    {
     "name": "stderr",
     "output_type": "stream",
     "text": [
      "123it [00:58,  2.11it/s]\n"
     ]
    },
    {
     "name": "stdout",
     "output_type": "stream",
     "text": [
      "Эпоха прошла за 58.38 секунд\n",
      "Средняя функция потерь для дискриминатора = 0.013452668780590146\n",
      "Средняя функция потерь для генератора = 13.865253890432962\n",
      "Today we are going to Teirm. I can’t do that,said Saphira.I can’t be able to get away. I can’t be able to escape the Empire.\n",
      "Следующая эпоха\n",
      "Эпоха 31\n"
     ]
    },
    {
     "name": "stderr",
     "output_type": "stream",
     "text": [
      "123it [00:58,  2.11it/s]\n"
     ]
    },
    {
     "name": "stdout",
     "output_type": "stream",
     "text": [
      "Эпоха прошла за 58.38 секунд\n",
      "Средняя функция потерь для дискриминатора = 0.01217007325713502\n",
      "Средняя функция потерь для генератора = 13.428090157547617\n",
      "Today we are going in the Beor Mountains.” Eragon gestured at the corner of his eyes. “My Lady Nightstalker is the matter of Alaga\n",
      "Следующая эпоха\n",
      "Эпоха 32\n"
     ]
    },
    {
     "name": "stderr",
     "output_type": "stream",
     "text": [
      "123it [00:58,  2.11it/s]\n"
     ]
    },
    {
     "name": "stdout",
     "output_type": "stream",
     "text": [
      "Эпоха прошла за 58.36 секунд\n",
      "Средняя функция потерь для дискриминатора = 0.01406170417766685\n",
      "Средняя функция потерь для генератора = 10.877051151864897\n",
      "Today we are going alone,” said Brom. “My Lady.” He gestured at the corner of his eyes. “Do you have anything to do this?” “Yes.”\n",
      "Следующая эпоха\n",
      "Эпоха 33\n"
     ]
    },
    {
     "name": "stderr",
     "output_type": "stream",
     "text": [
      "123it [00:58,  2.10it/s]\n"
     ]
    },
    {
     "name": "stdout",
     "output_type": "stream",
     "text": [
      "Эпоха прошла за 58.45 секунд\n",
      "Средняя функция потерь для дискриминатора = 0.012734482738194604\n",
      "Средняя функция потерь для генератора = 10.510005315144857\n",
      "Today we are going?” “Yes,” said Brom. “Yes.” “That’s a good idea,” said Brom. “Yes, Ma’am.” “Of course,” said\n",
      "Следующая эпоха\n",
      "Эпоха 34\n"
     ]
    },
    {
     "name": "stderr",
     "output_type": "stream",
     "text": [
      "123it [00:58,  2.11it/s]\n"
     ]
    },
    {
     "name": "stdout",
     "output_type": "stream",
     "text": [
      "Эпоха прошла за 58.4 секунд\n",
      "Средняя функция потерь для дискриминатора = 0.009504104729829833\n",
      "Средняя функция потерь для генератора = 12.708993942756964\n",
      "Today we are going?” asked Eragon. “Yes, Ma’am.” “Yes, Master.” “Please,” said Oromis. “My Lady Nightstalker.” He stopped\n",
      "Следующая эпоха\n",
      "Эпоха 35\n"
     ]
    },
    {
     "name": "stderr",
     "output_type": "stream",
     "text": [
      "123it [00:58,  2.09it/s]\n"
     ]
    },
    {
     "name": "stdout",
     "output_type": "stream",
     "text": [
      "Эпоха прошла за 58.73 секунд\n",
      "Средняя функция потерь для дискриминатора = 0.0116688173481479\n",
      "Средняя функция потерь для генератора = 12.445912554981263\n",
      "Today we are going.” “Of course,” said Brom, “but we’re going to go to the Varden.” Eragon gave him a storm. “Thank you,” he said\n",
      "Следующая эпоха\n",
      "Эпоха 36\n"
     ]
    },
    {
     "name": "stderr",
     "output_type": "stream",
     "text": [
      "123it [00:58,  2.11it/s]\n"
     ]
    },
    {
     "name": "stdout",
     "output_type": "stream",
     "text": [
      "Эпоха прошла за 58.38 секунд\n",
      "Средняя функция потерь для дискриминатора = 0.012849853835111233\n",
      "Средняя функция потерь для генератора = 11.569008222440393\n",
      "Today we are going to Tronjheim.” “And what will you do now?” asked Orik. “For a moment, I have to do with you?” “Of course,” said Orik\n",
      "Следующая эпоха\n",
      "Эпоха 37\n"
     ]
    },
    {
     "name": "stderr",
     "output_type": "stream",
     "text": [
      "123it [00:58,  2.09it/s]\n"
     ]
    },
    {
     "name": "stdout",
     "output_type": "stream",
     "text": [
      "Эпоха прошла за 58.75 секунд\n",
      "Средняя функция потерь для дискриминатора = 0.012933728329144509\n",
      "Средняя функция потерь для генератора = 11.155499256723296\n",
      "Today we are going to the north.” “Of course.” “Perhaps,” said Brom. “Of course not. . I don’t want to be able to get\n",
      "Следующая эпоха\n",
      "Эпоха 38\n"
     ]
    },
    {
     "name": "stderr",
     "output_type": "stream",
     "text": [
      "123it [00:58,  2.10it/s]\n"
     ]
    },
    {
     "name": "stdout",
     "output_type": "stream",
     "text": [
      "Эпоха прошла за 58.53 секунд\n",
      "Средняя функция потерь для дискриминатора = 0.013146053926784515\n",
      "Средняя функция потерь для генератора = 11.656301521673434\n",
      "Today we are going together. We aren’t going to go to the Varden. We’ll be able to escape the Empire.” Eragon shook his head. “I’m sorry\n",
      "Следующая эпоха\n",
      "Эпоха 39\n"
     ]
    },
    {
     "name": "stderr",
     "output_type": "stream",
     "text": [
      "123it [00:58,  2.11it/s]\n"
     ]
    },
    {
     "name": "stdout",
     "output_type": "stream",
     "text": [
      "Эпоха прошла за 58.42 секунд\n",
      "Средняя функция потерь для дискриминатора = 0.010374263910595868\n",
      "Средняя функция потерь для генератора = 12.538364619743533\n",
      "Today we are going to go to the Varden, but we can’t find the Ra’zac.” “Of course,” said Murtagh, “but we can’t go tomorrow. It’s a good\n",
      "Следующая эпоха\n",
      "Эпоха 40\n"
     ]
    },
    {
     "name": "stderr",
     "output_type": "stream",
     "text": [
      "123it [00:58,  2.09it/s]\n"
     ]
    },
    {
     "name": "stdout",
     "output_type": "stream",
     "text": [
      "Эпоха прошла за 58.73 секунд\n",
      "Средняя функция потерь для дискриминатора = 0.013129957951841936\n",
      "Средняя функция потерь для генератора = 10.969012617095698\n",
      "Today we are going in the Spine,” said Brom, “but we can’t get away. I don’t have any idea what I want to do. It’s impossible to be\n",
      "Следующая эпоха\n",
      "Эпоха 41\n"
     ]
    },
    {
     "name": "stderr",
     "output_type": "stream",
     "text": [
      "123it [00:58,  2.10it/s]\n"
     ]
    },
    {
     "name": "stdout",
     "output_type": "stream",
     "text": [
      "Эпоха прошла за 58.48 секунд\n",
      "Средняя функция потерь для дискриминатора = 0.006370960768679918\n",
      "Средняя функция потерь для генератора = 11.939465817397203\n",
      "Today we are going with the Beor Mountains.” Eragon shook his head. “I’ve never seen anywhere else, but I can’t tell you what you want to do. It’s a\n",
      "Следующая эпоха\n",
      "Эпоха 42\n"
     ]
    },
    {
     "name": "stderr",
     "output_type": "stream",
     "text": [
      "123it [00:58,  2.09it/s]\n"
     ]
    },
    {
     "name": "stdout",
     "output_type": "stream",
     "text": [
      "Эпоха прошла за 58.82 секунд\n",
      "Средняя функция потерь для дискриминатора = 0.006901530041860992\n",
      "Средняя функция потерь для генератора = 13.288661832731913\n",
      "Today we are going tomorrow, but we’ll have to find a few months.” “Of course,” said Roran. “Yes,” he said, “but I’m going\n",
      "Следующая эпоха\n",
      "Эпоха 43\n"
     ]
    },
    {
     "name": "stderr",
     "output_type": "stream",
     "text": [
      "123it [00:58,  2.11it/s]\n"
     ]
    },
    {
     "name": "stdout",
     "output_type": "stream",
     "text": [
      "Эпоха прошла за 58.39 секунд\n",
      "Средняя функция потерь для дискриминатора = 0.010924147556801383\n",
      "Средняя функция потерь для генератора = 13.216591703213327\n",
      "Today we are going in the middle of the Beor Mountains.” Eragon shook his head. “No, I don’t know. It’s impossible to tell you what you’re going to\n",
      "Следующая эпоха\n",
      "Эпоха 44\n"
     ]
    },
    {
     "name": "stderr",
     "output_type": "stream",
     "text": [
      "123it [00:58,  2.09it/s]\n"
     ]
    },
    {
     "name": "stdout",
     "output_type": "stream",
     "text": [
      "Эпоха прошла за 58.75 секунд\n",
      "Средняя функция потерь для дискриминатора = 0.018942792319368032\n",
      "Средняя функция потерь для генератора = 11.614142790073302\n",
      "Today we are going together. I can’t be able to escape the Empire, but I can’t be able to escape the Empire. . I don’t have any ide\n",
      "Следующая эпоха\n",
      "Эпоха 45\n"
     ]
    },
    {
     "name": "stderr",
     "output_type": "stream",
     "text": [
      "123it [00:58,  2.10it/s]\n"
     ]
    },
    {
     "name": "stdout",
     "output_type": "stream",
     "text": [
      "Эпоха прошла за 58.55 секунд\n",
      "Средняя функция потерь для дискриминатора = 0.011143966853960297\n",
      "Средняя функция потерь для генератора = 12.412826150413451\n",
      "Today we are going over the road. We can’t go together, but we’ve been traveling together. We have to be able to get a challenge, but\n",
      "Следующая эпоха\n",
      "Эпоха 46\n"
     ]
    },
    {
     "name": "stderr",
     "output_type": "stream",
     "text": [
      "123it [00:58,  2.10it/s]\n"
     ]
    },
    {
     "name": "stdout",
     "output_type": "stream",
     "text": [
      "Эпоха прошла за 58.52 секунд\n",
      "Средняя функция потерь для дискриминатора = 0.02101502074592423\n",
      "Средняя функция потерь для генератора = 11.665851616277926\n",
      "Today we are going together. We can’t stop ourselves in the middle of the Beor Mountains, and we’ll be able to escape the Empire. They’ll\n",
      "Следующая эпоха\n",
      "Эпоха 47\n"
     ]
    },
    {
     "name": "stderr",
     "output_type": "stream",
     "text": [
      "123it [00:58,  2.11it/s]\n"
     ]
    },
    {
     "name": "stdout",
     "output_type": "stream",
     "text": [
      "Эпоха прошла за 58.36 секунд\n",
      "Средняя функция потерь для дискриминатора = 0.007339364487717564\n",
      "Средняя функция потерь для генератора = 12.313157647605834\n",
      "Today we are going together.” “Maybe,” said Brom. “My Lethrblaka.” Eragon nodded. “My Lady Nightstalker\n",
      "Следующая эпоха\n",
      "Эпоха 48\n"
     ]
    },
    {
     "name": "stderr",
     "output_type": "stream",
     "text": [
      "123it [00:58,  2.10it/s]\n"
     ]
    },
    {
     "name": "stdout",
     "output_type": "stream",
     "text": [
      "Эпоха прошла за 58.56 секунд\n",
      "Средняя функция потерь для дискриминатора = 0.01456527144005011\n",
      "Средняя функция потерь для генератора = 12.958170588423567\n",
      "Today we are going?” “Yes, Master.” “Yes, Master,” said Eragon, “but we have to go neglect the Varden.” “My Lady?” “Yes, Master\n",
      "Следующая эпоха\n",
      "Эпоха 49\n"
     ]
    },
    {
     "name": "stderr",
     "output_type": "stream",
     "text": [
      "123it [00:58,  2.10it/s]\n"
     ]
    },
    {
     "name": "stdout",
     "output_type": "stream",
     "text": [
      "Эпоха прошла за 58.44 секунд\n",
      "Средняя функция потерь для дискриминатора = 0.01174616252511789\n",
      "Средняя функция потерь для генератора = 13.460568769191338\n",
      "Today we are going together.” “Of course,” said Oromis. “One of the Riders’ privilege.” “Yes, Master.” “Very well\n",
      "Следующая эпоха\n",
      "Эпоха 50\n"
     ]
    },
    {
     "name": "stderr",
     "output_type": "stream",
     "text": [
      "123it [00:58,  2.10it/s]\n"
     ]
    },
    {
     "name": "stdout",
     "output_type": "stream",
     "text": [
      "Эпоха прошла за 58.71 секунд\n",
      "Средняя функция потерь для дискриминатора = 0.007183539565549444\n",
      "Средняя функция потерь для генератора = 14.720374696623018\n",
      "Today we are going?” asked Eragon. “One of the day.” “Yes, Master,” said Brom. He gestured at the corners of his eyes, then said, “Of cour\n",
      "Следующая эпоха\n",
      "Эпоха 51\n"
     ]
    },
    {
     "name": "stderr",
     "output_type": "stream",
     "text": [
      "123it [00:58,  2.09it/s]\n"
     ]
    },
    {
     "name": "stdout",
     "output_type": "stream",
     "text": [
      "Эпоха прошла за 58.99 секунд\n",
      "Средняя функция потерь для дискриминатора = 0.011378743708792912\n",
      "Средняя функция потерь для генератора = 13.790884956111753\n",
      "Today we are going tomorrow.” “Yes, Master.” “Enough, I am not going to the Varden.” “Perhaps,” said Brom, “but we can\n",
      "Следующая эпоха\n",
      "Эпоха 52\n"
     ]
    },
    {
     "name": "stderr",
     "output_type": "stream",
     "text": [
      "123it [00:57,  2.12it/s]\n"
     ]
    },
    {
     "name": "stdout",
     "output_type": "stream",
     "text": [
      "Эпоха прошла за 57.96 секунд\n",
      "Средняя функция потерь для дискриминатора = 0.013139104234289881\n",
      "Средняя функция потерь для генератора = 13.281333923339844\n",
      "Today we are going?” asked Eragon. “Of course,” said Brom. He looked at the table. “I’m sorry, but I don’t know,” said Brom. “Yes.” He\n",
      "Следующая эпоха\n",
      "Эпоха 53\n"
     ]
    },
    {
     "name": "stderr",
     "output_type": "stream",
     "text": [
      "123it [00:58,  2.12it/s]\n"
     ]
    },
    {
     "name": "stdout",
     "output_type": "stream",
     "text": [
      "Эпоха прошла за 58.06 секунд\n",
      "Средняя функция потерь для дискриминатора = 0.01652601252360141\n",
      "Средняя функция потерь для генератора = 12.850234566665277\n",
      "Today we are going to Tronjheim.” “And I can’t do this,” said Orik, “but we can’t go with the Varden. We’ll have to wait until we leave.” “T\n",
      "Следующая эпоха\n",
      "Эпоха 54\n"
     ]
    },
    {
     "name": "stderr",
     "output_type": "stream",
     "text": [
      "123it [00:58,  2.12it/s]\n"
     ]
    },
    {
     "name": "stdout",
     "output_type": "stream",
     "text": [
      "Эпоха прошла за 58.14 секунд\n",
      "Средняя функция потерь для дискриминатора = 0.014485344916820617\n",
      "Средняя функция потерь для генератора = 13.819309343167436\n",
      "Today we are going to Teirm. I will be able to escape the Empire. That is why we’re going to attack. That is why we can’t\n",
      "Следующая эпоха\n",
      "Эпоха 55\n"
     ]
    },
    {
     "name": "stderr",
     "output_type": "stream",
     "text": [
      "123it [00:57,  2.12it/s]\n"
     ]
    },
    {
     "name": "stdout",
     "output_type": "stream",
     "text": [
      "Эпоха прошла за 57.98 секунд\n",
      "Средняя функция потерь для дискриминатора = 0.013556983112144603\n",
      "Средняя функция потерь для генератора = 13.350630876494616\n",
      "Today we are going to Tronjheim.” “And what do you want to do?” asked Eragon. “Of course. We can’t do this,” said Brom, “but we can’t\n",
      "Следующая эпоха\n",
      "Эпоха 56\n"
     ]
    },
    {
     "name": "stderr",
     "output_type": "stream",
     "text": [
      "123it [00:57,  2.12it/s]\n"
     ]
    },
    {
     "name": "stdout",
     "output_type": "stream",
     "text": [
      "Эпоха прошла за 57.93 секунд\n",
      "Средняя функция потерь для дискриминатора = 0.011141945429610531\n",
      "Средняя функция потерь для генератора = 14.459269221236067\n",
      "Today we are going tomorrow, but I can’t forget that. . I don’t have to be able to help you. It isn’t necessary, but I don’t want to be able to\n",
      "Следующая эпоха\n",
      "Эпоха 57\n"
     ]
    },
    {
     "name": "stderr",
     "output_type": "stream",
     "text": [
      "123it [00:57,  2.12it/s]\n"
     ]
    },
    {
     "name": "stdout",
     "output_type": "stream",
     "text": [
      "Эпоха прошла за 57.95 секунд\n",
      "Средняя функция потерь для дискриминатора = 0.012727851048585148\n",
      "Средняя функция потерь для генератора = 13.167327911873175\n",
      "Today we are going tomorrow.” “Aye,” said Brom. “My Lady Nightstalker.” Eragon grimaced at the bottle, then pushed his\n",
      "Следующая эпоха\n",
      "Эпоха 58\n"
     ]
    },
    {
     "name": "stderr",
     "output_type": "stream",
     "text": [
      "123it [00:57,  2.12it/s]\n"
     ]
    },
    {
     "name": "stdout",
     "output_type": "stream",
     "text": [
      "Эпоха прошла за 57.96 секунд\n",
      "Средняя функция потерь для дискриминатора = 0.013549622428665937\n",
      "Средняя функция потерь для генератора = 14.754229987539896\n",
      "Today we are going in the middle of the Beor Mountains.” Eragon grinned and said, “Thank you, Master,” said Murtagh, “whow doesn’t you know where\n",
      "Следующая эпоха\n",
      "Эпоха 59\n"
     ]
    },
    {
     "name": "stderr",
     "output_type": "stream",
     "text": [
      "123it [00:58,  2.11it/s]\n"
     ]
    },
    {
     "name": "stdout",
     "output_type": "stream",
     "text": [
      "Эпоха прошла за 58.33 секунд\n",
      "Средняя функция потерь для дискриминатора = 0.009854619926193301\n",
      "Средняя функция потерь для генератора = 15.102938869135167\n",
      "Today we are going.” Eragon shook his head. “I’m glad that you aren’t going to be here,” he said. He shook his head. “I’m not going to take the\n",
      "Следующая эпоха\n",
      "Эпоха 60\n"
     ]
    },
    {
     "name": "stderr",
     "output_type": "stream",
     "text": [
      "123it [00:57,  2.12it/s]\n"
     ]
    },
    {
     "name": "stdout",
     "output_type": "stream",
     "text": [
      "Эпоха прошла за 57.95 секунд\n",
      "Средняя функция потерь для дискриминатора = 0.007712063193398128\n",
      "Средняя функция потерь для генератора = 14.502475800552988\n",
      "Today we are going?” “Yes, Master,” said Brom. “Of course not. But I don’t know, but it isn’t necessary.” Eragon shook his head. “No,\n",
      "Следующая эпоха\n",
      "Эпоха 61\n"
     ]
    },
    {
     "name": "stderr",
     "output_type": "stream",
     "text": [
      "123it [00:57,  2.12it/s]\n"
     ]
    },
    {
     "name": "stdout",
     "output_type": "stream",
     "text": [
      "Эпоха прошла за 57.94 секунд\n",
      "Средняя функция потерь для дискриминатора = 0.011691822713138999\n",
      "Средняя функция потерь для генератора = 14.981855671580245\n",
      "Today we are going in the Beor Mountains.” Eragon grimaced. “Yes,” said Murtagh, “but we have to go.” Murtagh shook his head. “I’m not going\n",
      "Следующая эпоха\n",
      "Эпоха 62\n"
     ]
    },
    {
     "name": "stderr",
     "output_type": "stream",
     "text": [
      "123it [00:57,  2.12it/s]\n"
     ]
    },
    {
     "name": "stdout",
     "output_type": "stream",
     "text": [
      "Эпоха прошла за 57.98 секунд\n",
      "Средняя функция потерь для дискриминатора = 0.009438831500703852\n",
      "Средняя функция потерь для генератора = 15.374487745083444\n",
      "Today we are going together, but we can’t go to the Varden.” Eragon shook his head. “Thank you, Master.” “Are you going to the Varden?” asked Murtagh. “I’\n",
      "Следующая эпоха\n",
      "Эпоха 63\n"
     ]
    },
    {
     "name": "stderr",
     "output_type": "stream",
     "text": [
      "123it [00:57,  2.12it/s]\n"
     ]
    },
    {
     "name": "stdout",
     "output_type": "stream",
     "text": [
      "Эпоха прошла за 57.97 секунд\n",
      "Средняя функция потерь для дискриминатора = 0.007065385684765671\n",
      "Средняя функция потерь для генератора = 15.556337317800134\n",
      "Today we are going together. We can’t be able to escape the Empire, but we’ll be able to escape the Empire. They’ll have to be able to\n",
      "Следующая эпоха\n",
      "Эпоха 64\n"
     ]
    },
    {
     "name": "stderr",
     "output_type": "stream",
     "text": [
      "123it [00:58,  2.11it/s]\n"
     ]
    },
    {
     "name": "stdout",
     "output_type": "stream",
     "text": [
      "Эпоха прошла за 58.28 секунд\n",
      "Средняя функция потерь для дискриминатора = 0.012586201983421181\n",
      "Средняя функция потерь для генератора = 14.223787850480738\n",
      "Today we are going in the morning to the center of Tronjheim.” “All right,” said Eragon, paused. “Good. We’ll have to do this,” he said\n",
      "Следующая эпоха\n",
      "Эпоха 65\n"
     ]
    },
    {
     "name": "stderr",
     "output_type": "stream",
     "text": [
      "123it [00:57,  2.12it/s]\n"
     ]
    },
    {
     "name": "stdout",
     "output_type": "stream",
     "text": [
      "Эпоха прошла за 57.97 секунд\n",
      "Средняя функция потерь для дискриминатора = 0.010976779406556171\n",
      "Средняя функция потерь для генератора = 15.256104384011369\n",
      "Today we are going to Tronjheim.” “And what do you want?” asked Eragon. Orik shook his head. “Forgive me,” said Orik. “Of course, I\n",
      "Следующая эпоха\n",
      "Эпоха 66\n"
     ]
    },
    {
     "name": "stderr",
     "output_type": "stream",
     "text": [
      "123it [00:58,  2.11it/s]\n"
     ]
    },
    {
     "name": "stdout",
     "output_type": "stream",
     "text": [
      "Эпоха прошла за 58.3 секунд\n",
      "Средняя функция потерь для дискриминатора = 0.010366351520710073\n",
      "Средняя функция потерь для генератора = 15.59338209105701\n",
      "Today we are going to go to Tronjheim. We can’t go tomorrow. It’s a good nature of ourselves, and we can’t go to the Beor M\n",
      "Следующая эпоха\n",
      "Эпоха 67\n"
     ]
    },
    {
     "name": "stderr",
     "output_type": "stream",
     "text": [
      "123it [00:58,  2.10it/s]\n"
     ]
    },
    {
     "name": "stdout",
     "output_type": "stream",
     "text": [
      "Эпоха прошла за 58.47 секунд\n",
      "Средняя функция потерь для дискриминатора = 0.007917568039662978\n",
      "Средняя функция потерь для генератора = 15.236775599844087\n",
      "Today we are going in our century, but we have no choice now.” “Of course,” said Brom, “but we can’t go tomorrow, and we’ll\n",
      "Следующая эпоха\n",
      "Эпоха 68\n"
     ]
    },
    {
     "name": "stderr",
     "output_type": "stream",
     "text": [
      "123it [00:58,  2.10it/s]\n"
     ]
    },
    {
     "name": "stdout",
     "output_type": "stream",
     "text": [
      "Эпоха прошла за 58.63 секунд\n",
      "Средняя функция потерь для дискриминатора = 0.0066117645166549315\n",
      "Средняя функция потерь для генератора = 14.31615387521139\n",
      "Today we are going on the Black Hadarac Desert and Gil’ead.” “And what will you do with me?” asked Eragon. “Of course not, I\n",
      "Следующая эпоха\n",
      "Эпоха 69\n"
     ]
    },
    {
     "name": "stderr",
     "output_type": "stream",
     "text": [
      "123it [00:58,  2.12it/s]\n"
     ]
    },
    {
     "name": "stdout",
     "output_type": "stream",
     "text": [
      "Эпоха прошла за 58.1 секунд\n",
      "Средняя функция потерь для дискриминатора = 0.012685695940882301\n",
      "Средняя функция потерь для генератора = 13.469135912453256\n",
      "Today we are going?” “Of course.” “Yes,” said Brom. “Yes, but I don’t know what you want.” “That’s all I can do.” Eragon shook his head.\n",
      "Следующая эпоха\n",
      "Эпоха 70\n"
     ]
    },
    {
     "name": "stderr",
     "output_type": "stream",
     "text": [
      "123it [00:58,  2.12it/s]\n"
     ]
    },
    {
     "name": "stdout",
     "output_type": "stream",
     "text": [
      "Эпоха прошла за 58.08 секунд\n",
      "Средняя функция потерь для дискриминатора = 0.012076336184868634\n",
      "Средняя функция потерь для генератора = 13.02305509210602\n",
      "Today we are going?” “Yes,” said Brom. “One of the case I’ve been seen.” “Yes.” “That’s a good name,” said Brom. “\n",
      "Следующая эпоха\n",
      "Эпоха 71\n"
     ]
    },
    {
     "name": "stderr",
     "output_type": "stream",
     "text": [
      "123it [00:58,  2.11it/s]\n"
     ]
    },
    {
     "name": "stdout",
     "output_type": "stream",
     "text": [
      "Эпоха прошла за 58.2 секунд\n",
      "Средняя функция потерь для дискриминатора = 0.018648876785336166\n",
      "Средняя функция потерь для генератора = 13.08495810749085\n",
      "Today we are going in the morning.” “Maybe,” said Eragon. “One who can be able to help me.” “Of course, I won’t be able to\n",
      "Следующая эпоха\n",
      "Эпоха 72\n"
     ]
    },
    {
     "name": "stderr",
     "output_type": "stream",
     "text": [
      "123it [00:58,  2.11it/s]\n"
     ]
    },
    {
     "name": "stdout",
     "output_type": "stream",
     "text": [
      "Эпоха прошла за 58.28 секунд\n",
      "Средняя функция потерь для дискриминатора = 0.01039466318231676\n",
      "Средняя функция потерь для генератора = 12.803906859421149\n",
      "Today we are going to Teirm. We can’t be able to get out of the city.” “Perhaps,” said Jeod, “but we can get there before we get\n",
      "Следующая эпоха\n",
      "Эпоха 73\n"
     ]
    },
    {
     "name": "stderr",
     "output_type": "stream",
     "text": [
      "123it [00:58,  2.11it/s]\n"
     ]
    },
    {
     "name": "stdout",
     "output_type": "stream",
     "text": [
      "Эпоха прошла за 58.37 секунд\n",
      "Средняя функция потерь для дискриминатора = 0.01881652164622683\n",
      "Средняя функция потерь для генератора = 12.378445904429366\n",
      "Today we are going in the darkness.” “One of the Council of Eldest Elders,” said Brom. “My Lady Nightstalker.”\n",
      "Следующая эпоха\n",
      "Эпоха 74\n"
     ]
    },
    {
     "name": "stderr",
     "output_type": "stream",
     "text": [
      "123it [00:58,  2.11it/s]\n"
     ]
    },
    {
     "name": "stdout",
     "output_type": "stream",
     "text": [
      "Эпоха прошла за 58.22 секунд\n",
      "Средняя функция потерь для дискриминатора = 0.013340427769524068\n",
      "Средняя функция потерь для генератора = 12.402664324132408\n",
      "Today we are going to the Varden.” “Maybe,” said Brom. “Of course.” Eragon nodded. “I’m sorry.” He stopped at a bow. “I\n",
      "Следующая эпоха\n",
      "Эпоха 75\n"
     ]
    },
    {
     "name": "stderr",
     "output_type": "stream",
     "text": [
      "123it [00:57,  2.12it/s]\n"
     ]
    },
    {
     "name": "stdout",
     "output_type": "stream",
     "text": [
      "Эпоха прошла за 57.89 секунд\n",
      "Средняя функция потерь для дискриминатора = 0.006951795344579798\n",
      "Средняя функция потерь для генератора = 12.857802685683335\n",
      "Today we are going to capture the Ra’zac.” “And what is it?” asked Eragon. He shook his head. “No.” “Then why should we do well?” “No, Ma’am\n",
      "Следующая эпоха\n",
      "Эпоха 76\n"
     ]
    },
    {
     "name": "stderr",
     "output_type": "stream",
     "text": [
      "123it [00:57,  2.12it/s]\n"
     ]
    },
    {
     "name": "stdout",
     "output_type": "stream",
     "text": [
      "Эпоха прошла за 57.9 секунд\n",
      "Средняя функция потерь для дискриминатора = 0.009797856934407415\n",
      "Средняя функция потерь для генератора = 13.962988116876867\n",
      "Today we are going?” “Yes, Ma’am.” The elf’s eyes bulged in a low voice, then hesitated. “My Lady Nightstalker.”\n",
      "Следующая эпоха\n",
      "Эпоха 77\n"
     ]
    },
    {
     "name": "stderr",
     "output_type": "stream",
     "text": [
      "123it [00:57,  2.12it/s]\n"
     ]
    },
    {
     "name": "stdout",
     "output_type": "stream",
     "text": [
      "Эпоха прошла за 57.89 секунд\n",
      "Средняя функция потерь для дискриминатора = 0.007076922887820292\n",
      "Средняя функция потерь для генератора = 14.567568864279647\n",
      "Today we are going together, but we have to go.” “My Lady,” said Brom. “Of course not. We can’t stay here until we’re going to get\n",
      "Следующая эпоха\n",
      "Эпоха 78\n"
     ]
    },
    {
     "name": "stderr",
     "output_type": "stream",
     "text": [
      "123it [00:57,  2.12it/s]\n"
     ]
    },
    {
     "name": "stdout",
     "output_type": "stream",
     "text": [
      "Эпоха прошла за 57.9 секунд\n",
      "Средняя функция потерь для дискриминатора = 0.008646220868589202\n",
      "Средняя функция потерь для генератора = 14.405459210155456\n",
      "Today we are going to Tronjheim.” “Aye,” said Orik. “Unfortunately, we’re going to go together.” Orik grunted. “F\n",
      "Следующая эпоха\n",
      "Эпоха 79\n"
     ]
    },
    {
     "name": "stderr",
     "output_type": "stream",
     "text": [
      "123it [00:57,  2.12it/s]\n"
     ]
    },
    {
     "name": "stdout",
     "output_type": "stream",
     "text": [
      "Эпоха прошла за 57.93 секунд\n",
      "Средняя функция потерь для дискриминатора = 0.010349258003667436\n",
      "Средняя функция потерь для генератора = 15.298131997023171\n",
      "Today we are going in the Spine. We can’t carry the Empire, but we’ll be able to find the Ra’zac. We’ll find them if we’re going to hunt for the\n",
      "Следующая эпоха\n",
      "Эпоха 80\n"
     ]
    },
    {
     "name": "stderr",
     "output_type": "stream",
     "text": [
      "123it [00:58,  2.11it/s]\n"
     ]
    },
    {
     "name": "stdout",
     "output_type": "stream",
     "text": [
      "Эпоха прошла за 58.21 секунд\n",
      "Средняя функция потерь для дискриминатора = 0.008458569890069888\n",
      "Средняя функция потерь для генератора = 14.591531606224494\n",
      "Today we are going to call the Beor Mountains, but we are still far too far. We can’t stop ourselves. They’ve been able to escape the Empire.\n",
      "Следующая эпоха\n",
      "Эпоха 81\n"
     ]
    },
    {
     "name": "stderr",
     "output_type": "stream",
     "text": [
      "123it [00:58,  2.09it/s]\n"
     ]
    },
    {
     "name": "stdout",
     "output_type": "stream",
     "text": [
      "Эпоха прошла за 58.8 секунд\n",
      "Средняя функция потерь для дискриминатора = 0.011610681348555056\n",
      "Средняя функция потерь для генератора = 14.819057301777166\n",
      "Today we are going to go to the Varden.” “Maybe,” said Murtagh. “Of course not. . I won’t be able to escape.” Murtagh shrugged.\n",
      "Следующая эпоха\n",
      "Эпоха 82\n"
     ]
    },
    {
     "name": "stderr",
     "output_type": "stream",
     "text": [
      "123it [00:57,  2.13it/s]\n"
     ]
    },
    {
     "name": "stdout",
     "output_type": "stream",
     "text": [
      "Эпоха прошла за 57.87 секунд\n",
      "Средняя функция потерь для дискриминатора = 0.010015593670420746\n",
      "Средняя функция потерь для генератора = 13.733340325394296\n",
      "Today we are going tomorrow.” “Yes, Master.” “Yes, Master.” “Perhaps,” said Oromis, “but we can’t get together again.” Eragon\n",
      "Следующая эпоха\n",
      "Эпоха 83\n"
     ]
    },
    {
     "name": "stderr",
     "output_type": "stream",
     "text": [
      "123it [00:58,  2.12it/s]\n"
     ]
    },
    {
     "name": "stdout",
     "output_type": "stream",
     "text": [
      "Эпоха прошла за 58.01 секунд\n",
      "Средняя функция потерь для дискриминатора = 0.018261755635804303\n",
      "Средняя функция потерь для генератора = 15.033736298723918\n",
      "Today we are going in the Spine.” Eragon grinned and pulled out his bow. “I’m glad you’re going to see the Varden,” said Brom. He put\n",
      "Следующая эпоха\n",
      "Эпоха 84\n"
     ]
    },
    {
     "name": "stderr",
     "output_type": "stream",
     "text": [
      "123it [00:58,  2.11it/s]\n"
     ]
    },
    {
     "name": "stdout",
     "output_type": "stream",
     "text": [
      "Эпоха прошла за 58.23 секунд\n",
      "Средняя функция потерь для дискриминатора = 0.01976225378201911\n",
      "Средняя функция потерь для генератора = 12.978595136626948\n",
      "Today we are going?” “Yes.” He shook his head. “Yes, Master.” “Perhaps,” said Brom. “Of course. . I don’t want to know\n",
      "Следующая эпоха\n",
      "Эпоха 85\n"
     ]
    },
    {
     "name": "stderr",
     "output_type": "stream",
     "text": [
      "123it [00:57,  2.12it/s]\n"
     ]
    },
    {
     "name": "stdout",
     "output_type": "stream",
     "text": [
      "Эпоха прошла за 57.97 секунд\n",
      "Средняя функция потерь для дискриминатора = 0.016944375392891904\n",
      "Средняя функция потерь для генератора = 13.452110453349787\n",
      "Today we are going in Tronjheim’s center of the Beor Mountains, where the Twins were goathed with the Spine and the Beor Mountains’\n",
      "Следующая эпоха\n",
      "Эпоха 86\n"
     ]
    },
    {
     "name": "stderr",
     "output_type": "stream",
     "text": [
      "123it [00:58,  2.11it/s]\n"
     ]
    },
    {
     "name": "stdout",
     "output_type": "stream",
     "text": [
      "Эпоха прошла за 58.33 секунд\n",
      "Средняя функция потерь для дискриминатора = 0.01021613595857923\n",
      "Средняя функция потерь для генератора = 13.97943540898765\n",
      "Today we are going to do. We can’t be able to use magic, but we can’t get there before long enough time tomorrow.” Eragon shook his head. “I’m glad you\n",
      "Следующая эпоха\n",
      "Эпоха 87\n"
     ]
    },
    {
     "name": "stderr",
     "output_type": "stream",
     "text": [
      "123it [00:58,  2.11it/s]\n"
     ]
    },
    {
     "name": "stdout",
     "output_type": "stream",
     "text": [
      "Эпоха прошла за 58.23 секунд\n",
      "Средняя функция потерь для дискриминатора = 0.016977526342029668\n",
      "Средняя функция потерь для генератора = 14.59110789570382\n",
      "Today we are going to Teirm.” “Yes,” said Roran. “Yes,” said Jeod. “They’re going to go.” “Thank you,” said Jeod, “but we\n",
      "Следующая эпоха\n",
      "Эпоха 88\n"
     ]
    },
    {
     "name": "stderr",
     "output_type": "stream",
     "text": [
      "123it [00:58,  2.11it/s]\n"
     ]
    },
    {
     "name": "stdout",
     "output_type": "stream",
     "text": [
      "Эпоха прошла за 58.25 секунд\n",
      "Средняя функция потерь для дискриминатора = 0.015709059959849177\n",
      "Средняя функция потерь для генератора = 13.426658599357294\n",
      "Today we are going in the Spine.” “My Lady Nightstalker!” exclaimed Orik. “Good, sir,” said Orik, “but we can\n",
      "Следующая эпоха\n",
      "Эпоха 89\n"
     ]
    },
    {
     "name": "stderr",
     "output_type": "stream",
     "text": [
      "123it [00:57,  2.13it/s]\n"
     ]
    },
    {
     "name": "stdout",
     "output_type": "stream",
     "text": [
      "Эпоха прошла за 57.83 секунд\n",
      "Средняя функция потерь для дискриминатора = 0.016294837415909747\n",
      "Средняя функция потерь для генератора = 12.712911559314263\n",
      "Today we are going to the Beor Mountains,” said Angela. “One of the Twins have been seen in the middle of Du Weldenvarden\n",
      "Следующая эпоха\n",
      "Эпоха 90\n"
     ]
    },
    {
     "name": "stderr",
     "output_type": "stream",
     "text": [
      "123it [00:58,  2.11it/s]\n"
     ]
    },
    {
     "name": "stdout",
     "output_type": "stream",
     "text": [
      "Эпоха прошла за 58.27 секунд\n",
      "Средняя функция потерь для дискриминатора = 0.019281341995567376\n",
      "Средняя функция потерь для генератора = 12.577526836860471\n",
      "Today we are going to Tronjheim.” “And what is it?” asked Orik. “For now,” said Orik. He gently pulled his hands on his shoulders. “\n",
      "Следующая эпоха\n",
      "Эпоха 91\n"
     ]
    },
    {
     "name": "stderr",
     "output_type": "stream",
     "text": [
      "123it [00:58,  2.12it/s]\n"
     ]
    },
    {
     "name": "stdout",
     "output_type": "stream",
     "text": [
      "Эпоха прошла за 58.16 секунд\n",
      "Средняя функция потерь для дискриминатора = 0.011416919427929537\n",
      "Средняя функция потерь для генератора = 12.790107153295502\n",
      "Today we are going to go to Teirm.” “My Lady Nightstalker,” said Roran, “but I can’t be able to get a better view\n",
      "Следующая эпоха\n",
      "Эпоха 92\n"
     ]
    },
    {
     "name": "stderr",
     "output_type": "stream",
     "text": [
      "123it [00:58,  2.11it/s]\n"
     ]
    },
    {
     "name": "stdout",
     "output_type": "stream",
     "text": [
      "Эпоха прошла за 58.26 секунд\n",
      "Средняя функция потерь для дискриминатора = 0.009345758076339802\n",
      "Средняя функция потерь для генератора = 13.400450923578527\n",
      "Today we are going?” asked Eragon. “Yes,” said Brom. “Yes.” He grimaced. “Forgive me.” Eragon shook his head. “I’m not going to get\n",
      "Следующая эпоха\n",
      "Эпоха 93\n"
     ]
    },
    {
     "name": "stderr",
     "output_type": "stream",
     "text": [
      "123it [00:58,  2.11it/s]\n"
     ]
    },
    {
     "name": "stdout",
     "output_type": "stream",
     "text": [
      "Эпоха прошла за 58.17 секунд\n",
      "Средняя функция потерь для дискриминатора = 0.012286096124988375\n",
      "Средняя функция потерь для генератора = 13.004274352779234\n",
      "Today we are going tomorrow.” “Of course,” said Brom, “but we can’t go with these barges. If we’re going to go, we’ll have to\n",
      "Следующая эпоха\n",
      "Эпоха 94\n"
     ]
    },
    {
     "name": "stderr",
     "output_type": "stream",
     "text": [
      "123it [00:58,  2.11it/s]\n"
     ]
    },
    {
     "name": "stdout",
     "output_type": "stream",
     "text": [
      "Эпоха прошла за 58.28 секунд\n",
      "Средняя функция потерь для дискриминатора = 0.009898578513442535\n",
      "Средняя функция потерь для генератора = 13.337354357649641\n",
      "Today we are going in the middle of the Beor Mountains.” At last he said, “Perhaps,” said Oromis. “May I am awake,” he said.\n",
      "Следующая эпоха\n",
      "Эпоха 95\n"
     ]
    },
    {
     "name": "stderr",
     "output_type": "stream",
     "text": [
      "123it [00:57,  2.12it/s]\n"
     ]
    },
    {
     "name": "stdout",
     "output_type": "stream",
     "text": [
      "Эпоха прошла за 57.97 секунд\n",
      "Средняя функция потерь для дискриминатора = 0.0076407161421200255\n",
      "Средняя функция потерь для генератора = 13.841905756694514\n",
      "Today we are going?” asked Eragon. “Of course not,” said Brom. “Yes, but I don’t know. But I don’t want to know. But I don’t want to be able to help.\n",
      "Следующая эпоха\n",
      "Эпоха 96\n"
     ]
    },
    {
     "name": "stderr",
     "output_type": "stream",
     "text": [
      "123it [00:57,  2.12it/s]\n"
     ]
    },
    {
     "name": "stdout",
     "output_type": "stream",
     "text": [
      "Эпоха прошла за 57.89 секунд\n",
      "Средняя функция потерь для дискриминатора = 0.008732234316343741\n",
      "Средняя функция потерь для генератора = 13.760243012653135\n",
      "Today we are going together. We can’t stay here until we’re going together.” Eragon shook his head. “I’ll have to get out of here,” said Murtagh, “but\n",
      "Следующая эпоха\n",
      "Эпоха 97\n"
     ]
    },
    {
     "name": "stderr",
     "output_type": "stream",
     "text": [
      "123it [00:57,  2.12it/s]\n"
     ]
    },
    {
     "name": "stdout",
     "output_type": "stream",
     "text": [
      "Эпоха прошла за 57.95 секунд\n",
      "Средняя функция потерь для дискриминатора = 0.011473477799793217\n",
      "Средняя функция потерь для генератора = 13.241811876374532\n",
      "Today we are going tomorrow, and we’ll be safer tomorrow. That is why we’re going together, and we’ll be safe tomor\n",
      "Следующая эпоха\n",
      "Эпоха 98\n"
     ]
    },
    {
     "name": "stderr",
     "output_type": "stream",
     "text": [
      "123it [00:58,  2.11it/s]\n"
     ]
    },
    {
     "name": "stdout",
     "output_type": "stream",
     "text": [
      "Эпоха прошла за 58.22 секунд\n",
      "Средняя функция потерь для дискриминатора = 0.006649135104054018\n",
      "Средняя функция потерь для генератора = 13.117810226068265\n",
      "Today we are going to the Varden. We can’t start with us, but we can’t be able to see the Empire. They’re going to take carefully,” said Murtagh. “The\n",
      "Следующая эпоха\n",
      "Эпоха 99\n"
     ]
    },
    {
     "name": "stderr",
     "output_type": "stream",
     "text": [
      "123it [00:58,  2.11it/s]\n"
     ]
    },
    {
     "name": "stdout",
     "output_type": "stream",
     "text": [
      "Эпоха прошла за 58.31 секунд\n",
      "Средняя функция потерь для дискриминатора = 0.007864111718542214\n",
      "Средняя функция потерь для генератора = 13.421729064569242\n",
      "Today we are going to Draw Du Weldenvarden.” Eragon shook his head. “No, I don’t know,” he said, “why do you tell me what you want?” “For\n",
      "Следующая эпоха\n",
      "Эпоха 100\n"
     ]
    },
    {
     "name": "stderr",
     "output_type": "stream",
     "text": [
      "123it [00:58,  2.11it/s]\n"
     ]
    },
    {
     "name": "stdout",
     "output_type": "stream",
     "text": [
      "Эпоха прошла за 58.18 секунд\n",
      "Средняя функция потерь для дискриминатора = 0.018404204242226736\n",
      "Средняя функция потерь для генератора = 14.070801292977682\n",
      "Today we are going together, but we’ll be able to find the Ra’zac. We’ll be able to escape the Ra’zac. They’ll be safe if we can get to the\n",
      "Следующая эпоха\n",
      "Эпоха 101\n"
     ]
    },
    {
     "name": "stderr",
     "output_type": "stream",
     "text": [
      "123it [00:57,  2.12it/s]\n"
     ]
    },
    {
     "name": "stdout",
     "output_type": "stream",
     "text": [
      "Эпоха прошла за 57.92 секунд\n",
      "Средняя функция потерь для дискриминатора = 0.015467296994165367\n",
      "Средняя функция потерь для генератора = 12.807066793364237\n",
      "Today we are going to call the Beor Mountains.” Eragon shook his head. “I’m sure it’s not going to be able to get out of here,” said Brom. He\n",
      "Следующая эпоха\n",
      "Эпоха 102\n"
     ]
    },
    {
     "name": "stderr",
     "output_type": "stream",
     "text": [
      "123it [00:58,  2.11it/s]\n"
     ]
    },
    {
     "name": "stdout",
     "output_type": "stream",
     "text": [
      "Эпоха прошла за 58.23 секунд\n",
      "Средняя функция потерь для дискриминатора = 0.012623360560181441\n",
      "Средняя функция потерь для генератора = 12.730708509925904\n",
      "Today we are going to Tronjheim.” “And what do you want to do?” asked Eragon. He grimaced. “One of the course,” said Orik, “but we\n",
      "Следующая эпоха\n",
      "Эпоха 103\n"
     ]
    },
    {
     "name": "stderr",
     "output_type": "stream",
     "text": [
      "123it [00:58,  2.11it/s]\n"
     ]
    },
    {
     "name": "stdout",
     "output_type": "stream",
     "text": [
      "Эпоха прошла за 58.23 секунд\n",
      "Средняя функция потерь для дискриминатора = 0.01416729010230572\n",
      "Средняя функция потерь для генератора = 12.440170699018774\n",
      "Today we are going to cross the Spine.” Eragon shook his head. “Of course, I won’t be able to help him.” He paused for a moment, then said,\n",
      "Следующая эпоха\n",
      "Эпоха 104\n"
     ]
    },
    {
     "name": "stderr",
     "output_type": "stream",
     "text": [
      "123it [00:57,  2.12it/s]\n"
     ]
    },
    {
     "name": "stdout",
     "output_type": "stream",
     "text": [
      "Эпоха прошла за 57.95 секунд\n",
      "Средняя функция потерь для дискриминатора = 0.013919277068504845\n",
      "Средняя функция потерь для генератора = 11.298900270849709\n",
      "Today we are going to Surda and Clovis’s barges.” “I’m sorry,” said Roran, “that I can’t be able to escape the\n",
      "Следующая эпоха\n",
      "Эпоха 105\n"
     ]
    },
    {
     "name": "stderr",
     "output_type": "stream",
     "text": [
      "123it [00:58,  2.11it/s]\n"
     ]
    },
    {
     "name": "stdout",
     "output_type": "stream",
     "text": [
      "Эпоха прошла за 58.2 секунд\n",
      "Средняя функция потерь для дискриминатора = 0.012754307131801649\n",
      "Средняя функция потерь для генератора = 12.760693844740953\n",
      "Today we are going to Tronjheim.” “And what of you do?” asked Orik. “Once there is no reason for the Varden.” “Yes, Master,” said Oromis.\n",
      "Следующая эпоха\n",
      "Эпоха 106\n"
     ]
    },
    {
     "name": "stderr",
     "output_type": "stream",
     "text": [
      "123it [00:58,  2.11it/s]\n"
     ]
    },
    {
     "name": "stdout",
     "output_type": "stream",
     "text": [
      "Эпоха прошла за 58.22 секунд\n",
      "Средняя функция потерь для дискриминатора = 0.011164570059859179\n",
      "Средняя функция потерь для генератора = 12.551040695934761\n",
      "Today we are going to Teirm.” “And what do you think of?” asked Eragon. “Yes,” said Brom. “Of course not. . I don’t want to be able to\n",
      "Следующая эпоха\n",
      "Эпоха 107\n"
     ]
    },
    {
     "name": "stderr",
     "output_type": "stream",
     "text": [
      "123it [00:58,  2.11it/s]\n"
     ]
    },
    {
     "name": "stdout",
     "output_type": "stream",
     "text": [
      "Эпоха прошла за 58.26 секунд\n",
      "Средняя функция потерь для дискриминатора = 0.011386150197500772\n",
      "Средняя функция потерь для генератора = 11.958401734266824\n",
      "Today we are going to go to the Beor Mountains.” “Of course,” said Brom, “but we’re going to get there before nightfall.” Eragon shook his head\n",
      "Следующая эпоха\n",
      "Эпоха 108\n"
     ]
    },
    {
     "name": "stderr",
     "output_type": "stream",
     "text": [
      "123it [00:57,  2.12it/s]\n"
     ]
    },
    {
     "name": "stdout",
     "output_type": "stream",
     "text": [
      "Эпоха прошла за 57.94 секунд\n",
      "Средняя функция потерь для дискриминатора = 0.01064612338914748\n",
      "Средняя функция потерь для генератора = 12.938563168533449\n",
      "Today we are going with the Empire.” “Of course, Shadeslayer?” asked Eragon. Murtagh shook his head. “I’m not going to take the first time.” “That\n",
      "Следующая эпоха\n",
      "Эпоха 109\n"
     ]
    },
    {
     "name": "stderr",
     "output_type": "stream",
     "text": [
      "123it [00:57,  2.12it/s]\n"
     ]
    },
    {
     "name": "stdout",
     "output_type": "stream",
     "text": [
      "Эпоха прошла за 57.93 секунд\n",
      "Средняя функция потерь для дискриминатора = 0.01642831433500538\n",
      "Средняя функция потерь для генератора = 12.535758189069547\n",
      "Today we are going to Tronjheim. We can’t go anything to the Varden.” “Of course,” said Murtagh, “but we’ll be safe to the Varden.”\n",
      "Следующая эпоха\n",
      "Эпоха 110\n"
     ]
    },
    {
     "name": "stderr",
     "output_type": "stream",
     "text": [
      "123it [00:58,  2.11it/s]\n"
     ]
    },
    {
     "name": "stdout",
     "output_type": "stream",
     "text": [
      "Эпоха прошла за 58.3 секунд\n",
      "Средняя функция потерь для дискриминатора = 0.014446007230506482\n",
      "Средняя функция потерь для генератора = 12.926095117398393\n",
      "Today we are going?” asked Eragon. “Of course,” said Brom. “They’re going to find the way out of the city. They’re going to get out of the camp\n",
      "Следующая эпоха\n",
      "Эпоха 111\n"
     ]
    },
    {
     "name": "stderr",
     "output_type": "stream",
     "text": [
      "123it [00:58,  2.11it/s]\n"
     ]
    },
    {
     "name": "stdout",
     "output_type": "stream",
     "text": [
      "Эпоха прошла за 58.36 секунд\n",
      "Средняя функция потерь для дискриминатора = 0.01724304417356455\n",
      "Средняя функция потерь для генератора = 12.846129890379867\n",
      "Today we are going to Teirm. We can’t be able to escape the Ra’zac, but we can’t go.” Eragon shook his head. “Thank you,” he said.\n",
      "Следующая эпоха\n",
      "Эпоха 112\n"
     ]
    },
    {
     "name": "stderr",
     "output_type": "stream",
     "text": [
      "123it [00:57,  2.13it/s]\n"
     ]
    },
    {
     "name": "stdout",
     "output_type": "stream",
     "text": [
      "Эпоха прошла за 57.84 секунд\n",
      "Средняя функция потерь для дискриминатора = 0.010695102912794071\n",
      "Средняя функция потерь для генератора = 12.797956660511048\n",
      "Today we are going to the Beor Mountains. They are sleep, but we’ll do well to the Beor Mountains’ Blood-oath Celebration. We can\n",
      "Следующая эпоха\n",
      "Эпоха 113\n"
     ]
    },
    {
     "name": "stderr",
     "output_type": "stream",
     "text": [
      "123it [00:57,  2.13it/s]\n"
     ]
    },
    {
     "name": "stdout",
     "output_type": "stream",
     "text": [
      "Эпоха прошла за 57.88 секунд\n",
      "Средняя функция потерь для дискриминатора = 0.009136237641046395\n",
      "Средняя функция потерь для генератора = 12.96275689349911\n",
      "Today we are going in Palancar Valley.” “And may peace where we are?” asked Eragon. “Yes, Master,” said Oromis. “Unfortunately, I\n",
      "Следующая эпоха\n",
      "Эпоха 114\n"
     ]
    },
    {
     "name": "stderr",
     "output_type": "stream",
     "text": [
      "123it [00:58,  2.11it/s]\n"
     ]
    },
    {
     "name": "stdout",
     "output_type": "stream",
     "text": [
      "Эпоха прошла за 58.26 секунд\n",
      "Средняя функция потерь для дискриминатора = 0.009290765618948725\n",
      "Средняя функция потерь для генератора = 13.534321436067907\n",
      "Today we are going to go to the Varden.” “Maybe,” said Murtagh. “One of the Empire, I won’t be able to escape the Empire. They’ll have to\n",
      "Следующая эпоха\n",
      "Эпоха 115\n"
     ]
    },
    {
     "name": "stderr",
     "output_type": "stream",
     "text": [
      "123it [00:58,  2.11it/s]\n"
     ]
    },
    {
     "name": "stdout",
     "output_type": "stream",
     "text": [
      "Эпоха прошла за 58.26 секунд\n",
      "Средняя функция потерь для дискриминатора = 0.006750642975834407\n",
      "Средняя функция потерь для генератора = 14.417914119193224\n",
      "Today we are going?” asked Eragon. “Yes,” said Brom. He gestured at the bottle. “Fine, I think I can’t be able to get a better view\n",
      "Следующая эпоха\n",
      "Эпоха 116\n"
     ]
    },
    {
     "name": "stderr",
     "output_type": "stream",
     "text": [
      "123it [00:57,  2.12it/s]\n"
     ]
    },
    {
     "name": "stdout",
     "output_type": "stream",
     "text": [
      "Эпоха прошла за 57.99 секунд\n",
      "Средняя функция потерь для дискриминатора = 0.008820694874958736\n",
      "Средняя функция потерь для генератора = 15.603419435702689\n",
      "Today we are going on our barges.” “That’s why we’re going to go?” asked Eragon. Murtagh shrugged. “I’m not going to take the first time.” “That’s\n",
      "Следующая эпоха\n",
      "Эпоха 117\n"
     ]
    },
    {
     "name": "stderr",
     "output_type": "stream",
     "text": [
      "123it [00:57,  2.12it/s]\n"
     ]
    },
    {
     "name": "stdout",
     "output_type": "stream",
     "text": [
      "Эпоха прошла за 57.99 секунд\n",
      "Средняя функция потерь для дискриминатора = 0.010503837327618148\n",
      "Средняя функция потерь для генератора = 15.145375275030368\n",
      "Today we are going to Tronjheim. We can’t go with the Varden and the Varden.” “Come,” said Murtagh, “but we can’t get there to Tronjheim\n",
      "Следующая эпоха\n",
      "Эпоха 118\n"
     ]
    },
    {
     "name": "stderr",
     "output_type": "stream",
     "text": [
      "123it [00:57,  2.12it/s]\n"
     ]
    },
    {
     "name": "stdout",
     "output_type": "stream",
     "text": [
      "Эпоха прошла за 57.92 секунд\n",
      "Средняя функция потерь для дискриминатора = 0.01142313722983652\n",
      "Средняя функция потерь для генератора = 15.59147865791631\n",
      "Today we are going to call upon the Beartooth River. We’ve been able to escape the Empire, but we’ve been traveled, and we have to\n",
      "Следующая эпоха\n",
      "Эпоха 119\n"
     ]
    },
    {
     "name": "stderr",
     "output_type": "stream",
     "text": [
      "123it [00:57,  2.12it/s]\n"
     ]
    },
    {
     "name": "stdout",
     "output_type": "stream",
     "text": [
      "Эпоха прошла за 57.97 секунд\n",
      "Средняя функция потерь для дискриминатора = 0.009242739636610485\n",
      "Средняя функция потерь для генератора = 15.969820968503875\n",
      "Today we are going to Teirm.” “Perhaps,” said Brom. “Unfortunately,” said Brom, “but I can’t be able to protect\n",
      "Следующая эпоха\n",
      "Эпоха 120\n"
     ]
    },
    {
     "name": "stderr",
     "output_type": "stream",
     "text": [
      "123it [00:57,  2.12it/s]\n"
     ]
    },
    {
     "name": "stdout",
     "output_type": "stream",
     "text": [
      "Эпоха прошла за 57.94 секунд\n",
      "Средняя функция потерь для дискриминатора = 0.010050227076224074\n",
      "Средняя функция потерь для генератора = 15.920273439670966\n",
      "Today we are going to go.” “Murtagh,” said Roran, “but we can’t find the Ra’zac. They’ll be safe with the Ra’zac.” “Perhaps,” said Roran.\n",
      "Следующая эпоха\n",
      "Эпоха 121\n"
     ]
    },
    {
     "name": "stderr",
     "output_type": "stream",
     "text": [
      "123it [00:57,  2.12it/s]\n"
     ]
    },
    {
     "name": "stdout",
     "output_type": "stream",
     "text": [
      "Эпоха прошла за 57.94 секунд\n",
      "Средняя функция потерь для дискриминатора = 0.008090630608820924\n",
      "Средняя функция потерь для генератора = 15.793370595792444\n",
      "Today we are going to go.” Eragon shrugged. “I’m going to get back.” Murtagh shook his head. “I’m going to get out of Teirm,” said Brom.\n",
      "Следующая эпоха\n",
      "Эпоха 122\n"
     ]
    },
    {
     "name": "stderr",
     "output_type": "stream",
     "text": [
      "123it [00:58,  2.11it/s]\n"
     ]
    },
    {
     "name": "stdout",
     "output_type": "stream",
     "text": [
      "Эпоха прошла за 58.33 секунд\n",
      "Средняя функция потерь для дискриминатора = 0.009331451984101336\n",
      "Средняя функция потерь для генератора = 15.033433542018983\n",
      "Today we are going along the Beor Mountains.” “Perhaps,” said Brom, “but we’ll be able to help us, but we’ve been able to find\n",
      "Следующая эпоха\n",
      "Эпоха 123\n"
     ]
    },
    {
     "name": "stderr",
     "output_type": "stream",
     "text": [
      "123it [00:58,  2.12it/s]\n"
     ]
    },
    {
     "name": "stdout",
     "output_type": "stream",
     "text": [
      "Эпоха прошла за 58.02 секунд\n",
      "Средняя функция потерь для дискриминатора = 0.007400035625027883\n",
      "Средняя функция потерь для генератора = 15.1899272329439\n",
      "Today we are going with the Varden.” “Maybe,” said Murtagh. He gestured at the table. “Maybe I’m not going to take you to Surda, but\n",
      "Следующая эпоха\n",
      "Эпоха 124\n"
     ]
    },
    {
     "name": "stderr",
     "output_type": "stream",
     "text": [
      "123it [00:58,  2.11it/s]\n"
     ]
    },
    {
     "name": "stdout",
     "output_type": "stream",
     "text": [
      "Эпоха прошла за 58.16 секунд\n",
      "Средняя функция потерь для дискриминатора = 0.01035965546587959\n",
      "Средняя функция потерь для генератора = 15.524888868254374\n",
      "Today we are going to catch up with us,” said Brom. “I’m glad you’re going to see the Ra’zac.” Eragon shook his head. “I’m not going to get\n",
      "Следующая эпоха\n",
      "Эпоха 125\n"
     ]
    },
    {
     "name": "stderr",
     "output_type": "stream",
     "text": [
      "123it [00:58,  2.11it/s]\n"
     ]
    },
    {
     "name": "stdout",
     "output_type": "stream",
     "text": [
      "Эпоха прошла за 58.24 секунд\n",
      "Средняя функция потерь для дискриминатора = 0.003596050339878482\n",
      "Средняя функция потерь для генератора = 15.465688232483902\n",
      "Today we are going to Surda. I will be able to resolve the Varden, but I can’t be able to help me. I will be able to escape the Empire\n",
      "Следующая эпоха\n",
      "Эпоха 126\n"
     ]
    },
    {
     "name": "stderr",
     "output_type": "stream",
     "text": [
      "123it [00:58,  2.11it/s]\n"
     ]
    },
    {
     "name": "stdout",
     "output_type": "stream",
     "text": [
      "Эпоха прошла за 58.16 секунд\n",
      "Средняя функция потерь для дискриминатора = 0.007984304536047995\n",
      "Средняя функция потерь для генератора = 15.919653939037788\n",
      "Today we are going to Tronjheim.” “All right,” said Brom. “Of course not, but we cannot go to the Varden. That is why we’re going to\n",
      "Следующая эпоха\n",
      "Эпоха 127\n"
     ]
    },
    {
     "name": "stderr",
     "output_type": "stream",
     "text": [
      "123it [00:58,  2.11it/s]\n"
     ]
    },
    {
     "name": "stdout",
     "output_type": "stream",
     "text": [
      "Эпоха прошла за 58.25 секунд\n",
      "Средняя функция потерь для дискриминатора = 0.006589462986580398\n",
      "Средняя функция потерь для генератора = 16.77767193802004\n",
      "Today we are going together. We’ll be able to escape the Empire. That’s why we’re going to find the Ra’zac. They’re going to find the Ra’zac.”\n",
      "Следующая эпоха\n",
      "Эпоха 128\n"
     ]
    },
    {
     "name": "stderr",
     "output_type": "stream",
     "text": [
      "123it [00:58,  2.11it/s]\n"
     ]
    },
    {
     "name": "stdout",
     "output_type": "stream",
     "text": [
      "Эпоха прошла за 58.3 секунд\n",
      "Средняя функция потерь для дискриминатора = 0.0083479408927312\n",
      "Средняя функция потерь для генератора = 16.328134877894954\n",
      "Today we are going to Tronjheim, and we’ll have to get there before we settling on our way.” “I’ll take them to Teirm. That is why we can\n",
      "Следующая эпоха\n",
      "Эпоха 129\n"
     ]
    },
    {
     "name": "stderr",
     "output_type": "stream",
     "text": [
      "123it [00:58,  2.11it/s]\n"
     ]
    },
    {
     "name": "stdout",
     "output_type": "stream",
     "text": [
      "Эпоха прошла за 58.25 секунд\n",
      "Средняя функция потерь для дискриминатора = 0.008965893407275131\n",
      "Средняя функция потерь для генератора = 16.2325879461397\n",
      "Today we are going in the Spine. We have to be careful,said Saphira. We can’t be able to help us, and we’ll be able to escape the\n",
      "Следующая эпоха\n",
      "Эпоха 130\n"
     ]
    },
    {
     "name": "stderr",
     "output_type": "stream",
     "text": [
      "123it [00:58,  2.12it/s]\n"
     ]
    },
    {
     "name": "stdout",
     "output_type": "stream",
     "text": [
      "Эпоха прошла за 58.15 секунд\n",
      "Средняя функция потерь для дискриминатора = 0.007623342676337844\n",
      "Средняя функция потерь для генератора = 17.16338370098331\n",
      "Today we are going to Teirm.” “And that does not take care of the center of Teirm?” “Oneílthrim,” said Brom. “O\n",
      "Следующая эпоха\n",
      "Эпоха 131\n"
     ]
    },
    {
     "name": "stderr",
     "output_type": "stream",
     "text": [
      "123it [00:58,  2.11it/s]\n"
     ]
    },
    {
     "name": "stdout",
     "output_type": "stream",
     "text": [
      "Эпоха прошла за 58.22 секунд\n",
      "Средняя функция потерь для дискриминатора = 0.007112060816983628\n",
      "Средняя функция потерь для генератора = 17.69741062226334\n",
      "Today we are going to Teirm.” Eragon smiled. “I’m sure it’s too badly.” He paused for a long, then returned to the corner of the\n",
      "Следующая эпоха\n",
      "Эпоха 132\n"
     ]
    },
    {
     "name": "stderr",
     "output_type": "stream",
     "text": [
      "123it [00:58,  2.12it/s]\n"
     ]
    },
    {
     "name": "stdout",
     "output_type": "stream",
     "text": [
      "Эпоха прошла за 58.02 секунд\n",
      "Средняя функция потерь для дискриминатора = 0.011903730397993117\n",
      "Средняя функция потерь для генератора = 18.285017819908575\n",
      "Today we are going to go.” Eragon shrugged. “I’m not going to get out of here,” said Murtagh, “but we’re going to get out of here tomorrow.”\n",
      "Следующая эпоха\n",
      "Эпоха 133\n"
     ]
    },
    {
     "name": "stderr",
     "output_type": "stream",
     "text": [
      "123it [00:58,  2.11it/s]\n"
     ]
    },
    {
     "name": "stdout",
     "output_type": "stream",
     "text": [
      "Эпоха прошла за 58.27 секунд\n",
      "Средняя функция потерь для дискриминатора = 0.01696644867414266\n",
      "Средняя функция потерь для генератора = 18.09293072398116\n",
      "Today we are going to Tronjheim.” “Once the Twins,” said Orik. “Of course not, I won’t be able to help you. That is the\n",
      "Следующая эпоха\n",
      "Эпоха 134\n"
     ]
    },
    {
     "name": "stderr",
     "output_type": "stream",
     "text": [
      "123it [00:58,  2.11it/s]\n"
     ]
    },
    {
     "name": "stdout",
     "output_type": "stream",
     "text": [
      "Эпоха прошла за 58.29 секунд\n",
      "Средняя функция потерь для дискриминатора = 0.010659587326559201\n",
      "Средняя функция потерь для генератора = 17.644133591070407\n",
      "Today we are going to Surda.” “And what is it to do?” asked Eragon. “Of course. We have to do this,” said Brom, “but we can get there to\n",
      "Следующая эпоха\n",
      "Эпоха 135\n"
     ]
    },
    {
     "name": "stderr",
     "output_type": "stream",
     "text": [
      "123it [00:58,  2.11it/s]\n"
     ]
    },
    {
     "name": "stdout",
     "output_type": "stream",
     "text": [
      "Эпоха прошла за 58.27 секунд\n",
      "Средняя функция потерь для дискриминатора = 0.014659210882607254\n",
      "Средняя функция потерь для генератора = 17.51860916323778\n",
      "Today we are going tomorrow.” “Yes, Master.” “Yes, Master,” said Oromis. “And what does it mean?” “Even so.” Eragon nodded and said,\n",
      "Следующая эпоха\n",
      "Эпоха 136\n"
     ]
    },
    {
     "name": "stderr",
     "output_type": "stream",
     "text": [
      "123it [00:58,  2.12it/s]\n"
     ]
    },
    {
     "name": "stdout",
     "output_type": "stream",
     "text": [
      "Эпоха прошла за 58.05 секунд\n",
      "Средняя функция потерь для дискриминатора = 0.010738111431762478\n",
      "Средняя функция потерь для генератора = 17.748712942852237\n",
      "Today we are going in the Spine. It is a frightening, but I can’t be able to get a better view of the Varden, and we’ll have to find out the\n",
      "Следующая эпоха\n",
      "Эпоха 137\n"
     ]
    },
    {
     "name": "stderr",
     "output_type": "stream",
     "text": [
      "123it [00:58,  2.11it/s]\n"
     ]
    },
    {
     "name": "stdout",
     "output_type": "stream",
     "text": [
      "Эпоха прошла за 58.27 секунд\n",
      "Средняя функция потерь для дискриминатора = 0.008108581225300204\n",
      "Средняя функция потерь для генератора = 17.96417347977801\n",
      "Today we are going to go with the Varden. We’ll be safe,” said Murtagh. “I’ll be afraid you.” Murtagh shook his head. “It’s a good idea,” said\n",
      "Следующая эпоха\n",
      "Эпоха 138\n"
     ]
    },
    {
     "name": "stderr",
     "output_type": "stream",
     "text": [
      "123it [00:58,  2.11it/s]\n"
     ]
    },
    {
     "name": "stdout",
     "output_type": "stream",
     "text": [
      "Эпоха прошла за 58.27 секунд\n",
      "Средняя функция потерь для дискриминатора = 0.005584627980295601\n",
      "Средняя функция потерь для генератора = 17.814860119083065\n",
      "Today we are going to go to the Varden, but I can’t be able to get out of here.” “I’m going to go,” said Murtagh, “but we’ll be able to get\n",
      "Следующая эпоха\n",
      "Эпоха 139\n"
     ]
    },
    {
     "name": "stderr",
     "output_type": "stream",
     "text": [
      "123it [00:57,  2.12it/s]\n"
     ]
    },
    {
     "name": "stdout",
     "output_type": "stream",
     "text": [
      "Эпоха прошла за 57.97 секунд\n",
      "Средняя функция потерь для дискриминатора = 0.004467526866488416\n",
      "Средняя функция потерь для генератора = 17.940881201891393\n",
      "Today we are going to find a mountains. We’ll be able to escape the Empire, but we’ll be able to escape the Empire. That is why we’re\n",
      "Следующая эпоха\n",
      "Эпоха 140\n"
     ]
    },
    {
     "name": "stderr",
     "output_type": "stream",
     "text": [
      "123it [00:58,  2.11it/s]\n"
     ]
    },
    {
     "name": "stdout",
     "output_type": "stream",
     "text": [
      "Эпоха прошла за 58.25 секунд\n",
      "Средняя функция потерь для дискриминатора = 0.007091652055787267\n",
      "Средняя функция потерь для генератора = 18.219544976707397\n",
      "Today we are going on the Burning Plains. . Why are you here?” “Yes.” The bald man looked at him with interest. “Yes, Ma’am\n",
      "Следующая эпоха\n",
      "Эпоха 141\n"
     ]
    },
    {
     "name": "stderr",
     "output_type": "stream",
     "text": [
      "123it [00:58,  2.11it/s]\n"
     ]
    },
    {
     "name": "stdout",
     "output_type": "stream",
     "text": [
      "Эпоха прошла за 58.34 секунд\n",
      "Средняя функция потерь для дискриминатора = 0.00909236795680074\n",
      "Средняя функция потерь для генератора = 18.64306755376056\n",
      "Today we are going to Teirm, but we have no choice now.” “Perhaps,” said Angela. “Of course,” said Brom. “They’re\n",
      "Следующая эпоха\n",
      "Эпоха 142\n"
     ]
    },
    {
     "name": "stderr",
     "output_type": "stream",
     "text": [
      "123it [00:58,  2.11it/s]\n"
     ]
    },
    {
     "name": "stdout",
     "output_type": "stream",
     "text": [
      "Эпоха прошла за 58.23 секунд\n",
      "Средняя функция потерь для дискриминатора = 0.010156943537057065\n",
      "Средняя функция потерь для генератора = 18.060858207020335\n",
      "Today we are going to the Varden, and we will be able to escape the Empire. That is why we’re going to the Varden. We can’t be able to esc\n",
      "Следующая эпоха\n",
      "Эпоха 143\n"
     ]
    },
    {
     "name": "stderr",
     "output_type": "stream",
     "text": [
      "123it [00:58,  2.11it/s]\n"
     ]
    },
    {
     "name": "stdout",
     "output_type": "stream",
     "text": [
      "Эпоха прошла за 58.22 секунд\n",
      "Средняя функция потерь для дискриминатора = 0.008419130461023576\n",
      "Средняя функция потерь для генератора = 17.210433176862516\n",
      "Today we are going on the Burning Plains.” The bald man looked at him with interest. “For several minutes, but it’s a monster\n",
      "Следующая эпоха\n",
      "Эпоха 144\n"
     ]
    },
    {
     "name": "stderr",
     "output_type": "stream",
     "text": [
      "123it [00:58,  2.11it/s]\n"
     ]
    },
    {
     "name": "stdout",
     "output_type": "stream",
     "text": [
      "Эпоха прошла за 58.27 секунд\n",
      "Средняя функция потерь для дискриминатора = 0.010581729761599297\n",
      "Средняя функция потерь для генератора = 17.674310312038514\n",
      "Today we are going to the Varden.” “Onlyour days ago,” said Brom. “Yes, but I have no choice.” “Of course,” said Brom. “That\n",
      "Следующая эпоха\n",
      "Эпоха 145\n"
     ]
    },
    {
     "name": "stderr",
     "output_type": "stream",
     "text": [
      "123it [00:58,  2.12it/s]\n"
     ]
    },
    {
     "name": "stdout",
     "output_type": "stream",
     "text": [
      "Эпоха прошла за 58.0 секунд\n",
      "Средняя функция потерь для дискриминатора = 0.008973528677053423\n",
      "Средняя функция потерь для генератора = 17.421172739044437\n",
      "Today we are going to go.” Eragon shook his head. “I’m not going to take the first place,” said Brom. “Yes, but I don’t think you’ll be able to get away\n",
      "Следующая эпоха\n",
      "Эпоха 146\n"
     ]
    },
    {
     "name": "stderr",
     "output_type": "stream",
     "text": [
      "123it [00:57,  2.12it/s]\n"
     ]
    },
    {
     "name": "stdout",
     "output_type": "stream",
     "text": [
      "Эпоха прошла за 57.99 секунд\n",
      "Средняя функция потерь для дискриминатора = 0.012530605184339978\n",
      "Средняя функция потерь для генератора = 16.48468125351076\n",
      "Today we are going to Tronjheim.” “Ah,” said Orik. “And what happened?” Orik shook his head. “I’m sorry.” “Just remember, I\n",
      "Следующая эпоха\n",
      "Эпоха 147\n"
     ]
    },
    {
     "name": "stderr",
     "output_type": "stream",
     "text": [
      "123it [00:58,  2.11it/s]\n"
     ]
    },
    {
     "name": "stdout",
     "output_type": "stream",
     "text": [
      "Эпоха прошла за 58.24 секунд\n",
      "Средняя функция потерь для дискриминатора = 0.014485638174706335\n",
      "Средняя функция потерь для генератора = 15.513696872121919\n",
      "Today we are going to the Varden. We’ll be safe for the Varden.” After a few seconds, Nasuada said, “Of course not, Shadeslayer. That is\n",
      "Следующая эпоха\n",
      "Эпоха 148\n"
     ]
    },
    {
     "name": "stderr",
     "output_type": "stream",
     "text": [
      "123it [00:57,  2.12it/s]\n"
     ]
    },
    {
     "name": "stdout",
     "output_type": "stream",
     "text": [
      "Эпоха прошла за 57.89 секунд\n",
      "Средняя функция потерь для дискриминатора = 0.012216194564296425\n",
      "Средняя функция потерь для генератора = 15.231696051310717\n",
      "Today we are going to avoid the Varden.” “Yes, Ma’am,” said Ajihad. “Yes, but I don’t want to know what I want. But I’m not going\n",
      "Следующая эпоха\n",
      "Эпоха 149\n"
     ]
    },
    {
     "name": "stderr",
     "output_type": "stream",
     "text": [
      "123it [00:58,  2.11it/s]\n"
     ]
    },
    {
     "name": "stdout",
     "output_type": "stream",
     "text": [
      "Эпоха прошла за 58.26 секунд\n",
      "Средняя функция потерь для дискриминатора = 0.015187195975898255\n",
      "Средняя функция потерь для генератора = 15.238797482436265\n",
      "Today we are going to Tronjheim. We can’t go with the Varden.” Eragon shrugged. “I’m not sure,” said Murtagh. “Yes, but I don’t want to know.\n",
      "Следующая эпоха\n",
      "Эпоха 150\n"
     ]
    },
    {
     "name": "stderr",
     "output_type": "stream",
     "text": [
      "123it [00:57,  2.12it/s]\n"
     ]
    },
    {
     "name": "stdout",
     "output_type": "stream",
     "text": [
      "Эпоха прошла за 57.89 секунд\n",
      "Средняя функция потерь для дискриминатора = 0.012519742504289427\n",
      "Средняя функция потерь для генератора = 14.82053704765754\n",
      "Today we are going to go. We can’t go.” Eragon shook his head. “For now,” said Murtagh. He grunted. “I’m sorry, but I can’t be\n",
      "Следующая эпоха\n",
      "Эпоха 151\n"
     ]
    },
    {
     "name": "stderr",
     "output_type": "stream",
     "text": [
      "123it [00:58,  2.11it/s]\n"
     ]
    },
    {
     "name": "stdout",
     "output_type": "stream",
     "text": [
      "Эпоха прошла за 58.28 секунд\n",
      "Средняя функция потерь для дискриминатора = 0.009884243184483868\n",
      "Средняя функция потерь для генератора = 15.155120477443788\n",
      "Today we are going to go to Tronjheim.” “And what do you think?” asked Orik. “Of course.” She gestured at the tip of the table, then\n",
      "Следующая эпоха\n",
      "Эпоха 152\n"
     ]
    },
    {
     "name": "stderr",
     "output_type": "stream",
     "text": [
      "123it [00:58,  2.11it/s]\n"
     ]
    },
    {
     "name": "stdout",
     "output_type": "stream",
     "text": [
      "Эпоха прошла за 58.27 секунд\n",
      "Средняя функция потерь для дискриминатора = 0.009591317454157056\n",
      "Средняя функция потерь для генератора = 15.120080901355278\n",
      "Today we are going to the Varden. We’ll be able to get out of the Empire.” “I’m not going to take care of,” said Murtagh. “If I don’t know,” said Brom.\n",
      "Следующая эпоха\n",
      "Эпоха 153\n"
     ]
    },
    {
     "name": "stderr",
     "output_type": "stream",
     "text": [
      "123it [00:58,  2.11it/s]\n"
     ]
    },
    {
     "name": "stdout",
     "output_type": "stream",
     "text": [
      "Эпоха прошла за 58.28 секунд\n",
      "Средняя функция потерь для дискриминатора = 0.010527191645377297\n",
      "Средняя функция потерь для генератора = 15.136427057467825\n",
      "Today we are going in the Spine.” Eragon shook his head. “I don’t know,” said Brom. “Of course, I don’t want to be able to get out of here.” He\n",
      "Следующая эпоха\n",
      "Эпоха 154\n"
     ]
    },
    {
     "name": "stderr",
     "output_type": "stream",
     "text": [
      "123it [00:57,  2.12it/s]\n"
     ]
    },
    {
     "name": "stdout",
     "output_type": "stream",
     "text": [
      "Эпоха прошла за 57.91 секунд\n",
      "Средняя функция потерь для дискриминатора = 0.00995287929881152\n",
      "Средняя функция потерь для генератора = 16.13192902541742\n",
      "Today we are going to capturing the Burning Plains and the Council of Elders.” “And what of you do?” asked Eragon. “Of course not\n",
      "Следующая эпоха\n",
      "Эпоха 155\n"
     ]
    },
    {
     "name": "stderr",
     "output_type": "stream",
     "text": [
      "123it [00:58,  2.11it/s]\n"
     ]
    },
    {
     "name": "stdout",
     "output_type": "stream",
     "text": [
      "Эпоха прошла за 58.24 секунд\n",
      "Средняя функция потерь для дискриминатора = 0.008448886993384684\n",
      "Средняя функция потерь для генератора = 16.068084391151988\n",
      "Today we are going together. We are aware of ourselves, but we have to go to the Varden. We can’t stop them from the Empire.” “I’m not going to\n",
      "Следующая эпоха\n",
      "Эпоха 156\n"
     ]
    },
    {
     "name": "stderr",
     "output_type": "stream",
     "text": [
      "123it [00:57,  2.12it/s]\n"
     ]
    },
    {
     "name": "stdout",
     "output_type": "stream",
     "text": [
      "Эпоха прошла за 57.92 секунд\n",
      "Средняя функция потерь для дискриминатора = 0.010832591940969706\n",
      "Средняя функция потерь для генератора = 15.883696145158472\n",
      "Today we are going tomorrow.” Eragon shook his head. “Yes,” said Brom, “but we can get away from the Ra’zac. We’ll be safe tomorrow.”\n",
      "Следующая эпоха\n",
      "Эпоха 157\n"
     ]
    },
    {
     "name": "stderr",
     "output_type": "stream",
     "text": [
      "123it [00:58,  2.11it/s]\n"
     ]
    },
    {
     "name": "stdout",
     "output_type": "stream",
     "text": [
      "Эпоха прошла за 58.19 секунд\n",
      "Средняя функция потерь для дискриминатора = 0.0166597248082725\n",
      "Средняя функция потерь для генератора = 14.981704866983057\n",
      "Today we are going together, but we’ll be able to find a month.” “Perhaps,” said Murtagh, “but we can’t get there before nightfall.”\n",
      "Следующая эпоха\n",
      "Эпоха 158\n"
     ]
    },
    {
     "name": "stderr",
     "output_type": "stream",
     "text": [
      "123it [00:58,  2.11it/s]\n"
     ]
    },
    {
     "name": "stdout",
     "output_type": "stream",
     "text": [
      "Эпоха прошла за 58.28 секунд\n",
      "Средняя функция потерь для дискриминатора = 0.014707200633663858\n",
      "Средняя функция потерь для генератора = 14.405402400629308\n",
      "Today we are going in the Spine, and I have to do with the same amount of enemies.” “Then you have to do this,” said Brom. “For a long time\n",
      "Следующая эпоха\n",
      "Эпоха 159\n"
     ]
    },
    {
     "name": "stderr",
     "output_type": "stream",
     "text": [
      "123it [00:59,  2.08it/s]\n"
     ]
    },
    {
     "name": "stdout",
     "output_type": "stream",
     "text": [
      "Эпоха прошла за 59.12 секунд\n",
      "Средняя функция потерь для дискриминатора = 0.018876316509852224\n",
      "Средняя функция потерь для генератора = 14.91731492484488\n",
      "Today we are going to be able to escape the Empire. . We have to be able to escape the Empire.” Eragon shook his head. “I’m sorry,\n",
      "Следующая эпоха\n",
      "Эпоха 160\n"
     ]
    },
    {
     "name": "stderr",
     "output_type": "stream",
     "text": [
      "123it [00:57,  2.13it/s]\n"
     ]
    },
    {
     "name": "stdout",
     "output_type": "stream",
     "text": [
      "Эпоха прошла за 57.84 секунд\n",
      "Средняя функция потерь для дискриминатора = 0.0163853383809754\n",
      "Средняя функция потерь для генератора = 14.301388872348197\n",
      "Today we are going?” asked Murtagh. “Of course.” Murtagh shrugged. “Yes,” said Murtagh, “but I don’t want to be able to get there before we can get\n",
      "Следующая эпоха\n",
      "Эпоха 161\n"
     ]
    },
    {
     "name": "stderr",
     "output_type": "stream",
     "text": [
      "123it [00:58,  2.11it/s]\n"
     ]
    },
    {
     "name": "stdout",
     "output_type": "stream",
     "text": [
      "Эпоха прошла за 58.24 секунд\n",
      "Средняя функция потерь для дискриминатора = 0.016403000349035995\n",
      "Средняя функция потерь для генератора = 13.644053567715776\n",
      "Today we are going tomorrow.” “I’m glad that you’re going to go.” Eragon shook his head. “I’m sorry, but I can’t be able to get\n",
      "Следующая эпоха\n",
      "Эпоха 162\n"
     ]
    },
    {
     "name": "stderr",
     "output_type": "stream",
     "text": [
      "123it [00:58,  2.11it/s]\n"
     ]
    },
    {
     "name": "stdout",
     "output_type": "stream",
     "text": [
      "Эпоха прошла за 58.2 секунд\n",
      "Средняя функция потерь для дискриминатора = 0.011932858698471351\n",
      "Средняя функция потерь для генератора = 15.057331845043151\n",
      "Today we are going in the middle of the Beor Mountains, where we are now going to the Beor Mountains. We can’t stay here until we go to Tronjheim\n",
      "Следующая эпоха\n",
      "Эпоха 163\n"
     ]
    },
    {
     "name": "stderr",
     "output_type": "stream",
     "text": [
      "123it [00:57,  2.12it/s]\n"
     ]
    },
    {
     "name": "stdout",
     "output_type": "stream",
     "text": [
      "Эпоха прошла за 57.97 секунд\n",
      "Средняя функция потерь для дискриминатора = 0.013790917042022897\n",
      "Средняя функция потерь для генератора = 16.044252085491895\n",
      "Today we are going in the middle of the Beor Mountains.” Eragon shook his head. “I’m not sure,” said Murtagh, “but we can get the Beor Mountain\n",
      "Следующая эпоха\n",
      "Эпоха 164\n"
     ]
    },
    {
     "name": "stderr",
     "output_type": "stream",
     "text": [
      "123it [00:58,  2.11it/s]\n"
     ]
    },
    {
     "name": "stdout",
     "output_type": "stream",
     "text": [
      "Эпоха прошла за 58.28 секунд\n",
      "Средняя функция потерь для дискриминатора = 0.009896874810285995\n",
      "Средняя функция потерь для генератора = 16.57003542272056\n",
      "Today we are going in the Spine,” said Roran. “Of course, I don’t have to do this.” Roran nodded. “I’m going to take my offer, but I\n",
      "Следующая эпоха\n",
      "Эпоха 165\n"
     ]
    },
    {
     "name": "stderr",
     "output_type": "stream",
     "text": [
      "123it [00:58,  2.11it/s]\n"
     ]
    },
    {
     "name": "stdout",
     "output_type": "stream",
     "text": [
      "Эпоха прошла за 58.31 секунд\n",
      "Средняя функция потерь для дискриминатора = 0.0047925623279061105\n",
      "Средняя функция потерь для генератора = 17.305182953190997\n",
      "Today we are going to the Empire.” “There’s a problem,” said Eragon, “but we can’t find the Varden. We can’t stay in the Empire.” “Yes,” said Brom.\n",
      "Следующая эпоха\n",
      "Эпоха 166\n"
     ]
    },
    {
     "name": "stderr",
     "output_type": "stream",
     "text": [
      "123it [00:58,  2.11it/s]\n"
     ]
    },
    {
     "name": "stdout",
     "output_type": "stream",
     "text": [
      "Эпоха прошла за 58.19 секунд\n",
      "Средняя функция потерь для дискриминатора = 0.010218651642929668\n",
      "Средняя функция потерь для генератора = 17.720597352438826\n",
      "Today we are going together, but we’ll have to wait until we leave.” Eragon nodded. “Your family, but I can’t be able to get a better vie\n",
      "Следующая эпоха\n",
      "Эпоха 167\n"
     ]
    },
    {
     "name": "stderr",
     "output_type": "stream",
     "text": [
      "123it [00:58,  2.11it/s]\n"
     ]
    },
    {
     "name": "stdout",
     "output_type": "stream",
     "text": [
      "Эпоха прошла за 58.19 секунд\n",
      "Средняя функция потерь для дискриминатора = 0.00502355873411544\n",
      "Средняя функция потерь для генератора = 18.243110703258978\n",
      "Today we are going together. We have to be able to get back to the Varden, but I don’t want to be able to help you. That is why I’m going to take care\n",
      "Следующая эпоха\n",
      "Эпоха 168\n"
     ]
    },
    {
     "name": "stderr",
     "output_type": "stream",
     "text": [
      "123it [00:58,  2.11it/s]\n"
     ]
    },
    {
     "name": "stdout",
     "output_type": "stream",
     "text": [
      "Эпоха прошла за 58.22 секунд\n",
      "Средняя функция потерь для дискриминатора = 0.0038111749785073004\n",
      "Средняя функция потерь для генератора = 18.63848818026907\n",
      "Today we are going to Tronjheim. They are also supposed to the Varden, but we have to go to Teirm.” “My Lady,” said Orik, “\n",
      "Следующая эпоха\n",
      "Эпоха 169\n"
     ]
    },
    {
     "name": "stderr",
     "output_type": "stream",
     "text": [
      "123it [00:57,  2.12it/s]\n"
     ]
    },
    {
     "name": "stdout",
     "output_type": "stream",
     "text": [
      "Эпоха прошла за 57.94 секунд\n",
      "Средняя функция потерь для дискриминатора = 0.006285935233325112\n",
      "Средняя функция потерь для генератора = 18.648775689970186\n",
      "Today we are going?” “Yes,” said Brom. “Yes, but I have to help.” “Of course.” “Of course.” “Very well,” said Brom.\n",
      "Следующая эпоха\n",
      "Эпоха 170\n"
     ]
    },
    {
     "name": "stderr",
     "output_type": "stream",
     "text": [
      "123it [00:58,  2.11it/s]\n"
     ]
    },
    {
     "name": "stdout",
     "output_type": "stream",
     "text": [
      "Эпоха прошла за 58.22 секунд\n",
      "Средняя функция потерь для дискриминатора = 0.008635458140290906\n",
      "Средняя функция потерь для генератора = 18.55233159879359\n",
      "Today we are going to the Varden. We’ll be safe and we can find a few months.” “I’m sure that we’re going tomorrow, but we’ll be\n",
      "Следующая эпоха\n",
      "Эпоха 171\n"
     ]
    },
    {
     "name": "stderr",
     "output_type": "stream",
     "text": [
      "123it [00:58,  2.11it/s]\n"
     ]
    },
    {
     "name": "stdout",
     "output_type": "stream",
     "text": [
      "Эпоха прошла за 58.3 секунд\n",
      "Средняя функция потерь для дискриминатора = 0.00977321717200391\n",
      "Средняя функция потерь для генератора = 18.418262171551465\n",
      "Today we are going in the Spine. We can’t go anywhere elsewhere in the Beor Mountains. They’ve been seen in the Beor Mountains’ Brok\n",
      "Следующая эпоха\n",
      "Эпоха 172\n"
     ]
    },
    {
     "name": "stderr",
     "output_type": "stream",
     "text": [
      "123it [00:58,  2.12it/s]\n"
     ]
    },
    {
     "name": "stdout",
     "output_type": "stream",
     "text": [
      "Эпоха прошла за 58.14 секунд\n",
      "Средняя функция потерь для дискриминатора = 0.007792965798157601\n",
      "Средняя функция потерь для генератора = 17.903606251972477\n",
      "Today we are going to Tronjheim. We can’t get out of here. We’ll be able to find out if we can’t go anywhere in the darkness. They’ll be\n",
      "Следующая эпоха\n",
      "Эпоха 173\n"
     ]
    },
    {
     "name": "stderr",
     "output_type": "stream",
     "text": [
      "123it [00:58,  2.11it/s]\n"
     ]
    },
    {
     "name": "stdout",
     "output_type": "stream",
     "text": [
      "Эпоха прошла за 58.23 секунд\n",
      "Средняя функция потерь для дискриминатора = 0.010340545074297285\n",
      "Средняя функция потерь для генератора = 17.9176252566702\n",
      "Today we are going on the Burning Plains. We have to do that.” After a moment, he paused. “Perhaps,” said Brom, “but we can’t\n",
      "Следующая эпоха\n",
      "Эпоха 174\n"
     ]
    },
    {
     "name": "stderr",
     "output_type": "stream",
     "text": [
      "123it [00:58,  2.11it/s]\n"
     ]
    },
    {
     "name": "stdout",
     "output_type": "stream",
     "text": [
      "Эпоха прошла за 58.29 секунд\n",
      "Средняя функция потерь для дискриминатора = 0.008541896405707424\n",
      "Средняя функция потерь для генератора = 18.45676806690247\n",
      "Today we are going to go.” “Yes,” said Brom, “but I’m going to take a few months,” said Brom. He gestured at the corner of his ey\n",
      "Следующая эпоха\n",
      "Эпоха 175\n"
     ]
    },
    {
     "name": "stderr",
     "output_type": "stream",
     "text": [
      "123it [00:58,  2.11it/s]\n"
     ]
    },
    {
     "name": "stdout",
     "output_type": "stream",
     "text": [
      "Эпоха прошла за 58.21 секунд\n",
      "Средняя функция потерь для дискриминатора = 0.004948890042495753\n",
      "Средняя функция потерь для генератора = 18.353446510749134\n",
      "Today we are going to the Varden.” “My Lady Nightstalker?” asked Eragon. “Yes, Master,” said Orik, “why do you think I am afraid of\n",
      "Следующая эпоха\n",
      "Эпоха 176\n"
     ]
    },
    {
     "name": "stderr",
     "output_type": "stream",
     "text": [
      "123it [00:58,  2.11it/s]\n"
     ]
    },
    {
     "name": "stdout",
     "output_type": "stream",
     "text": [
      "Эпоха прошла за 58.33 секунд\n",
      "Средняя функция потерь для дискриминатора = 0.008672254376107026\n",
      "Средняя функция потерь для генератора = 18.907822089466624\n",
      "Today we are going.” Eragon shook his head. “I don’t know,” said Brom, “but I can’t be able to use magic, but I can’t do it.” “Of course\n",
      "Следующая эпоха\n",
      "Эпоха 177\n"
     ]
    },
    {
     "name": "stderr",
     "output_type": "stream",
     "text": [
      "123it [00:58,  2.11it/s]\n"
     ]
    },
    {
     "name": "stdout",
     "output_type": "stream",
     "text": [
      "Эпоха прошла за 58.27 секунд\n",
      "Средняя функция потерь для дискриминатора = 0.004786364110688323\n",
      "Средняя функция потерь для генератора = 18.523774271088886\n",
      "Today we are going tomorrow.” “Of course,” said Eragon, “but we can’t go to the Varden, but we’ll take care for the Empire.” “I’m sor\n",
      "Следующая эпоха\n",
      "Эпоха 178\n"
     ]
    },
    {
     "name": "stderr",
     "output_type": "stream",
     "text": [
      "123it [00:57,  2.13it/s]\n"
     ]
    },
    {
     "name": "stdout",
     "output_type": "stream",
     "text": [
      "Эпоха прошла за 57.83 секунд\n",
      "Средняя функция потерь для дискриминатора = 0.009060542742922624\n",
      "Средняя функция потерь для генератора = 18.639787332798406\n",
      "Today we are going in the Spine.” “My Longshanks,” said Brom. “Perhaps,” said Brom. “Your Majesty.” Eragon shook\n",
      "Следующая эпоха\n",
      "Эпоха 179\n"
     ]
    },
    {
     "name": "stderr",
     "output_type": "stream",
     "text": [
      "123it [00:58,  2.11it/s]\n"
     ]
    },
    {
     "name": "stdout",
     "output_type": "stream",
     "text": [
      "Эпоха прошла за 58.19 секунд\n",
      "Средняя функция потерь для дискриминатора = 0.013045520622876122\n",
      "Средняя функция потерь для генератора = 18.505189445929798\n",
      "Today we are going.” “Yes, Master,” said Brom, “but I can’t be able to help you.” Eragon grunted. “I’ve never seen anything else. It\n",
      "Следующая эпоха\n",
      "Эпоха 180\n"
     ]
    },
    {
     "name": "stderr",
     "output_type": "stream",
     "text": [
      "123it [00:57,  2.12it/s]\n"
     ]
    },
    {
     "name": "stdout",
     "output_type": "stream",
     "text": [
      "Эпоха прошла за 57.98 секунд\n",
      "Средняя функция потерь для дискриминатора = 0.01137825130705998\n",
      "Средняя функция потерь для генератора = 18.47892889937734\n",
      "Today we are going in the darkness,” said Brom. “Yes.” “That is why you’re going to be here?” Brom shook his head. “I’m glad you can\n",
      "Следующая эпоха\n",
      "Эпоха 181\n"
     ]
    },
    {
     "name": "stderr",
     "output_type": "stream",
     "text": [
      "123it [00:58,  2.11it/s]\n"
     ]
    },
    {
     "name": "stdout",
     "output_type": "stream",
     "text": [
      "Эпоха прошла за 58.22 секунд\n",
      "Средняя функция потерь для дискриминатора = 0.011180212896975511\n",
      "Средняя функция потерь для генератора = 17.72957421899811\n",
      "Today we are going to Tronjheim.” “And what you do?” asked Eragon. Orik shook his head. “For a moment, I can’t see it.” “For now,” said Brom\n",
      "Следующая эпоха\n",
      "Эпоха 182\n"
     ]
    },
    {
     "name": "stderr",
     "output_type": "stream",
     "text": [
      "123it [00:58,  2.11it/s]\n"
     ]
    },
    {
     "name": "stdout",
     "output_type": "stream",
     "text": [
      "Эпоха прошла за 58.25 секунд\n",
      "Средняя функция потерь для дискриминатора = 0.007742305449996857\n",
      "Средняя функция потерь для генератора = 17.896790233084825\n",
      "Today we are going together. We can’t go to the Varden, but we can’t find the Empire.” “Come now,” said Murtagh. “I don’t know,” said Murtagh, “but we’ll\n",
      "Следующая эпоха\n",
      "Эпоха 183\n"
     ]
    },
    {
     "name": "stderr",
     "output_type": "stream",
     "text": [
      "123it [00:58,  2.11it/s]\n"
     ]
    },
    {
     "name": "stdout",
     "output_type": "stream",
     "text": [
      "Эпоха прошла за 58.32 секунд\n",
      "Средняя функция потерь для дискриминатора = 0.008474173849171483\n",
      "Средняя функция потерь для генератора = 18.30422420036502\n",
      "Today we are going together.” “Yes, Master,” said Oromis, “but we can’t stop them.” “Forget,” said Oromis. He paused for a moment, then\n",
      "Следующая эпоха\n",
      "Эпоха 184\n"
     ]
    },
    {
     "name": "stderr",
     "output_type": "stream",
     "text": [
      "123it [00:59,  2.08it/s]\n"
     ]
    },
    {
     "name": "stdout",
     "output_type": "stream",
     "text": [
      "Эпоха прошла за 59.2 секунд\n",
      "Средняя функция потерь для дискриминатора = 0.010331099187376496\n",
      "Средняя функция потерь для генератора = 17.485278176098333\n",
      "Today we are going to find the Ra’zac.” “Maybe,” said Eragon. “Of course not. If I can tell you what I want to do, I would have to do. But I\n",
      "Следующая эпоха\n",
      "Эпоха 185\n"
     ]
    },
    {
     "name": "stderr",
     "output_type": "stream",
     "text": [
      "123it [00:58,  2.11it/s]\n"
     ]
    },
    {
     "name": "stdout",
     "output_type": "stream",
     "text": [
      "Эпоха прошла за 58.33 секунд\n",
      "Средняя функция потерь для дискриминатора = 0.008658325694119501\n",
      "Средняя функция потерь для генератора = 17.16895779555406\n",
      "Today we are going to Tronjheim.” “Attra esterní ono thelduin,” said Orik, “but we can’t go to the Varden. We can’t st\n",
      "Следующая эпоха\n",
      "Эпоха 186\n"
     ]
    },
    {
     "name": "stderr",
     "output_type": "stream",
     "text": [
      "123it [00:58,  2.11it/s]\n"
     ]
    },
    {
     "name": "stdout",
     "output_type": "stream",
     "text": [
      "Эпоха прошла за 58.37 секунд\n",
      "Средняя функция потерь для дискриминатора = 0.013941821588212302\n",
      "Средняя функция потерь для генератора = 16.40957854046085\n",
      "Today we are going to Tronjheim.” “And what do you want to do?” asked Eragon. Orik shook his head. “For now, I have to get out of Tronjheim\n",
      "Следующая эпоха\n",
      "Эпоха 187\n"
     ]
    },
    {
     "name": "stderr",
     "output_type": "stream",
     "text": [
      "123it [00:58,  2.10it/s]\n"
     ]
    },
    {
     "name": "stdout",
     "output_type": "stream",
     "text": [
      "Эпоха прошла за 58.63 секунд\n",
      "Средняя функция потерь для дискриминатора = 0.015420739372714936\n",
      "Средняя функция потерь для генератора = 15.838317917614448\n",
      "Today we are going to Teirm. We aren’t going to take care of ourselves.” “I’m glad you’re going to go,” said Brom. He gestured at\n",
      "Следующая эпоха\n",
      "Эпоха 188\n"
     ]
    },
    {
     "name": "stderr",
     "output_type": "stream",
     "text": [
      "123it [00:58,  2.09it/s]\n"
     ]
    },
    {
     "name": "stdout",
     "output_type": "stream",
     "text": [
      "Эпоха прошла за 58.75 секунд\n",
      "Средняя функция потерь для дискриминатора = 0.01062595724579296\n",
      "Средняя функция потерь для генератора = 16.158399124455645\n",
      "Today we are going together, but I have no choice now.” “Of course not,” said Eragon, “that this is the most important thing I can do. But\n",
      "Следующая эпоха\n",
      "Эпоха 189\n"
     ]
    },
    {
     "name": "stderr",
     "output_type": "stream",
     "text": [
      "123it [00:58,  2.09it/s]\n"
     ]
    },
    {
     "name": "stdout",
     "output_type": "stream",
     "text": [
      "Эпоха прошла за 58.72 секунд\n",
      "Средняя функция потерь для дискриминатора = 0.011310773539884305\n",
      "Средняя функция потерь для генератора = 16.91583366704181\n",
      "Today we are going together, and we can’t go anywhere in the Beor Mountains.” “I’m glad you aren’t going to go,” said Eragon, “but we can\n",
      "Следующая эпоха\n",
      "Эпоха 190\n"
     ]
    },
    {
     "name": "stderr",
     "output_type": "stream",
     "text": [
      "123it [00:58,  2.09it/s]\n"
     ]
    },
    {
     "name": "stdout",
     "output_type": "stream",
     "text": [
      "Эпоха прошла за 58.74 секунд\n",
      "Средняя функция потерь для дискриминатора = 0.01567982315091507\n",
      "Средняя функция потерь для генератора = 17.2499915022191\n",
      "Today we are going together. We can’t go together with the Varden, but we can’t be able to escape the Empire.” “I’m sorry,” said Murtagh.\n",
      "Следующая эпоха\n",
      "Эпоха 191\n"
     ]
    },
    {
     "name": "stderr",
     "output_type": "stream",
     "text": [
      "123it [00:58,  2.10it/s]\n"
     ]
    },
    {
     "name": "stdout",
     "output_type": "stream",
     "text": [
      "Эпоха прошла за 58.62 секунд\n",
      "Средняя функция потерь для дискриминатора = 0.009000653170493556\n",
      "Средняя функция потерь для генератора = 17.240951832717027\n",
      "Today we are going in the Spine.” Eragon shook his head. “For now,” he said. “Good. That’s the only way I can do. It’s a good ide\n",
      "Следующая эпоха\n",
      "Эпоха 192\n"
     ]
    },
    {
     "name": "stderr",
     "output_type": "stream",
     "text": [
      "123it [00:58,  2.10it/s]\n"
     ]
    },
    {
     "name": "stdout",
     "output_type": "stream",
     "text": [
      "Эпоха прошла за 58.46 секунд\n",
      "Средняя функция потерь для дискриминатора = 0.010990858973625988\n",
      "Средняя функция потерь для генератора = 16.56045145329421\n",
      "Today we are going tomorrow.” Eragon shook his head. “No,” said Brom. “Of course, I don’t want to go to the Varden. They’ll be safely\n",
      "Следующая эпоха\n",
      "Эпоха 193\n"
     ]
    },
    {
     "name": "stderr",
     "output_type": "stream",
     "text": [
      "123it [00:58,  2.10it/s]\n"
     ]
    },
    {
     "name": "stdout",
     "output_type": "stream",
     "text": [
      "Эпоха прошла за 58.67 секунд\n",
      "Средняя функция потерь для дискриминатора = 0.009243771683756447\n",
      "Средняя функция потерь для генератора = 16.46176987159543\n",
      "Today we are going for the first time,” said Brom, “but we can get there before we go to the Varden.” Eragon shook his head. “For now,” said Murtagh, “but\n",
      "Следующая эпоха\n",
      "Эпоха 194\n"
     ]
    },
    {
     "name": "stderr",
     "output_type": "stream",
     "text": [
      "123it [00:58,  2.09it/s]\n"
     ]
    },
    {
     "name": "stdout",
     "output_type": "stream",
     "text": [
      "Эпоха прошла за 58.76 секунд\n",
      "Средняя функция потерь для дискриминатора = 0.011845521057486947\n",
      "Средняя функция потерь для генератора = 15.907501212949676\n",
      "Today we are going to Dras-Leona, but I have no choice.” “Only,” said Brom, “but we’re going to go in the darkness.\n",
      "Следующая эпоха\n",
      "Эпоха 195\n"
     ]
    },
    {
     "name": "stderr",
     "output_type": "stream",
     "text": [
      "123it [00:58,  2.10it/s]\n"
     ]
    },
    {
     "name": "stdout",
     "output_type": "stream",
     "text": [
      "Эпоха прошла за 58.5 секунд\n",
      "Средняя функция потерь для дискриминатора = 0.012815356050643784\n",
      "Средняя функция потерь для генератора = 15.782702787135674\n",
      "Today we are going to be able to escape the Empire. We can’t stop them from the Empire. They’ll have to help us.” Eragon shook his head. “I’m sor\n",
      "Следующая эпоха\n",
      "Эпоха 196\n"
     ]
    },
    {
     "name": "stderr",
     "output_type": "stream",
     "text": [
      "123it [00:58,  2.09it/s]"
     ]
    },
    {
     "name": "stdout",
     "output_type": "stream",
     "text": [
      "Эпоха прошла за 58.72 секунд\n",
      "Средняя функция потерь для дискриминатора = 0.01130251847027422\n",
      "Средняя функция потерь для генератора = 16.224908503090465\n"
     ]
    },
    {
     "name": "stderr",
     "output_type": "stream",
     "text": [
      "\n"
     ]
    },
    {
     "name": "stdout",
     "output_type": "stream",
     "text": [
      "Today we are going to Tronjheim. We can’t go anywhere elsewhere in the Beor Mountains, and we can’t go unnoticed by the Beor Mountains.\n",
      "Следующая эпоха\n",
      "Эпоха 197\n"
     ]
    },
    {
     "name": "stderr",
     "output_type": "stream",
     "text": [
      "123it [00:58,  2.11it/s]\n"
     ]
    },
    {
     "name": "stdout",
     "output_type": "stream",
     "text": [
      "Эпоха прошла за 58.42 секунд\n",
      "Средняя функция потерь для дискриминатора = 0.006518958559036407\n",
      "Средняя функция потерь для генератора = 16.166803468533647\n",
      "Today we are going in the mountains.” “I’m sure it’s not going to take care for the rest of the Empire,” said Brom. “Of course not, I can\n",
      "Следующая эпоха\n",
      "Эпоха 198\n"
     ]
    },
    {
     "name": "stderr",
     "output_type": "stream",
     "text": [
      "123it [00:58,  2.10it/s]\n"
     ]
    },
    {
     "name": "stdout",
     "output_type": "stream",
     "text": [
      "Эпоха прошла за 58.45 секунд\n",
      "Средняя функция потерь для дискриминатора = 0.010834045946984684\n",
      "Средняя функция потерь для генератора = 16.49937714212309\n",
      "Today we are going tomorrow. That is why we’re going to go within the Beor Mountains’Dragon Wing Palancar Valley. We can\n",
      "Следующая эпоха\n",
      "Эпоха 199\n"
     ]
    },
    {
     "name": "stderr",
     "output_type": "stream",
     "text": [
      "123it [00:58,  2.10it/s]\n"
     ]
    },
    {
     "name": "stdout",
     "output_type": "stream",
     "text": [
      "Эпоха прошла за 58.46 секунд\n",
      "Средняя функция потерь для дискриминатора = 0.013262907074569398\n",
      "Средняя функция потерь для генератора = 16.322714301628796\n",
      "Today we are going together.” He paused for a moment. “I’m glad you’re going to go.” He put a hand on the side of the room. “Ver\n",
      "Следующая эпоха\n",
      "Эпоха 200\n"
     ]
    },
    {
     "name": "stderr",
     "output_type": "stream",
     "text": [
      "123it [00:58,  2.11it/s]\n"
     ]
    },
    {
     "name": "stdout",
     "output_type": "stream",
     "text": [
      "Эпоха прошла за 58.38 секунд\n",
      "Средняя функция потерь для дискриминатора = 0.008282670719226433\n",
      "Средняя функция потерь для генератора = 16.763702051426336\n",
      "Today we are going to Tronjheim.” “And what do you think?” asked Eragon. “Once there are no reason for us to be able to determine the rest\n",
      "Следующая эпоха\n",
      "Эпоха 201\n"
     ]
    },
    {
     "name": "stderr",
     "output_type": "stream",
     "text": [
      "123it [00:58,  2.11it/s]\n"
     ]
    },
    {
     "name": "stdout",
     "output_type": "stream",
     "text": [
      "Эпоха прошла за 58.39 секунд\n",
      "Средняя функция потерь для дискриминатора = 0.01088027523726895\n",
      "Средняя функция потерь для генератора = 17.46528061812486\n",
      "Today we are going.” “Maybe,” said Eragon, “but we can get a few months tomorrow.” “Of course,” said Brom, “but we\n",
      "Следующая эпоха\n",
      "Эпоха 202\n"
     ]
    },
    {
     "name": "stderr",
     "output_type": "stream",
     "text": [
      "123it [00:58,  2.09it/s]\n"
     ]
    },
    {
     "name": "stdout",
     "output_type": "stream",
     "text": [
      "Эпоха прошла за 58.74 секунд\n",
      "Средняя функция потерь для дискриминатора = 0.007679083568720256\n",
      "Средняя функция потерь для генератора = 17.303236728761256\n",
      "Today we are going in the morning?” asked Eragon. “Yes,” said Brom, “but I can’t tell you what you want.” He gestured at the corner of his eyes.\n",
      "Следующая эпоха\n",
      "Эпоха 203\n"
     ]
    },
    {
     "name": "stderr",
     "output_type": "stream",
     "text": [
      "123it [00:58,  2.10it/s]\n"
     ]
    },
    {
     "name": "stdout",
     "output_type": "stream",
     "text": [
      "Эпоха прошла за 58.64 секунд\n",
      "Средняя функция потерь для дискриминатора = 0.0063276463219471765\n",
      "Средняя функция потерь для генератора = 17.29904249237805\n",
      "Today we are going to the Varden. We’ll have to be able to get out of the Empire.” “There’s a choice,” said Murtagh. “Of course.” Murtagh shook his\n",
      "Следующая эпоха\n",
      "Эпоха 204\n"
     ]
    },
    {
     "name": "stderr",
     "output_type": "stream",
     "text": [
      "123it [00:58,  2.11it/s]\n"
     ]
    },
    {
     "name": "stdout",
     "output_type": "stream",
     "text": [
      "Эпоха прошла за 58.39 секунд\n",
      "Средняя функция потерь для дискриминатора = 0.00683705706715563\n",
      "Средняя функция потерь для генератора = 18.340333535419248\n",
      "Today we are going in the Spine. We are not going to take care of ourselves, and we’ll be safe. We can’t go to the Beor Mountains, but we\n",
      "Следующая эпоха\n",
      "Эпоха 205\n"
     ]
    },
    {
     "name": "stderr",
     "output_type": "stream",
     "text": [
      "123it [00:58,  2.09it/s]\n"
     ]
    },
    {
     "name": "stdout",
     "output_type": "stream",
     "text": [
      "Эпоха прошла за 58.71 секунд\n",
      "Средняя функция потерь для дискриминатора = 0.008087110786419077\n",
      "Средняя функция потерь для генератора = 17.91183772513537\n",
      "Today we are going to go.” Eragon shook his head. “I’m glad you’re going to be able to see the Varden,” said Brom. “I’m not going to take off to\n",
      "Следующая эпоха\n",
      "Эпоха 206\n"
     ]
    },
    {
     "name": "stderr",
     "output_type": "stream",
     "text": [
      "123it [00:58,  2.10it/s]\n"
     ]
    },
    {
     "name": "stdout",
     "output_type": "stream",
     "text": [
      "Эпоха прошла за 58.47 секунд\n",
      "Средняя функция потерь для дискриминатора = 0.006147333099487866\n",
      "Средняя функция потерь для генератора = 17.817535648501018\n",
      "Today we are going to Teirm. We are not going to take carefully. We can’t stay here until we’re going tomorrow, and we’ll be saf\n",
      "Следующая эпоха\n",
      "Эпоха 207\n"
     ]
    },
    {
     "name": "stderr",
     "output_type": "stream",
     "text": [
      "123it [00:58,  2.10it/s]\n"
     ]
    },
    {
     "name": "stdout",
     "output_type": "stream",
     "text": [
      "Эпоха прошла за 58.71 секунд\n",
      "Средняя функция потерь для дискриминатора = 0.007237846749206263\n",
      "Средняя функция потерь для генератора = 17.532483093137664\n",
      "Today we are going together.” “Yes,” said Brom, “but I can’t be able to find the Ra’zac. They’re going to find the way to the Ra’zac. They’ll be\n",
      "Следующая эпоха\n",
      "Эпоха 208\n"
     ]
    },
    {
     "name": "stderr",
     "output_type": "stream",
     "text": [
      "123it [00:58,  2.10it/s]\n"
     ]
    },
    {
     "name": "stdout",
     "output_type": "stream",
     "text": [
      "Эпоха прошла за 58.68 секунд\n",
      "Средняя функция потерь для дискриминатора = 0.006325997802917751\n",
      "Средняя функция потерь для генератора = 18.22373111073564\n",
      "Today we are going to Tronjheim, and we will go to the Beor Mountains. We will go together again, and we will be able to escape the Empire.”\n",
      "Следующая эпоха\n",
      "Эпоха 209\n"
     ]
    },
    {
     "name": "stderr",
     "output_type": "stream",
     "text": [
      "123it [00:58,  2.10it/s]\n"
     ]
    },
    {
     "name": "stdout",
     "output_type": "stream",
     "text": [
      "Эпоха прошла за 58.69 секунд\n",
      "Средняя функция потерь для дискриминатора = 0.008820613681468156\n",
      "Средняя функция потерь для генератора = 17.804614974231256\n",
      "Today we are going together.” “And what is it?” “Of course,” said Brom, “but I can’t do that.” “Maybe,” said Brom, “b\n",
      "Следующая эпоха\n",
      "Эпоха 210\n"
     ]
    },
    {
     "name": "stderr",
     "output_type": "stream",
     "text": [
      "123it [00:58,  2.10it/s]\n"
     ]
    },
    {
     "name": "stdout",
     "output_type": "stream",
     "text": [
      "Эпоха прошла за 58.44 секунд\n",
      "Средняя функция потерь для дискриминатора = 0.006721470957321192\n",
      "Средняя функция потерь для генератора = 17.752561569213867\n",
      "Today we are going tomorrow.” “And what do you want to do?” asked Eragon. “Of course,” said Brom. “Yes, but I don’t want to know where we can get the\n",
      "Следующая эпоха\n",
      "Эпоха 211\n"
     ]
    },
    {
     "name": "stderr",
     "output_type": "stream",
     "text": [
      "123it [00:58,  2.09it/s]\n"
     ]
    },
    {
     "name": "stdout",
     "output_type": "stream",
     "text": [
      "Эпоха прошла за 58.73 секунд\n",
      "Средняя функция потерь для дискриминатора = 0.015318000371609549\n",
      "Средняя функция потерь для генератора = 17.33113329972678\n",
      "Today we are going in the Spine. We can’t go together with the Varden. We’ll be safe tomorrow, and we’ll be safer to the Varden. We\n",
      "Следующая эпоха\n",
      "Эпоха 212\n"
     ]
    },
    {
     "name": "stderr",
     "output_type": "stream",
     "text": [
      "123it [00:58,  2.10it/s]\n"
     ]
    },
    {
     "name": "stdout",
     "output_type": "stream",
     "text": [
      "Эпоха прошла за 58.44 секунд\n",
      "Средняя функция потерь для дискриминатора = 0.008489105470171052\n",
      "Средняя функция потерь для генератора = 15.86735557152973\n",
      "Today we are going to the Varden. We have to be able to get out of the Empire, but we’ll have to find them.” “Of course,” said Murtagh, “but we can\n",
      "Следующая эпоха\n",
      "Эпоха 213\n"
     ]
    },
    {
     "name": "stderr",
     "output_type": "stream",
     "text": [
      "123it [00:58,  2.10it/s]\n"
     ]
    },
    {
     "name": "stdout",
     "output_type": "stream",
     "text": [
      "Эпоха прошла за 58.51 секунд\n",
      "Средняя функция потерь для дискриминатора = 0.010267482552302592\n",
      "Средняя функция потерь для генератора = 16.533952092736715\n",
      "Today we are going together.” “Yes,” said Brom, “but we can’t find a few months.” “Of course,” said Eragon, “but we can’t\n",
      "Следующая эпоха\n",
      "Эпоха 214\n"
     ]
    },
    {
     "name": "stderr",
     "output_type": "stream",
     "text": [
      "123it [00:58,  2.09it/s]\n"
     ]
    },
    {
     "name": "stdout",
     "output_type": "stream",
     "text": [
      "Эпоха прошла за 58.73 секунд\n",
      "Средняя функция потерь для дискриминатора = 0.0038107327360874447\n",
      "Средняя функция потерь для генератора = 17.980919116880834\n",
      "Today we are going to Tronjheim.” “And what do you think you’re going to go?” asked Eragon. “Of course,” said Orik, “but we’ll be able\n",
      "Следующая эпоха\n",
      "Эпоха 215\n"
     ]
    },
    {
     "name": "stderr",
     "output_type": "stream",
     "text": [
      "123it [00:58,  2.11it/s]\n"
     ]
    },
    {
     "name": "stdout",
     "output_type": "stream",
     "text": [
      "Эпоха прошла за 58.33 секунд\n",
      "Средняя функция потерь для дискриминатора = 0.004358639982175243\n",
      "Средняя функция потерь для генератора = 19.109169580102936\n",
      "Today we are going to Tronjheim. We can’t be able to get a chance to escape the Empire.” “I’m not going to go,” said Brom. “O\n",
      "Следующая эпоха\n",
      "Эпоха 216\n"
     ]
    },
    {
     "name": "stderr",
     "output_type": "stream",
     "text": [
      "123it [00:58,  2.10it/s]\n"
     ]
    },
    {
     "name": "stdout",
     "output_type": "stream",
     "text": [
      "Эпоха прошла за 58.65 секунд\n",
      "Средняя функция потерь для дискриминатора = 0.0077158577384054995\n",
      "Средняя функция потерь для генератора = 20.20448797892749\n",
      "Today we are going to do.” “Yes, Master.” “Yes, Master,” said Oromis. “And what is yours?” “Enough. We are not a Rider?” “Yes.”\n",
      "Следующая эпоха\n",
      "Эпоха 217\n"
     ]
    },
    {
     "name": "stderr",
     "output_type": "stream",
     "text": [
      "123it [00:58,  2.11it/s]\n"
     ]
    },
    {
     "name": "stdout",
     "output_type": "stream",
     "text": [
      "Эпоха прошла за 58.35 секунд\n",
      "Средняя функция потерь для дискриминатора = 0.005879063894320918\n",
      "Средняя функция потерь для генератора = 19.975942611694336\n",
      "Today we are going on our centuries.” Eragon shook his head, and he reached out with his mind and tried to give him the story, but he knew that he had been\n",
      "Следующая эпоха\n",
      "Эпоха 218\n"
     ]
    },
    {
     "name": "stderr",
     "output_type": "stream",
     "text": [
      "123it [00:58,  2.09it/s]\n"
     ]
    },
    {
     "name": "stdout",
     "output_type": "stream",
     "text": [
      "Эпоха прошла за 58.81 секунд\n",
      "Средняя функция потерь для дискриминатора = 0.009130366115567721\n",
      "Средняя функция потерь для генератора = 18.885938690929876\n",
      "Today we are going to hide.” “Of course, we’ll have to go.” Roran nodded and gestured at Roran. “Perhaps,” said Roran. “R\n",
      "Следующая эпоха\n",
      "Эпоха 219\n"
     ]
    },
    {
     "name": "stderr",
     "output_type": "stream",
     "text": [
      "123it [00:58,  2.10it/s]\n"
     ]
    },
    {
     "name": "stdout",
     "output_type": "stream",
     "text": [
      "Эпоха прошла за 58.59 секунд\n",
      "Средняя функция потерь для дискриминатора = 0.009930202507755125\n",
      "Средняя функция потерь для генератора = 17.895689677416794\n",
      "Today we are going tomorrow.” “Of course,” said Eragon, “but we’re going to go to the Varden. We can’t stay here until we leave.” After\n",
      "Следующая эпоха\n",
      "Эпоха 220\n"
     ]
    },
    {
     "name": "stderr",
     "output_type": "stream",
     "text": [
      "123it [00:58,  2.09it/s]\n"
     ]
    },
    {
     "name": "stdout",
     "output_type": "stream",
     "text": [
      "Эпоха прошла за 58.74 секунд\n",
      "Средняя функция потерь для дискриминатора = 0.008643812052616887\n",
      "Средняя функция потерь для генератора = 18.530041888477356\n",
      "Today we are going to the Varden, and we will be able to escape the Empire.” “I’ll be safe for the rest of the Empire,” said Murtagh, “but we can get\n",
      "Следующая эпоха\n",
      "Эпоха 221\n"
     ]
    },
    {
     "name": "stderr",
     "output_type": "stream",
     "text": [
      "123it [00:58,  2.11it/s]\n"
     ]
    },
    {
     "name": "stdout",
     "output_type": "stream",
     "text": [
      "Эпоха прошла за 58.37 секунд\n",
      "Средняя функция потерь для дискриминатора = 0.010518446980468736\n",
      "Средняя функция потерь для генератора = 18.99285601794235\n",
      "Today we are going together, and we will be able to go nearby.” “Perhaps,” said Oromis. “Of course not. We can’t go to\n",
      "Следующая эпоха\n",
      "Эпоха 222\n"
     ]
    },
    {
     "name": "stderr",
     "output_type": "stream",
     "text": [
      "123it [00:58,  2.09it/s]\n"
     ]
    },
    {
     "name": "stdout",
     "output_type": "stream",
     "text": [
      "Эпоха прошла за 58.8 секунд\n",
      "Средняя функция потерь для дискриминатора = 0.005553062928767049\n",
      "Средняя функция потерь для генератора = 19.02542157677131\n",
      "Today we are going to the Varden, but we have no choice.” “Yes, Master.” “Perhaps,” said Nasuada, “but we can do with the Varden, and we\n",
      "Следующая эпоха\n",
      "Эпоха 223\n"
     ]
    },
    {
     "name": "stderr",
     "output_type": "stream",
     "text": [
      "123it [00:58,  2.11it/s]\n"
     ]
    },
    {
     "name": "stdout",
     "output_type": "stream",
     "text": [
      "Эпоха прошла за 58.38 секунд\n",
      "Средняя функция потерь для дискриминатора = 0.003687346056759134\n",
      "Средняя функция потерь для генератора = 19.142817629062062\n",
      "Today we are going to the city of Tronjheim’s center of Tronjheim.” “And what do you mean to do?” asked Eragon. “Of course,”\n",
      "Следующая эпоха\n",
      "Эпоха 224\n"
     ]
    },
    {
     "name": "stderr",
     "output_type": "stream",
     "text": [
      "123it [00:58,  2.11it/s]\n"
     ]
    },
    {
     "name": "stdout",
     "output_type": "stream",
     "text": [
      "Эпоха прошла за 58.32 секунд\n",
      "Средняя функция потерь для дискриминатора = 0.009274245411991918\n",
      "Средняя функция потерь для генератора = 19.689316447188215\n",
      "Today we are going together. We can’t go to the Varden, but we’ll be able to rescue the Empire.” “One of the Empire,” said Murtagh, “but we\n",
      "Следующая эпоха\n",
      "Эпоха 225\n"
     ]
    },
    {
     "name": "stderr",
     "output_type": "stream",
     "text": [
      "123it [00:58,  2.10it/s]\n"
     ]
    },
    {
     "name": "stdout",
     "output_type": "stream",
     "text": [
      "Эпоха прошла за 58.7 секунд\n",
      "Средняя функция потерь для дискриминатора = 0.006543450840174815\n",
      "Средняя функция потерь для генератора = 20.017547033666595\n",
      "Today we are going to hold ourselves. We can’t stop them from here. We can’t go to Teirm, and we’ll be able to get there before we can get the\n",
      "Следующая эпоха\n",
      "Эпоха 226\n"
     ]
    },
    {
     "name": "stderr",
     "output_type": "stream",
     "text": [
      "123it [00:58,  2.10it/s]\n"
     ]
    },
    {
     "name": "stdout",
     "output_type": "stream",
     "text": [
      "Эпоха прошла за 58.46 секунд\n",
      "Средняя функция потерь для дискриминатора = 0.005611348558383865\n",
      "Средняя функция потерь для генератора = 20.835123821971862\n",
      "Today we are going to the Beor Mountains.” Eragon shook his head. “I’m not going to take off to the city of Teirm, but I can’t tell you what\n",
      "Следующая эпоха\n",
      "Эпоха 227\n"
     ]
    },
    {
     "name": "stderr",
     "output_type": "stream",
     "text": [
      "123it [00:58,  2.11it/s]\n"
     ]
    },
    {
     "name": "stdout",
     "output_type": "stream",
     "text": [
      "Эпоха прошла за 58.43 секунд\n",
      "Средняя функция потерь для дискриминатора = 0.00871301187276632\n",
      "Средняя функция потерь для генератора = 19.760181566564047\n",
      "Today we are going together. We can’t be able to escape the Varden’s villagers.” “Perhaps it,” said Murtagh, “but we can’t\n",
      "Следующая эпоха\n",
      "Эпоха 228\n"
     ]
    },
    {
     "name": "stderr",
     "output_type": "stream",
     "text": [
      "123it [00:58,  2.11it/s]\n"
     ]
    },
    {
     "name": "stdout",
     "output_type": "stream",
     "text": [
      "Эпоха прошла за 58.4 секунд\n",
      "Средняя функция потерь для дискриминатора = 0.006118377804600234\n",
      "Средняя функция потерь для генератора = 18.98795617886675\n",
      "Today we are going to take cities.” Eragon shook his head. “Finally,” he said. “I’ll be able to get here for a long while, but I’m not going to take\n",
      "Следующая эпоха\n",
      "Эпоха 229\n"
     ]
    },
    {
     "name": "stderr",
     "output_type": "stream",
     "text": [
      "123it [00:58,  2.11it/s]\n"
     ]
    },
    {
     "name": "stdout",
     "output_type": "stream",
     "text": [
      "Эпоха прошла за 58.42 секунд\n",
      "Средняя функция потерь для дискриминатора = 0.0032178488981139154\n",
      "Средняя функция потерь для генератора = 19.849965180807967\n",
      "Today we are going in the mountains. The central chamber is the most important thing we can do within a few monsters.” “And what do you want?”\n",
      "Следующая эпоха\n",
      "Эпоха 230\n"
     ]
    },
    {
     "name": "stderr",
     "output_type": "stream",
     "text": [
      "123it [00:58,  2.10it/s]\n"
     ]
    },
    {
     "name": "stdout",
     "output_type": "stream",
     "text": [
      "Эпоха прошла за 58.7 секунд\n",
      "Средняя функция потерь для дискриминатора = 0.00965774755564869\n",
      "Средняя функция потерь для генератора = 19.75065074703558\n",
      "Today we are going?” “Yes, Master.” “Yes, Master.” The elf’s face darkened. “Every mark appeared in the base of the ancient lang\n",
      "Следующая эпоха\n",
      "Эпоха 231\n"
     ]
    },
    {
     "name": "stderr",
     "output_type": "stream",
     "text": [
      "123it [00:58,  2.11it/s]\n"
     ]
    },
    {
     "name": "stdout",
     "output_type": "stream",
     "text": [
      "Эпоха прошла за 58.38 секунд\n",
      "Средняя функция потерь для дискриминатора = 0.008423268852659125\n",
      "Средняя функция потерь для генератора = 18.664982136672105\n",
      "Today we are going tomorrow.” “Of course,” said Brom. “Yes.” He gestured at the corner of his eyes. “Do you know what I want to\n",
      "Следующая эпоха\n",
      "Эпоха 232\n"
     ]
    },
    {
     "name": "stderr",
     "output_type": "stream",
     "text": [
      "123it [00:57,  2.14it/s]\n"
     ]
    },
    {
     "name": "stdout",
     "output_type": "stream",
     "text": [
      "Эпоха прошла за 57.38 секунд\n",
      "Средняя функция потерь для дискриминатора = 0.008320439889099746\n",
      "Средняя функция потерь для генератора = 19.414888459492506\n",
      "Today we are going together, but we have no choice.” “Maybe I can imagine what you want. You can’t do within my father, but I have to\n",
      "Следующая эпоха\n",
      "Эпоха 233\n"
     ]
    },
    {
     "name": "stderr",
     "output_type": "stream",
     "text": [
      "123it [00:55,  2.20it/s]\n"
     ]
    },
    {
     "name": "stdout",
     "output_type": "stream",
     "text": [
      "Эпоха прошла за 55.87 секунд\n",
      "Средняя функция потерь для дискриминатора = 0.007481484962944358\n",
      "Средняя функция потерь для генератора = 20.040337244669598\n",
      "Today we are going tomorrow, but I can’t forgotten. It’s a good name.” Eragon shook his head. “I’m sorry, but I’m not going\n",
      "Следующая эпоха\n",
      "Эпоха 234\n"
     ]
    },
    {
     "name": "stderr",
     "output_type": "stream",
     "text": [
      "123it [00:55,  2.20it/s]\n"
     ]
    },
    {
     "name": "stdout",
     "output_type": "stream",
     "text": [
      "Эпоха прошла за 55.85 секунд\n",
      "Средняя функция потерь для дискриминатора = 0.014369639333344229\n",
      "Средняя функция потерь для генератора = 19.496151513200466\n",
      "Today we are going within Teirm.” “And what of the Varden?” asked Eragon. “Of course,” said Murtagh, “but I don’t want to be able to get out of\n",
      "Следующая эпоха\n",
      "Эпоха 235\n"
     ]
    },
    {
     "name": "stderr",
     "output_type": "stream",
     "text": [
      "123it [00:55,  2.20it/s]\n"
     ]
    },
    {
     "name": "stdout",
     "output_type": "stream",
     "text": [
      "Эпоха прошла за 55.83 секунд\n",
      "Средняя функция потерь для дискриминатора = 0.0148098629081251\n",
      "Средняя функция потерь для генератора = 17.57480239092819\n",
      "Today we are going to Teirm, but we can’t go.” “Of course,” said Brom. Eragon shook his head. “No, I don’t know. It’s a good ide\n",
      "Следующая эпоха\n",
      "Эпоха 236\n"
     ]
    },
    {
     "name": "stderr",
     "output_type": "stream",
     "text": [
      "123it [00:55,  2.20it/s]\n"
     ]
    },
    {
     "name": "stdout",
     "output_type": "stream",
     "text": [
      "Эпоха прошла за 55.82 секунд\n",
      "Средняя функция потерь для дискриминатора = 0.009658837012407238\n",
      "Средняя функция потерь для генератора = 16.8731660300154\n",
      "Today we are going together, and we’ll have to go.” “Of course,” said Eragon, “but we can’t go to the Varden.” The dwarf kept his gaze\n",
      "Следующая эпоха\n",
      "Эпоха 237\n"
     ]
    },
    {
     "name": "stderr",
     "output_type": "stream",
     "text": [
      "123it [00:55,  2.21it/s]\n"
     ]
    },
    {
     "name": "stdout",
     "output_type": "stream",
     "text": [
      "Эпоха прошла за 55.77 секунд\n",
      "Средняя функция потерь для дискриминатора = 0.005582090869403493\n",
      "Средняя функция потерь для генератора = 17.224777632612522\n",
      "Today we are going tomorrow.” “Yes,” said Brom, “but we can get the saddlebags together again. We’ve been able to find a\n",
      "Следующая эпоха\n",
      "Эпоха 238\n"
     ]
    },
    {
     "name": "stderr",
     "output_type": "stream",
     "text": [
      "123it [00:55,  2.20it/s]\n"
     ]
    },
    {
     "name": "stdout",
     "output_type": "stream",
     "text": [
      "Эпоха прошла за 55.81 секунд\n",
      "Средняя функция потерь для дискриминатора = 0.008134141317755646\n",
      "Средняя функция потерь для генератора = 17.688059217561552\n",
      "Today we are going to cross the Beor Mountains.” Eragon shook his head. “Maybe,” said Brom. “Of course, I have no choice but to\n",
      "Следующая эпоха\n",
      "Эпоха 239\n"
     ]
    },
    {
     "name": "stderr",
     "output_type": "stream",
     "text": [
      "123it [00:55,  2.20it/s]\n"
     ]
    },
    {
     "name": "stdout",
     "output_type": "stream",
     "text": [
      "Эпоха прошла за 55.87 секунд\n",
      "Средняя функция потерь для дискриминатора = 0.01370264696123467\n",
      "Средняя функция потерь для генератора = 17.087464728006502\n",
      "Today we are going to capture me. I can’t do this, but I don’t have anything to do. It’s a good idea, but I don’t think it’ll be able to help\n",
      "Следующая эпоха\n",
      "Эпоха 240\n"
     ]
    },
    {
     "name": "stderr",
     "output_type": "stream",
     "text": [
      "123it [00:55,  2.20it/s]\n"
     ]
    },
    {
     "name": "stdout",
     "output_type": "stream",
     "text": [
      "Эпоха прошла за 55.79 секунд\n",
      "Средняя функция потерь для дискриминатора = 0.016289532842453876\n",
      "Средняя функция потерь для генератора = 16.63494046529134\n",
      "Today we are going in the Spine, and we will be able to see the Varden.” “My Lady Nightstalker.” After a minute, Orik said, “For\n",
      "Следующая эпоха\n",
      "Эпоха 241\n"
     ]
    },
    {
     "name": "stderr",
     "output_type": "stream",
     "text": [
      "123it [00:55,  2.20it/s]\n"
     ]
    },
    {
     "name": "stdout",
     "output_type": "stream",
     "text": [
      "Эпоха прошла за 55.8 секунд\n",
      "Средняя функция потерь для дискриминатора = 0.008747621015972094\n",
      "Средняя функция потерь для генератора = 16.27274171317496\n",
      "Today we are going together, but we have to find a few months.” “Perhaps,” said Oromis. “Good. We can’t be able to get out of\n",
      "Следующая эпоха\n",
      "Эпоха 242\n"
     ]
    },
    {
     "name": "stderr",
     "output_type": "stream",
     "text": [
      "123it [00:55,  2.20it/s]\n"
     ]
    },
    {
     "name": "stdout",
     "output_type": "stream",
     "text": [
      "Эпоха прошла за 55.81 секунд\n",
      "Средняя функция потерь для дискриминатора = 0.015190735931200168\n",
      "Средняя функция потерь для генератора = 16.920584523580906\n",
      "Today we are going in the morning.” Eragon shook his head. “My Lady Nightstalker,” said Murtagh. “Of course, I won’t be able to\n",
      "Следующая эпоха\n",
      "Эпоха 243\n"
     ]
    },
    {
     "name": "stderr",
     "output_type": "stream",
     "text": [
      "123it [00:55,  2.20it/s]\n"
     ]
    },
    {
     "name": "stdout",
     "output_type": "stream",
     "text": [
      "Эпоха прошла за 55.8 секунд\n",
      "Средняя функция потерь для дискриминатора = 0.018961488564803484\n",
      "Средняя функция потерь для генератора = 15.095839740784188\n",
      "Today we are going to the Varden, but we’ll be able to see the Varden.” “My Lady Nightstalker.” After Jörmundur paused, Eragon\n",
      "Следующая эпоха\n",
      "Эпоха 244\n"
     ]
    },
    {
     "name": "stderr",
     "output_type": "stream",
     "text": [
      "123it [00:55,  2.21it/s]\n"
     ]
    },
    {
     "name": "stdout",
     "output_type": "stream",
     "text": [
      "Эпоха прошла за 55.76 секунд\n",
      "Средняя функция потерь для дискриминатора = 0.017927408917940493\n",
      "Средняя функция потерь для генератора = 15.24405718237404\n",
      "Today we are going tomorrow, but we’ll be able to find the Ra’zac.” Eragon shook his head. “I don’t know,” said Murtagh, “but we’ll be able to get a\n",
      "Следующая эпоха\n",
      "Эпоха 245\n"
     ]
    },
    {
     "name": "stderr",
     "output_type": "stream",
     "text": [
      "123it [00:56,  2.17it/s]\n"
     ]
    },
    {
     "name": "stdout",
     "output_type": "stream",
     "text": [
      "Эпоха прошла за 56.81 секунд\n",
      "Средняя функция потерь для дискриминатора = 0.01380929644498489\n",
      "Средняя функция потерь для генератора = 15.628811068651153\n",
      "Today we are going together. We have to be able to escape for the Empire. We’ll be able to escape the Empire, but we can’t be safe\n",
      "Следующая эпоха\n",
      "Эпоха 246\n"
     ]
    },
    {
     "name": "stderr",
     "output_type": "stream",
     "text": [
      "123it [00:58,  2.09it/s]\n"
     ]
    },
    {
     "name": "stdout",
     "output_type": "stream",
     "text": [
      "Эпоха прошла за 58.77 секунд\n",
      "Средняя функция потерь для дискриминатора = 0.009512479606792482\n",
      "Средняя функция потерь для генератора = 15.911462985403169\n",
      "Today we are going to Tronjheim. We aren’t going together for the rest of Alagaësia.” “And what of the Varden?” asked Eragon. “One\n",
      "Следующая эпоха\n",
      "Эпоха 247\n"
     ]
    },
    {
     "name": "stderr",
     "output_type": "stream",
     "text": [
      "123it [00:58,  2.09it/s]\n"
     ]
    },
    {
     "name": "stdout",
     "output_type": "stream",
     "text": [
      "Эпоха прошла за 58.98 секунд\n",
      "Средняя функция потерь для дискриминатора = 0.012531608151642481\n",
      "Средняя функция потерь для генератора = 15.974352100031163\n",
      "Today we are going to care for the Varden. We have to be able to escape the Empire, but I can’t be able to help us, but I can’t be able to\n",
      "Следующая эпоха\n",
      "Эпоха 248\n"
     ]
    },
    {
     "name": "stderr",
     "output_type": "stream",
     "text": [
      "123it [00:58,  2.10it/s]\n"
     ]
    },
    {
     "name": "stdout",
     "output_type": "stream",
     "text": [
      "Эпоха прошла за 58.7 секунд\n",
      "Средняя функция потерь для дискриминатора = 0.01360915393551539\n",
      "Средняя функция потерь для генератора = 16.21173573315628\n",
      "Today we are going?” asked Eragon. “Of course not, but we have no choice now.” “One of these days ago,” said Brom. “Of cour\n",
      "Следующая эпоха\n",
      "Эпоха 249\n"
     ]
    },
    {
     "name": "stderr",
     "output_type": "stream",
     "text": [
      "123it [00:57,  2.13it/s]\n"
     ]
    },
    {
     "name": "stdout",
     "output_type": "stream",
     "text": [
      "Эпоха прошла за 57.79 секунд\n",
      "Средняя функция потерь для дискриминатора = 0.01477905260413181\n",
      "Средняя функция потерь для генератора = 15.486586027998266\n",
      "Today we are going to go.” Eragon shook his head. “For now,” he said. “Farthen Dûr, I will be able to help you.” He put his hand on the\n",
      "Следующая эпоха\n",
      "Эпоха 250\n"
     ]
    },
    {
     "name": "stderr",
     "output_type": "stream",
     "text": [
      "19it [00:09,  1.94it/s]"
     ]
    },
    {
     "name": "stdout",
     "output_type": "stream",
     "text": [
      "Досрочно остановлено пользователем\n"
     ]
    },
    {
     "name": "stderr",
     "output_type": "stream",
     "text": [
      "\n"
     ]
    }
   ],
   "source": [
    "batch_size = 64\n",
    "\n",
    "model_D, model_G, optimizer_D, optimizer_G, loss_history_D, loss_history_G = train_loop_GAN(\n",
    "    D_model,\n",
    "    G_model,\n",
    "    all_dataset,\n",
    "    lm_b_cross_entropy,\n",
    "    lr_D=1e-2,\n",
    "    lr_G=1e-2,\n",
    "    epoch_n=1000,\n",
    "    batch_size=batch_size,\n",
    "    device='cuda',\n",
    "    # early_optimizer_SD_D=optimizer_SD_D,\n",
    "    early_optimizer_SD_G=optimizer_SD_G,\n",
    "    tokenizer=tokenizer,\n",
    "    need_to_gen=True,\n",
    "    end_chunk=end_length,\n",
    "    pharse=\"Today we are going\"\n",
    ")"
   ]
  },
  {
   "cell_type": "code",
   "execution_count": 14,
   "metadata": {},
   "outputs": [],
   "source": [
    "# Сохранение всех моделей\n",
    "torch.save(model_D.state_dict(), './models/GAN/Eragon/model_D.pth')\n",
    "torch.save(model_G.state_dict(), './models/GAN/Eragon/model_G.pth')\n",
    "torch.save(optimizer_D.state_dict(), './models/GAN/Eragon/optimizer_D.pth')\n",
    "torch.save(optimizer_G.state_dict(), './models/GAN/Eragon/optimizer_G.pth')\n",
    "\n",
    "# И их loss-функций\n",
    "loss_history_D = [str(line) for line in loss_history_D]\n",
    "save_texts_to_file(loss_history_D, \"./models/GAN/Eragon/loss_D.txt\")\n",
    "\n",
    "loss_history_G = [str(line) for line in loss_history_G]\n",
    "save_texts_to_file(loss_history_G, \"./models/GAN/Eragon/loss_G.txt\")"
   ]
  },
  {
   "attachments": {},
   "cell_type": "markdown",
   "metadata": {},
   "source": [
    "### Генерация текста"
   ]
  },
  {
   "cell_type": "code",
   "execution_count": 9,
   "metadata": {},
   "outputs": [
    {
     "data": {
      "text/plain": [
       "<All keys matched successfully>"
      ]
     },
     "execution_count": 9,
     "metadata": {},
     "output_type": "execute_result"
    }
   ],
   "source": [
    "# Загрузка дискриминатора\n",
    "optimizer_SD_D = torch.load('./models/GAN/Eragon/optimizer_D.pth')\n",
    "D_model.load_state_dict(torch.load('./models/GAN/Eragon/model_D.pth'))"
   ]
  },
  {
   "cell_type": "code",
   "execution_count": 15,
   "metadata": {},
   "outputs": [
    {
     "data": {
      "text/plain": [
       "<All keys matched successfully>"
      ]
     },
     "execution_count": 15,
     "metadata": {},
     "output_type": "execute_result"
    }
   ],
   "source": [
    "# Загрузка генератора\n",
    "optimizer_SD_G = torch.load('./models/GAN/Eragon/optimizer_G.pth')\n",
    "G_model.load_state_dict(torch.load('./models/GAN/Eragon/model_G.pth'))"
   ]
  },
  {
   "cell_type": "code",
   "execution_count": 16,
   "metadata": {},
   "outputs": [],
   "source": [
    "beam_generator = BeamGenerator(G_model, tokenizer)"
   ]
  },
  {
   "cell_type": "code",
   "execution_count": 17,
   "metadata": {},
   "outputs": [],
   "source": [
    "def gen_some_sent(phrase, N, beam_size, need_reweight=False, temperature=0, alpha=0):\n",
    "    answers = []\n",
    "    for i in range(N):\n",
    "        beam_gen_variants = beam_generator(phrase, beamsize=beam_size, return_hypotheses_n=1, need_reweight=need_reweight, temperature=temperature, alpha=alpha)\n",
    "        for score, pred_txt in beam_gen_variants:\n",
    "            answers.append(pred_txt)\n",
    "    return answers"
   ]
  },
  {
   "cell_type": "code",
   "execution_count": 18,
   "metadata": {},
   "outputs": [
    {
     "name": "stdout",
     "output_type": "stream",
     "text": [
      "In the East Leona Lake King Orrin and Narí and Lake King Orrin. Knurluhrrgrimst Ingeitum, and\n",
      "In the Easta River. The Twins were collection of the city-mountain, and the center of Teirm’s Nighthawks\n",
      "In the East River Hadarac Desert. Eragon had also known exactly how he was. He was aware of the ancient languag\n",
      "In the East Lake Kóstha-mérna — The Gûntera — Az Sweldn rak Anhûin — Feldûn rak\n",
      "In the East Lethrblaka and Nolfavrell, and the villagers were already extended to the city of Du Welden\n"
     ]
    }
   ],
   "source": [
    "answers = []\n",
    "for i in range(5):\n",
    "    beam_gen_variants = beam_generator('In the East', beamsize=5, return_hypotheses_n=1)\n",
    "    for score, pred_txt in beam_gen_variants:\n",
    "        answers.append(pred_txt)\n",
    "\n",
    "for ans in answers:\n",
    "    print(ans)"
   ]
  },
  {
   "cell_type": "code",
   "execution_count": 20,
   "metadata": {},
   "outputs": [
    {
     "name": "stdout",
     "output_type": "stream",
     "text": [
      "In the Easte of Tronjheim, the Twins of Dras-Leona Lake Knopher Paolini Internatural\n",
      "In the East of Tronjheim’s central chamber and the Twins of Tronjheim’s Ninor River. The Twins were\n",
      "In the Easte of the Crags of Tel’naeír, the Twins of Tel’naeír, and To Lira Ikon\n",
      "In the East Lethrblaka and Nolfavrell. The dwarf kept his hands and said, “Gûntera.” The dwarf clasped his hand\n",
      "In the East of Tel’naeír, the Council of Elders. This was the Twins of Tel’naeír, and the\n"
     ]
    }
   ],
   "source": [
    "answers = []\n",
    "for i in range(5):\n",
    "    beam_gen_variants = beam_generator('In the East', beamsize=5, return_hypotheses_n=1, temperature=0.3, alpha=0.1, need_reweight=True)\n",
    "    for score, pred_txt in beam_gen_variants:\n",
    "        answers.append(pred_txt)\n",
    "\n",
    "for ans in answers:\n",
    "    print(ans)"
   ]
  },
  {
   "cell_type": "code",
   "execution_count": 19,
   "metadata": {},
   "outputs": [
    {
     "name": "stdout",
     "output_type": "stream",
     "text": [
      "The Sun is going on theRed Boar’s Wing Plains and the Council of Elders. Even with the Crags of Tel’naeír\n",
      "The Sun is going in the middle of the Spine and the Council of Tel’naeír Gata Blödhren and Feldûnost\n",
      "The Sun is going to me, and I don’t know. . Why doesn’t you tell me about this?” “Of course,” said Brom. “If I don’t know how I can do,\n",
      "The Sun is going to take care of the first time, but I have to wait until we’re going to find out of Teirm.” “Of course,” said Brom, “y\n",
      "The Sun is going: Who are you? Do you think of the Varden?” “Yes, Master?” “Yes, Ma’am.” “Aye, Ma’am.” “And what\n"
     ]
    }
   ],
   "source": [
    "answers = []\n",
    "for i in range(5):\n",
    "    beam_gen_variants = beam_generator('The Sun is going', beamsize=5, return_hypotheses_n=1, temperature=0.3, alpha=0.1, need_reweight=True)\n",
    "    for score, pred_txt in beam_gen_variants:\n",
    "        answers.append(pred_txt)\n",
    "\n",
    "for ans in answers:\n",
    "    print(ans)"
   ]
  },
  {
   "cell_type": "code",
   "execution_count": 22,
   "metadata": {},
   "outputs": [
    {
     "name": "stdout",
     "output_type": "stream",
     "text": [
      "Температура = 0, альфа = 0\n",
      "The battlefield was an extraordinary tunnel, and a musical acridually apologize. At last he said, “Perhap\n",
      "The battlefield was Morzan’s son. He was afraid that he was aware of the ancient language. At last he was aware of the\n",
      "The battlefield was already exhausted in the ancient language. At last he said, “My Lady Nightstalka Blödhren\n",
      "The battlefield was captured by the monsters of Alagaësia when he reached the center of the center of Tronjheim’s cent\n",
      "The battlefield was an uniquexed in the ancient language. At last he said, “Enough, I am a Rider, Shadeslayer.” The\n",
      "-----\n",
      "Температура = 0, альфа = 0.1\n",
      "The battlefield was free of the Varden’s predecessor. After a long minute, Eragon said, “My Lady Nightstalkva.” Ajihad paus\n",
      "The battlefield was aware of the ancient language. After a minute, the captain said, “My Lady Nightstalker,” said Oromis, “\n",
      "The battlefield was already exhausted, but it was impossible to be done, but he had no choice to relinquish the ancient langu\n",
      "The battlefield was an unconscious, but it was aware that he was aware of what he had accomplished. It was impossible to tell, but he was\n",
      "The battlefield was participating in the ancient language. “Enter,” said Brom. “Of course not, but it’s a good name.\n",
      "-----\n",
      "Температура = 0, альфа = 0.3\n",
      "The battlefield was empty to the dragonhold. The dragon was aware of the ancient language, but it was aware of its nature. At\n",
      "The battlefield was already extraordinary in the ancient language. After a long, he said, “My Lady Nightstalker.” He\n",
      "The battlefield was easy to be able to escape the Varden. To his surroundings, Eragon said, “I’m going to the Varden,” said Murtagh, “but we\n",
      "The battlefield was in the Spine and the Shade who had been here. He was afraid that he was afraid of history, but he had no choice\n",
      "The battlefield was aware of the ancient language, but he was aware of the ancient language. At last he said, “Thank you,” said\n",
      "-----\n",
      "Температура = 0, альфа = 0.5\n",
      "The battlefield was empty to the center of Alagaësia. No one could have gained in the ancient language, but it was only a\n",
      "The battlefield was the only thing to do. The bald man looked at him with intelligent eyes. “For a long while ago,” said Brom, “but I can’t\n",
      "The battlefield was capable of Alagaësia. Neither of them moved in the center of Teirm’s Narda and Nolfavrell,\n",
      "The battlefield was almost aware of the ancient language. At last he said, “Master,” said Oromis. “Arya, I understand.” “Enough,\n",
      "The battlefield was awarent, but he was able to reflect his predecessions. He was afraid that he was aware of the ants\n",
      "-----\n",
      "Температура = 0.2, альфа = 0\n",
      "The battlefield was already extready difficulty in the ancient language. After a minute, Eragon said, “This is the most important thing\n",
      "The battlefield was evident. He was aware that he was afraid that he was aware of history. He was aware that he was aware of\n",
      "The battlefield was evidence. At last he said, “Of course, Skönowfire!” The dwarf grunted at the base of his chest\n",
      "The battlefield was large enough for a moment, but he was afraid that it would be impossible to escape available, but he was afraid\n",
      "The battlefield was empty to avoid the ancient language. After a minute, he said, “My Lady Nightstalker.” He p\n",
      "-----\n",
      "Температура = 0.2, альфа = 0.1\n",
      "The battlefield was empty to the dwarves. The dwarves had already gone in the center of Dras-Leona, where they were in the middle of the\n",
      "The battlefield was emptyed within the city of Tronjheim’s central chamber of Du Weldenvarden. Weldenvarden, and\n",
      "The battlefield was awarent. The bald man looked at him with interest. “As you wish. .?” “Yes, Ma’am.” “Yes, M\n",
      "The battlefield was uncertainly aware of the ancient language. At last he said, “I’m sure it’s a bit more than a few years ag\n",
      "The battlefield was already extended from a pile of body. He was afraid that he was aware of history, but he was still aware of\n",
      "-----\n",
      "Температура = 0.2, альфа = 0.3\n",
      "The battlefield was unreasonable, but he was aware of the ancient language, he was aware that he was aware that he was aware of\n",
      "The battlefield was dangerous, but he was afraid that he was aware of history. He was aware that he was afraid that he was able\n",
      "The battlefield was Morzan, who was a Rider, and the only one who had helped themselves in the ancient language. He was afraid that the Rid\n",
      "The battlefield was large enough to escape the city of Tronjheim. Even if the Twins were attacked by the center of Tronj\n",
      "The battlefield was inhabitants of the ancient language, but he was aware of the ancient language, and he was aware of the\n",
      "-----\n",
      "Температура = 0.2, альфа = 0.5\n",
      "The battlefield was already exhausted with the ancient language. At last he said, “I’m sure that you weren’t afraid that you’ve\n",
      "The battlefield was an unique. Showfire’s house, he was aware of history. He was afraid, but he was afraid that\n",
      "The battlefield was Morzan, who was a Rider and history of the Forsworn. He was afraid that he was a Rider. He was afraid that\n",
      "The battlefield was captured by the center of Tronjheim’s Ninor River and Nolfavrell and Nolfavrell. The Tw\n",
      "The battlefield was dressed in the ancient language, but he was still aware of the ancient language. “Our friendship is\n",
      "-----\n",
      "Температура = 0.5, альфа = 0\n",
      "The battlefield was already existingly awareness of the ancient language. At last Eragon realized that he was aware that he had been\n",
      "The battlefield was easier for the same time, but he was aware that he was aware of the ancient language, he was afraid that he\n",
      "The battlefield was the only one who had helped them in the city of Teirm and Lifaen and Narí Blödhren, and the Council of\n",
      "The battlefield was evident, but he was aware that it was not the only one in the ancient language. “Yes, Master,” said Oromis, “but\n",
      "The battlefield was aware of the ancient language, but he was aware of the ancient language, as if it had been aware of his own\n",
      "-----\n",
      "Температура = 0.5, альфа = 0.1\n",
      "The battlefield was the first time he was aware of the ancient language in the ancient language. At last he said, “This is a friend\n",
      "The battlefield was gone, but he was aware of history. He was afraid that he was aware of history, he was aware of how he had\n",
      "The battlefield was already extraordinary in the ancient language. At that moment, he said, “Enough, I am afraid of my\n",
      "The battlefield was empty to the Varden. The dwarves were already gone with the dwarves and the dwarves. They were almost in the center of Tronjheim.\n",
      "The battlefield was Morzan, but he had no chosen him. He was aware of nothing else. He was afraid that he was aware of the ancient l\n",
      "-----\n",
      "Температура = 0.5, альфа = 0.3\n",
      "The battlefield was in the middle of the Farthen Dûr. At last the Twins stood in the center of Tronjheim’s tunnel. The\n",
      "The battlefield was easier for the good of the Riders. He was aware of what the Riders were doing to be. He was afraid that he was aware of\n",
      "The battlefield was drawn. At last he said, “Of course,” he said. He put a hand on his shoulder. “My Lady,” he said. “Good\n",
      "The battlefield was evil?” “Of course,” said Brom. “Yes.” He put a hand on his hand. “My Lady Nightstalker.” “\n",
      "The battlefield was exhausted with the elves. The dwarves had also saw themselves in the center of Tronjheim’s center of Tronjheim\n",
      "-----\n",
      "Температура = 0.5, альфа = 0.5\n",
      "The battlefield was unpleased by the ancient language in the ancient language. At last he said, “I understand, Shadeslayer, Shad\n",
      "The battlefield was aware that he was aware of his own father. He was afraid that he was aware of history, but he was aware of the\n",
      "The battlefield was easier than the other side of Alagaësia.” “And what of the elves?” asked Eragon. “Of course,” said Eragon, “but we can\n",
      "The battlefield was easier for a second later, but it was a personal person. At last he said, “My Lady Nightstalker.”\n",
      "The battlefield was already extended to the city of Tel’naeír, where the center of Tronjheim’s Ninor River.\n",
      "-----\n",
      "Температура = 0.8, альфа = 0\n",
      "The battlefield was dressed in the center of Tronjheim. Above the center of Tronjheim’s center of Tronjheim’s c\n",
      "The battlefield was Morzan, but he was aware that he was aware of the ancient language. He was aware that he was aware of the\n",
      "The battlefield was captured by the city of Tronjheim’s central chamber. In the middle of the center of Tronjheim,\n",
      "The battlefield was empty to the tunnel. At last he said, “My Lady Nightstalker.” At last he said, “For now, I have\n",
      "The battlefield was an extraordinary tale. The bald man looked at him with interest. “Good,” said Eragon, “but we have to be a\n",
      "-----\n",
      "Температура = 0.8, альфа = 0.1\n",
      "The battlefield was already different. It was a large, but the bald man who had taken Carsaibilize that he was aware\n",
      "The battlefield was empty, but he knew that he was aware of the ancient language that he was aware of the ancient language. At\n",
      "The battlefield was aware that he was aware of history, but he was unable to relinquish his predecessor. He was afraid that he\n",
      "The battlefield was drawing upon the Burning Plains with the Crags of Tel’naeír and the Twins of Tel’naeí\n",
      "The battlefield was evident. At last he finished, he said, “May I am a Rider, Shadeslayer, Shadeslayer, Shadeslayer.\n",
      "-----\n",
      "Температура = 0.8, альфа = 0.3\n",
      "The battlefield was captured by the middle of Alagaësia Farthen Dûr. The Twins’ eyes narrowed in the center of\n",
      "The battlefield was Morzan, but he was aware of the only one of the ancient language. He was afraid that he was aware of the an\n",
      "The battlefield was captured by a single group of men. The dwarves had already seen in the Spine and the Beor Mountains of Palanc\n",
      "The battlefield was careful, but he knew that he was aware of the ancient language. He was afraid that he was aware of history,\n",
      "The battlefield was capable of Alagaësia.” “Arya. .?” “Yes,” said Eragon, “but it’s a good name. You’ve never seen any\n",
      "-----\n",
      "Температура = 0.8, альфа = 0.5\n",
      "The battlefield was composed to the Varden, and the dwarves had already gathered in the center of Tronjheim’s center of Tronjheim. The\n",
      "The battlefield was empty, but no matter what he was doing. At last he was aware of history, he said, “May I have a choice. It is\n",
      "The battlefield was painful, but he was afraid that he was afraid that he was aware that he had been afraid of history of the Rider\n",
      "The battlefield was proud of the Ra’zac. They were always tied to the edge of the Burning Plains. After a minute, Eragon said, “I’m going to\n",
      "The battlefield was easier than anyone else. Nothing else would have to do with the same amount of powerful possession. After a few minutes, he\n",
      "-----\n"
     ]
    }
   ],
   "source": [
    "temperatures = [0.01, 0.2, 0.5, 0.8]\n",
    "alphas = [0, 0.1, 0.3, 0.5]\n",
    "\n",
    "all_test = itertools.product(temperatures, alphas)\n",
    "\n",
    "for t, a in all_test:\n",
    "    print(f\"Температура = {t}, альфа = {a}\")\n",
    "    answers = gen_some_sent(\"The battlefield was\", 5, 10, True, t, a)\n",
    "    for ans in answers:\n",
    "        print(ans)\n",
    "    print(\"-----\")"
   ]
  },
  {
   "cell_type": "code",
   "execution_count": 23,
   "metadata": {},
   "outputs": [
    {
     "name": "stdout",
     "output_type": "stream",
     "text": [
      "Температура = 0.01, альфа = 0\n",
      "The Sun is anger than I expected. . Why doesn’t he tell me? Why didn’t you tell me about this? Why didn’t he tell me about this? Why\n",
      "The Sun is called by the Beor Mountains, and the Shade Dras-Leona, In the end of Tronjheim, the Twins’ m\n",
      "The Sun is afire-bellow, but it isn’t necessary. . ” The dwarf paused, then said with a gentle voice. “Enough, I\n",
      "The Sun is done. You have no more than a few minutes.” “And what do you say?” asked Eragon. “Of course,” said Eragon, “but perhaps it\n",
      "The Sun is in the Spine?” “One of the Council of Elders Lake, and Nolfavrell, and Narí and Lifaen\n",
      "-----\n",
      "Температура = 0.01, альфа = 0.1\n",
      "The Sun is called by Dras-Leona and Now Fric Dras-Leona, Dras-Leona and Urû’b\n",
      "The Sun is a mountain range of the Spine and the Beor Mountains’ Burning Plains, the Shade Dras-Leona, Dras-\n",
      "The Sun is captured at the end of Alagaësia.” “And what is it?” asked Eragon. “Of course,” said Murtagh, “but we have to\n",
      "The Sun is called the Shade Du Weldenvarden and the Crags of Tel’naeír. That is why the Twins’\n",
      "The Sun isolated.” “And that’s what you’re doing here?” asked Eragon. “Of course.” “Of course,” said Brom. “Of course,\n",
      "-----\n",
      "Температура = 0.01, альфа = 0.3\n",
      "The Sun is the last village, nor do you think that?” “Yes, Ma’am.” “Aye, Stronghammer,” he said, and added, “And what of the\n",
      "The Sun is, but I can’t be able to use it.” “My Lady Nightstalker.” “And what do you think?” asked Eragon, startled. “On\n",
      "The Sun is dûrgrimst Ingeitum.” “Arya.” “My Lady Nightstalker?” “Good. .” He paused. “This is\n",
      "The Sun is the first time I have told you what I want.” “Master,” said Brom. “Yes, but I have no choice.” “Of course,” said Brom.\n",
      "The Sun islayer. We have to be able to escape form the rest of the day.” “Only,” said Brom, “but perhaps we can get\n",
      "-----\n",
      "Температура = 0.01, альфа = 0.5\n",
      "The Sun is fortunate, but I have no choice now. I have no choice. . Who are you? Who are you? Well? Who\n",
      "The Sun is information.” “And what do you want to do?” asked Eragon. “Of course,” said Eragon, “but we’re going to go to the Varden, and\n",
      "The Sun isline.” The Shade glanced at Eragon with interesting speed. “Goodbye,” he said with a quick smile. “I’m gl\n",
      "The Sun is the last Rider, and the elves are humans, and the elves, and the dwarves are humans, and humans. . and elves are humans, and dwarves, and humans,\n",
      "The Sun is afraid.” “And what do you think of?” asked Eragon. “Of course,” said Brom. “I’m not sure, but I’m not sure that it’s\n",
      "-----\n",
      "Температура = 0.2, альфа = 0\n",
      "The Sun is, and I have no choice, but I have no choice.” “Of course,” said Brom, “they would have been afraid of the\n",
      "The Sun is capable of Du Weldenvarden — the Twins of Du Weldenvarden and the Cripple Who Is Who Is W\n",
      "The Sun is animals.” “And what is it?” asked Eragon. “Of course,” said Brom. “Of course. . I don’t know how you feel like this.”\n",
      "The Sun is influence.” “And what is it?” asked Roran. “I’m sorry,” said Birgit. “I’m not sure it’s too busy\n",
      "The Sun is Eldar River. The Beor Mountains of Tarnag’s Wyrdfell, the Shade Dragon Wing Palancar Vall\n",
      "-----\n",
      "Температура = 0.2, альфа = 0.1\n",
      "The Sun is completely.” “And I understand,” said Oromis, “why do you know this?” “Yes, Master?” “Yes, Master.” “Of cour\n",
      "The Sun issued by the Burning Plains of Teirm and Nolfavrell and Lifaen and Nolfavrell, and Narí\n",
      "The Sun is my father, and I shall be able to resist the Varden, but I shall be able to rescue the Empire.” “My Lady Nightstalker\n",
      "The Sun is the Spine, and the Council of Elders and Eldest Christopher Paolini Agaetí Blödh\n",
      "The Sun is no more than a few minutes.” “Thank you, Lady Nightstalker and Nía,” he said, “but I will be able to help you.”\n",
      "-----\n",
      "Температура = 0.2, альфа = 0.3\n",
      "The Sun is called the Burning Plains and Alagaësia to the Spine, whereupon Lord Däthedr-vodhr\n",
      "The Sun is more important than a few months.” “Of course,” said Eragon, “but I would be able to get a better view of the Varden\n",
      "The Sun is followed by the Beor Mountains. It is a large man, but it’s a piece of months ago. I have no choice to\n",
      "The Sun is called by Du Weldenvarden.” “And what is your name, Shadeslayer?” “Of course,” said Eragon, “that I\n",
      "The Sun is the first few days ago,” said Brom. “Thank you forgive.” Eragon gestured at the hollow. “I’m glad you’re going to\n",
      "-----\n",
      "Температура = 0.2, альфа = 0.5\n",
      "The Sun is influenced by the Spine, and the Council of Tel’naeír, the Blood-oath Celebrat\n",
      "The Sun is in the ancient language, Eragon-vodhr.” He paused. “Master,” he said, grimaced. “For a long minute\n",
      "The Sun is the Shade Durza and the Twins and the Council of Elders Lifaen and Nolfavrell, and Narí\n",
      "The Sun is the last Rider. I have to be able to escape the task with the elves. . Why does it come from?” “Of course,\n",
      "The Sun is in the Spine.” The Shade’s eyes glanced at Eragon again. “I’m not going to be here,” he said. “Of course, I\n",
      "-----\n",
      "Температура = 0.5, альфа = 0\n",
      "The Sun is a similar, and I have no choice.” “And what do you mean?” asked Eragon. “Forgotten,” said Brom. “Of cour\n",
      "The Sun is custom, and I am alone. Will you be able to help me?” “Of course,” said Eragon. “Of course not, but it’s\n",
      "The Sun is Ma’ranr, but I am a Rider. Why do you tell me this?” “Of course not, Shadeslayer.” “Of cour\n",
      "The Sun is animals.” “And what do you think of this?” asked Eragon. “Only a few days ago,” said Brom. “Only a few months\n",
      "The Sun issue, but I am a Rider.” Eragon nodded and said, “My Lady Nightstalker, Shadeslayer, Shadeslayer.” He\n",
      "-----\n",
      "Температура = 0.5, альфа = 0.1\n",
      "The Sun is the first few monsters.” “And that’s a good idea,” said Brom. “I’m glad that you should be able to rescue yourself,” said\n",
      "The Sun is called the Burning Plains and the Council of Elders Ellesméra and Nolfavrell and Nolfavrell\n",
      "The Sun is captured at Gil’ead, and I was afraid that I was afraid of my family.” “And what of you?” asked Eragon,\n",
      "The Sun is Ellesméra.” “Aye, Shadeslayer.” Eragon shook his head. “First, Shadeslayer,” said Angela,\n",
      "The Sun is afraid Ikan, and I am a Rider. Who are you?” “Yes, Master.” He shook his head. “Of course. .\n",
      "-----\n",
      "Температура = 0.5, альфа = 0.3\n",
      "The Sun is Ellesméra.” “Aye,” said Orik. “My Lady Nightstalker.” He paused. “My Lady Nightstal\n",
      "The Sun is complete, but I have no choice.” “Of course,” said Brom. “Of course I was afraid of my family\n",
      "The Sun is called the Blood-oath Celebration of Alagaësia!” The bald man looked at him with intelligent eyes.\n",
      "The Sun is animals.” “And what you do?” asked Eragon, shaking his head. “For a long while ago,” said Brom. “Only a few days ago\n",
      "The Sun is a saddle, but I shall wait for a few minutes. . I have a choice, and I’m not afraid.” “Of course,” said\n",
      "-----\n",
      "Температура = 0.5, альфа = 0.5\n",
      "The Sun issue, and the elves. . and dwarves, and elves, and humans. . and elves are humans, elves, and humans, and elves are humans, and human\n",
      "The Sun is captive. I don’t know,said Saphira and I will be able to get a better view of Tronjheim’s central cham\n",
      "The Sun islayer.” The dwarf grumbled, “Argetlam! How doesn’t you tell me what I am. . I am. We’ve never seen.\n",
      "The Sun islayer.” The elf’s eyes glanced between his teeth. “My Lady Nightstalker isolated.” “And what do you think of this\n",
      "The Sun islanation.” “And what about it?” asked Eragon. “For a long while ago,” said Brom. “Of course I was afraid that you would have\n",
      "-----\n",
      "Температура = 0.8, альфа = 0\n",
      "The Sun is fortunate, but it is impossible to tell you what I want.” “Of course you are,” said Brom. “If I don’t know,” said Brom.\n",
      "The Sun is Morzan, but I have no choice.” “Of course, Shruikan,” said Eragon, “but we aren’t going to the Varden\n",
      "The Sun islayer.” The elf’s eyes glinted. “Of course,” he said. “They’re not going to go,” said Angela, “but we\n",
      "The Sun is in the midst of Alagaësia.” He paused. “Look what you’re going to go?” “Of course,” said Brom.\n",
      "The Sun is shock.” “And what is it?” asked Eragon. “Of course not. It’s a name,” said Brom. “Everything you’re going to go\n",
      "-----\n",
      "Температура = 0.8, альфа = 0.1\n",
      "The Sun is capable of Du Weldenvarden.” The dwarf smiled. “Of course. . I have no interested in the ancient lang\n",
      "The Sun issuge, but it’s not my family.” “I’m sorry,” said Eragon with a smile. “I’m sorry,” said Brom, “b\n",
      "The Sun is called the Burning Plains. . Why does this? Where are the Spine? Where are you going? Who are you? Why\n",
      "The Sun is Elva, and I have no choice.” “And what do you have?” “Yes,” said Horst. “Thank you,” said Horst, “b\n",
      "The Sun is called the Rimgar Mithrimstborithna Blood-oath Celebration in the Beor Mountain Mountains, the T\n",
      "-----\n",
      "Температура = 0.8, альфа = 0.3\n",
      "The Sun is monster.” “And what does it?” asked Eragon. “Of course,” said Brom, “but I’m sure it’s possible to tell you what you\n",
      "The Sun islayer.” Eragon shook his head. “I’m glad that you aren’t going to see you,” said Brom. “I’m sorry,” he said, “but\n",
      "The Sun is a monthsive.” “And what do you think about this?” asked Eragon. “Of course not. It’s a natural choice,” said Brom\n",
      "The Sun is called by the Beor Mountains and Gûntera Lake Kóstha-mé-méral qirânûda —\n",
      "The Sun is Mithrim, and For the first time I have been able to escape her.” “My Lady Nightstalker,” said Islanzad\n",
      "-----\n",
      "Температура = 0.8, альфа = 0.5\n",
      "The Sun is since the Twins.” Eragon shook his head. “I’ve been here,” he said. “I’m sure we’re not going to be able to find a\n",
      "The Sun is ancient language, but it isn’t possible to tell you what you want. It is a difficult proper rituation, but you have to be\n",
      "The Sun is Du Weldenvarden, and the elves’ responsibility of Du Vrangr Gata. They are aware of the Riders and the\n",
      "The Sun islayer. The Twins were already extraordinary in the middle of the Beor Mountains and the Spine’s Eye.\n",
      "The Sun is captured by the city of Dras-Leona and Neona, Dras-Leona, the Council of Elders who\n",
      "-----\n"
     ]
    }
   ],
   "source": [
    "temperatures = [0.01, 0.2, 0.5, 0.8]\n",
    "alphas = [0, 0.1, 0.3, 0.5]\n",
    "\n",
    "all_test = itertools.product(temperatures, alphas)\n",
    "\n",
    "for t, a in all_test:\n",
    "    print(f\"Температура = {t}, альфа = {a}\")\n",
    "    answers = gen_some_sent(\"The Sun is\", 5, 10, True, t, a)\n",
    "    for ans in answers:\n",
    "        print(ans)\n",
    "    print(\"-----\")"
   ]
  }
 ],
 "metadata": {
  "kernelspec": {
   "display_name": "Python 3",
   "language": "python",
   "name": "python3"
  },
  "language_info": {
   "codemirror_mode": {
    "name": "ipython",
    "version": 3
   },
   "file_extension": ".py",
   "mimetype": "text/x-python",
   "name": "python",
   "nbconvert_exporter": "python",
   "pygments_lexer": "ipython3",
   "version": "3.10.5"
  },
  "orig_nbformat": 4
 },
 "nbformat": 4,
 "nbformat_minor": 2
}
