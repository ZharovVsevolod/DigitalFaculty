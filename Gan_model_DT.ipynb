{
 "cells": [
  {
   "cell_type": "code",
   "execution_count": 1,
   "metadata": {},
   "outputs": [],
   "source": [
    "%load_ext autoreload\n",
    "%autoreload 2\n",
    "\n",
    "import warnings\n",
    "warnings.filterwarnings('ignore')\n",
    "\n",
    "import matplotlib.pyplot as plt\n",
    "%matplotlib inline\n",
    "\n",
    "import itertools\n",
    "\n",
    "import torch\n",
    "from torch import nn\n",
    "\n",
    "import youtokentome as yttm\n",
    "\n",
    "from utils.base import get_params_number, init_random_seed, train_loop_GAN\n",
    "from utils.poetry import *\n",
    "from utils.transformer_tools import *\n",
    "\n",
    "init_random_seed(1702)"
   ]
  },
  {
   "cell_type": "code",
   "execution_count": 2,
   "metadata": {},
   "outputs": [
    {
     "name": "stdout",
     "output_type": "stream",
     "text": [
      "22507\n",
      "15004\n",
      "7503\n"
     ]
    }
   ],
   "source": [
    "horus = load_chunks(\"./datasets/DarkTower/DT14_red.txt\", chunk_size=300)\n",
    "\n",
    "ALL_LEN = len(horus)\n",
    "print(ALL_LEN)\n",
    "len_for_steps = int(ALL_LEN / 3)\n",
    "horus_for_GAN = horus[len_for_steps * 2:]\n",
    "horus = horus[:len_for_steps * 2]\n",
    "print(len(horus))\n",
    "print(len(horus_for_GAN))"
   ]
  },
  {
   "cell_type": "code",
   "execution_count": 3,
   "metadata": {},
   "outputs": [
    {
     "name": "stdout",
     "output_type": "stream",
     "text": [
      "7403\n",
      "100\n"
     ]
    }
   ],
   "source": [
    "for_mauve_test = horus_for_GAN[len(horus_for_GAN)-100:]\n",
    "horus_for_GAN = horus_for_GAN[:len(horus_for_GAN)-100]\n",
    "\n",
    "print(len(horus_for_GAN))\n",
    "print(len(for_mauve_test))"
   ]
  },
  {
   "cell_type": "code",
   "execution_count": 4,
   "metadata": {},
   "outputs": [
    {
     "name": "stdout",
     "output_type": "stream",
     "text": [
      "<PAD> <UNK> <BOS> <EOS> ▁ e t a o n h i s d r l u w g c m f y . b , p k v T I E H “ ’ ” A S - \" R O ? ' N W B D J Y M C L x z ! j G F … ; U P q : K ) ( V ­ — 1 – 2 3 4 9 5 7 0 Q 6 8 X Z / ‘ $ * » ^ \\ # + « ~ _ ] [ & ▁t he ▁a in ▁s ▁the ▁w ▁o ▁h nd ed ▁b er ou ing re ▁f it ▁c at is ▁d ▁l ▁m as en ▁th ▁and ▁to ▁of ▁he ll an ▁g ar ad es on or ▁p ▁in ▁n ▁T ▁was id ow ▁be om ut ▁it gh ld ▁y ot ▁on le ke ▁e ▁“ ac ▁his ▁I im ly ▁st ▁H us and ic ▁r ▁had ▁you oo un ▁The ght ie et ay ▁that ▁wh ve dd al ▁S ver ▁sa os ▁as ▁E ir ol ▁re ▁He ith ▁A ould ▁at ’s ain ight ▁with ▁R ur ent ked ddie ▁Eddie el ▁him e. her ▁k ake am ▁sh ▁for ▁B ▁u ▁J ▁li ▁but e, ▁an ter all ack ▁\" ▁said ▁ha ▁se ▁her oland ▁not ▁Roland ling s. pp ill ch ▁fr st ▁loo ▁do if ion s, ▁gun ▁W ▁Jake ard .” ▁kn ▁M ome ore ▁up ’t ▁like ▁she ust il ed. ▁whe ere ▁O ▁C ound ▁al th ▁out ell ▁guns ▁j ▁tr ant ▁from ind ▁all ro ▁one ck ▁were linger ▁this ▁they ▁gunslinger um em ▁been ▁them ▁would ▁have ▁ne ▁bl ▁le ▁ag to ap ?” hed ▁D ▁su ood 's own ▁did ce ,” ough ▁is ▁v ast ▁no ▁go ▁back ▁de king ag ▁could ▁so ong ▁bo ▁sp ▁or ▁hand ▁It hing se ▁gr ▁cl ▁wor ▁ar ess ought ▁there ▁ch ▁we ▁ab ▁me ▁man hat ted ich ▁what ▁N out ▁if ▁into ▁G ▁looked ▁again way qu ah ▁cr ▁fe 't ▁br ▁“I ide ep ▁tim ▁which op ▁Y ed, ▁thought ▁ey y, one ▁said. ▁over ▁pl ick ort ig ▁then ost ul ven n’t est ann ct ▁F ▁Sus nder art ▁sm ▁know ab ▁dr itt ▁your ▁some ▁un ull ose ▁now ▁down ▁when ▁fac ▁ex y. urn ▁tw ink aw ▁eyes ist ▁who ther ▁sl ▁by ▁fl annah ers ▁And ge ▁She ▁only ▁Susannah our ▁right ▁sc ▁just oic very ▁ro ▁my sel ▁con omet are ous ▁voic ▁L ly. ▁thr ward ▁str ally ear ▁other ▁com ak ▁about ▁head ame ▁P .\" ▁way pped ▁more other ▁thing ittle ry ft ▁long ▁too ▁see aus ▁qu ▁saw !” ▁their ive ▁want self ▁don ▁still n't ber ▁time ▁little ▁beg oss led ▁“W ach ▁door es, ▁its ation ▁somet ▁co ark ▁mo uck ett ew pt ▁turn res ▁through ing, ▁“T fore ▁“Y es. ath er. ▁are ▁boy ▁than ▁any ▁think ile ing. ied lain ang ass ved au ▁fir ▁around ream ▁us ▁under ▁old ▁it. ip ▁where ▁en ▁bec ▁can ade ▁They ▁before ▁might ▁even elt ▁wat ▁world ire iz ▁it, ff ▁rem az er, ▁asked ble ree ▁off ite ▁seem ▁two ?\" wn ine ▁gl ause ▁po ▁look ▁af ▁bet ched ▁lo ▁how ▁Blain reat ▁sound ▁But ▁got ild ▁something ▁His ▁TH ▁( ▁left ▁said, ▁voice ▁sw ▁away ▁first ER air ▁\"I ly, ▁ke ue ▁mu ate ▁here ▁There ▁mom av ▁pr ▁felt ▁get ▁moment ook ▁going ave ond ,\" ure ▁ac most hen ▁You ▁came ▁made ▁him. ▁come oth ▁began pen ▁plac ▁say ’ll ▁gu ▁Th ▁face ather ▁ste ▁knew ▁light ▁black ▁wom ▁own od imp ▁after ▁pe ▁bel ▁almost ▁day ▁mind here ▁went ▁Blaine ▁last pe ▁per ▁fo ▁dis ▁seemed ▁good ▁end ▁pro ▁“A be oun -t ud ▁open ▁him, ies ity ▁feel idd ▁never OU ock ▁Hen ▁ho ▁call een anc pl ▁That ▁sk ▁looking ▁On etta ▁didn’t ▁cle ▁because ▁woman ▁wr ▁much alk IN ▁again. orn ug les ▁don’t ▁dark ▁every ying ▁turned ▁may me ▁arm ▁happ ▁des -s ▁himself ▁che ret ump ▁THE ▁will rew ▁real ▁toward ▁enough ember ▁very ▁… ▁Then ▁put ▁fin irt ▁Henry ving ▁should ▁tell ▁star ▁hands ▁Ch ▁spe ▁car ▁dead ri ower ▁those ious ady dden ▁clos ▁wind ress ▁another ▁bu ross atter umb ng ▁nothing ND ▁wa less -b ful able ▁In ung per int ▁am ▁well head hap ▁sn igh ▁need ▁heard ▁has ▁If iss ▁sure outh ▁Be aking ▁I’ ish ▁run ▁pull ▁side ▁app ’re ▁“You ▁\"Y ▁sudden ▁remember ▁both ▁em ▁part hind ▁seen ▁“S ▁K ▁let ▁“H ▁happen ▁sur ▁three ▁“N fe ▁lau ▁word ▁ins ▁father ▁kill ▁underst ▁place ▁took ▁make ither ▁year ▁clear ▁once ▁feet iver ▁pass ▁far ek ▁cour ▁asked. ▁scream ▁What ▁stood ▁mean ail e.” ated ▁te alf ▁ear owed oke ▁must ▁fing ▁aw ove ▁told ▁sil ween age thing ▁again, ▁behind uth .“ ople leep ▁supp ▁these ▁take ▁between ▁across ered ▁cont ▁hear ket ▁nodd ▁ever ▁dro ▁\"W ▁bre ▁night ▁hard ▁When ign inn uff ▁mouth ON ool ▁1 ▁This ple ▁fire LE ▁fell sw ment AT ▁pus onder ▁deep ▁– ▁el ▁St ▁wal ching ▁same cked ▁really ▁didn't ness ▁. ▁De ached ▁cur ▁half ▁small ▁sec ▁YOU ▁things ub ank ix ▁don't ever ▁held ▁gone ways act ▁Now ▁people unk ▁gon ice ▁Oy ance OR ▁sho ▁slow ▁wall ▁stand up ▁called tain ▁them. ged ▁fall ▁I' ized ▁most ty ▁belie ▁draw ction ird ▁hu red ene ho ▁“What til get ▁Jake’s ▁ed ▁answ ons ▁tre ▁dream ▁care ▁found ▁wonder ▁white ▁each asher ▁better ’d ▁bit ▁bod ▁always ▁squ -w haps ▁big ten co hy ise ▁quest ▁along ▁“B ▁least ily though iff ▁ter amp ange ▁“It !\" iv ▁OF so gr ▁Gasher ▁sen ▁ridd pr ▁thin ▁\"T reet ▁against -T ▁bar ont ▁imp ▁fore ▁sun ▁close ▁sat ▁them, ▁res ting ence ▁hold ▁great ▁thought. ans aid ▁No ▁Roland’s ▁blue ows ▁does ▁suddenly ▁understand ci ▁it’s ▁I’m -f ▁find LL aught azar ▁hor t, ▁Detta owing -c ▁while ▁until ES ▁child ▁Mort alazar ▁pulled EN ▁either ▁“The ob ord le. ▁bad ▁Balazar ▁shad ▁red ised oud ▁As ▁fuck ▁without ▁air ren ible ▁blood ▁For AN ▁“O ves ▁such ▁pain ING ▁wheel enc hes ▁heart ror te ▁question arl ▁im ▁bro ▁high ase apped reen ), ▁min eneath ▁We ▁guy ▁hair ike med ▁Tick ▁now, ▁ser ▁room ▁flo ▁reached ▁God cept ▁yell ▁All ably ▁sto ▁you, ▁pur 're ▁U ating ▁walked ▁sleep ▁above ▁up, ▁also aken ▁\"You ▁forward ▁inter ▁lay ▁point ▁hur ▁second ▁ra ▁wait sed detta ib ▁Cort ▁Not ▁leg app ▁being ash ▁keep ▁Man ▁four ▁ide ▁war ▁new ▁stor ▁act -Tock ▁chair ually ▁dist ▁rest sh unt ▁water mer ▁rel ne ▁matter ▁foll icked nes ▁ad bed ▁wanted ▁wasn’t ▁few iend ▁young imes ▁perhaps ▁maybe ▁mother ▁many ▁beneath ny ning ▁“D ee ▁kid ▁yet ▁Tick-Tock -h cted ▁tou ipped ▁Odetta ines ▁ent ▁hel ▁Jack ED ster ▁me, ▁land ▁cut ▁that, ▁although ▁build ▁play ▁hop -” ▁At ▁thought, ▁inst ▁So atch ▁die ▁front ▁suppos on’t le, ger ▁TO ief ▁mon ▁alre ork ▁inside full etting ace ▁friend ▁idea se, ▁street ▁stop ape ▁Eddie, ▁moved iling ▁back. ▁simp ▁ret ▁years ▁corn ▁our ▁shr IT ▁smile ▁V ▁scar ▁time, utter ▁read AR aring ▁wood ped ▁men ▁surpr ▁roll ▁lat ings -m ▁fur ▁up. ▁her. ▁green ▁Tower ▁sid ▁comp but irc ▁lif ▁steel ▁minut illed ▁“G ▁swe on. ▁dec ▁Br ipp ▁remain ▁start ical ▁exp ▁One -the ▁cent ▁sin ▁rock ▁smell AS ned ▁nodded. ened t. ▁there, ane ▁book ▁tried ▁all. ▁done ▁lot -a bably oub ▁near ▁bright ▁lip ▁eas ▁Her ▁fingers yond -d ▁cross ▁full where ▁sing a, str ▁bus ▁ran ▁now. ▁city ▁used ▁top ▁short se. ▁smil ead vol oh ▁tal ▁past ▁circ ▁coming gether ▁wrong io ▁coun ▁shoot ▁ahead ▁shook ▁step ▁“C ▁floor ▁I’ll ▁It’s ery -p ▁shirt ▁eyes. ▁body ▁give s.” ▁fear ID ▁sign ▁life on, ▁hand. ▁deser ▁thro ▁“L ▁“Yes ler cc ▁feeling ▁thinking the ▁dropped ▁hour ▁, ken ▁nam ▁speak ▁train ▁bear ect ▁already ▁pre ▁love ▁able ▁met ▁time. ▁mar ▁trying ▁sand ▁low ▁“No ohn xt ▁box ▁face. ▁together ▁whis ▁words ▁spr ▁\"A -and ▁pushed ▁pret ▁guess RE ▁ob ▁head. arlie ▁standing ▁bur ▁I'm ▁kind ished ▁Dean ▁Do ▁pant ▁voice. h, ▁set ▁shot ers. ▁hum ▁supposed zz aybe ▁gave ▁key read ▁eat ▁\"N ▁hell cl ▁why ▁caught orm ▁course ined ▁diff ▁sort ict ▁answer ▁stuff ▁watched ▁itself ▁Mr row ▁' ▁gi ▁since IS cket uthber ▁brother ▁Sh ▁probably ▁on, ▁believe ▁rose ▁Susan ▁right, -l anced ▁bull ▁AND ison ▁New ▁cold ▁quick ▁soft ▁IN ▁else ▁revol ▁jo ▁closed ▁neck ▁out. alm ▁realized ▁sounded ▁death ▁wasn't ▁was, ▁Cuthber aster ▁Charlie ▁heav ▁lost ▁back, ell, ▁John ghed ▁Eddie. irl ▁taken ▁glass ▁someone ▁pie ▁ple ▁lar OW ▁ten ▁slowly ▁dang ashed enty ▁move ▁name ▁road ▁“M ▁shadow ▁started ▁opened ▁How ▁cheek ▁arms ▁below eared ax ▁paus ott ▁truth ▁talk ▁repl ▁quite ini aint ary ▁happened ▁har ▁mad ▁\"S ▁conf ▁sometimes ▁expe ▁creat kay ▁scr ▁help ▁next ▁strange ▁teet ▁laugh ▁“We 'll ced vel ndred ▁passed ▁Some itting ▁doing ▁that. ▁onc ▁shit ▁BE ▁getting ▁spoke ▁Eddie's ▁ago ition ▁upon ▁laughed got ▁right. isten cause ▁ask ▁can’t ▁beach ▁hot ▁eye ▁Se old ▁me. ▁finally ▁ye ied. ▁att ▁inc ountain ▁brought ▁empt ▁“That ▁five olor ▁ele ▁kne ▁whisper ▁foot ▁struck ▁meant ▁track ▁2 OM AD ▁ap ian ▁exact ▁mach ▁her, e,” aded OT ▁longer AND urned ▁dire ▁work ▁gray ▁gold ▁\"H ▁hundred aving ▁anything ife ▁acc ▁conc IC ers, ▁raised ▁six ▁sky ▁strong ▁that’s lew ▁skin AL ▁hung ation. ▁dem ▁shell ▁tight ▁“It’s ▁remembered ▁Andol UT at, ▁York ▁yellow ▁“He VE -r ▁here, ▁ass aked vers ’ve ▁it? ▁Andolini ▁mov ▁Roland, -th chair ▁sick ards how OL ugg ▁doub ory chool ▁it?” ▁mil ▁holding ▁mag ▁pap ▁dust ▁ref ▁ind ▁par ▁brief ▁walk ▁kept ▁spl ▁stopped ▁comple ▁there. ▁Tow ression ▁poss ▁ain akes ale ▁window ▁miss ▁sam ▁grab alter ins ▁cons ▁Cuthbert ▁differ ▁int ▁beyond raid ▁An ▁rust acked ident ising ried ▁teeth ▁you. ▁actually ▁bes ▁moment, iness eas ▁Jake, mb ▁drew ▁others ▁onto ▁3 ▁become ▁Mart ▁down, ▁filled ▁door. ousand inted ▁bag ▁er ▁on. ▁everything ▁away. no ▁butt orge room ▁To ▁whole ric ▁legs ▁watch ▁watching ▁moving ▁morn ▁less ▁fast ▁wheelchair ony ▁Re aut ▁all, at. ▁wer ▁thousand ▁mem ▁girl ▁running ▁silent ▁chest ▁anyway ▁tear ▁sub ement ▁\"O ▁Or ide, TER att -but ▁dirt ▁chang ▁herself ▁Ge ▁WH ▁del ▁Eddie’s ging ift ▁hurt ▁dam ▁broken ial ▁sense ’m ▁away, ▁town ular ▁afraid en, ▁glanced ▁craw ▁couldn’t ▁thick ▁though ▁gh ided ide. ▁appro ▁making ouse ering agged ator illy ▁gras ▁bell ▁ON na ▁single ▁edge ity. ▁ground ions SE ▁Roland. ▁inv 'd ▁gone. ▁too. ier ▁Al ▁huge upid ▁breath ▁stepped ▁hang ▁mur aged ▁face, ▁expression ▁somehow ual ▁faint vered KE ▁talking ▁touched cient side ▁craz ▁path ▁hand, ▁Old ▁Just ▁live -ch ▁down. ▁stra ared ▁occ ▁begun ▁best ▁gunslinger’s inning tern ion. ▁fact ▁smiled ▁third ▁mind. ▁days orld isted -W owd ▁ev -g in. ▁ancient ies, ▁out, ▁shape ▁followed ▁you're ressed ▁eyes, ▁stone ▁IS ▁station ▁forgot ▁ang ▁contin ▁final ▁backward ▁pers ▁head, ▁ir ▁cat OO man amb bb ▁cloud ouble ize ▁Somet ▁known ▁doorway ▁center ▁rep ▁gro ▁stupid tered ush arm ▁ka ▁sitting ▁Su ▁bullet ▁pretty ▁simply oof ▁“F ▁Bl not ness. eah ▁break ▁understood ▁threw fter ▁lean ▁IT ia nt aced ▁except ▁soon ▁lips ▁rolled one. ▁straight ▁was. day ▁ones ▁school ters uc ▁Mr. ▁es ▁wearing ▁you’re ▁needed ▁line ▁Dark ▁stick ▁bent ▁“R ▁this, ▁revolver ▁exactly ▁building ▁imag ▁nd his ▁did, ued ▁reas ▁know. iet ▁bott ▁piece ▁pocket ▁cre ▁\"What umped under ▁Q oy ▁large inal ▁believed ▁“And ▁free ▁wouldn’t ▁brid ▁stay ▁di ET in, ru ▁color ▁listen ▁instead ▁pu ient ▁forehead ▁week ▁river ▁Lud ▁“There ▁strang ▁rain ▁reg ▁world, ▁smo ▁cor ▁beside ▁mountain ▁Maybe fully ▁ros ▁try rible ▁claw ▁pack ime ▁dry ▁picked ▁Great ▁it's ▁ball tr ▁boot ch. ▁appeared umbler ones ▁nodded ▁screamed ity, ▁blind ▁\"D ▁ou ertain ▁Fr ▁George ey ult ▁desert ▁aware ▁killed ▁long, ▁cop ▁tem ▁ST ▁tin s,” arp ▁flat ▁cry umm\n"
     ]
    }
   ],
   "source": [
    "BPE_MODEL_FILENAME = './models/tokens/dt_bpe_2000.yttm'\n",
    "\n",
    "tokenizer = yttm.BPE(BPE_MODEL_FILENAME)\n",
    "print(' '.join(tokenizer.vocab()))"
   ]
  },
  {
   "cell_type": "code",
   "execution_count": 5,
   "metadata": {},
   "outputs": [
    {
     "data": {
      "image/png": "[encoded data removed]",
      "text/plain": [
       "<Figure size 640x480 with 1 Axes>"
      ]
     },
     "metadata": {},
     "output_type": "display_data"
    }
   ],
   "source": [
    "token_ids = tokenizer.encode(horus_for_GAN, bos=True, eos=True)\n",
    "\n",
    "plt.hist([len(sent) for sent in token_ids], bins=30)\n",
    "plt.title('Распределение длин фрагментов в токенах')\n",
    "plt.yscale('log')"
   ]
  },
  {
   "cell_type": "code",
   "execution_count": 6,
   "metadata": {},
   "outputs": [],
   "source": [
    "start_length = 20\n",
    "end_length = 70\n",
    "\n",
    "all_dataset = Dataset_for_GAN(token_ids, start_len=start_length, end_len=end_length)"
   ]
  },
  {
   "cell_type": "code",
   "execution_count": 7,
   "metadata": {},
   "outputs": [
    {
     "name": "stdout",
     "output_type": "stream",
     "text": [
      "[ 152   25  426  188  171  371  668  163 1101  251  530 1101  366  127\n",
      "  233  406 1468 1238  136 1224]\n",
      "[ 112  105  450  110   13 1330  198  253    8  137 1421 1089  105 1010\n",
      "  538  137 1268  638  785  384  104  287 1127  489 1324 1779  127  324\n",
      "  513  210  326  561  147  110  140  105  683  125  114  311 1303  155\n",
      "    6  576  162  129  105 1585  258  102  355  124  327  373  132  177\n",
      "   23  668  484 1786  188  797  188  507  370  170  843  776  539  143]\n",
      "['y, just as you said. Only wait.” They waited, and not twenty minutes lat']\n",
      "['er the Peddler’s Moon rose above the horizon-a perfect summer moon, huge and orange. It loomed in the darkening violet swim of the sky like a crashing planet. On its face, as clear as anyone had ever seen it, was']\n"
     ]
    }
   ],
   "source": [
    "check = all_dataset[2036]\n",
    "\n",
    "print(check[0])\n",
    "print(check[1])\n",
    "print(tokenizer.decode(check[0].tolist()))\n",
    "print(tokenizer.decode(check[1].tolist()))"
   ]
  },
  {
   "cell_type": "code",
   "execution_count": 8,
   "metadata": {},
   "outputs": [
    {
     "name": "stdout",
     "output_type": "stream",
     "text": [
      "Количество параметров дискриминатора 655301\n",
      "Количество параметров генератора 12563920\n"
     ]
    }
   ],
   "source": [
    "D_model = LSTM_Discriminator(100, 256, tokenizer.vocab_size())\n",
    "print('Количество параметров дискриминатора', get_params_number(D_model))\n",
    "\n",
    "G_model = Language_Model(\n",
    "    vocab_size = tokenizer.vocab_size(),\n",
    "    embedding_size = 512,\n",
    "    backbone = Transformer_Encoder(\n",
    "        nn.TransformerEncoderLayer(\n",
    "            d_model = 512,\n",
    "            nhead = 16,\n",
    "            dim_feedforward = 1024,\n",
    "            dropout = 0.3\n",
    "        ),\n",
    "        num_layers=5\n",
    "    ),\n",
    "    emb_dropout = 0.2\n",
    ")\n",
    "print('Количество параметров генератора', get_params_number(G_model))"
   ]
  },
  {
   "cell_type": "code",
   "execution_count": 9,
   "metadata": {},
   "outputs": [
    {
     "data": {
      "text/plain": [
       "<All keys matched successfully>"
      ]
     },
     "execution_count": 9,
     "metadata": {},
     "output_type": "execute_result"
    }
   ],
   "source": [
    "optimizer_SD_G = torch.load('./models/Lord/DT/1/Lord_opt.pth')\n",
    "G_model.load_state_dict(torch.load('./models/Lord/DT/1/Lord.pth'))"
   ]
  },
  {
   "cell_type": "code",
   "execution_count": 11,
   "metadata": {},
   "outputs": [
    {
     "name": "stdout",
     "output_type": "stream",
     "text": [
      "Эпоха 0\n"
     ]
    },
    {
     "name": "stderr",
     "output_type": "stream",
     "text": [
      "116it [02:11,  1.13s/it]\n"
     ]
    },
    {
     "name": "stdout",
     "output_type": "stream",
     "text": [
      "Эпоха прошла за 131.63 секунд\n",
      "Средняя функция потерь для дискриминатора = 0.5576611174077823\n",
      "Средняя функция потерь для генератора = 2.9146295600923997\n",
      "Today we are going on,” Blaine said. “THISTEN MNE ANTING T QUICKY TO HOWN GUNDLIES RIDDLES AND YOU K\n",
      "Следующая эпоха\n",
      "Эпоха 1\n"
     ]
    },
    {
     "name": "stderr",
     "output_type": "stream",
     "text": [
      "116it [02:12,  1.14s/it]\n"
     ]
    },
    {
     "name": "stdout",
     "output_type": "stream",
     "text": [
      "Эпоха прошла за 132.07 секунд\n",
      "Средняя функция потерь для дискриминатора = 0.3595854953445237\n",
      "Средняя функция потерь для генератора = 3.8548585382001153\n",
      "Today we are going?” Susannah asked. “Theymos. It’s in the aftermath of the river and it’s still tatter,” the Final Essay said. “THAT IS NOT RIG\n",
      "Следующая эпоха\n",
      "Эпоха 2\n"
     ]
    },
    {
     "name": "stderr",
     "output_type": "stream",
     "text": [
      "116it [02:11,  1.14s/it]\n"
     ]
    },
    {
     "name": "stdout",
     "output_type": "stream",
     "text": [
      "Эпоха прошла за 131.86 секунд\n",
      "Средняя функция потерь для дискриминатора = 0.273517402081654\n",
      "Средняя функция потерь для генератора = 4.527357397408321\n",
      "Today we are going much long since you had killed?” Susannah asked in the dry straps of harness, and Engineer Bob in the word Parker. “Thank you. TWOIN\n",
      "Следующая эпоха\n",
      "Эпоха 3\n"
     ]
    },
    {
     "name": "stderr",
     "output_type": "stream",
     "text": [
      "116it [02:11,  1.13s/it]\n"
     ]
    },
    {
     "name": "stdout",
     "output_type": "stream",
     "text": [
      "Эпоха прошла за 131.31 секунд\n",
      "Средняя функция потерь для дискриминатора = 0.21610567827933821\n",
      "Средняя функция потерь для генератора = 5.269818010001347\n",
      "Today we are going?” “YOU I SAIDD YOU WITH YOU INTERESTY ME ANOTHER.” There is a pause, and no one of those museum\n",
      "Следующая эпоха\n",
      "Эпоха 4\n"
     ]
    },
    {
     "name": "stderr",
     "output_type": "stream",
     "text": [
      "116it [02:11,  1.13s/it]\n"
     ]
    },
    {
     "name": "stdout",
     "output_type": "stream",
     "text": [
      "Эпоха прошла за 131.57 секунд\n",
      "Средняя функция потерь для дискриминатора = 0.17978157135176248\n",
      "Средняя функция потерь для генератора = 5.792122890209329\n",
      "Today we are going in a bottle of Katz Dra Delevan's Dr. \"What you calling him?\" \"Good my brother asked. \"Only shit!\" \" 'Cim\n",
      "Следующая эпоха\n",
      "Эпоха 5\n"
     ]
    },
    {
     "name": "stderr",
     "output_type": "stream",
     "text": [
      "116it [02:11,  1.13s/it]\n"
     ]
    },
    {
     "name": "stdout",
     "output_type": "stream",
     "text": [
      "Эпоха прошла за 131.09 секунд\n",
      "Средняя функция потерь для дискриминатора = 0.19053234079660014\n",
      "Средняя функция потерь для генератора = 5.8707191944122314\n",
      "Today we are going?” She laughed at him. “COME ONE YOURO MANNING. ROLAND OF GILEAD, BUT THE QUMEST NEW FR\n",
      "Следующая эпоха\n",
      "Эпоха 6\n"
     ]
    },
    {
     "name": "stderr",
     "output_type": "stream",
     "text": [
      "116it [02:11,  1.13s/it]\n"
     ]
    },
    {
     "name": "stdout",
     "output_type": "stream",
     "text": [
      "Эпоха прошла за 131.17 секунд\n",
      "Средняя функция потерь для дискриминатора = 0.17337904854452815\n",
      "Средняя функция потерь для генератора = 6.214724789405691\n",
      "Today we are going to Ringtin from the Path of the Turtle, and by the Beam. Beam-hour tend on your goose alone, Mr. Bissette\n",
      "Следующая эпоха\n",
      "Эпоха 7\n"
     ]
    },
    {
     "name": "stderr",
     "output_type": "stream",
     "text": [
      "116it [02:11,  1.13s/it]\n"
     ]
    },
    {
     "name": "stdout",
     "output_type": "stream",
     "text": [
      "Эпоха прошла за 131.26 секунд\n",
      "Средняя функция потерь для дискриминатора = 0.15916851776298777\n",
      "Средняя функция потерь для генератора = 6.18911952396919\n",
      "Today we are going in the PRAe.” Ster’s SMECHERS IN THE BARONY OF THE LUMEND 1-6 IN THE SHOUNDUS\n",
      "Следующая эпоха\n",
      "Эпоха 8\n"
     ]
    },
    {
     "name": "stderr",
     "output_type": "stream",
     "text": [
      "116it [02:11,  1.13s/it]\n"
     ]
    },
    {
     "name": "stdout",
     "output_type": "stream",
     "text": [
      "Эпоха прошла за 131.32 секунд\n",
      "Средняя функция потерь для дискриминатора = 0.13524620363424564\n",
      "Средняя функция потерь для генератора = 6.423249750301756\n",
      "Today we are going cold taste so through the course-” “YES,” Blaine agreed, and sounded like the Mog of a harmonies hanging on in Tom and Engineer\n",
      "Следующая эпоха\n",
      "Эпоха 9\n"
     ]
    },
    {
     "name": "stderr",
     "output_type": "stream",
     "text": [
      "116it [02:11,  1.13s/it]\n"
     ]
    },
    {
     "name": "stdout",
     "output_type": "stream",
     "text": [
      "Эпоха прошла за 131.32 секунд\n",
      "Средняя функция потерь для дискриминатора = 0.14706665511917452\n",
      "Средняя функция потерь для генератора = 6.577110265863353\n",
      "Today we are going on this-they?” Jake asked. “Then why Mr. Bissette was standing-outine in front of the Barony Coach. In the world, there’s anymore,\n",
      "Следующая эпоха\n",
      "Эпоха 10\n"
     ]
    },
    {
     "name": "stderr",
     "output_type": "stream",
     "text": [
      "116it [02:11,  1.13s/it]\n"
     ]
    },
    {
     "name": "stdout",
     "output_type": "stream",
     "text": [
      "Эпоха прошла за 131.16 секунд\n",
      "Средняя функция потерь для дискриминатора = 0.1375601394423123\n",
      "Средняя функция потерь для генератора = 6.654337504814411\n",
      "Today we are going?” Susannah asked. “What do you think-” “This is your purpose.” “DOES,” Blaine went to listening Susannah to the Cradle of the voice. “But I-” “R\n",
      "Следующая эпоха\n",
      "Эпоха 11\n"
     ]
    },
    {
     "name": "stderr",
     "output_type": "stream",
     "text": [
      "116it [02:11,  1.13s/it]\n"
     ]
    },
    {
     "name": "stdout",
     "output_type": "stream",
     "text": [
      "Эпоха прошла за 131.5 секунд\n",
      "Средняя функция потерь для дискриминатора = 0.14222643065169968\n",
      "Средняя функция потерь для генератора = 6.689780111970572\n",
      "Today we are going wrong. Who are you?\" \"Okay?” Eddie asked. \"Or. What is the Tower.\" uttersaneat Dadio ignored him. The gunslinger is able to read some\n",
      "Следующая эпоха\n",
      "Эпоха 12\n"
     ]
    },
    {
     "name": "stderr",
     "output_type": "stream",
     "text": [
      "116it [02:11,  1.13s/it]\n"
     ]
    },
    {
     "name": "stdout",
     "output_type": "stream",
     "text": [
      "Эпоха прошла за 131.56 секунд\n",
      "Средняя функция потерь для дискриминатора = 0.13498268876995506\n",
      "Средняя функция потерь для генератора = 6.764889540343449\n",
      "Today we are going in the same place of my place.” The gunslinger nodded sigh to his hold up to his head and posed for the Dark Tower and raised his head on the handrail. The man\n",
      "Следующая эпоха\n",
      "Эпоха 13\n"
     ]
    },
    {
     "name": "stderr",
     "output_type": "stream",
     "text": [
      "116it [02:11,  1.13s/it]\n"
     ]
    },
    {
     "name": "stdout",
     "output_type": "stream",
     "text": [
      "Эпоха прошла за 131.31 секунд\n",
      "Средняя функция потерь для дискриминатора = 0.137795887052499\n",
      "Средняя функция потерь для генератора = 6.556824334736528\n",
      "Today we are going to find. Topeka, Mr. From 199370s. Shawn, Jake supposed, very awake a little draw closer.“Yougre you making the\n",
      "Следующая эпоха\n",
      "Эпоха 14\n"
     ]
    },
    {
     "name": "stderr",
     "output_type": "stream",
     "text": [
      "116it [02:11,  1.14s/it]\n"
     ]
    },
    {
     "name": "stdout",
     "output_type": "stream",
     "text": [
      "Эпоха прошла за 131.71 секунд\n",
      "Средняя функция потерь для дискриминатора = 0.15707652237073616\n",
      "Средняя функция потерь для генератора = 6.499055336261618\n",
      "Today we are going to stand at this same time. Quakes, I became truick. I think it’s true.\" He helped Susannah as sudden as the story astin of the ex\n",
      "Следующая эпоха\n",
      "Эпоха 15\n"
     ]
    },
    {
     "name": "stderr",
     "output_type": "stream",
     "text": [
      "116it [02:11,  1.13s/it]\n"
     ]
    },
    {
     "name": "stdout",
     "output_type": "stream",
     "text": [
      "Эпоха прошла за 131.34 секунд\n",
      "Средняя функция потерь для дискриминатора = 0.18151280524787203\n",
      "Средняя функция потерь для генератора = 6.167656051701512\n",
      "Today we are going?” Jeeves and Susannah asked. Her voice was softened. “THEE IS NOT, AND GUSANNAHINGER,” Blaine said. “TOES A LIT\n",
      "Следующая эпоха\n",
      "Эпоха 16\n"
     ]
    },
    {
     "name": "stderr",
     "output_type": "stream",
     "text": [
      "116it [02:11,  1.13s/it]\n"
     ]
    },
    {
     "name": "stdout",
     "output_type": "stream",
     "text": [
      "Эпоха прошла за 131.21 секунд\n",
      "Средняя функция потерь для дискриминатора = 0.1651274185178095\n",
      "Средняя функция потерь для генератора = 6.0228108743141435\n",
      "Today we are going to give in this town-that,” said Aunt Talitha said dismissively. “it down the mirrors.” Eddie felt a feeling discover on a sense of\n",
      "Следующая эпоха\n",
      "Эпоха 17\n"
     ]
    },
    {
     "name": "stderr",
     "output_type": "stream",
     "text": [
      "116it [02:11,  1.13s/it]\n"
     ]
    },
    {
     "name": "stdout",
     "output_type": "stream",
     "text": [
      "Эпоха прошла за 131.19 секунд\n",
      "Средняя функция потерь для дискриминатора = 0.159104621776476\n",
      "Средняя функция потерь для генератора = 6.573330143402362\n",
      "Today we are going?” Eddie asked. “ “Crrawed-” “It’s coming from the same you,” Susannah murmured. Her eyes gaze shiftedly at the corners of her mouth. “A\n",
      "Следующая эпоха\n",
      "Эпоха 18\n"
     ]
    },
    {
     "name": "stderr",
     "output_type": "stream",
     "text": [
      "116it [02:11,  1.13s/it]\n"
     ]
    },
    {
     "name": "stdout",
     "output_type": "stream",
     "text": [
      "Эпоха прошла за 131.21 секунд\n",
      "Средняя функция потерь для дискриминатора = 0.16527414003965155\n",
      "Средняя функция потерь для генератора = 6.138829798533998\n",
      "Today we are going?” Susannah, and her voice was still so deeply that Eddie thought it must have heard it. “Do you agree?” “I think I’m sorry to ask him.” “If Blaine the M\n",
      "Следующая эпоха\n",
      "Эпоха 19\n"
     ]
    },
    {
     "name": "stderr",
     "output_type": "stream",
     "text": [
      "116it [02:11,  1.14s/it]\n"
     ]
    },
    {
     "name": "stdout",
     "output_type": "stream",
     "text": [
      "Эпоха прошла за 131.73 секунд\n",
      "Средняя функция потерь для дискриминатора = 0.1538563166455976\n",
      "Средняя функция потерь для генератора = 5.940147424566335\n",
      "Today we are going wrong?” Eddie asked. “Criped with you were chained. “Yet.” He tiped his hips seemed to be over his shoulder to the hips of his pack\n",
      "Следующая эпоха\n",
      "Эпоха 20\n"
     ]
    },
    {
     "name": "stderr",
     "output_type": "stream",
     "text": [
      "116it [02:11,  1.13s/it]\n"
     ]
    },
    {
     "name": "stdout",
     "output_type": "stream",
     "text": [
      "Эпоха прошла за 131.29 секунд\n",
      "Средняя функция потерь для дискриминатора = 0.18306565079195747\n",
      "Средняя функция потерь для генератора = 5.888167040101413\n",
      "Today we are going over here?” The boy in his lawy as well as he talked: “Of course it was, he card off. “Uh-huh,” the woman saysuing\n",
      "Следующая эпоха\n",
      "Эпоха 21\n"
     ]
    },
    {
     "name": "stderr",
     "output_type": "stream",
     "text": [
      "116it [02:11,  1.14s/it]\n"
     ]
    },
    {
     "name": "stdout",
     "output_type": "stream",
     "text": [
      "Эпоха прошла за 131.72 секунд\n",
      "Средняя функция потерь для дискриминатора = 0.17880617634489618\n",
      "Средняя функция потерь для генератора = 5.855720926975382\n",
      "Today we are going?\" \"Yeah,\" Eddie said, nodding furiused. \"I keep thinking pureing her. \"Suck shit out of her, all.\" \"That's this?\" \"Yes.\" \"Do you mean I\n",
      "Следующая эпоха\n",
      "Эпоха 22\n"
     ]
    },
    {
     "name": "stderr",
     "output_type": "stream",
     "text": [
      "116it [02:11,  1.13s/it]\n"
     ]
    },
    {
     "name": "stdout",
     "output_type": "stream",
     "text": [
      "Эпоха прошла за 131.54 секунд\n",
      "Средняя функция потерь для дискриминатора = 0.18198314505019064\n",
      "Средняя функция потерь для генератора = 6.009564901220387\n",
      "Today we are going to hell in first hell: DO YOU TRAVE MY RIDDLES?” “THESE OF FROM THE NEXT YOUR RIDDLE\n",
      "Следующая эпоха\n",
      "Эпоха 23\n"
     ]
    },
    {
     "name": "stderr",
     "output_type": "stream",
     "text": [
      "116it [02:11,  1.13s/it]\n"
     ]
    },
    {
     "name": "stdout",
     "output_type": "stream",
     "text": [
      "Эпоха прошла за 131.26 секунд\n",
      "Средняя функция потерь для дискриминатора = 0.17316346194852014\n",
      "Средняя функция потерь для генератора = 5.747703766000682\n",
      "Today we are going to be at least three thousand years, suggar. My version of ‘Sluther Stephen King electricia… Traclem\n",
      "Следующая эпоха\n",
      "Эпоха 24\n"
     ]
    },
    {
     "name": "stderr",
     "output_type": "stream",
     "text": [
      "116it [02:11,  1.13s/it]\n"
     ]
    },
    {
     "name": "stdout",
     "output_type": "stream",
     "text": [
      "Эпоха прошла за 131.13 секунд\n",
      "Средняя функция потерь для дискриминатора = 0.16906193415794907\n",
      "Средняя функция потерь для генератора = 5.953948415558914\n",
      "Today we are going wrong?” Jake asked. “Oy!” Jake said wonderfullied, then turned his head.“Don’t. I think he’s talking to me, but he’s supposed to talk about how badly such a\n",
      "Следующая эпоха\n",
      "Эпоха 25\n"
     ]
    },
    {
     "name": "stderr",
     "output_type": "stream",
     "text": [
      "116it [02:11,  1.14s/it]\n"
     ]
    },
    {
     "name": "stdout",
     "output_type": "stream",
     "text": [
      "Эпоха прошла за 131.77 секунд\n",
      "Средняя функция потерь для дискриминатора = 0.17415859319012741\n",
      "Средняя функция потерь для генератора = 5.763312265790742\n",
      "Today we are going?” Susannah asked. “What is it?” Eddie appeared in the wooden eye. It was stirredible that if he had been“You all roads well metals,” Henry said. “THAT\n",
      "Следующая эпоха\n",
      "Эпоха 26\n"
     ]
    },
    {
     "name": "stderr",
     "output_type": "stream",
     "text": [
      "116it [02:10,  1.13s/it]\n"
     ]
    },
    {
     "name": "stdout",
     "output_type": "stream",
     "text": [
      "Эпоха прошла за 130.62 секунд\n",
      "Средняя функция потерь для дискриминатора = 0.21348516052139216\n",
      "Средняя функция потерь для генератора = 5.8300867327328385\n",
      "Today we are going in 198: WHN KA-TETHING YOU RUDDE, ROLAND OF GILES. LITT, YOU ROLAND OF GI\n",
      "Следующая эпоха\n",
      "Эпоха 27\n"
     ]
    },
    {
     "name": "stderr",
     "output_type": "stream",
     "text": [
      "116it [02:10,  1.13s/it]\n"
     ]
    },
    {
     "name": "stdout",
     "output_type": "stream",
     "text": [
      "Эпоха прошла за 130.78 секунд\n",
      "Средняя функция потерь для дискриминатора = 0.19478689031354313\n",
      "Средняя функция потерь для генератора = 5.793733058304622\n",
      "Today we are going cold turb of shit, and he ain't ’gadget’it’ but ’gad ’ge, he’” Runt. Plemit’ S\n",
      "Следующая эпоха\n",
      "Эпоха 28\n"
     ]
    },
    {
     "name": "stderr",
     "output_type": "stream",
     "text": [
      "116it [02:10,  1.13s/it]\n"
     ]
    },
    {
     "name": "stdout",
     "output_type": "stream",
     "text": [
      "Эпоха прошла за 130.8 секунд\n",
      "Средняя функция потерь для дискриминатора = 0.1871342313925511\n",
      "Средняя функция потерь для генератора = 5.557565993276135\n",
      "Today we are going at the Portal Tal Topeka, KNOW-Day”). “We’llop trip it off. Once Mrs. Ron 40 From M\n",
      "Следующая эпоха\n",
      "Эпоха 29\n"
     ]
    },
    {
     "name": "stderr",
     "output_type": "stream",
     "text": [
      "116it [02:11,  1.13s/it]\n"
     ]
    },
    {
     "name": "stdout",
     "output_type": "stream",
     "text": [
      "Эпоха прошла за 131.12 секунд\n",
      "Средняя функция потерь для дискриминатора = 0.2108851931989193\n",
      "Средняя функция потерь для генератора = 5.675264083105942\n",
      "Today we are going in our world,” Susannah said. “THES, SUSANNAHINGER, ANALTING OF NEW YORK ARE.” There was a kind of\n",
      "Следующая эпоха\n",
      "Эпоха 30\n"
     ]
    },
    {
     "name": "stderr",
     "output_type": "stream",
     "text": [
      "116it [02:10,  1.13s/it]\n"
     ]
    },
    {
     "name": "stdout",
     "output_type": "stream",
     "text": [
      "Эпоха прошла за 130.72 секунд\n",
      "Средняя функция потерь для дискриминатора = 0.22161676513095355\n",
      "Средняя функция потерь для генератора = 5.436965231237741\n",
      "Today we are going to volume is Down! SHUT, Must  REALT YOUR LISTY A RUDLE, SON, BUT THEIR\n",
      "Следующая эпоха\n",
      "Эпоха 31\n"
     ]
    },
    {
     "name": "stderr",
     "output_type": "stream",
     "text": [
      "116it [02:11,  1.13s/it]\n"
     ]
    },
    {
     "name": "stdout",
     "output_type": "stream",
     "text": [
      "Эпоха прошла за 131.18 секунд\n",
      "Средняя функция потерь для дискриминатора = 0.21199892499837383\n",
      "Средняя функция потерь для генератора = 5.498480188435521\n",
      "Today we are going to southeast, Eddie thought. A bad southeast. And the demon of Blaine is the Prisoner. “I WOULD HEREARGHT TH\n",
      "Следующая эпоха\n",
      "Эпоха 32\n"
     ]
    },
    {
     "name": "stderr",
     "output_type": "stream",
     "text": [
      "116it [02:10,  1.13s/it]\n"
     ]
    },
    {
     "name": "stdout",
     "output_type": "stream",
     "text": [
      "Эпоха прошла за 130.86 секунд\n",
      "Средняя функция потерь для дискриминатора = 0.21677984554192115\n",
      "Средняя функция потерь для генератора = 5.19719594922559\n",
      "Today we are going?” Onward course occuring the rear of the holes in the fire. It was almost as if you were blot regard to all off the Tick-Tock Man’s scailing\n",
      "Следующая эпоха\n",
      "Эпоха 33\n"
     ]
    },
    {
     "name": "stderr",
     "output_type": "stream",
     "text": [
      "116it [02:10,  1.13s/it]\n"
     ]
    },
    {
     "name": "stdout",
     "output_type": "stream",
     "text": [
      "Эпоха прошла за 130.68 секунд\n",
      "Средняя функция потерь для дискриминатора = 0.2341464429066099\n",
      "Средняя функция потерь для генератора = 5.043630312229025\n",
      "Today we are going on here?\" McDonald head. \"Let's off?\" Tricks later,\" Katz said mildly, \" \"She answered off. Let off\n",
      "Следующая эпоха\n",
      "Эпоха 34\n"
     ]
    },
    {
     "name": "stderr",
     "output_type": "stream",
     "text": [
      "116it [02:11,  1.13s/it]\n"
     ]
    },
    {
     "name": "stdout",
     "output_type": "stream",
     "text": [
      "Эпоха прошла за 131.24 секунд\n",
      "Средняя функция потерь для дискриминатора = 0.2358991619970264\n",
      "Средняя функция потерь для генератора = 4.7691367864608765\n",
      "Today we are going?” Eddie asked. “Not a little more than I than that gotton we went. That’s the story of the way an old dayland.” “Someo,” Eddie said. “I want\n",
      "Следующая эпоха\n",
      "Эпоха 35\n"
     ]
    },
    {
     "name": "stderr",
     "output_type": "stream",
     "text": [
      "116it [02:10,  1.13s/it]\n"
     ]
    },
    {
     "name": "stdout",
     "output_type": "stream",
     "text": [
      "Эпоха прошла за 130.81 секунд\n",
      "Средняя функция потерь для дискриминатора = 0.221657851004395\n",
      "Средняя функция потерь для генератора = 5.135821132824339\n",
      "Today we are going to raise until earlandis by Christ,” Que voice. Susannah said. “Christ on fire. We’re a little trumper, you!” Eddie explosion shook\n",
      "Следующая эпоха\n",
      "Эпоха 36\n"
     ]
    },
    {
     "name": "stderr",
     "output_type": "stream",
     "text": [
      "116it [02:11,  1.13s/it]\n"
     ]
    },
    {
     "name": "stdout",
     "output_type": "stream",
     "text": [
      "Эпоха прошла за 131.04 секунд\n",
      "Средняя функция потерь для дискриминатора = 0.21641955322361198\n",
      "Средняя функция потерь для генератора = 5.096030202405206\n",
      "Today we are going much popeka, and so I want to see it.” “Cy,” Tick-Tock said. “Bring me my gentlem.” Oy pound clevertedly onto the side of the\n",
      "Следующая эпоха\n",
      "Эпоха 37\n"
     ]
    },
    {
     "name": "stderr",
     "output_type": "stream",
     "text": [
      "116it [02:11,  1.13s/it]\n"
     ]
    },
    {
     "name": "stdout",
     "output_type": "stream",
     "text": [
      "Эпоха прошла за 131.18 секунд\n",
      "Средняя функция потерь для дискриминатора = 0.21788606561463456\n",
      "Средняя функция потерь для генератора = 5.328884449498407\n",
      "Today we are going in the Path of the Turtle Bath of Pathbin” and “say ’gglow?” “I don’t know how he’s going to tell,” the\n",
      "Следующая эпоха\n",
      "Эпоха 38\n"
     ]
    },
    {
     "name": "stderr",
     "output_type": "stream",
     "text": [
      "116it [02:10,  1.13s/it]\n"
     ]
    },
    {
     "name": "stdout",
     "output_type": "stream",
     "text": [
      "Эпоха прошла за 130.61 секунд\n",
      "Средняя функция потерь для дискриминатора = 0.2046330944345943\n",
      "Средняя функция потерь для генератора = 5.505434254120136\n",
      "Today we are going?” Susannah asked. “Yeah, Go on!” Eddie cried. “Will your palportal of us, Blaine,” Jake of Barony Coach an engineer (\n",
      "Следующая эпоха\n",
      "Эпоха 39\n"
     ]
    },
    {
     "name": "stderr",
     "output_type": "stream",
     "text": [
      "116it [02:11,  1.13s/it]\n"
     ]
    },
    {
     "name": "stdout",
     "output_type": "stream",
     "text": [
      "Эпоха прошла за 131.11 секунд\n",
      "Средняя функция потерь для дискриминатора = 0.22415474664162974\n",
      "Средняя функция потерь для генератора = 5.288922355092805\n",
      "Today we are going?” Susannah asked. “Yeah, sure there’s always the answer. Not really nothing.” “Of course it has been used-” “HOW HAVE FOUNSY BOOK ALL\n",
      "Следующая эпоха\n",
      "Эпоха 40\n"
     ]
    },
    {
     "name": "stderr",
     "output_type": "stream",
     "text": [
      "116it [02:10,  1.13s/it]\n"
     ]
    },
    {
     "name": "stdout",
     "output_type": "stream",
     "text": [
      "Эпоха прошла за 130.82 секунд\n",
      "Средняя функция потерь для дискриминатора = 0.2275599629200738\n",
      "Средняя функция потерь для генератора = 5.594257774024174\n",
      "Today we are going,” Susannah murmured. Howard?” She gave her sharestave. She put the wood in her lower belly, limping shadows like a ladies wearing snarl\n",
      "Следующая эпоха\n",
      "Эпоха 41\n"
     ]
    },
    {
     "name": "stderr",
     "output_type": "stream",
     "text": [
      "116it [02:10,  1.13s/it]\n"
     ]
    },
    {
     "name": "stdout",
     "output_type": "stream",
     "text": [
      "Эпоха прошла за 130.99 секунд\n",
      "Средняя функция потерь для дискриминатора = 0.24517175047818957\n",
      "Средняя функция потерь для генератора = 5.217640371158205\n",
      "Today we are going in the Path of the Antifestal Treeza Dea, the Thank David, Mid-Towncks. Avery’s cradle Samson\n",
      "Следующая эпоха\n",
      "Эпоха 42\n"
     ]
    },
    {
     "name": "stderr",
     "output_type": "stream",
     "text": [
      "116it [02:11,  1.13s/it]\n"
     ]
    },
    {
     "name": "stdout",
     "output_type": "stream",
     "text": [
      "Эпоха прошла за 131.2 секунд\n",
      "Средняя функция потерь для дискриминатора = 0.23256032676275434\n",
      "Средняя функция потерь для генератора = 5.1463026794893985\n",
      "Today we are going,” Jake said. “My ambused. I ask most of us are, and I we are. Bath of New York will come out in time, and I gave it on.” “Nothing\n",
      "Следующая эпоха\n",
      "Эпоха 43\n"
     ]
    },
    {
     "name": "stderr",
     "output_type": "stream",
     "text": [
      "116it [02:10,  1.13s/it]\n"
     ]
    },
    {
     "name": "stdout",
     "output_type": "stream",
     "text": [
      "Эпоха прошла за 130.64 секунд\n",
      "Средняя функция потерь для дискриминатора = 0.2934060950346034\n",
      "Средняя функция потерь для генератора = 5.017051520018742\n",
      "Today we are going to send a little ill.40 From, you let me Zoltan.Zoltan artan awa.” The fire caught up and bounced\n",
      "Следующая эпоха\n",
      "Эпоха 44\n"
     ]
    },
    {
     "name": "stderr",
     "output_type": "stream",
     "text": [
      "116it [02:10,  1.13s/it]\n"
     ]
    },
    {
     "name": "stdout",
     "output_type": "stream",
     "text": [
      "Эпоха прошла за 130.91 секунд\n",
      "Средняя функция потерь для дискриминатора = 0.25858619031978064\n",
      "Средняя функция потерь для генератора = 5.2105479528164045\n",
      "Today we are going to David QUICK WHIC QUy HAS MAY SEART.” The voice paused for a moment in the morning: “Mayhaps, is\n",
      "Следующая эпоха\n",
      "Эпоха 45\n"
     ]
    },
    {
     "name": "stderr",
     "output_type": "stream",
     "text": [
      "116it [02:10,  1.13s/it]\n"
     ]
    },
    {
     "name": "stdout",
     "output_type": "stream",
     "text": [
      "Эпоха прошла за 130.89 секунд\n",
      "Средняя функция потерь для дискриминатора = 0.23566112211295243\n",
      "Средняя функция потерь для генератора = 5.031646555867688\n",
      "Today we are going?” Susannah asked. “You must be surprised by the Puzzy,” Eddie said. “We’ll be careful enough stuff to work for us,” Eddie repeated. Other hardly-dust\n",
      "Следующая эпоха\n",
      "Эпоха 46\n"
     ]
    },
    {
     "name": "stderr",
     "output_type": "stream",
     "text": [
      "116it [02:10,  1.13s/it]\n"
     ]
    },
    {
     "name": "stdout",
     "output_type": "stream",
     "text": [
      "Эпоха прошла за 130.85 секунд\n",
      "Средняя функция потерь для дискриминатора = 0.21750852093100548\n",
      "Средняя функция потерь для генератора = 5.323243848208723\n",
      "Today we are going?” Susannah asked. “Well, maybe, but call you a brother. You said sugest a lot young boy. And I’m looking out Below Turry Three houses-\n",
      "Следующая эпоха\n",
      "Эпоха 47\n"
     ]
    },
    {
     "name": "stderr",
     "output_type": "stream",
     "text": [
      "116it [02:10,  1.13s/it]\n"
     ]
    },
    {
     "name": "stdout",
     "output_type": "stream",
     "text": [
      "Эпоха прошла за 130.95 секунд\n",
      "Средняя функция потерь для дискриминатора = 0.2359044043154552\n",
      "Средняя функция потерь для генератора = 5.260199538592635\n",
      "Today we are going wrong at the countryside clock on the house as the back of the cockpit.” Jake paused and nodded. He did not feel like an unmer course buttoning\n",
      "Следующая эпоха\n",
      "Эпоха 48\n"
     ]
    },
    {
     "name": "stderr",
     "output_type": "stream",
     "text": [
      "116it [02:11,  1.13s/it]\n"
     ]
    },
    {
     "name": "stdout",
     "output_type": "stream",
     "text": [
      "Эпоха прошла за 131.21 секунд\n",
      "Средняя функция потерь для дискриминатора = 0.24320327137307873\n",
      "Средняя функция потерь для генератора = 5.061986281954009\n",
      "Today we are going to go out here?\" \"The be TVyperium Brements' Christ, Gos'nah's chin Pizer,\" Missippiond\n",
      "Следующая эпоха\n",
      "Эпоха 49\n"
     ]
    },
    {
     "name": "stderr",
     "output_type": "stream",
     "text": [
      "116it [02:10,  1.13s/it]\n"
     ]
    },
    {
     "name": "stdout",
     "output_type": "stream",
     "text": [
      "Эпоха прошла за 130.84 секунд\n",
      "Средняя функция потерь для дискриминатора = 0.23168516987613563\n",
      "Средняя функция потерь для генератора = 4.881403244774917\n",
      "Today we are going?” Susannah, but she was also sitting on the side of her dress.“Not you. Quite on,” he said. “Sometimes coming.” She looked at him uneasily.\n",
      "Следующая эпоха\n",
      "Эпоха 50\n"
     ]
    },
    {
     "name": "stderr",
     "output_type": "stream",
     "text": [
      "116it [02:10,  1.13s/it]\n"
     ]
    },
    {
     "name": "stdout",
     "output_type": "stream",
     "text": [
      "Эпоха прошла за 130.87 секунд\n",
      "Средняя функция потерь для дискриминатора = 0.24892177554810868\n",
      "Средняя функция потерь для генератора = 4.736006325688855\n",
      "Today we are going to be,” Susannah said. “Beured. “This is yourselves boy, and goes long sank ‘The direction?” On Topeka said suit, and\n",
      "Следующая эпоха\n",
      "Эпоха 51\n"
     ]
    },
    {
     "name": "stderr",
     "output_type": "stream",
     "text": [
      "116it [02:10,  1.13s/it]\n"
     ]
    },
    {
     "name": "stdout",
     "output_type": "stream",
     "text": [
      "Эпоха прошла за 130.83 секунд\n",
      "Средняя функция потерь для дискриминатора = 0.2267294709795508\n",
      "Средняя функция потерь для генератора = 5.16911323317166\n",
      "Today we are going in turkey,” Eddie finishedly. He helped Susannah and handed the sandalwood buttons on the far side of the roof. The rawhide loop\n",
      "Следующая эпоха\n",
      "Эпоха 52\n"
     ]
    },
    {
     "name": "stderr",
     "output_type": "stream",
     "text": [
      "116it [02:10,  1.13s/it]\n"
     ]
    },
    {
     "name": "stdout",
     "output_type": "stream",
     "text": [
      "Эпоха прошла за 130.83 секунд\n",
      "Средняя функция потерь для дискриминатора = 0.23441383653673634\n",
      "Средняя функция потерь для генератора = 5.169988504771529\n",
      "Today we are going?\" She served, and ran his hands into his lap, asking laughter at the sea. “Still shit has a way to get it, but I’ll be able to get\n",
      "Следующая эпоха\n",
      "Эпоха 53\n"
     ]
    },
    {
     "name": "stderr",
     "output_type": "stream",
     "text": [
      "116it [02:10,  1.13s/it]\n"
     ]
    },
    {
     "name": "stdout",
     "output_type": "stream",
     "text": [
      "Эпоха прошла за 130.94 секунд\n",
      "Средняя функция потерь для дискриминатора = 0.22572387382388115\n",
      "Средняя функция потерь для генератора = 5.120786259914267\n",
      "Today we are going to?” The boy looked at him, lips curviously at him seriously stuckered out into his mouth. He took his hand. “I’m sorry, Mrs. Scher\n",
      "Следующая эпоха\n",
      "Эпоха 54\n"
     ]
    },
    {
     "name": "stderr",
     "output_type": "stream",
     "text": [
      "116it [02:11,  1.13s/it]\n"
     ]
    },
    {
     "name": "stdout",
     "output_type": "stream",
     "text": [
      "Эпоха прошла за 131.17 секунд\n",
      "Средняя функция потерь для дискриминатора = 0.23016836686894812\n",
      "Средняя функция потерь для генератора = 5.405735011758475\n",
      "Today we are going,” the voice of the man in black said. “On mystone.” “Yeah. Let away, Mostly you can watch you alone now, though. Now sing.” The gunslinger flicked\n",
      "Следующая эпоха\n",
      "Эпоха 55\n"
     ]
    },
    {
     "name": "stderr",
     "output_type": "stream",
     "text": [
      "116it [02:10,  1.13s/it]\n"
     ]
    },
    {
     "name": "stdout",
     "output_type": "stream",
     "text": [
      "Эпоха прошла за 130.9 секунд\n",
      "Средняя функция потерь для дискриминатора = 0.24406770199280362\n",
      "Средняя функция потерь для генератора = 5.487338271634332\n",
      "Today we are going to be here at first.\" \"Okay,\" the machine said, \"but in the world is on me. \"Godda .\"  Suddenly Jesus, I think.\" \"\n",
      "Следующая эпоха\n",
      "Эпоха 56\n"
     ]
    },
    {
     "name": "stderr",
     "output_type": "stream",
     "text": [
      "116it [02:11,  1.13s/it]\n"
     ]
    },
    {
     "name": "stdout",
     "output_type": "stream",
     "text": [
      "Эпоха прошла за 131.12 секунд\n",
      "Средняя функция потерь для дискриминатора = 0.22782268355889568\n",
      "Средняя функция потерь для генератора = 5.463100199041696\n",
      "Today we are going?” Susannah asked. 3A smiled a little smile. “THAT DE YOU SALL YOU?” KNOWNOW. RES RIDDLE, ROLAND OF GI\n",
      "Следующая эпоха\n",
      "Эпоха 57\n"
     ]
    },
    {
     "name": "stderr",
     "output_type": "stream",
     "text": [
      "116it [02:10,  1.13s/it]\n"
     ]
    },
    {
     "name": "stdout",
     "output_type": "stream",
     "text": [
      "Эпоха прошла за 130.57 секунд\n",
      "Средняя функция потерь для дискриминатора = 0.20717665951313644\n",
      "Средняя функция потерь для генератора = 5.487076081078628\n",
      "Today we are going overbus?” Susannah asked. “Do you understand yonder?” Jake asked. “SIGo on the answer is, Blaine.” Roland seemed to hear.” “How you know what?” Eddie reply\n",
      "Следующая эпоха\n",
      "Эпоха 58\n"
     ]
    },
    {
     "name": "stderr",
     "output_type": "stream",
     "text": [
      "116it [02:10,  1.13s/it]\n"
     ]
    },
    {
     "name": "stdout",
     "output_type": "stream",
     "text": [
      "Эпоха прошла за 130.87 секунд\n",
      "Средняя функция потерь для дискриминатора = 0.22420827819612518\n",
      "Средняя функция потерь для генератора = 5.6444981139281705\n",
      "Today we are going to be cross.” “Come on,” Jake said. “Tussespeak professive,” Susannah said. “I still don’t know what he’s happened to Blaine.” “Tell me what we\n",
      "Следующая эпоха\n",
      "Эпоха 59\n"
     ]
    },
    {
     "name": "stderr",
     "output_type": "stream",
     "text": [
      "116it [02:10,  1.13s/it]\n"
     ]
    },
    {
     "name": "stdout",
     "output_type": "stream",
     "text": [
      "Эпоха прошла за 130.97 секунд\n",
      "Средняя функция потерь для дискриминатора = 0.22224859694211646\n",
      "Средняя функция потерь для генератора = 5.403027312508945\n",
      "Today we are going,” Eddie said, nodded, and helplessly between his apartment. Now he may have been a change stone by a falling plain of blue fire. Two hours\n",
      "Следующая эпоха\n",
      "Эпоха 60\n"
     ]
    },
    {
     "name": "stderr",
     "output_type": "stream",
     "text": [
      "116it [02:10,  1.13s/it]\n"
     ]
    },
    {
     "name": "stdout",
     "output_type": "stream",
     "text": [
      "Эпоха прошла за 130.79 секунд\n",
      "Средняя функция потерь для дискриминатора = 0.22674193201137\n",
      "Средняя функция потерь для генератора = 5.354152519127418\n",
      "Today we are going on,” Trick said. “Morn, I do.” This is the place, Mr. Bissette nodded.“man” Brown nodded. Onward, too. Frombers. I don’t know\n",
      "Следующая эпоха\n",
      "Эпоха 61\n"
     ]
    },
    {
     "name": "stderr",
     "output_type": "stream",
     "text": [
      "116it [02:10,  1.13s/it]\n"
     ]
    },
    {
     "name": "stdout",
     "output_type": "stream",
     "text": [
      "Эпоха прошла за 130.88 секунд\n",
      "Средняя функция потерь для дискриминатора = 0.24513450425503583\n",
      "Средняя функция потерь для генератора = 4.858354099865617\n",
      "Today we are going?” Susannah asked. She looked at the gunslinger with his decking eyes of regarding: “That’s right,” Eddie said. “I want to admorrow. Hoots us, and\n",
      "Следующая эпоха\n",
      "Эпоха 62\n"
     ]
    },
    {
     "name": "stderr",
     "output_type": "stream",
     "text": [
      "116it [02:10,  1.13s/it]\n"
     ]
    },
    {
     "name": "stdout",
     "output_type": "stream",
     "text": [
      "Эпоха прошла за 131.0 секунд\n",
      "Средняя функция потерь для дискриминатора = 0.2175449272296552\n",
      "Средняя функция потерь для генератора = 4.915365860379976\n",
      "Today we are going?\" He smiled. \"Go you are,\" Eddie said, and helped a little. \"Then help. \"on you have to give it a morrow.\" \"That's what it com\n",
      "Следующая эпоха\n",
      "Эпоха 63\n"
     ]
    },
    {
     "name": "stderr",
     "output_type": "stream",
     "text": [
      "116it [02:11,  1.13s/it]\n"
     ]
    },
    {
     "name": "stdout",
     "output_type": "stream",
     "text": [
      "Эпоха прошла за 131.09 секунд\n",
      "Средняя функция потерь для дискриминатора = 0.22549519219018263\n",
      "Средняя функция потерь для генератора = 5.31119978427887\n",
      "Today we are going in the lands.” The old man’s voice of Jeeves is Qly his lips. “Do you see?” “YESURT AREE, BUME JUS\n",
      "Следующая эпоха\n",
      "Эпоха 64\n"
     ]
    },
    {
     "name": "stderr",
     "output_type": "stream",
     "text": [
      "116it [02:11,  1.13s/it]\n"
     ]
    },
    {
     "name": "stdout",
     "output_type": "stream",
     "text": [
      "Эпоха прошла за 131.12 секунд\n",
      "Средняя функция потерь для дискриминатора = 0.22191942027159806\n",
      "Средняя функция потерь для генератора = 5.408944697215639\n",
      "Today we are going to be up here original Engineer Bob and teacher. “Show your pass. Manf you say so, and will be true.” Roland agreed,\n",
      "Следующая эпоха\n",
      "Эпоха 65\n"
     ]
    },
    {
     "name": "stderr",
     "output_type": "stream",
     "text": [
      "116it [02:11,  1.13s/it]\n"
     ]
    },
    {
     "name": "stdout",
     "output_type": "stream",
     "text": [
      "Эпоха прошла за 131.22 секунд\n",
      "Средняя функция потерь для дискриминатора = 0.22965647633476505\n",
      "Средняя функция потерь для генератора = 5.53312885761261\n",
      "Today we are going down Mona?” Susannah asked. “Did-Trolvin Good on the road?” “Huh?” “Ay,” Eddie agremured. “Prusionors.\n",
      "Следующая эпоха\n",
      "Эпоха 66\n"
     ]
    },
    {
     "name": "stderr",
     "output_type": "stream",
     "text": [
      "116it [02:10,  1.13s/it]\n"
     ]
    },
    {
     "name": "stdout",
     "output_type": "stream",
     "text": [
      "Эпоха прошла за 130.8 секунд\n",
      "Средняя функция потерь для дискриминатора = 0.213051814072091\n",
      "Средняя функция потерь для генератора = 5.184101770664084\n",
      "Today we are going?” Susannah asked. Eddie smiled.“Ro the Dark Tower,” the bumbler responsibility Blaine.” “Bearah?” Roland asked, but Oy imitated. “Only\n",
      "Следующая эпоха\n",
      "Эпоха 67\n"
     ]
    },
    {
     "name": "stderr",
     "output_type": "stream",
     "text": [
      "116it [02:11,  1.13s/it]\n"
     ]
    },
    {
     "name": "stdout",
     "output_type": "stream",
     "text": [
      "Эпоха прошла за 131.26 секунд\n",
      "Средняя функция потерь для дискриминатора = 0.21224290909695215\n",
      "Средняя функция потерь для генератора = 5.26901899946147\n",
      "Today we are going?” “Never heard often,” the gunslinger said in a soft, awful muttering voices still fascinated: “Come on, well. . . . . . I will\n",
      "Следующая эпоха\n",
      "Эпоха 68\n"
     ]
    },
    {
     "name": "stderr",
     "output_type": "stream",
     "text": [
      "116it [02:11,  1.13s/it]\n"
     ]
    },
    {
     "name": "stdout",
     "output_type": "stream",
     "text": [
      "Эпоха прошла за 131.32 секунд\n",
      "Средняя функция потерь для дискриминатора = 0.2297354432722104\n",
      "Средняя функция потерь для генератора = 5.472699218782886\n",
      "Today we are going in the station where Mid-World’s crischs and the oppos emotion and revolvers which likes grounded in a red dipper’s as it;\n",
      "Следующая эпоха\n",
      "Эпоха 69\n"
     ]
    },
    {
     "name": "stderr",
     "output_type": "stream",
     "text": [
      "116it [02:10,  1.13s/it]\n"
     ]
    },
    {
     "name": "stdout",
     "output_type": "stream",
     "text": [
      "Эпоха прошла за 130.75 секунд\n",
      "Средняя функция потерь для дискриминатора = 0.23262287907559295\n",
      "Средняя функция потерь для генератора = 5.067599288348494\n",
      "Today we are going from Piper Zoltan. Topeka Zaby’s A Inda,Z.Zennt, Topeka school. I am I amm\n",
      "Следующая эпоха\n",
      "Эпоха 70\n"
     ]
    },
    {
     "name": "stderr",
     "output_type": "stream",
     "text": [
      "116it [02:10,  1.13s/it]\n"
     ]
    },
    {
     "name": "stdout",
     "output_type": "stream",
     "text": [
      "Эпоха прошла за 130.73 секунд\n",
      "Средняя функция потерь для дискриминатора = 0.22097722463438224\n",
      "Средняя функция потерь для генератора = 5.503518273090494\n",
      "Today we are going?” “Carestick, are,” the man in black said softly. “I knows that any often the gunslinger” – “ “Chich God.” The word was shakled. “A\n",
      "Следующая эпоха\n",
      "Эпоха 71\n"
     ]
    },
    {
     "name": "stderr",
     "output_type": "stream",
     "text": [
      "116it [02:11,  1.13s/it]\n"
     ]
    },
    {
     "name": "stdout",
     "output_type": "stream",
     "text": [
      "Эпоха прошла за 131.23 секунд\n",
      "Средняя функция потерь для дискриминатора = 0.22626886850801006\n",
      "Средняя функция потерь для генератора = 5.124862428369193\n",
      "Today we are going?” She spoke in front of the High Speech Holmes David Speech Hilling on Engineer Bob in his tenderational\n",
      "Следующая эпоха\n",
      "Эпоха 72\n"
     ]
    },
    {
     "name": "stderr",
     "output_type": "stream",
     "text": [
      "116it [02:10,  1.13s/it]\n"
     ]
    },
    {
     "name": "stdout",
     "output_type": "stream",
     "text": [
      "Эпоха прошла за 130.88 секунд\n",
      "Средняя функция потерь для дискриминатора = 0.20032100832282468\n",
      "Средняя функция потерь для генератора = 5.263607280007724\n",
      "Today we are going cold turkey Topeka at first. The Prisoner, Norhadistic naked. He began to spray the hilt of his own fire,\n",
      "Следующая эпоха\n",
      "Эпоха 73\n"
     ]
    },
    {
     "name": "stderr",
     "output_type": "stream",
     "text": [
      "116it [02:11,  1.13s/it]\n"
     ]
    },
    {
     "name": "stdout",
     "output_type": "stream",
     "text": [
      "Эпоха прошла за 131.58 секунд\n",
      "Средняя функция потерь для дискриминатора = 0.2394042173721667\n",
      "Средняя функция потерь для генератора = 5.159105687305845\n",
      "Today we are going cold-a low-hopeia. Satince the problem. AT’ REPEKAIN’S JABIN THAT IS NO QU\n",
      "Следующая эпоха\n",
      "Эпоха 74\n"
     ]
    },
    {
     "name": "stderr",
     "output_type": "stream",
     "text": [
      "116it [02:10,  1.13s/it]\n"
     ]
    },
    {
     "name": "stdout",
     "output_type": "stream",
     "text": [
      "Эпоха прошла за 130.92 секунд\n",
      "Средняя функция потерь для дискриминатора = 0.24943017432915754\n",
      "Средняя функция потерь для генератора = 5.072993381270047\n",
      "Today we are going to be Topeka, sueeka, Kennerly, Kis Revin’s Ladies who fought the speck of Turturtle Bay L\n",
      "Следующая эпоха\n",
      "Эпоха 75\n"
     ]
    },
    {
     "name": "stderr",
     "output_type": "stream",
     "text": [
      "116it [02:10,  1.13s/it]\n"
     ]
    },
    {
     "name": "stdout",
     "output_type": "stream",
     "text": [
      "Эпоха прошла за 130.8 секунд\n",
      "Средняя функция потерь для дискриминатора = 0.24370263876586123\n",
      "Средняя функция потерь для генератора = 5.085045802182164\n",
      "Today we are going to be at the occasion. The man in black replily. \"No: How you are we?” Jake asked. The gunslinger nodded.“Roland are the name of the man in black. I\n",
      "Следующая эпоха\n",
      "Эпоха 76\n"
     ]
    },
    {
     "name": "stderr",
     "output_type": "stream",
     "text": [
      "116it [02:10,  1.13s/it]\n"
     ]
    },
    {
     "name": "stdout",
     "output_type": "stream",
     "text": [
      "Эпоха прошла за 130.95 секунд\n",
      "Средняя функция потерь для дискриминатора = 0.22859670735638718\n",
      "Средняя функция потерь для генератора = 5.216176197446626\n",
      "Today we are going much.\" Somebody at an inchlaid chunks as \"Cimag yer vis lobster, Eddie, I'm call me name,\" McDona\n",
      "Следующая эпоха\n",
      "Эпоха 77\n"
     ]
    },
    {
     "name": "stderr",
     "output_type": "stream",
     "text": [
      "116it [02:11,  1.13s/it]\n"
     ]
    },
    {
     "name": "stdout",
     "output_type": "stream",
     "text": [
      "Эпоха прошла за 131.18 секунд\n",
      "Средняя функция потерь для дискриминатора = 0.2263145044702908\n",
      "Средняя функция потерь для генератора = 5.298930147598529\n",
      "Today we are going?” Eddie said. “Cort, I do. We’re still runs down.” “Yeah, yeah. We’re supposed to cross the top of the buildings. They’re planning to their\n",
      "Следующая эпоха\n",
      "Эпоха 78\n"
     ]
    },
    {
     "name": "stderr",
     "output_type": "stream",
     "text": [
      "116it [02:11,  1.13s/it]\n"
     ]
    },
    {
     "name": "stdout",
     "output_type": "stream",
     "text": [
      "Эпоха прошла за 131.26 секунд\n",
      "Средняя функция потерь для дискриминатора = 0.22712756057494674\n",
      "Средняя функция потерь для генератора = 5.519609508843257\n",
      "Today we are going?” The boy said nothing. He was peering into the darkness of the mountains and hobbles on the desk. “I don’t understand such a very well. I suppose you don’t\n",
      "Следующая эпоха\n",
      "Эпоха 79\n"
     ]
    },
    {
     "name": "stderr",
     "output_type": "stream",
     "text": [
      "116it [02:11,  1.13s/it]\n"
     ]
    },
    {
     "name": "stdout",
     "output_type": "stream",
     "text": [
      "Эпоха прошла за 131.24 секунд\n",
      "Средняя функция потерь для дискриминатора = 0.23349620311938482\n",
      "Средняя функция потерь для генератора = 5.243949088557013\n",
      "Today we are going at the slight-head rainbague and send Blaine’s Zabar. Topeka Z. Top Zoo, YOU-” Topeka, Blaine\n",
      "Следующая эпоха\n",
      "Эпоха 80\n"
     ]
    },
    {
     "name": "stderr",
     "output_type": "stream",
     "text": [
      "116it [02:11,  1.13s/it]\n"
     ]
    },
    {
     "name": "stdout",
     "output_type": "stream",
     "text": [
      "Эпоха прошла за 131.12 секунд\n",
      "Средняя функция потерь для дискриминатора = 0.21103093590073543\n",
      "Средняя функция потерь для генератора = 5.485725386389371\n",
      "Today we are going in Tull. Why-” “Your startinion,” Eddie muttered. “Mayors ‘Gody Aunt Trason on the cornps.” The idea of\n",
      "Следующая эпоха\n",
      "Эпоха 81\n"
     ]
    },
    {
     "name": "stderr",
     "output_type": "stream",
     "text": [
      "116it [02:11,  1.13s/it]\n"
     ]
    },
    {
     "name": "stdout",
     "output_type": "stream",
     "text": [
      "Эпоха прошла за 131.04 секунд\n",
      "Средняя функция потерь для дискриминатора = 0.26188205105477363\n",
      "Средняя функция потерь для генератора = 4.803269579492766\n",
      "Today we are going to change out of your brainse.” “Christrist,” Maud said. “I’m sorry with you, you.” He tried to imagine his headacess and\n",
      "Следующая эпоха\n",
      "Эпоха 82\n"
     ]
    },
    {
     "name": "stderr",
     "output_type": "stream",
     "text": [
      "116it [02:11,  1.13s/it]\n"
     ]
    },
    {
     "name": "stdout",
     "output_type": "stream",
     "text": [
      "Эпоха прошла за 131.12 секунд\n",
      "Средняя функция потерь для дискриминатора = 0.24688161973809375\n",
      "Средняя функция потерь для генератора = 5.019862962180171\n",
      "Today we are going to the Dark Tower,” Quick said. “Don’t worry, what we are, Mexand.” “Jack,” Susannah replied solemnly, “Uh?” “I\n",
      "Следующая эпоха\n",
      "Эпоха 83\n"
     ]
    },
    {
     "name": "stderr",
     "output_type": "stream",
     "text": [
      "17it [00:20,  1.20s/it]"
     ]
    },
    {
     "name": "stdout",
     "output_type": "stream",
     "text": [
      "Досрочно остановлено пользователем\n"
     ]
    },
    {
     "name": "stderr",
     "output_type": "stream",
     "text": [
      "\n"
     ]
    }
   ],
   "source": [
    "batch_size = 64\n",
    "\n",
    "model_D, model_G, optimizer_D, optimizer_G, loss_history_D, loss_history_G = train_loop_GAN(\n",
    "    D_model,\n",
    "    G_model,\n",
    "    all_dataset,\n",
    "    lm_b_cross_entropy,\n",
    "    lr_D=1e-2,\n",
    "    lr_G=1e-2,\n",
    "    epoch_n=150,\n",
    "    batch_size=batch_size,\n",
    "    device='cuda',\n",
    "    # early_optimizer_SD_D=optimizer_SD_D,\n",
    "    early_optimizer_SD_G=optimizer_SD_G,\n",
    "    tokenizer=tokenizer,\n",
    "    need_to_gen=True,\n",
    "    end_chunk=end_length,\n",
    "    phrase=\"Today we are going\"\n",
    ")"
   ]
  },
  {
   "cell_type": "code",
   "execution_count": 13,
   "metadata": {},
   "outputs": [],
   "source": [
    "from utils.base import save_texts_to_file\n",
    "# Сохранение всех моделей\n",
    "torch.save(model_D.state_dict(), './models/GAN/DT/1/model_D.pth')\n",
    "torch.save(model_G.state_dict(), './models/GAN/DT/1/model_G.pth')\n",
    "torch.save(optimizer_D.state_dict(), './models/GAN/DT/1/optimizer_D.pth')\n",
    "torch.save(optimizer_G.state_dict(), './models/GAN/DT/1/optimizer_G.pth')\n",
    "\n",
    "# И их loss-функций\n",
    "\n",
    "loss_history_D = [str(line) for line in loss_history_D]\n",
    "save_texts_to_file(loss_history_D, \"./models/GAN/DT/1/loss_D_1.txt\")\n",
    "\n",
    "loss_history_G = [str(line) for line in loss_history_G]\n",
    "save_texts_to_file(loss_history_G, \"./models/GAN/DT/1/loss_G_1.txt\")"
   ]
  },
  {
   "attachments": {},
   "cell_type": "markdown",
   "metadata": {},
   "source": [
    "### Генерация текста"
   ]
  },
  {
   "cell_type": "code",
   "execution_count": 10,
   "metadata": {},
   "outputs": [
    {
     "data": {
      "text/plain": [
       "<All keys matched successfully>"
      ]
     },
     "execution_count": 10,
     "metadata": {},
     "output_type": "execute_result"
    }
   ],
   "source": [
    "# Загрузка дискриминатора\n",
    "optimizer_SD_D = torch.load('./models/GAN/DT/1/optimizer_D.pth')\n",
    "D_model.load_state_dict(torch.load('./models/GAN/DT/1/model_D.pth'))"
   ]
  },
  {
   "cell_type": "code",
   "execution_count": 12,
   "metadata": {},
   "outputs": [
    {
     "data": {
      "text/plain": [
       "<All keys matched successfully>"
      ]
     },
     "execution_count": 12,
     "metadata": {},
     "output_type": "execute_result"
    }
   ],
   "source": [
    "# Загрузка генератора\n",
    "optimizer_SD_G = torch.load('./models/GAN/DT/1/optimizer_G.pth')\n",
    "G_model.load_state_dict(torch.load('./models/GAN/DT/1/model_G.pth'))"
   ]
  },
  {
   "cell_type": "code",
   "execution_count": 13,
   "metadata": {},
   "outputs": [],
   "source": [
    "beam_generator = BeamGenerator(G_model, tokenizer)"
   ]
  },
  {
   "cell_type": "code",
   "execution_count": 14,
   "metadata": {},
   "outputs": [],
   "source": [
    "def gen_some_sent(phrase, N, beam_size, need_reweight=False, temperature=0, alpha=0):\n",
    "    answers = []\n",
    "    for i in range(N):\n",
    "        beam_gen_variants = beam_generator(phrase, beamsize=beam_size, return_hypotheses_n=1, need_reweight=need_reweight, temperature=temperature, alpha=alpha)\n",
    "        for score, pred_txt in beam_gen_variants:\n",
    "            answers.append(pred_txt)\n",
    "    return answers"
   ]
  },
  {
   "cell_type": "code",
   "execution_count": 17,
   "metadata": {},
   "outputs": [
    {
     "name": "stdout",
     "output_type": "stream",
     "text": [
      "In the East River Crossing retinach couple of Uponiculate MacDonald, Susannah’s saved and stood atop by the Compon or\n",
      "In the Eastwardon began to rele and toward a thin edge of the Barony Coach. “SHALL YOUR FAIGHOOK YOUR RIDDLES\n",
      "In the East of the Wast River Barony Coach FASTTERFUGENTE ALLION, BUT THE FRIR-DAIR-\n",
      "In the East Village Pricoots were still full of shit-Blaineight. The other one had been a laine named foliage in Forty-N\n",
      "In the East Cradle of the Flmer Chanchers and the grille of the Fall of the Hall-Day in the Path of the Beam. Jake raised\n"
     ]
    }
   ],
   "source": [
    "answers = []\n",
    "for i in range(5):\n",
    "    beam_gen_variants = beam_generator('In the East', beamsize=5, return_hypotheses_n=1)\n",
    "    for score, pred_txt in beam_gen_variants:\n",
    "        answers.append(pred_txt)\n",
    "\n",
    "for ans in answers:\n",
    "    print(ans)"
   ]
  },
  {
   "cell_type": "code",
   "execution_count": 19,
   "metadata": {},
   "outputs": [
    {
     "name": "stdout",
     "output_type": "stream",
     "text": [
      "In the East Victor Dean. RIDDLE ASK FOR THE FROM YOUR RIDDLE OF THE FR FROM THE RIDDLES, JON\n",
      "In the Easts reamed the River Crossing, Mid-World Railaron! Once Roland steps backwards, the Railway forward of Barony Coach, and\n",
      "In the East, buttonishment of a Cadlements were reservi­tly vaguely aware that he had seen it in the line while on the other side of the\n",
      "In the East, of course, as the Wizard and Grays!” There were lots of brick buildings of the pulsing from its genuine concrete p\n",
      "In the East River Crossing, stepped gagging from Forts of the Pubes and Grice. There was a ring in the river. Roland stood on the road to the far\n"
     ]
    }
   ],
   "source": [
    "answers = []\n",
    "for i in range(5):\n",
    "    beam_gen_variants = beam_generator('In the East', beamsize=5, return_hypotheses_n=1, temperature=0.3, alpha=0.1, need_reweight=True)\n",
    "    for score, pred_txt in beam_gen_variants:\n",
    "        answers.append(pred_txt)\n",
    "\n",
    "for ans in answers:\n",
    "    print(ans)"
   ]
  },
  {
   "cell_type": "code",
   "execution_count": 21,
   "metadata": {},
   "outputs": [
    {
     "name": "stdout",
     "output_type": "stream",
     "text": [
      "The Sun is going to get better me.” Her face poked out. The man in black let out the flap and the front of the mirror turned to the words instead of The Leaningdia\n",
      "The Sun is going to fallen apart. The Tick-Tock Man Crawled on him, and put a pair of jewel on her. He was as if this was going to grab-hazed to be\n",
      "The Sun is going down BOTH ALL!” Blaine’s engued-bright engments-bo invading a species of stunned emerment, and a huge red\n",
      "The Sun is going to mental proposes. Which directions of the Kansas, and the River Crosslear of Crossing had been cut off to the assho\n",
      "The Sun is going to tell, I think it better.” “Maybe he’s gonna be,” Jonson-leone connected in the High Speech. And he’s gonna be in\n"
     ]
    }
   ],
   "source": [
    "answers = []\n",
    "for i in range(5):\n",
    "    beam_gen_variants = beam_generator('The Sun is going', beamsize=5, return_hypotheses_n=1, temperature=0.3, alpha=0.1, need_reweight=True)\n",
    "    for score, pred_txt in beam_gen_variants:\n",
    "        answers.append(pred_txt)\n",
    "\n",
    "for ans in answers:\n",
    "    print(ans)"
   ]
  },
  {
   "cell_type": "code",
   "execution_count": 22,
   "metadata": {},
   "outputs": [
    {
     "name": "stdout",
     "output_type": "stream",
     "text": [
      "Температура = 0.01, альфа = 0\n",
      "The way was that she quick. The Really Bad Man had brought her back to the Really Barony Coach already done. Never she had been on to seeing out of being b\n",
      "The way was 98: Topeka Zol Zurritan. Eddie did not want to li more than this tongue eighty the best. Topeka\n",
      "The way was being replaced by the monotonous flat country: a vast plate, a rough south of Shin Gile, Chunksler: David Q\n",
      "The way was a part of hissompunatic, but there was nothing to talk at all. Jake didn’t understand that; Gasher choked his projection already. At first there was\n",
      "The way was misercable.“Than’t sleep to Blaine,” he said. “Answer,” the gunslinger said alone, and then. Engineer Bob. “I will come\n",
      "-----\n",
      "Температура = 0.01, альфа = 0.1\n",
      "The way was Maryanny Final Essay, superstarggar. He was a lot more than three or fourteen. The Severthe cover had been in\n",
      "The way was having a little caroufl – “ “Oh, Jerky!” Jake replied. Aunt Talitha said solemnly, mildly, clearing assurg\n",
      "The way was forced by a successfully resolvantful monscious sand, but there had been a few more remarksions, but the only one infinitely\n",
      "The way was undoubtedly intercitation, but of course increase of the physitedence which experced a magnatica, obvived in con\n",
      "The way was very uneasily. Didy even Bylon ’stibies. ’ Trapped the Three-too-H-Hoo large to dance. I\n",
      "-----\n",
      "Температура = 0.01, альфа = 0.3\n",
      "The way was a confusion of scratches on her cheeks in pursectile.“What’s —He crooked out of the matricance and begin to\n",
      "The way was movie: how everything he was on the fever, but he didn’t know how to take what he?” “I don’t know,” Jake said. “Blaine?” “Answers.” “It remind\n",
      "The way was a new False-Day Z. Delean, tittered none of its own departests and full modests amusement. He closed\n",
      "The way was on the other side. The other side was a young playing sea side. The other side,” Jake said. The gunslinger drank three him furiously ate with an effort.\n",
      "The way was a hammering creatures to be a great relief torturious inscriel by on the deepest gesture. This was no poisoned by a\n",
      "-----\n",
      "Температура = 0.01, альфа = 0.5\n",
      "The way was Lying. You got to the marker. In the far side of the mono’s wedds, the roofing birds they had been in a bedroom. The\n",
      "The way was perfect understanding from the speaker of a giant lot. “Okay,” he said. “Thankse.” “Sam.” The minute half of the TALK/Lill\n",
      "The way was moving. The desert was a sigmerican choked in the soaph below was thick. It was black, Even in a deep spring-colored Tower. The\n",
      "The way was not confled, but the Old People, also help me during the cool turinits of the Barony Coachine congRocer.\n",
      "The way was in the Big Emptomeran, and Charlie the Choo-Choo.Choo was his heat on the table of Mr. Bissette to stay\n",
      "-----\n",
      "Температура = 0.2, альфа = 0\n",
      "The way was empty.” Susannah shrugged.“It was fascinated by a small, uggly spate. In the story of the way the lot, the lit\n",
      "The way was doing a lot about King Kansas had tower Boy Naughter From 150, ROLAND Sixtembered Rugar R. Boing\n",
      "The way was not very surprised to see how it was now. There was a magic shift on the other. Es was a number of purple triumph-ollous in\n",
      "The way was very bad. He guessed that he was standing on the horizon. The room was a full mirror, cracked eyebag at Jake.“Give it this!” he burst\n",
      "The way was pilgrims of zigging insurge that poisoned the calm of the valve-wheel of the loads, swooped empty faster\n",
      "-----\n",
      "Температура = 0.2, альфа = 0.1\n",
      "The way was ignored the city, but it had to be the coolness in the years afternoon. He wanted to tell you. If he was going to talk about Charlie the Choo-C\n",
      "The way was the only time.” “Lembody,” Roland said. “We adjust you, Road funns?” “That sound of the drugs?” Susannah asked the calm, and\n",
      "The way was gonna kill me. Conser Rile ornam Levisit and the towns of the Tomitish Today load-My Barot card\n",
      "The way was Topeka, but Topeka later Katz's L.Wevinced radio to the sign on the floor of Killeflex City\n",
      "The way was poispted past the blankment again, perhaps slowly, speaking rapidly. It was like a barrel of a buzzed liqueeing in the eye of a\n",
      "-----\n",
      "Температура = 0.2, альфа = 0.3\n",
      "The way was waiting inside him. The brown was occasion of the engines becoming a scarlet: “Stop for my favorite,” the man in blacktop\n",
      "The way was suddenlying. In this world, Riddle-De-Dum!, it was a grindful name: Roland first time to put his Final Essay. Of course\n",
      "The way was part of his Finals Week, the grades-ware part of Final Essay. Jake Chambers’s first teacross to the French Fren\n",
      "The way was gonna kill Charlie the Choo-Choo-Choo, pulling a tickle. Then hes suspends off, Charlie the Choo-choo-choo\n",
      "The way was coming: smoke 98: THE TUMNTINGERY, ROLAND OF GILEAD, RIDDLES. I WOULDLES\n",
      "-----\n",
      "Температура = 0.2, альфа = 0.5\n",
      "The way wastful Robert Brown shrill, and ran southeast, along the path of the Beam in the Cominiton Room. Leaning\n",
      "The way was much better than a mile or runnamning. The land was on Although it was the last leading on the little nose noise like the right-the station had ever been\n",
      "The way was empty. The smaller boots which had fallen below the man in black had more than twenty minutes ago, and the castle of the Western Milltern Send\n",
      "The way was Aunt Talitha-toproved Christ, Buildtons, and Talitha had been sitting across the road by the third door. And sure it was\n",
      "The way was very younger than a very interest. He was a recognized as a child, a week ago, but he had a nicely new articic – New York\n",
      "-----\n",
      "Температура = 0.5, альфа = 0\n",
      "The way was very bad, but there were a deep chunk of idimipe. He recognized, then, dressed to his hand and fell to the butt of Charlie the Choo\n",
      "The way was an empty claimit under the counter. After a moment, when he realized a pair of Jeeves the Guyardia told O'Mearah didn't not\n",
      "The way was doing a magnification by a nigger original plan to have been full collecains undernectly in the several fundr\n",
      "The way was a snacker,” Eddie said calmly. “It’s the same time he talked to use up.” Susannah flipped out of the shadows of the kitcom beyond the building where\n",
      "The way was once more utter blinated beauty. Your foolish, the tunnel of the Dark Tower,” Susannah murmured. Roland repeated the shruggle of\n",
      "-----\n",
      "Температура = 0.5, альфа = 0.1\n",
      "The way was on the other side of the doors with a shadowy objectscured in the corner. “But if I missed myself,” Jake said. “Isn’t that a man\n",
      "The way was a lot of different people from the line-top reaching the Rivers of this finehold Street. Louis Louis and Topeka run\n",
      "The way was coming when he paused. \"Jesus Christ, I mean.\" \"The Nearah.\" 1 For a moment his head hurt a moment, considered her, then added:\n",
      "The way was once: a trigger, Blaine the Markey Academy Avenue is Avenue words. I know you recognize this Speative\n",
      "The way was home. The thickness wavered with red lines loosely in the ceiling of the Barony Coach. The new Boach had begun to swellpl\n",
      "-----\n",
      "Температура = 0.5, альфа = 0.3\n",
      "The way was about to cheer point. Fat Johnny got a lot about two positions, O'Mearah displayed to Keforts. There was also a look in\n",
      "The way was Forty-second Avenue or Burlingtle, Final Essay. Chaysayson’s maybe that’s full of light. Wide Es\n",
      "The way was finally beginning to kill each other, and then, added: “Let’s leak send your lessone,” the gunslinger murmured. “My motherfucker beaut\n",
      "The way was misankey!\" \"Pardiant to watch it,\" Katz said croonaldly. \"no what I want to do to be dispe,\" the gunslinger\n",
      "The way was much companion killing. The Gray part of the Worlds of the Western Sea. RIDD AND GILES SOMELOKING 1\n",
      "-----\n",
      "Температура = 0.5, альфа = 0.5\n",
      "The way was a bottom of trig coat again, and the first snake on the way upstairs of \"Gods,\" she said. \"Gun,\" McDonald man\n",
      "The way was much more than a mile, and she supposed there were sugggestsy. Keflex.\" She uttered a little pocket and put her hands over the head of\n",
      "The way was a playing Ly Turtle Bay Robertley Curradleman, and Susannah had come neatly in the last vision of the road\n",
      "The way was being here, sugar, he never hurvous, wanting to take a closer look at the kind of cyelodolossess bags to hold you and catch me\n",
      "The way was veilty-Sar Almost, but Topeka, Kansas, Boy Stevil Barony Coach once more Topeka loatur\n",
      "-----\n",
      "Температура = 0.8, альфа = 0\n",
      "The way was coming – “Eddie?” “Yes.” “Not a great movement!” The man in black stood with a sudden, uncomfable. He looked at it for a moment, then relax\n",
      "The way was just some people who got a lot of humanity Zoltan.Zephyrange Zoltan lurtan awoke in the western little Ch\n",
      "The way was misible. He caught a sumbites and to the popsota of devilotograts. That was a subway between the sort of a magic\n",
      "The way was mentional funny; the Lady French leading into the country and on, language. One is on a chance of the most comes\n",
      "The way was ignoring the fact that it could be taken inside. Although she had become a mahfah, she lived in the midle of some new machine in this same\n",
      "-----\n",
      "Температура = 0.8, альфа = 0.1\n",
      "The way was coming when the gunslinger was shame. He fired to Jake, all the same. “YOU’S Did you?” “He was right,” he said. “I’m afraid of what Mr. Bissett\n",
      "The way wasted on the corner of Second Aunt Talitha, led them to watch the invisible over the Cent lady, and then disappeared into a Mar\n",
      "The way was gonna stand it. \"Listen,\" he said, turning at last. \"Let's do,\" Eddie said quietly, \"Come on.\" —one lying in the abs\n",
      "The way was part of it was doing a playing game a junkie for him. But it was better than a hallucination, anyway, he’d buddy, Eddie couple of\n",
      "The way was a man whose stagger. \"Okay,\" he said. \"We're just a real picture of a cardon?\" George said he had asked. \"They killed my brother,\"\n",
      "-----\n",
      "Температура = 0.8, альфа = 0.3\n",
      "The way was uttering the truth, Zoltan had writtined, and the crisscross vague perfectly over the best of X’s NEXT\n",
      "The way was coming out of the other. He paused for a moment, then managed to get up the answer to a question. \"Eddie!\" Katz didn't answer,\" McDona\n",
      "The way was the Dark Tower.” “NO!” In compatrier on the magicians’s old man with a driver recognized as a posture of paperment fir\n",
      "The way was to Final Essay, for the French levelssich and such a couple of such a months ago, as the dead as the Forty\n",
      "The way was a kid who was dopectorset. \"Cort,\" George Bi said, and gave the white, Jack Mortcypedia identified as the sidewalk\n",
      "-----\n",
      "Температура = 0.8, альфа = 0.5\n",
      "The way was adding: 98:25 550 505 62 4 41 5 43 50 6 450\n",
      "The way was a kind of century-the one who’d believe the Mid-World Railway Cailway Company, and the Mid-World Railway Compan\n",
      "The way was the last of the riddle was a book. “AND MOM THE FAIEND OF THE FROM THE FROM OF THE RIDDLES IS NEX\n",
      "The way was a lot of people who has got to be drowned in a fish Talth- Avenue. I hope we were in here, after the most parting forty years.\n",
      "The way was Blaine the Mono in Lud again. “BEST YOU ME TO GO ANY RIDDLES,” Blaine said. “THEST BUT THEME TUD\n",
      "-----\n"
     ]
    }
   ],
   "source": [
    "temperatures = [0.01, 0.2, 0.5, 0.8]\n",
    "alphas = [0, 0.1, 0.3, 0.5]\n",
    "\n",
    "all_test = itertools.product(temperatures, alphas)\n",
    "\n",
    "for t, a in all_test:\n",
    "    print(f\"Температура = {t}, альфа = {a}\")\n",
    "    answers = gen_some_sent(\"The way was\", 5, 10, True, t, a)\n",
    "    for ans in answers:\n",
    "        print(ans)\n",
    "    print(\"-----\")"
   ]
  }
 ],
 "metadata": {
  "kernelspec": {
   "display_name": "Python 3",
   "language": "python",
   "name": "python3"
  },
  "language_info": {
   "codemirror_mode": {
    "name": "ipython",
    "version": 3
   },
   "file_extension": ".py",
   "mimetype": "text/x-python",
   "name": "python",
   "nbconvert_exporter": "python",
   "pygments_lexer": "ipython3",
   "version": "3.10.5"
  },
  "orig_nbformat": 4
 },
 "nbformat": 4,
 "nbformat_minor": 2
}
