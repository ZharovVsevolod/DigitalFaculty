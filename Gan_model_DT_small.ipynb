{
 "cells": [
  {
   "cell_type": "code",
   "execution_count": 2,
   "metadata": {},
   "outputs": [
    {
     "name": "stdout",
     "output_type": "stream",
     "text": [
      "The autoreload extension is already loaded. To reload it, use:\n",
      "  %reload_ext autoreload\n"
     ]
    }
   ],
   "source": [
    "%load_ext autoreload\n",
    "%autoreload 2\n",
    "\n",
    "import warnings\n",
    "warnings.filterwarnings('ignore')\n",
    "\n",
    "import matplotlib.pyplot as plt\n",
    "%matplotlib inline\n",
    "\n",
    "import itertools\n",
    "\n",
    "import torch\n",
    "from torch import nn\n",
    "\n",
    "import youtokentome as yttm\n",
    "\n",
    "from utils.base import get_params_number, init_random_seed, train_loop_GAN\n",
    "from utils.poetry import *\n",
    "from utils.transformer_tools import *\n",
    "\n",
    "init_random_seed(1702)"
   ]
  },
  {
   "cell_type": "code",
   "execution_count": 3,
   "metadata": {},
   "outputs": [
    {
     "name": "stdout",
     "output_type": "stream",
     "text": [
      "22507\n",
      "15004\n",
      "7503\n"
     ]
    }
   ],
   "source": [
    "horus = load_chunks(\"./datasets/DarkTower/DT14_red.txt\", chunk_size=300)\n",
    "\n",
    "ALL_LEN = len(horus)\n",
    "print(ALL_LEN)\n",
    "len_for_steps = int(ALL_LEN / 3)\n",
    "horus_for_GAN = horus[len_for_steps * 2:]\n",
    "horus = horus[:len_for_steps * 2]\n",
    "print(len(horus))\n",
    "print(len(horus_for_GAN))"
   ]
  },
  {
   "cell_type": "code",
   "execution_count": 4,
   "metadata": {},
   "outputs": [
    {
     "name": "stdout",
     "output_type": "stream",
     "text": [
      "7403\n",
      "100\n"
     ]
    }
   ],
   "source": [
    "for_mauve_test = horus_for_GAN[len(horus_for_GAN)-100:]\n",
    "horus_for_GAN = horus_for_GAN[:len(horus_for_GAN)-100]\n",
    "\n",
    "print(len(horus_for_GAN))\n",
    "print(len(for_mauve_test))"
   ]
  },
  {
   "cell_type": "code",
   "execution_count": 5,
   "metadata": {},
   "outputs": [
    {
     "name": "stdout",
     "output_type": "stream",
     "text": [
      "<PAD> <UNK> <BOS> <EOS> ▁ e t a o n h i s d r l u w g c m f y . b , p k v T I E H “ ’ ” A S - \" R O ? ' N W B D J Y M C L x z ! j G F … ; U P q : K ) ( V ­ — 1 – 2 3 4 9 5 7 0 Q 6 8 X Z / ‘ $ * » ^ \\ # + « ~ _ ] [ & ▁t he ▁a in ▁s ▁the ▁w ▁o ▁h nd ed ▁b er ou ing re ▁f it ▁c at is ▁d ▁l ▁m as en ▁th ▁and ▁to ▁of ▁he ll an ▁g ar ad es on or ▁p ▁in ▁n ▁T ▁was id ow ▁be om ut ▁it gh ld ▁y ot ▁on le ke ▁e ▁“ ac ▁his ▁I im ly ▁st ▁H us and ic ▁r ▁had ▁you oo un ▁The ght ie et ay ▁that ▁wh ve dd al ▁S ver ▁sa os ▁as ▁E ir ol ▁re ▁He ith ▁A ould ▁at ’s ain ight ▁with ▁R ur ent ked ddie ▁Eddie el ▁him e. her ▁k ake am ▁sh ▁for ▁B ▁u ▁J ▁li ▁but e, ▁an ter all ack ▁\" ▁said ▁ha ▁se ▁her oland ▁not ▁Roland ling s. pp ill ch ▁fr st ▁loo ▁do if ion s, ▁gun ▁W ▁Jake ard .” ▁kn ▁M ome ore ▁up ’t ▁like ▁she ust il ed. ▁whe ere ▁O ▁C ound ▁al th ▁out ell ▁guns ▁j ▁tr ant ▁from ind ▁all ro ▁one ck ▁were linger ▁this ▁they ▁gunslinger um em ▁been ▁them ▁would ▁have ▁ne ▁bl ▁le ▁ag to ap ?” hed ▁D ▁su ood 's own ▁did ce ,” ough ▁is ▁v ast ▁no ▁go ▁back ▁de king ag ▁could ▁so ong ▁bo ▁sp ▁or ▁hand ▁It hing se ▁gr ▁cl ▁wor ▁ar ess ought ▁there ▁ch ▁we ▁ab ▁me ▁man hat ted ich ▁what ▁N out ▁if ▁into ▁G ▁looked ▁again way qu ah ▁cr ▁fe 't ▁br ▁“I ide ep ▁tim ▁which op ▁Y ed, ▁thought ▁ey y, one ▁said. ▁over ▁pl ick ort ig ▁then ost ul ven n’t est ann ct ▁F ▁Sus nder art ▁sm ▁know ab ▁dr itt ▁your ▁some ▁un ull ose ▁now ▁down ▁when ▁fac ▁ex y. urn ▁tw ink aw ▁eyes ist ▁who ther ▁sl ▁by ▁fl annah ers ▁And ge ▁She ▁only ▁Susannah our ▁right ▁sc ▁just oic very ▁ro ▁my sel ▁con omet are ous ▁voic ▁L ly. ▁thr ward ▁str ally ear ▁other ▁com ak ▁about ▁head ame ▁P .\" ▁way pped ▁more other ▁thing ittle ry ft ▁long ▁too ▁see aus ▁qu ▁saw !” ▁their ive ▁want self ▁don ▁still n't ber ▁time ▁little ▁beg oss led ▁“W ach ▁door es, ▁its ation ▁somet ▁co ark ▁mo uck ett ew pt ▁turn res ▁through ing, ▁“T fore ▁“Y es. ath er. ▁are ▁boy ▁than ▁any ▁think ile ing. ied lain ang ass ved au ▁fir ▁around ream ▁us ▁under ▁old ▁it. ip ▁where ▁en ▁bec ▁can ade ▁They ▁before ▁might ▁even elt ▁wat ▁world ire iz ▁it, ff ▁rem az er, ▁asked ble ree ▁off ite ▁seem ▁two ?\" wn ine ▁gl ause ▁po ▁look ▁af ▁bet ched ▁lo ▁how ▁Blain reat ▁sound ▁But ▁got ild ▁something ▁His ▁TH ▁( ▁left ▁said, ▁voice ▁sw ▁away ▁first ER air ▁\"I ly, ▁ke ue ▁mu ate ▁here ▁There ▁mom av ▁pr ▁felt ▁get ▁moment ook ▁going ave ond ,\" ure ▁ac most hen ▁You ▁came ▁made ▁him. ▁come oth ▁began pen ▁plac ▁say ’ll ▁gu ▁Th ▁face ather ▁ste ▁knew ▁light ▁black ▁wom ▁own od imp ▁after ▁pe ▁bel ▁almost ▁day ▁mind here ▁went ▁Blaine ▁last pe ▁per ▁fo ▁dis ▁seemed ▁good ▁end ▁pro ▁“A be oun -t ud ▁open ▁him, ies ity ▁feel idd ▁never OU ock ▁Hen ▁ho ▁call een anc pl ▁That ▁sk ▁looking ▁On etta ▁didn’t ▁cle ▁because ▁woman ▁wr ▁much alk IN ▁again. orn ug les ▁don’t ▁dark ▁every ying ▁turned ▁may me ▁arm ▁happ ▁des -s ▁himself ▁che ret ump ▁THE ▁will rew ▁real ▁toward ▁enough ember ▁very ▁… ▁Then ▁put ▁fin irt ▁Henry ving ▁should ▁tell ▁star ▁hands ▁Ch ▁spe ▁car ▁dead ri ower ▁those ious ady dden ▁clos ▁wind ress ▁another ▁bu ross atter umb ng ▁nothing ND ▁wa less -b ful able ▁In ung per int ▁am ▁well head hap ▁sn igh ▁need ▁heard ▁has ▁If iss ▁sure outh ▁Be aking ▁I’ ish ▁run ▁pull ▁side ▁app ’re ▁“You ▁\"Y ▁sudden ▁remember ▁both ▁em ▁part hind ▁seen ▁“S ▁K ▁let ▁“H ▁happen ▁sur ▁three ▁“N fe ▁lau ▁word ▁ins ▁father ▁kill ▁underst ▁place ▁took ▁make ither ▁year ▁clear ▁once ▁feet iver ▁pass ▁far ek ▁cour ▁asked. ▁scream ▁What ▁stood ▁mean ail e.” ated ▁te alf ▁ear owed oke ▁must ▁fing ▁aw ove ▁told ▁sil ween age thing ▁again, ▁behind uth .“ ople leep ▁supp ▁these ▁take ▁between ▁across ered ▁cont ▁hear ket ▁nodd ▁ever ▁dro ▁\"W ▁bre ▁night ▁hard ▁When ign inn uff ▁mouth ON ool ▁1 ▁This ple ▁fire LE ▁fell sw ment AT ▁pus onder ▁deep ▁– ▁el ▁St ▁wal ching ▁same cked ▁really ▁didn't ness ▁. ▁De ached ▁cur ▁half ▁small ▁sec ▁YOU ▁things ub ank ix ▁don't ever ▁held ▁gone ways act ▁Now ▁people unk ▁gon ice ▁Oy ance OR ▁sho ▁slow ▁wall ▁stand up ▁called tain ▁them. ged ▁fall ▁I' ized ▁most ty ▁belie ▁draw ction ird ▁hu red ene ho ▁“What til get ▁Jake’s ▁ed ▁answ ons ▁tre ▁dream ▁care ▁found ▁wonder ▁white ▁each asher ▁better ’d ▁bit ▁bod ▁always ▁squ -w haps ▁big ten co hy ise ▁quest ▁along ▁“B ▁least ily though iff ▁ter amp ange ▁“It !\" iv ▁OF so gr ▁Gasher ▁sen ▁ridd pr ▁thin ▁\"T reet ▁against -T ▁bar ont ▁imp ▁fore ▁sun ▁close ▁sat ▁them, ▁res ting ence ▁hold ▁great ▁thought. ans aid ▁No ▁Roland’s ▁blue ows ▁does ▁suddenly ▁understand ci ▁it’s ▁I’m -f ▁find LL aught azar ▁hor t, ▁Detta owing -c ▁while ▁until ES ▁child ▁Mort alazar ▁pulled EN ▁either ▁“The ob ord le. ▁bad ▁Balazar ▁shad ▁red ised oud ▁As ▁fuck ▁without ▁air ren ible ▁blood ▁For AN ▁“O ves ▁such ▁pain ING ▁wheel enc hes ▁heart ror te ▁question arl ▁im ▁bro ▁high ase apped reen ), ▁min eneath ▁We ▁guy ▁hair ike med ▁Tick ▁now, ▁ser ▁room ▁flo ▁reached ▁God cept ▁yell ▁All ably ▁sto ▁you, ▁pur 're ▁U ating ▁walked ▁sleep ▁above ▁up, ▁also aken ▁\"You ▁forward ▁inter ▁lay ▁point ▁hur ▁second ▁ra ▁wait sed detta ib ▁Cort ▁Not ▁leg app ▁being ash ▁keep ▁Man ▁four ▁ide ▁war ▁new ▁stor ▁act -Tock ▁chair ually ▁dist ▁rest sh unt ▁water mer ▁rel ne ▁matter ▁foll icked nes ▁ad bed ▁wanted ▁wasn’t ▁few iend ▁young imes ▁perhaps ▁maybe ▁mother ▁many ▁beneath ny ning ▁“D ee ▁kid ▁yet ▁Tick-Tock -h cted ▁tou ipped ▁Odetta ines ▁ent ▁hel ▁Jack ED ster ▁me, ▁land ▁cut ▁that, ▁although ▁build ▁play ▁hop -” ▁At ▁thought, ▁inst ▁So atch ▁die ▁front ▁suppos on’t le, ger ▁TO ief ▁mon ▁alre ork ▁inside full etting ace ▁friend ▁idea se, ▁street ▁stop ape ▁Eddie, ▁moved iling ▁back. ▁simp ▁ret ▁years ▁corn ▁our ▁shr IT ▁smile ▁V ▁scar ▁time, utter ▁read AR aring ▁wood ped ▁men ▁surpr ▁roll ▁lat ings -m ▁fur ▁up. ▁her. ▁green ▁Tower ▁sid ▁comp but irc ▁lif ▁steel ▁minut illed ▁“G ▁swe on. ▁dec ▁Br ipp ▁remain ▁start ical ▁exp ▁One -the ▁cent ▁sin ▁rock ▁smell AS ned ▁nodded. ened t. ▁there, ane ▁book ▁tried ▁all. ▁done ▁lot -a bably oub ▁near ▁bright ▁lip ▁eas ▁Her ▁fingers yond -d ▁cross ▁full where ▁sing a, str ▁bus ▁ran ▁now. ▁city ▁used ▁top ▁short se. ▁smil ead vol oh ▁tal ▁past ▁circ ▁coming gether ▁wrong io ▁coun ▁shoot ▁ahead ▁shook ▁step ▁“C ▁floor ▁I’ll ▁It’s ery -p ▁shirt ▁eyes. ▁body ▁give s.” ▁fear ID ▁sign ▁life on, ▁hand. ▁deser ▁thro ▁“L ▁“Yes ler cc ▁feeling ▁thinking the ▁dropped ▁hour ▁, ken ▁nam ▁speak ▁train ▁bear ect ▁already ▁pre ▁love ▁able ▁met ▁time. ▁mar ▁trying ▁sand ▁low ▁“No ohn xt ▁box ▁face. ▁together ▁whis ▁words ▁spr ▁\"A -and ▁pushed ▁pret ▁guess RE ▁ob ▁head. arlie ▁standing ▁bur ▁I'm ▁kind ished ▁Dean ▁Do ▁pant ▁voice. h, ▁set ▁shot ers. ▁hum ▁supposed zz aybe ▁gave ▁key read ▁eat ▁\"N ▁hell cl ▁why ▁caught orm ▁course ined ▁diff ▁sort ict ▁answer ▁stuff ▁watched ▁itself ▁Mr row ▁' ▁gi ▁since IS cket uthber ▁brother ▁Sh ▁probably ▁on, ▁believe ▁rose ▁Susan ▁right, -l anced ▁bull ▁AND ison ▁New ▁cold ▁quick ▁soft ▁IN ▁else ▁revol ▁jo ▁closed ▁neck ▁out. alm ▁realized ▁sounded ▁death ▁wasn't ▁was, ▁Cuthber aster ▁Charlie ▁heav ▁lost ▁back, ell, ▁John ghed ▁Eddie. irl ▁taken ▁glass ▁someone ▁pie ▁ple ▁lar OW ▁ten ▁slowly ▁dang ashed enty ▁move ▁name ▁road ▁“M ▁shadow ▁started ▁opened ▁How ▁cheek ▁arms ▁below eared ax ▁paus ott ▁truth ▁talk ▁repl ▁quite ini aint ary ▁happened ▁har ▁mad ▁\"S ▁conf ▁sometimes ▁expe ▁creat kay ▁scr ▁help ▁next ▁strange ▁teet ▁laugh ▁“We 'll ced vel ndred ▁passed ▁Some itting ▁doing ▁that. ▁onc ▁shit ▁BE ▁getting ▁spoke ▁Eddie's ▁ago ition ▁upon ▁laughed got ▁right. isten cause ▁ask ▁can’t ▁beach ▁hot ▁eye ▁Se old ▁me. ▁finally ▁ye ied. ▁att ▁inc ountain ▁brought ▁empt ▁“That ▁five olor ▁ele ▁kne ▁whisper ▁foot ▁struck ▁meant ▁track ▁2 OM AD ▁ap ian ▁exact ▁mach ▁her, e,” aded OT ▁longer AND urned ▁dire ▁work ▁gray ▁gold ▁\"H ▁hundred aving ▁anything ife ▁acc ▁conc IC ers, ▁raised ▁six ▁sky ▁strong ▁that’s lew ▁skin AL ▁hung ation. ▁dem ▁shell ▁tight ▁“It’s ▁remembered ▁Andol UT at, ▁York ▁yellow ▁“He VE -r ▁here, ▁ass aked vers ’ve ▁it? ▁Andolini ▁mov ▁Roland, -th chair ▁sick ards how OL ugg ▁doub ory chool ▁it?” ▁mil ▁holding ▁mag ▁pap ▁dust ▁ref ▁ind ▁par ▁brief ▁walk ▁kept ▁spl ▁stopped ▁comple ▁there. ▁Tow ression ▁poss ▁ain akes ale ▁window ▁miss ▁sam ▁grab alter ins ▁cons ▁Cuthbert ▁differ ▁int ▁beyond raid ▁An ▁rust acked ident ising ried ▁teeth ▁you. ▁actually ▁bes ▁moment, iness eas ▁Jake, mb ▁drew ▁others ▁onto ▁3 ▁become ▁Mart ▁down, ▁filled ▁door. ousand inted ▁bag ▁er ▁on. ▁everything ▁away. no ▁butt orge room ▁To ▁whole ric ▁legs ▁watch ▁watching ▁moving ▁morn ▁less ▁fast ▁wheelchair ony ▁Re aut ▁all, at. ▁wer ▁thousand ▁mem ▁girl ▁running ▁silent ▁chest ▁anyway ▁tear ▁sub ement ▁\"O ▁Or ide, TER att -but ▁dirt ▁chang ▁herself ▁Ge ▁WH ▁del ▁Eddie’s ging ift ▁hurt ▁dam ▁broken ial ▁sense ’m ▁away, ▁town ular ▁afraid en, ▁glanced ▁craw ▁couldn’t ▁thick ▁though ▁gh ided ide. ▁appro ▁making ouse ering agged ator illy ▁gras ▁bell ▁ON na ▁single ▁edge ity. ▁ground ions SE ▁Roland. ▁inv 'd ▁gone. ▁too. ier ▁Al ▁huge upid ▁breath ▁stepped ▁hang ▁mur aged ▁face, ▁expression ▁somehow ual ▁faint vered KE ▁talking ▁touched cient side ▁craz ▁path ▁hand, ▁Old ▁Just ▁live -ch ▁down. ▁stra ared ▁occ ▁begun ▁best ▁gunslinger’s inning tern ion. ▁fact ▁smiled ▁third ▁mind. ▁days orld isted -W owd ▁ev -g in. ▁ancient ies, ▁out, ▁shape ▁followed ▁you're ressed ▁eyes, ▁stone ▁IS ▁station ▁forgot ▁ang ▁contin ▁final ▁backward ▁pers ▁head, ▁ir ▁cat OO man amb bb ▁cloud ouble ize ▁Somet ▁known ▁doorway ▁center ▁rep ▁gro ▁stupid tered ush arm ▁ka ▁sitting ▁Su ▁bullet ▁pretty ▁simply oof ▁“F ▁Bl not ness. eah ▁break ▁understood ▁threw fter ▁lean ▁IT ia nt aced ▁except ▁soon ▁lips ▁rolled one. ▁straight ▁was. day ▁ones ▁school ters uc ▁Mr. ▁es ▁wearing ▁you’re ▁needed ▁line ▁Dark ▁stick ▁bent ▁“R ▁this, ▁revolver ▁exactly ▁building ▁imag ▁nd his ▁did, ued ▁reas ▁know. iet ▁bott ▁piece ▁pocket ▁cre ▁\"What umped under ▁Q oy ▁large inal ▁believed ▁“And ▁free ▁wouldn’t ▁brid ▁stay ▁di ET in, ru ▁color ▁listen ▁instead ▁pu ient ▁forehead ▁week ▁river ▁Lud ▁“There ▁strang ▁rain ▁reg ▁world, ▁smo ▁cor ▁beside ▁mountain ▁Maybe fully ▁ros ▁try rible ▁claw ▁pack ime ▁dry ▁picked ▁Great ▁it's ▁ball tr ▁boot ch. ▁appeared umbler ones ▁nodded ▁screamed ity, ▁blind ▁\"D ▁ou ertain ▁Fr ▁George ey ult ▁desert ▁aware ▁killed ▁long, ▁cop ▁tem ▁ST ▁tin s,” arp ▁flat ▁cry umm\n"
     ]
    }
   ],
   "source": [
    "BPE_MODEL_FILENAME = './models/tokens/dt_bpe_2000.yttm'\n",
    "\n",
    "tokenizer = yttm.BPE(BPE_MODEL_FILENAME)\n",
    "print(' '.join(tokenizer.vocab()))"
   ]
  },
  {
   "cell_type": "code",
   "execution_count": 6,
   "metadata": {},
   "outputs": [
    {
     "data": {
      "image/png": "[encoded data removed]",
      "text/plain": [
       "<Figure size 640x480 with 1 Axes>"
      ]
     },
     "metadata": {},
     "output_type": "display_data"
    }
   ],
   "source": [
    "token_ids = tokenizer.encode(horus_for_GAN, bos=True, eos=True)\n",
    "\n",
    "plt.hist([len(sent) for sent in token_ids], bins=30)\n",
    "plt.title('Распределение длин фрагментов в токенах')\n",
    "plt.yscale('log')"
   ]
  },
  {
   "cell_type": "code",
   "execution_count": 7,
   "metadata": {},
   "outputs": [],
   "source": [
    "start_length = 20\n",
    "end_length = 70\n",
    "\n",
    "all_dataset = Dataset_for_GAN(token_ids, start_len=start_length, end_len=end_length)"
   ]
  },
  {
   "cell_type": "code",
   "execution_count": 8,
   "metadata": {},
   "outputs": [
    {
     "name": "stdout",
     "output_type": "stream",
     "text": [
      "[ 152   25  426  188  171  371  668  163 1101  251  530 1101  366  127\n",
      "  233  406 1468 1238  136 1224]\n",
      "[ 112  105  450  110   13 1330  198  253    8  137 1421 1089  105 1010\n",
      "  538  137 1268  638  785  384  104  287 1127  489 1324 1779  127  324\n",
      "  513  210  326  561  147  110  140  105  683  125  114  311 1303  155\n",
      "    6  576  162  129  105 1585  258  102  355  124  327  373  132  177\n",
      "   23  668  484 1786  188  797  188  507  370  170  843  776  539  143]\n",
      "['y, just as you said. Only wait.” They waited, and not twenty minutes lat']\n",
      "['er the Peddler’s Moon rose above the horizon-a perfect summer moon, huge and orange. It loomed in the darkening violet swim of the sky like a crashing planet. On its face, as clear as anyone had ever seen it, was']\n"
     ]
    }
   ],
   "source": [
    "check = all_dataset[2036]\n",
    "\n",
    "print(check[0])\n",
    "print(check[1])\n",
    "print(tokenizer.decode(check[0].tolist()))\n",
    "print(tokenizer.decode(check[1].tolist()))"
   ]
  },
  {
   "cell_type": "code",
   "execution_count": 9,
   "metadata": {},
   "outputs": [
    {
     "name": "stdout",
     "output_type": "stream",
     "text": [
      "Количество параметров дискриминатора 655301\n",
      "Количество параметров генератора 12563920\n"
     ]
    }
   ],
   "source": [
    "D_model = LSTM_Discriminator(100, 256, tokenizer.vocab_size())\n",
    "print('Количество параметров дискриминатора', get_params_number(D_model))\n",
    "\n",
    "G_model = Language_Model(\n",
    "    vocab_size = tokenizer.vocab_size(),\n",
    "    embedding_size = 512,\n",
    "    backbone = Transformer_Encoder(\n",
    "        nn.TransformerEncoderLayer(\n",
    "            d_model = 512,\n",
    "            nhead = 16,\n",
    "            dim_feedforward = 1024,\n",
    "            dropout = 0.3\n",
    "        ),\n",
    "        num_layers=5\n",
    "    ),\n",
    "    emb_dropout = 0.2\n",
    ")\n",
    "print('Количество параметров генератора', get_params_number(G_model))"
   ]
  },
  {
   "cell_type": "code",
   "execution_count": 10,
   "metadata": {},
   "outputs": [
    {
     "data": {
      "text/plain": [
       "<All keys matched successfully>"
      ]
     },
     "execution_count": 10,
     "metadata": {},
     "output_type": "execute_result"
    }
   ],
   "source": [
    "optimizer_SD_G = torch.load('./models/Lord/DT/2/Lord_opt.pth')\n",
    "G_model.load_state_dict(torch.load('./models/Lord/DT/2/Lord.pth'))"
   ]
  },
  {
   "cell_type": "code",
   "execution_count": 11,
   "metadata": {},
   "outputs": [
    {
     "name": "stdout",
     "output_type": "stream",
     "text": [
      "Эпоха 0\n"
     ]
    },
    {
     "name": "stderr",
     "output_type": "stream",
     "text": [
      "116it [02:11,  1.14s/it]\n"
     ]
    },
    {
     "name": "stdout",
     "output_type": "stream",
     "text": [
      "Эпоха прошла за 131.87 секунд\n",
      "Средняя функция потерь для дискриминатора = 0.23575851374209442\n",
      "Средняя функция потерь для генератора = 5.042009062808136\n",
      "Today we are going from Topeka, and Mans-World.” “YES.” “I SEEEAH YOUR QUICK YOU ME RIDDLES, ROLAND OF\n",
      "Следующая эпоха\n",
      "Эпоха 1\n"
     ]
    },
    {
     "name": "stderr",
     "output_type": "stream",
     "text": [
      "116it [02:11,  1.13s/it]\n"
     ]
    },
    {
     "name": "stdout",
     "output_type": "stream",
     "text": [
      "Эпоха прошла за 131.51 секунд\n",
      "Средняя функция потерь для дискриминатора = 0.06224592505143313\n",
      "Средняя функция потерь для генератора = 7.199996076781174\n",
      "Today we are going to die on the Boing Mid-World Railway. Lended to the Burt Bridge Tom Dravel Huns), Bridor\n",
      "Следующая эпоха\n",
      "Эпоха 2\n"
     ]
    },
    {
     "name": "stderr",
     "output_type": "stream",
     "text": [
      "116it [02:11,  1.14s/it]\n"
     ]
    },
    {
     "name": "stdout",
     "output_type": "stream",
     "text": [
      "Эпоха прошла за 131.93 секунд\n",
      "Средняя функция потерь для дискриминатора = 0.047703826603286995\n",
      "Средняя функция потерь для генератора = 7.757681747962689\n",
      "Today we are going?\" \"Fuckiah. \"Firractin,\" the gunslinger said in a voice: \"If it's not, I mean, I mean, you can't do it?\" \"B\n",
      "Следующая эпоха\n",
      "Эпоха 3\n"
     ]
    },
    {
     "name": "stderr",
     "output_type": "stream",
     "text": [
      "116it [02:11,  1.14s/it]\n"
     ]
    },
    {
     "name": "stdout",
     "output_type": "stream",
     "text": [
      "Эпоха прошла за 131.73 секунд\n",
      "Средняя функция потерь для дискриминатора = 0.019368246015550664\n",
      "Средняя функция потерь для генератора = 9.313554804900598\n",
      "Today we are going for the Prisoner, and the Path of the Wonder-Haxis and Pubes and Grays area Shakes of Monkid-World-and-w\n",
      "Следующая эпоха\n",
      "Эпоха 4\n"
     ]
    },
    {
     "name": "stderr",
     "output_type": "stream",
     "text": [
      "116it [02:11,  1.14s/it]\n"
     ]
    },
    {
     "name": "stdout",
     "output_type": "stream",
     "text": [
      "Эпоха прошла за 131.77 секунд\n",
      "Средняя функция потерь для дискриминатора = 0.019887344316822268\n",
      "Средняя функция потерь для генератора = 9.787839141385309\n",
      "Today we are going over here,” he said, “anding a little closer.” “Ifor you are, you?” “I’m sorry,” Roland said in a low voice. “I don’t know,” Eddie said. “I\n",
      "Следующая эпоха\n",
      "Эпоха 5\n"
     ]
    },
    {
     "name": "stderr",
     "output_type": "stream",
     "text": [
      "116it [02:11,  1.14s/it]\n"
     ]
    },
    {
     "name": "stdout",
     "output_type": "stream",
     "text": [
      "Эпоха прошла за 131.77 секунд\n",
      "Средняя функция потерь для дискриминатора = 0.017289569963207307\n",
      "Средняя функция потерь для генератора = 9.38377674694719\n",
      "Today we are going?” “I don’t know,” the boy said, and smiled a little. “Isn’t that much.” “All right.” “I’ll have to kill usual truth. I was a minute, but I think\n",
      "Следующая эпоха\n",
      "Эпоха 6\n"
     ]
    },
    {
     "name": "stderr",
     "output_type": "stream",
     "text": [
      "116it [02:11,  1.14s/it]\n"
     ]
    },
    {
     "name": "stdout",
     "output_type": "stream",
     "text": [
      "Эпоха прошла за 131.72 секунд\n",
      "Средняя функция потерь для дискриминатора = 0.013624444929080019\n",
      "Средняя функция потерь для генератора = 9.880779973391828\n",
      "Today we are going to ask.” “Irange KA-TET MORE IS NOSTING MINUTH AS A RIDDLE, BUNST ARE NOT\n",
      "Следующая эпоха\n",
      "Эпоха 7\n"
     ]
    },
    {
     "name": "stderr",
     "output_type": "stream",
     "text": [
      "116it [02:11,  1.13s/it]\n"
     ]
    },
    {
     "name": "stdout",
     "output_type": "stream",
     "text": [
      "Эпоха прошла за 131.64 секунд\n",
      "Средняя функция потерь для дискриминатора = 0.02222366326745471\n",
      "Средняя функция потерь для генератора = 9.799131023472754\n",
      "Today we are going?” “Are you sure?” The voice of Little Blaine asked. “YES. I WAST IT WELL RIDDLES, ROLUDLE OF NEW Y\n",
      "Следующая эпоха\n",
      "Эпоха 8\n"
     ]
    },
    {
     "name": "stderr",
     "output_type": "stream",
     "text": [
      "116it [02:12,  1.14s/it]\n"
     ]
    },
    {
     "name": "stdout",
     "output_type": "stream",
     "text": [
      "Эпоха прошла за 132.02 секунд\n",
      "Средняя функция потерь для дискриминатора = 0.01943358995877447\n",
      "Средняя функция потерь для генератора = 9.59642506467885\n",
      "Today we are going to sleep. I think you know that?” “Didn’t I mean?” “Yes.” He looked at the gunslinger, and then shook his head.“I don’t know where I think you know that.” He\n",
      "Следующая эпоха\n",
      "Эпоха 9\n"
     ]
    },
    {
     "name": "stderr",
     "output_type": "stream",
     "text": [
      "116it [02:11,  1.14s/it]\n"
     ]
    },
    {
     "name": "stdout",
     "output_type": "stream",
     "text": [
      "Эпоха прошла за 131.81 секунд\n",
      "Средняя функция потерь для дискриминатора = 0.02095323984821303\n",
      "Средняя функция потерь для генератора = 10.053578310999377\n",
      "Today we are going on ourselves?” “I CANNAKE YOU DE YOUR RIDDLESK?” Blaine asked. “THAT IS NOTHER, I WAS ROLAND\n",
      "Следующая эпоха\n",
      "Эпоха 10\n"
     ]
    },
    {
     "name": "stderr",
     "output_type": "stream",
     "text": [
      "116it [02:12,  1.14s/it]\n"
     ]
    },
    {
     "name": "stdout",
     "output_type": "stream",
     "text": [
      "Эпоха прошла за 132.21 секунд\n",
      "Средняя функция потерь для дискриминатора = 0.013327189502135673\n",
      "Средняя функция потерь для генератора = 9.98219578841637\n",
      "Today we are going to drawn apolog. The Piper Bill, the Turtle of the Turtle, Transase, the Turtle. The Gray\n",
      "Следующая эпоха\n",
      "Эпоха 11\n"
     ]
    },
    {
     "name": "stderr",
     "output_type": "stream",
     "text": [
      "116it [02:10,  1.13s/it]\n"
     ]
    },
    {
     "name": "stdout",
     "output_type": "stream",
     "text": [
      "Эпоха прошла за 130.78 секунд\n",
      "Средняя функция потерь для дискриминатора = 0.012295309967408559\n",
      "Средняя функция потерь для генератора = 11.005228371455752\n",
      "Today we are going?” “Answer Budically, I guesawed by the last of myth. I will.” “Exforry?” The gunslinger shook his head.“It\n",
      "Следующая эпоха\n",
      "Эпоха 12\n"
     ]
    },
    {
     "name": "stderr",
     "output_type": "stream",
     "text": [
      "116it [02:10,  1.13s/it]\n"
     ]
    },
    {
     "name": "stdout",
     "output_type": "stream",
     "text": [
      "Эпоха прошла за 130.87 секунд\n",
      "Средняя функция потерь для дискриминатора = 0.009835671052785292\n",
      "Средняя функция потерь для генератора = 10.692943046832907\n",
      "Today we are going to happen if we were still cosoms of riddles.” “THAT IS NOT IS NOT TRURTIVE RIDDLES?” “Yes,” Roland said.\n",
      "Следующая эпоха\n",
      "Эпоха 13\n"
     ]
    },
    {
     "name": "stderr",
     "output_type": "stream",
     "text": [
      "116it [02:11,  1.13s/it]\n"
     ]
    },
    {
     "name": "stdout",
     "output_type": "stream",
     "text": [
      "Эпоха прошла за 131.03 секунд\n",
      "Средняя функция потерь для дискриминатора = 0.020879454639035774\n",
      "Средняя функция потерь для генератора = 10.696601999217066\n",
      "Today we are going?” Eddie asked. “NOONE MUST CROBLEARE, ROLAND OF GILEAD. I WILL COME TOPEKA\n",
      "Следующая эпоха\n",
      "Эпоха 14\n"
     ]
    },
    {
     "name": "stderr",
     "output_type": "stream",
     "text": [
      "116it [02:11,  1.13s/it]\n"
     ]
    },
    {
     "name": "stdout",
     "output_type": "stream",
     "text": [
      "Эпоха прошла за 131.42 секунд\n",
      "Средняя функция потерь для дискриминатора = 0.020986242006419444\n",
      "Средняя функция потерь для генератора = 9.02040932096284\n",
      "Today we are going?” “Yeah,” Roland said, and his voice sounded as he living in his voice as well: “THEE YOU TRABE MAKE YOU SAKE OF NE\n",
      "Следующая эпоха\n",
      "Эпоха 15\n"
     ]
    },
    {
     "name": "stderr",
     "output_type": "stream",
     "text": [
      "116it [02:11,  1.13s/it]\n"
     ]
    },
    {
     "name": "stdout",
     "output_type": "stream",
     "text": [
      "Эпоха прошла за 131.0 секунд\n",
      "Средняя функция потерь для дискриминатора = 0.023706260532670623\n",
      "Средняя функция потерь для генератора = 8.977860853589814\n",
      "Today we are going?” Susannah’s voice cried. “THAT IS SUCHANNAHER OF YOUR RIDDLES TRY RIDDLES OF GILES\n",
      "Следующая эпоха\n",
      "Эпоха 16\n"
     ]
    },
    {
     "name": "stderr",
     "output_type": "stream",
     "text": [
      "116it [02:14,  1.16s/it]\n"
     ]
    },
    {
     "name": "stdout",
     "output_type": "stream",
     "text": [
      "Эпоха прошла за 134.71 секунд\n",
      "Средняя функция потерь для дискриминатора = 0.0105001377382121\n",
      "Средняя функция потерь для генератора = 10.509269549928863\n",
      "Today we are going?” The gunslinger shook his head.“I don’t know.” The gunslinger shook his head. “Dread?” “Yes. Maybe I know.” “How could,” the man in black repliesta said nothing.\n",
      "Следующая эпоха\n",
      "Эпоха 17\n"
     ]
    },
    {
     "name": "stderr",
     "output_type": "stream",
     "text": [
      "116it [02:14,  1.16s/it]\n"
     ]
    },
    {
     "name": "stdout",
     "output_type": "stream",
     "text": [
      "Эпоха прошла за 134.19 секунд\n",
      "Средняя функция потерь для дискриминатора = 0.014233587228804466\n",
      "Средняя функция потерь для генератора = 10.482451381354496\n",
      "Today we are going from where we going. 19 EDDIE 14 14 14 TAKE 19 14 1 1 2 23 23 23 23 28 1 2\n",
      "Следующая эпоха\n",
      "Эпоха 18\n"
     ]
    },
    {
     "name": "stderr",
     "output_type": "stream",
     "text": [
      "116it [02:10,  1.13s/it]\n"
     ]
    },
    {
     "name": "stdout",
     "output_type": "stream",
     "text": [
      "Эпоха прошла за 130.62 секунд\n",
      "Средняя функция потерь для дискриминатора = 0.014139988906741752\n",
      "Средняя функция потерь для генератора = 10.338932448420032\n",
      "Today we are going out of the Beeka, and the Turies in the Grays are the Guardian Post of Mid-World Park-World Railway Centr\n",
      "Следующая эпоха\n",
      "Эпоха 19\n"
     ]
    },
    {
     "name": "stderr",
     "output_type": "stream",
     "text": [
      "116it [02:10,  1.13s/it]\n"
     ]
    },
    {
     "name": "stdout",
     "output_type": "stream",
     "text": [
      "Эпоха прошла за 130.61 секунд\n",
      "Средняя функция потерь для дискриминатора = 0.011840978277930469\n",
      "Средняя функция потерь для генератора = 10.241614695253043\n",
      "Today we are going down there.” “Do you remember that?” Susannah asked. “YES IT’are, you mean,” Eddie said. “I’m sorry.” Roland nodded.“It has a lot, too. But I\n",
      "Следующая эпоха\n",
      "Эпоха 20\n"
     ]
    },
    {
     "name": "stderr",
     "output_type": "stream",
     "text": [
      "116it [02:10,  1.13s/it]\n"
     ]
    },
    {
     "name": "stdout",
     "output_type": "stream",
     "text": [
      "Эпоха прошла за 130.87 секунд\n",
      "Средняя функция потерь для дискриминатора = 0.01380562801330535\n",
      "Средняя функция потерь для генератора = 11.22304890895712\n",
      "Today we are going in the Barieselow the Grays and the Burt Coadema Hospits of the Western Mid-World Railway C\n",
      "Следующая эпоха\n",
      "Эпоха 21\n"
     ]
    },
    {
     "name": "stderr",
     "output_type": "stream",
     "text": [
      "116it [02:10,  1.13s/it]\n"
     ]
    },
    {
     "name": "stdout",
     "output_type": "stream",
     "text": [
      "Эпоха прошла за 130.79 секунд\n",
      "Средняя функция потерь для дискриминатора = 0.01434511562136573\n",
      "Средняя функция потерь для генератора = 10.931311681352813\n",
      "Today we are going?” “DOYOUNDST YOU ME OF NEW YOREVENT, JAKE OF NEW YORK. AW YORK. N\n",
      "Следующая эпоха\n",
      "Эпоха 22\n"
     ]
    },
    {
     "name": "stderr",
     "output_type": "stream",
     "text": [
      "116it [02:10,  1.13s/it]\n"
     ]
    },
    {
     "name": "stdout",
     "output_type": "stream",
     "text": [
      "Эпоха прошла за 130.67 секунд\n",
      "Средняя функция потерь для дискриминатора = 0.009588368390190038\n",
      "Средняя функция потерь для генератора = 12.003518745816987\n",
      "Today we are going?” “THE OF NEWAHE,” Blaine said. “I HAVE SOULD EDDDIE OF NEW YORK.” Roland nodded.“I\n",
      "Следующая эпоха\n",
      "Эпоха 23\n"
     ]
    },
    {
     "name": "stderr",
     "output_type": "stream",
     "text": [
      "116it [02:10,  1.13s/it]\n"
     ]
    },
    {
     "name": "stdout",
     "output_type": "stream",
     "text": [
      "Эпоха прошла за 130.69 секунд\n",
      "Средняя функция потерь для дискриминатора = 0.006176888795693983\n",
      "Средняя функция потерь для генератора = 12.911366076304995\n",
      "Today we are going?” Susannah asked. Roland shook his head.“What’s a little time,” Roland said. “Tell look of your story,” Eddie said. “Thankee-sai, Blaine,” Jake said.\n",
      "Следующая эпоха\n",
      "Эпоха 24\n"
     ]
    },
    {
     "name": "stderr",
     "output_type": "stream",
     "text": [
      "116it [02:10,  1.13s/it]\n"
     ]
    },
    {
     "name": "stdout",
     "output_type": "stream",
     "text": [
      "Эпоха прошла за 130.84 секунд\n",
      "Средняя функция потерь для дискриминатора = 0.007257849869911924\n",
      "Средняя функция потерь для генератора = 12.711934689817758\n",
      "Today we are going to find out here?” Engineer Bob asked Engineer Bob. “Why do you want to take me to the bottom?” “I don’t know about Charlie,” said Charlie\n",
      "Следующая эпоха\n",
      "Эпоха 25\n"
     ]
    },
    {
     "name": "stderr",
     "output_type": "stream",
     "text": [
      "116it [02:10,  1.13s/it]\n"
     ]
    },
    {
     "name": "stdout",
     "output_type": "stream",
     "text": [
      "Эпоха прошла за 130.66 секунд\n",
      "Средняя функция потерь для дискриминатора = 0.008902394093795386\n",
      "Средняя функция потерь для генератора = 13.084352781032694\n",
      "Today we are goingue of the Truths?” “Yeah.” “Jesus,” Eddie said. “I don’t know what you know.” “Is it not?” “Yes.” He sounded a little, but he didn’t\n",
      "Следующая эпоха\n",
      "Эпоха 26\n"
     ]
    },
    {
     "name": "stderr",
     "output_type": "stream",
     "text": [
      "116it [02:10,  1.13s/it]\n"
     ]
    },
    {
     "name": "stdout",
     "output_type": "stream",
     "text": [
      "Эпоха прошла за 130.59 секунд\n",
      "Средняя функция потерь для дискриминатора = 0.00917518629880917\n",
      "Средняя функция потерь для генератора = 12.736575167754602\n",
      "Today we are going banked on?” Eddie asked. He was looking at Susannah. “All right?” “Yes. IVERE HAVE IF YOU SPEEXPERST.” “T\n",
      "Следующая эпоха\n",
      "Эпоха 27\n"
     ]
    },
    {
     "name": "stderr",
     "output_type": "stream",
     "text": [
      "116it [02:10,  1.13s/it]\n"
     ]
    },
    {
     "name": "stdout",
     "output_type": "stream",
     "text": [
      "Эпоха прошла за 130.62 секунд\n",
      "Средняя функция потерь для дискриминатора = 0.012769332289751438\n",
      "Средняя функция потерь для генератора = 13.103305430247866\n",
      "Today we are going?\" Unounces late. \"Because of them,\" Eddie said in a low voice. \"No,\" Eddie said. \"Can. Let's goddam surely?\" \"T\n",
      "Следующая эпоха\n",
      "Эпоха 28\n"
     ]
    },
    {
     "name": "stderr",
     "output_type": "stream",
     "text": [
      "116it [02:10,  1.13s/it]\n"
     ]
    },
    {
     "name": "stdout",
     "output_type": "stream",
     "text": [
      "Эпоха прошла за 130.79 секунд\n",
      "Средняя функция потерь для дискриминатора = 0.01407097611020398\n",
      "Средняя функция потерь для генератора = 12.467317087896939\n",
      "Today we are going?” “DO YOU ARE PROP IT WASTING FOR THREME,” Blaine invited. “SUS NOTHER THAT IS NOPTER\n",
      "Следующая эпоха\n",
      "Эпоха 29\n"
     ]
    },
    {
     "name": "stderr",
     "output_type": "stream",
     "text": [
      "116it [02:11,  1.13s/it]\n"
     ]
    },
    {
     "name": "stdout",
     "output_type": "stream",
     "text": [
      "Эпоха прошла за 131.11 секунд\n",
      "Средняя функция потерь для дискриминатора = 0.00942916870422025\n",
      "Средняя функция потерь для генератора = 12.66295550609457\n",
      "Today we are going to phosphotographs on the beach. I don't know how they are, but they are the same. Drawing of the Thors and the\n",
      "Следующая эпоха\n",
      "Эпоха 30\n"
     ]
    },
    {
     "name": "stderr",
     "output_type": "stream",
     "text": [
      "116it [02:10,  1.13s/it]\n"
     ]
    },
    {
     "name": "stdout",
     "output_type": "stream",
     "text": [
      "Эпоха прошла за 130.94 секунд\n",
      "Средняя функция потерь для дискриминатора = 0.014963792293577893\n",
      "Средняя функция потерь для генератора = 12.220112915696768\n",
      "Today we are going?” “I don’t know,” the man in black said. “I’m going to be.” He looked at the gunslinger, then looked at the man in black. “Is are you going to have to be.”\n",
      "Следующая эпоха\n",
      "Эпоха 31\n"
     ]
    },
    {
     "name": "stderr",
     "output_type": "stream",
     "text": [
      "116it [02:10,  1.13s/it]\n"
     ]
    },
    {
     "name": "stdout",
     "output_type": "stream",
     "text": [
      "Эпоха прошла за 130.89 секунд\n",
      "Средняя функция потерь для дискриминатора = 0.012953651199621101\n",
      "Средняя функция потерь для генератора = 12.235488464092386\n",
      "Today we are going?” Blaine asked. “Thanks,” Eddie said. “ARECHE IS NE MORE, ROLAND OF NEW YORK.” “To I HEVED,\n",
      "Следующая эпоха\n",
      "Эпоха 32\n"
     ]
    },
    {
     "name": "stderr",
     "output_type": "stream",
     "text": [
      "116it [02:10,  1.13s/it]\n"
     ]
    },
    {
     "name": "stdout",
     "output_type": "stream",
     "text": [
      "Эпоха прошла за 130.69 секунд\n",
      "Средняя функция потерь для дискриминатора = 0.015699264494067958\n",
      "Средняя функция потерь для генератора = 12.051546220121713\n",
      "Today we are going on our Fair-Day?” “If course it is, Blaine,” Jake said. “I don’t know. I think it isn’t it possible.” Roland nodded.“I don’t know where the Tower.”\n",
      "Следующая эпоха\n",
      "Эпоха 33\n"
     ]
    },
    {
     "name": "stderr",
     "output_type": "stream",
     "text": [
      "116it [02:10,  1.13s/it]\n"
     ]
    },
    {
     "name": "stdout",
     "output_type": "stream",
     "text": [
      "Эпоха прошла за 130.91 секунд\n",
      "Средняя функция потерь для дискриминатора = 0.01115258336157522\n",
      "Средняя функция потерь для генератора = 11.741502605635544\n",
      "Today we are going?” “I WOULD YOURSE KALL RIDDLE, IFLES,” Roland said. “PLEXCKING TRAKE YOU KNOWN\n",
      "Следующая эпоха\n",
      "Эпоха 34\n"
     ]
    },
    {
     "name": "stderr",
     "output_type": "stream",
     "text": [
      "116it [02:10,  1.13s/it]\n"
     ]
    },
    {
     "name": "stdout",
     "output_type": "stream",
     "text": [
      "Эпоха прошла за 130.82 секунд\n",
      "Средняя функция потерь для дискриминатора = 0.007522838292061351\n",
      "Средняя функция потерь для генератора = 11.473745082986765\n",
      "Today we are going?\" \"Five minutes, Mr. Katz said in a low voice. \"Iformation,\" Eddie said quietly. \"I don't understand,\" Eddie said in the gunslinger said. \"Because you\n",
      "Следующая эпоха\n",
      "Эпоха 35\n"
     ]
    },
    {
     "name": "stderr",
     "output_type": "stream",
     "text": [
      "116it [02:05,  1.08s/it]\n"
     ]
    },
    {
     "name": "stdout",
     "output_type": "stream",
     "text": [
      "Эпоха прошла за 125.11 секунд\n",
      "Средняя функция потерь для дискриминатора = 0.008799969097520356\n",
      "Средняя функция потерь для генератора = 12.107827605872318\n",
      "Today we are going?” “Ye asked. “THE PRAME OF TRISTAID,” Blaine said. “THER IS NOTHER IS NOT, ROLAND OF GI\n",
      "Следующая эпоха\n",
      "Эпоха 36\n"
     ]
    },
    {
     "name": "stderr",
     "output_type": "stream",
     "text": [
      "116it [02:06,  1.09s/it]\n"
     ]
    },
    {
     "name": "stdout",
     "output_type": "stream",
     "text": [
      "Эпоха прошла за 126.52 секунд\n",
      "Средняя функция потерь для дискриминатора = 0.0081378222013631\n",
      "Средняя функция потерь для генератора = 13.02058118787305\n",
      "Today we are going?” The gunslinger asked. The boy looked at him and smiled a little. The gunslinger looked at him with an expression that smile was notice. “I’m sorry well.” “We’re not going to\n",
      "Следующая эпоха\n",
      "Эпоха 37\n"
     ]
    },
    {
     "name": "stderr",
     "output_type": "stream",
     "text": [
      "116it [02:10,  1.13s/it]\n"
     ]
    },
    {
     "name": "stdout",
     "output_type": "stream",
     "text": [
      "Эпоха прошла за 130.82 секунд\n",
      "Средняя функция потерь для дискриминатора = 0.010250997969706077\n",
      "Средняя функция потерь для генератора = 12.43526894470741\n",
      "Today we are going off the Turtle, and the Turtletle of the Grandfathers. These area of the Turtle’s Great Piper Sland\n",
      "Следующая эпоха\n",
      "Эпоха 38\n"
     ]
    },
    {
     "name": "stderr",
     "output_type": "stream",
     "text": [
      "116it [02:10,  1.13s/it]\n"
     ]
    },
    {
     "name": "stdout",
     "output_type": "stream",
     "text": [
      "Эпоха прошла за 130.78 секунд\n",
      "Средняя функция потерь для дискриминатора = 0.011187143508793488\n",
      "Средняя функция потерь для генератора = 11.759561382491013\n",
      "Today we are going on the Pray of the Grays. The Drawers’ David Quite Drawers,” The gunslinger went on, looking down at him with a gent\n",
      "Следующая эпоха\n",
      "Эпоха 39\n"
     ]
    },
    {
     "name": "stderr",
     "output_type": "stream",
     "text": [
      "116it [02:10,  1.13s/it]\n"
     ]
    },
    {
     "name": "stdout",
     "output_type": "stream",
     "text": [
      "Эпоха прошла за 130.87 секунд\n",
      "Средняя функция потерь для дискриминатора = 0.005567187911859444\n",
      "Средняя функция потерь для генератора = 12.227406131810156\n",
      "Today we are going to urtom Zoltan, the last of the Turtle, and the Topeka Turtle Big Charlie the Choo-Choo.\n",
      "Следующая эпоха\n",
      "Эпоха 40\n"
     ]
    },
    {
     "name": "stderr",
     "output_type": "stream",
     "text": [
      "116it [02:10,  1.13s/it]\n"
     ]
    },
    {
     "name": "stdout",
     "output_type": "stream",
     "text": [
      "Эпоха прошла за 130.89 секунд\n",
      "Средняя функция потерь для дискриминатора = 0.020834565463293733\n",
      "Средняя функция потерь для генератора = 11.177093974475202\n",
      "Today we are going on the Topeka, Mr. Bissettin’s Missette Aunt Talitha Company Angelians engineer Boy St.\n",
      "Следующая эпоха\n",
      "Эпоха 41\n"
     ]
    },
    {
     "name": "stderr",
     "output_type": "stream",
     "text": [
      "116it [02:10,  1.13s/it]\n"
     ]
    },
    {
     "name": "stdout",
     "output_type": "stream",
     "text": [
      "Эпоха прошла за 130.96 секунд\n",
      "Средняя функция потерь для дискриминатора = 0.010870020325204803\n",
      "Средняя функция потерь для генератора = 10.48608763464566\n",
      "Today we are going came. I don’t know. Try to tell you one of oursel, MY ROLAND SEACESTLE.” Roland nodded.“That are you?” Roland shook his\n",
      "Следующая эпоха\n",
      "Эпоха 42\n"
     ]
    },
    {
     "name": "stderr",
     "output_type": "stream",
     "text": [
      "116it [02:11,  1.13s/it]\n"
     ]
    },
    {
     "name": "stdout",
     "output_type": "stream",
     "text": [
      "Эпоха прошла за 131.35 секунд\n",
      "Средняя функция потерь для дискриминатора = 0.006608838305228033\n",
      "Средняя функция потерь для генератора = 12.024552304169227\n",
      "Today we are going to go back forth. The Prisoner of the Shadow, the Mortcypedia Zoltan, and Mort's Mortcypedia advis\n",
      "Следующая эпоха\n",
      "Эпоха 43\n"
     ]
    },
    {
     "name": "stderr",
     "output_type": "stream",
     "text": [
      "116it [02:10,  1.13s/it]\n"
     ]
    },
    {
     "name": "stdout",
     "output_type": "stream",
     "text": [
      "Эпоха прошла за 130.86 секунд\n",
      "Средняя функция потерь для дискриминатора = 0.014165954631294128\n",
      "Средняя функция потерь для генератора = 11.627164635164984\n",
      "Today we are going to happen,” Blaine agreed. “THANDING YOUR QUITY, WHER. YOU WITH A RIDDLE OF NOSE IS NEW YOR\n",
      "Следующая эпоха\n",
      "Эпоха 44\n"
     ]
    },
    {
     "name": "stderr",
     "output_type": "stream",
     "text": [
      "116it [02:10,  1.13s/it]\n"
     ]
    },
    {
     "name": "stdout",
     "output_type": "stream",
     "text": [
      "Эпоха прошла за 130.66 секунд\n",
      "Средняя функция потерь для дискриминатора = 0.010629586930008372\n",
      "Средняя функция потерь для генератора = 11.452190777351117\n",
      "Today we are going to the truth. The Two of the Beams were Great Highs and Grands and the Three Grays. The Prays of the Beam\n",
      "Следующая эпоха\n",
      "Эпоха 45\n"
     ]
    },
    {
     "name": "stderr",
     "output_type": "stream",
     "text": [
      "116it [02:10,  1.13s/it]\n"
     ]
    },
    {
     "name": "stdout",
     "output_type": "stream",
     "text": [
      "Эпоха прошла за 130.76 секунд\n",
      "Средняя функция потерь для дискриминатора = 0.014071724016283607\n",
      "Средняя функция потерь для генератора = 10.619747918227624\n",
      "Today we are going to stay?\" \"Yorry?\" \"But I don't know,\" the gunslinger said at last. \"Because I don't know what I don't know.\" \"Because I know you don't\n",
      "Следующая эпоха\n",
      "Эпоха 46\n"
     ]
    },
    {
     "name": "stderr",
     "output_type": "stream",
     "text": [
      "116it [02:10,  1.13s/it]\n"
     ]
    },
    {
     "name": "stdout",
     "output_type": "stream",
     "text": [
      "Эпоха прошла за 130.63 секунд\n",
      "Средняя функция потерь для дискриминатора = 0.010542760307324553\n",
      "Средняя функция потерь для генератора = 11.502478229588476\n",
      "Today we are going?” “YES FABECTLY REMELACH OF GILEAD. IF YOUR RIDDELES.” “THAT’s\n",
      "Следующая эпоха\n",
      "Эпоха 47\n"
     ]
    },
    {
     "name": "stderr",
     "output_type": "stream",
     "text": [
      "116it [02:10,  1.13s/it]\n"
     ]
    },
    {
     "name": "stdout",
     "output_type": "stream",
     "text": [
      "Эпоха прошла за 130.78 секунд\n",
      "Средняя функция потерь для дискриминатора = 0.01436199329810765\n",
      "Средняя функция потерь для генератора = 12.072767035714511\n",
      "Today we are going to find out forget yourself.” “I know,” Blaine said. “THATE YOU MUSTEN ME ME ME RIDDLES ON THE NE OF THE\n",
      "Следующая эпоха\n",
      "Эпоха 48\n"
     ]
    },
    {
     "name": "stderr",
     "output_type": "stream",
     "text": [
      "116it [02:10,  1.13s/it]\n"
     ]
    },
    {
     "name": "stdout",
     "output_type": "stream",
     "text": [
      "Эпоха прошла за 130.92 секунд\n",
      "Средняя функция потерь для дискриминатора = 0.01756369371406467\n",
      "Средняя функция потерь для генератора = 11.502079832142797\n",
      "Today we are going on the course.” “THAT IS THE SAME OF RIDDE,” Blaine said in a low voice. “THAT IS THE NOTHEREW YORK\n",
      "Следующая эпоха\n",
      "Эпоха 49\n"
     ]
    },
    {
     "name": "stderr",
     "output_type": "stream",
     "text": [
      "116it [02:10,  1.13s/it]\n"
     ]
    },
    {
     "name": "stdout",
     "output_type": "stream",
     "text": [
      "Эпоха прошла за 130.78 секунд\n",
      "Средняя функция потерь для дискриминатора = 0.01026461696792153\n",
      "Средняя функция потерь для генератора = 11.516626234712271\n",
      "Today we are going to the crue.” “THIS IS AMPLAHE OF THE TAKE THE TAYS ASWERS ALLY OF NEW YOR\n",
      "Следующая эпоха\n",
      "Эпоха 50\n"
     ]
    },
    {
     "name": "stderr",
     "output_type": "stream",
     "text": [
      "116it [02:10,  1.13s/it]\n"
     ]
    },
    {
     "name": "stdout",
     "output_type": "stream",
     "text": [
      "Эпоха прошла за 130.98 секунд\n",
      "Средняя функция потерь для дискриминатора = 0.009652957314380007\n",
      "Средняя функция потерь для генератора = 12.02246223647019\n",
      "Today we are going?” Mr. Bissette-Brissette asked Mr. Bissette asked. “Suilder,” said Mr. Bissette said, but he said: “Be careful.”\n",
      "Следующая эпоха\n",
      "Эпоха 51\n"
     ]
    },
    {
     "name": "stderr",
     "output_type": "stream",
     "text": [
      "116it [02:10,  1.13s/it]\n"
     ]
    },
    {
     "name": "stdout",
     "output_type": "stream",
     "text": [
      "Эпоха прошла за 130.7 секунд\n",
      "Средняя функция потерь для дискриминатора = 0.012056619390179924\n",
      "Средняя функция потерь для генератора = 11.005846245535489\n",
      "Today we are going on the other side. I think we’re going to find out of here. Things are we are, Blaine the Beam.” “Blaine?” “YOU ARE NOT ARE\n",
      "Следующая эпоха\n",
      "Эпоха 52\n"
     ]
    },
    {
     "name": "stderr",
     "output_type": "stream",
     "text": [
      "116it [02:10,  1.13s/it]\n"
     ]
    },
    {
     "name": "stdout",
     "output_type": "stream",
     "text": [
      "Эпоха прошла за 130.79 секунд\n",
      "Средняя функция потерь для дискриминатора = 0.005831588475930089\n",
      "Средняя функция потерь для генератора = 11.441110438313977\n",
      "Today we are going through Topeka and Topeka, Topeka z and Topeka Topeka Topeka Topeka Topeka, Kansas\n",
      "Следующая эпоха\n",
      "Эпоха 53\n"
     ]
    },
    {
     "name": "stderr",
     "output_type": "stream",
     "text": [
      "116it [02:10,  1.13s/it]\n"
     ]
    },
    {
     "name": "stdout",
     "output_type": "stream",
     "text": [
      "Эпоха прошла за 130.59 секунд\n",
      "Средняя функция потерь для дискриминатора = 0.008657613025520575\n",
      "Средняя функция потерь для генератора = 11.450085713945587\n",
      "Today we are going?\" \"Leave,\" the gunslinger said in the dark voice. \"Because I meaning that's no matter how it is.\" \"Forround the Customs.\" \"\n",
      "Следующая эпоха\n",
      "Эпоха 54\n"
     ]
    },
    {
     "name": "stderr",
     "output_type": "stream",
     "text": [
      "116it [02:11,  1.13s/it]\n"
     ]
    },
    {
     "name": "stdout",
     "output_type": "stream",
     "text": [
      "Эпоха прошла за 131.2 секунд\n",
      "Средняя функция потерь для дискриминатора = 0.012005499784271675\n",
      "Средняя функция потерь для генератора = 12.00824129992518\n",
      "Today we are going?” “YES,” Blaine said. “TOPLE ARE NOT BOOK.” “THECO,” Blaine replied the voice of the voice of Blaine. “THIS IS N\n",
      "Следующая эпоха\n",
      "Эпоха 55\n"
     ]
    },
    {
     "name": "stderr",
     "output_type": "stream",
     "text": [
      "116it [02:10,  1.13s/it]\n"
     ]
    },
    {
     "name": "stdout",
     "output_type": "stream",
     "text": [
      "Эпоха прошла за 130.92 секунд\n",
      "Средняя функция потерь для дискриминатора = 0.013821233999649473\n",
      "Средняя функция потерь для генератора = 11.05938116435347\n",
      "Today we are going on the road?” “Yonder,” Blaine said. “THEMOS ANTER WHICH THING TRACT,” Blaine said in a low voice. “THIS VO\n",
      "Следующая эпоха\n",
      "Эпоха 56\n"
     ]
    },
    {
     "name": "stderr",
     "output_type": "stream",
     "text": [
      "116it [02:10,  1.13s/it]\n"
     ]
    },
    {
     "name": "stdout",
     "output_type": "stream",
     "text": [
      "Эпоха прошла за 130.78 секунд\n",
      "Средняя функция потерь для дискриминатора = 0.01198890257308386\n",
      "Средняя функция потерь для генератора = 10.876915989250973\n",
      "Today we are going to Trieka, Kansashing Lud, the Great Roading Ste Lord Parkway Central Pubes and Grays of Lean\n",
      "Следующая эпоха\n",
      "Эпоха 57\n"
     ]
    },
    {
     "name": "stderr",
     "output_type": "stream",
     "text": [
      "116it [02:10,  1.13s/it]\n"
     ]
    },
    {
     "name": "stdout",
     "output_type": "stream",
     "text": [
      "Эпоха прошла за 130.59 секунд\n",
      "Средняя функция потерь для дискриминатора = 0.011786491147835603\n",
      "Средняя функция потерь для генератора = 10.697445762568506\n",
      "Today we are going?” Eddie asked. “Drink,” Susannah said. “We have to go on the edge of the Tower.” “Yeah, but I don’t know what’s?” “I mean,” Roland said. He paused for a\n",
      "Следующая эпоха\n",
      "Эпоха 58\n"
     ]
    },
    {
     "name": "stderr",
     "output_type": "stream",
     "text": [
      "116it [02:10,  1.13s/it]\n"
     ]
    },
    {
     "name": "stdout",
     "output_type": "stream",
     "text": [
      "Эпоха прошла за 130.66 секунд\n",
      "Средняя функция потерь для дискриминатора = 0.014169704569463521\n",
      "Средняя функция потерь для генератора = 10.848950081858142\n",
      "Today we are going to be here,” Quick said. “This isn’t ourselves, Blaine.” “I’m sorrify. MarcDonald.” “Are you mean, Roland?”\n",
      "Следующая эпоха\n",
      "Эпоха 59\n"
     ]
    },
    {
     "name": "stderr",
     "output_type": "stream",
     "text": [
      "116it [02:10,  1.13s/it]\n"
     ]
    },
    {
     "name": "stdout",
     "output_type": "stream",
     "text": [
      "Эпоха прошла за 130.78 секунд\n",
      "Средняя функция потерь для дискриминатора = 0.01704288051455635\n",
      "Средняя функция потерь для генератора = 10.215313155075599\n",
      "Today we are going on?” “Yes,” Roland said, “but I think.” “How know what’s wrong?” “Yeah, I think.” The gunslinger turned his eyes gazed at the boy’s face and looked at\n",
      "Следующая эпоха\n",
      "Эпоха 60\n"
     ]
    },
    {
     "name": "stderr",
     "output_type": "stream",
     "text": [
      "116it [02:10,  1.13s/it]\n"
     ]
    },
    {
     "name": "stdout",
     "output_type": "stream",
     "text": [
      "Эпоха прошла за 130.94 секунд\n",
      "Средняя функция потерь для дискриминатора = 0.010088022304412804\n",
      "Средняя функция потерь для генератора = 11.108192197207746\n",
      "Today we are going to find a palaver.” “One of the one in the Gilead.” “Oh JAKE OF NEW Yet,” Jake said Mr. Brown’s voice was soft\n",
      "Следующая эпоха\n",
      "Эпоха 61\n"
     ]
    },
    {
     "name": "stderr",
     "output_type": "stream",
     "text": [
      "116it [02:11,  1.13s/it]\n"
     ]
    },
    {
     "name": "stdout",
     "output_type": "stream",
     "text": [
      "Эпоха прошла за 131.27 секунд\n",
      "Средняя функция потерь для дискриминатора = 0.016946646182391147\n",
      "Средняя функция потерь для генератора = 11.338838166203992\n",
      "Today we are going on Final Esay, and the River Send Brits of Grays and Fair-Days-Day Street. Looking on the B\n",
      "Следующая эпоха\n",
      "Эпоха 62\n"
     ]
    },
    {
     "name": "stderr",
     "output_type": "stream",
     "text": [
      "116it [02:06,  1.09s/it]\n"
     ]
    },
    {
     "name": "stdout",
     "output_type": "stream",
     "text": [
      "Эпоха прошла за 126.42 секунд\n",
      "Средняя функция потерь для дискриминатора = 0.01801575737019824\n",
      "Средняя функция потерь для генератора = 10.737768978908145\n",
      "Today we are going in Topeka, and Topeka,” the gunslinger murmured. “Eddie,” the man in black invited. “Drome, I know is the truth. I know\n",
      "Следующая эпоха\n",
      "Эпоха 63\n"
     ]
    },
    {
     "name": "stderr",
     "output_type": "stream",
     "text": [
      "116it [02:04,  1.07s/it]\n"
     ]
    },
    {
     "name": "stdout",
     "output_type": "stream",
     "text": [
      "Эпоха прошла за 124.56 секунд\n",
      "Средняя функция потерь для дискриминатора = 0.012041978525240696\n",
      "Средняя функция потерь для генератора = 11.395462989807129\n",
      "Today we are going down today, are you?” “YOU ARE TEMPLES ME MINUTESTHING.” “THE OF NEW YORK.” “Th\n",
      "Следующая эпоха\n",
      "Эпоха 64\n"
     ]
    },
    {
     "name": "stderr",
     "output_type": "stream",
     "text": [
      "116it [02:04,  1.07s/it]\n"
     ]
    },
    {
     "name": "stdout",
     "output_type": "stream",
     "text": [
      "Эпоха прошла за 124.58 секунд\n",
      "Средняя функция потерь для дискриминатора = 0.015073860481387438\n",
      "Средняя функция потерь для генератора = 11.924234061405576\n",
      "Today we are going on the Markey Aunt Talitha’s Aunt Talitha, read-Suit, and Guarden and Geral Pa Shardian J\n",
      "Следующая эпоха\n",
      "Эпоха 65\n"
     ]
    },
    {
     "name": "stderr",
     "output_type": "stream",
     "text": [
      "116it [02:04,  1.07s/it]\n"
     ]
    },
    {
     "name": "stdout",
     "output_type": "stream",
     "text": [
      "Эпоха прошла за 124.63 секунд\n",
      "Средняя функция потерь для дискриминатора = 0.01205859641802441\n",
      "Средняя функция потерь для генератора = 12.427509159877383\n",
      "Today we are going on our way?” Roland nodded. “That river. Is that enough,” Eddie said in a distant, “and I suppose I think.” Roland nodded.“I think we’d be able to know\n",
      "Следующая эпоха\n",
      "Эпоха 66\n"
     ]
    },
    {
     "name": "stderr",
     "output_type": "stream",
     "text": [
      "116it [02:04,  1.07s/it]\n"
     ]
    },
    {
     "name": "stdout",
     "output_type": "stream",
     "text": [
      "Эпоха прошла за 124.62 секунд\n",
      "Средняя функция потерь для дискриминатора = 0.009749660846362782\n",
      "Средняя функция потерь для генератора = 12.175539855299325\n",
      "Today we are going?\" \"Let's get out of here,\" he said at once, \"but you're here.\" \"I'm going to have a lot of people in the first place.\" \"But I\n",
      "Следующая эпоха\n",
      "Эпоха 67\n"
     ]
    },
    {
     "name": "stderr",
     "output_type": "stream",
     "text": [
      "116it [02:04,  1.07s/it]\n"
     ]
    },
    {
     "name": "stdout",
     "output_type": "stream",
     "text": [
      "Эпоха прошла за 124.64 секунд\n",
      "Средняя функция потерь для дискриминатора = 0.01345094381181768\n",
      "Средняя функция потерь для генератора = 12.032956049360077\n",
      "Today we are going?” Eddie asked. Roland shook his head.“I think he’s talking about the answers ready.” “Either of the Western Second Avenue of the Beam, the\n",
      "Следующая эпоха\n",
      "Эпоха 68\n"
     ]
    },
    {
     "name": "stderr",
     "output_type": "stream",
     "text": [
      "116it [02:04,  1.07s/it]\n"
     ]
    },
    {
     "name": "stdout",
     "output_type": "stream",
     "text": [
      "Эпоха прошла за 124.58 секунд\n",
      "Средняя функция потерь для дискриминатора = 0.027289765931496294\n",
      "Средняя функция потерь для генератора = 11.31178961129024\n",
      "Today we are going to lucks. Twenty minutes late.” “All From the Burrist’s Topeka,” Blaine said. “This is the Mono, Blaine the Mon\n",
      "Следующая эпоха\n",
      "Эпоха 69\n"
     ]
    },
    {
     "name": "stderr",
     "output_type": "stream",
     "text": [
      "116it [02:04,  1.07s/it]\n"
     ]
    },
    {
     "name": "stdout",
     "output_type": "stream",
     "text": [
      "Эпоха прошла за 124.6 секунд\n",
      "Средняя функция потерь для дискриминатора = 0.019515627266283163\n",
      "Средняя функция потерь для генератора = 11.446490871495214\n",
      "Today we are going on?” Mr. Brannigged Mr. Bissette asked Engineer Bissette’s Tur Engineer Bob was Charlie’s Engineer Bob Br\n",
      "Следующая эпоха\n",
      "Эпоха 70\n"
     ]
    },
    {
     "name": "stderr",
     "output_type": "stream",
     "text": [
      "116it [02:04,  1.07s/it]\n"
     ]
    },
    {
     "name": "stdout",
     "output_type": "stream",
     "text": [
      "Эпоха прошла за 124.59 секунд\n",
      "Средняя функция потерь для дискриминатора = 0.014075454104197983\n",
      "Средняя функция потерь для генератора = 10.045140751476946\n",
      "Today we are going now?” Roland shook his head and looked at the gunslinger.“And I think he?” “Yes.” Roland nodded.“Anything isn’t.” Roland nodded, and raised his head.“It’s\n",
      "Следующая эпоха\n",
      "Эпоха 71\n"
     ]
    },
    {
     "name": "stderr",
     "output_type": "stream",
     "text": [
      "116it [02:07,  1.10s/it]\n"
     ]
    },
    {
     "name": "stdout",
     "output_type": "stream",
     "text": [
      "Эпоха прошла за 127.33 секунд\n",
      "Средняя функция потерь для дискриминатора = 0.014971198805267642\n",
      "Средняя функция потерь для генератора = 10.940344317206021\n",
      "Today we are going down to be on our business. Try’s A weeks later. Aunt Talitha was affled Aunt Talitha leaned in the center of the Be\n",
      "Следующая эпоха\n",
      "Эпоха 72\n"
     ]
    },
    {
     "name": "stderr",
     "output_type": "stream",
     "text": [
      "116it [02:10,  1.13s/it]\n"
     ]
    },
    {
     "name": "stdout",
     "output_type": "stream",
     "text": [
      "Эпоха прошла за 130.76 секунд\n",
      "Средняя функция потерь для дискриминатора = 0.013644720994589393\n",
      "Средняя функция потерь для генератора = 11.049666939110592\n",
      "Today we are going on?” “YOULD YOU KA-TET, ROLAND SEEAME OF STORK?” “Yes,” Blaine said. “THES IT’s SAME OF\n",
      "Следующая эпоха\n",
      "Эпоха 73\n"
     ]
    },
    {
     "name": "stderr",
     "output_type": "stream",
     "text": [
      "116it [02:10,  1.13s/it]\n"
     ]
    },
    {
     "name": "stdout",
     "output_type": "stream",
     "text": [
      "Эпоха прошла за 130.83 секунд\n",
      "Средняя функция потерь для дискриминатора = 0.013858833255779184\n",
      "Средняя функция потерь для генератора = 10.436370857830706\n",
      "Today we are going to sleep?” The boy asked, and the gunslinger shook his head.“You know,” he said in his voice. “I’m not.” He turned to Roland. “I’m sorry.” The boy’s\n",
      "Следующая эпоха\n",
      "Эпоха 74\n"
     ]
    },
    {
     "name": "stderr",
     "output_type": "stream",
     "text": [
      "116it [02:11,  1.13s/it]\n"
     ]
    },
    {
     "name": "stdout",
     "output_type": "stream",
     "text": [
      "Эпоха прошла за 131.42 секунд\n",
      "Средняя функция потерь для дискриминатора = 0.01113967242066604\n",
      "Средняя функция потерь для генератора = 10.915905401624482\n",
      "Today we are going to ask. The Mid-World Railway Compana St. Leaning to the Topeka Sta Losa Topeka and Top\n",
      "Следующая эпоха\n",
      "Эпоха 75\n"
     ]
    },
    {
     "name": "stderr",
     "output_type": "stream",
     "text": [
      "116it [02:10,  1.13s/it]\n"
     ]
    },
    {
     "name": "stdout",
     "output_type": "stream",
     "text": [
      "Эпоха прошла за 130.92 секунд\n",
      "Средняя функция потерь для дискриминатора = 0.008670648953582338\n",
      "Средняя функция потерь для генератора = 11.390286240084418\n",
      "Today we are going north.” “I want to see it,” Roland said. “Tell… not for you, then.” “I’m sorrow.” “If you’d like today, Engineer Bob\n",
      "Следующая эпоха\n",
      "Эпоха 76\n"
     ]
    },
    {
     "name": "stderr",
     "output_type": "stream",
     "text": [
      "116it [02:10,  1.13s/it]\n"
     ]
    },
    {
     "name": "stdout",
     "output_type": "stream",
     "text": [
      "Эпоха прошла за 130.84 секунд\n",
      "Средняя функция потерь для дискриминатора = 0.011460406419465816\n",
      "Средняя функция потерь для генератора = 11.278651878751557\n",
      "Today we are going?” Mr. Biggers are nodder. Mr. Big Blaine replied Mr. Bissette asked. “Missette Hax, Engineer Bob’s Engineer B\n",
      "Следующая эпоха\n",
      "Эпоха 77\n"
     ]
    },
    {
     "name": "stderr",
     "output_type": "stream",
     "text": [
      "116it [02:11,  1.13s/it]\n"
     ]
    },
    {
     "name": "stdout",
     "output_type": "stream",
     "text": [
      "Эпоха прошла за 131.12 секунд\n",
      "Средняя функция потерь для дискриминатора = 0.010785551676737417\n",
      "Средняя функция потерь для генератора = 10.715925775725266\n",
      "Today we are going on the Path of the Beam, the Gues of Charlie the Chama Choo-Choo-Choo.Choo, the Christ. And\n",
      "Следующая эпоха\n",
      "Эпоха 78\n"
     ]
    },
    {
     "name": "stderr",
     "output_type": "stream",
     "text": [
      "116it [02:10,  1.13s/it]\n"
     ]
    },
    {
     "name": "stdout",
     "output_type": "stream",
     "text": [
      "Эпоха прошла за 130.76 секунд\n",
      "Средняя функция потерь для дискриминатора = 0.01452796417451564\n",
      "Средняя функция потерь для генератора = 11.356207000798193\n",
      "Today we are going?” Susannah asked. “Do you know?” Eddie shook his head.“Don’t ask him questions. Are you?” “YES, I know,” Blaine said. “If he said. “To you know why\n",
      "Следующая эпоха\n",
      "Эпоха 79\n"
     ]
    },
    {
     "name": "stderr",
     "output_type": "stream",
     "text": [
      "116it [02:10,  1.13s/it]\n"
     ]
    },
    {
     "name": "stdout",
     "output_type": "stream",
     "text": [
      "Эпоха прошла за 130.85 секунд\n",
      "Средняя функция потерь для дискриминатора = 0.008072297775501723\n",
      "Средняя функция потерь для генератора = 11.645202011897647\n",
      "Today we are going to find the Biginal Engineer Bob insaning the best Charlie the Choo-Choo-Choo. Choo-Choo, and Charlie’s\n",
      "Следующая эпоха\n",
      "Эпоха 80\n"
     ]
    },
    {
     "name": "stderr",
     "output_type": "stream",
     "text": [
      "116it [02:10,  1.13s/it]\n"
     ]
    },
    {
     "name": "stdout",
     "output_type": "stream",
     "text": [
      "Эпоха прошла за 130.88 секунд\n",
      "Средняя функция потерь для дискриминатора = 0.004950076735597044\n",
      "Средняя функция потерь для генератора = 12.11924985359455\n",
      "Today we are going to see?” Brown nodded. “Maffic. Taky name is Down the Mansas’s English. Topeka Topeka,” said Mr. Mart\n",
      "Следующая эпоха\n",
      "Эпоха 81\n"
     ]
    },
    {
     "name": "stderr",
     "output_type": "stream",
     "text": [
      "116it [02:10,  1.13s/it]\n"
     ]
    },
    {
     "name": "stdout",
     "output_type": "stream",
     "text": [
      "Эпоха прошла за 130.94 секунд\n",
      "Средняя функция потерь для дискриминатора = 0.008487112977836032\n",
      "Средняя функция потерь для генератора = 12.27809291872485\n",
      "Today we are going?” Susannah asked. “Thanks to the Dark Tower,” Roland said. “This is very close to the Dark Tower Z. Top Topeka, the Topeka, but Top\n",
      "Следующая эпоха\n",
      "Эпоха 82\n"
     ]
    },
    {
     "name": "stderr",
     "output_type": "stream",
     "text": [
      "116it [02:11,  1.13s/it]\n"
     ]
    },
    {
     "name": "stdout",
     "output_type": "stream",
     "text": [
      "Эпоха прошла за 131.07 секунд\n",
      "Средняя функция потерь для дискриминатора = 0.008243571859879764\n",
      "Средняя функция потерь для генератора = 12.137756470976205\n",
      "Today we are going?\" \"LAHERYes.\" \"Because I mean, I think you can't do it!\" Eddie cried, and then smiled. \"But if you can tell you\n",
      "Следующая эпоха\n",
      "Эпоха 83\n"
     ]
    },
    {
     "name": "stderr",
     "output_type": "stream",
     "text": [
      "116it [02:10,  1.13s/it]\n"
     ]
    },
    {
     "name": "stdout",
     "output_type": "stream",
     "text": [
      "Эпоха прошла за 130.89 секунд\n",
      "Средняя функция потерь для дискриминатора = 0.01277967672147748\n",
      "Средняя функция потерь для генератора = 11.997758914684427\n",
      "Today we are going to sleep?” Susannah asked. “I’m sure,” the gunslinger said. “I’m finished forced,” the man in black said. “I’m sorry.” “I’m sorrow.” “If you don’t\n",
      "Следующая эпоха\n",
      "Эпоха 84\n"
     ]
    },
    {
     "name": "stderr",
     "output_type": "stream",
     "text": [
      "116it [02:10,  1.13s/it]\n"
     ]
    },
    {
     "name": "stdout",
     "output_type": "stream",
     "text": [
      "Эпоха прошла за 130.63 секунд\n",
      "Средняя функция потерь для дискриминатора = 0.010950121463322611\n",
      "Средняя функция потерь для генератора = 12.042134506949063\n",
      "Today we are going?” Jake asked. “Doorated?” The Big Blaine asked. The voice of the voice of the Boach began to laugh again. “Because of GOODOODOOD. Blaine\n",
      "Следующая эпоха\n",
      "Эпоха 85\n"
     ]
    },
    {
     "name": "stderr",
     "output_type": "stream",
     "text": [
      "116it [02:06,  1.09s/it]\n"
     ]
    },
    {
     "name": "stdout",
     "output_type": "stream",
     "text": [
      "Эпоха прошла за 126.31 секунд\n",
      "Средняя функция потерь для дискриминатора = 0.011999686890139229\n",
      "Средняя функция потерь для генератора = 12.259686757778299\n",
      "Today we are going for the path of the Beams (and the Two playgrounds)/Hekeeper’s Tails’ Rhea Coming Boulement\n",
      "Следующая эпоха\n",
      "Эпоха 86\n"
     ]
    },
    {
     "name": "stderr",
     "output_type": "stream",
     "text": [
      "116it [02:04,  1.07s/it]\n"
     ]
    },
    {
     "name": "stdout",
     "output_type": "stream",
     "text": [
      "Эпоха прошла за 124.65 секунд\n",
      "Средняя функция потерь для дискриминатора = 0.01407851612992968\n",
      "Средняя функция потерь для генератора = 11.837109195775\n",
      "Today we are going?” Blaine asked softly, “Eat John Fifty.” “Evenue?” “Yes. Aunt Talitha said, “I’m not a word.” “I don’t know what they’re not\n",
      "Следующая эпоха\n",
      "Эпоха 87\n"
     ]
    },
    {
     "name": "stderr",
     "output_type": "stream",
     "text": [
      "116it [02:04,  1.07s/it]\n"
     ]
    },
    {
     "name": "stdout",
     "output_type": "stream",
     "text": [
      "Эпоха прошла за 124.59 секунд\n",
      "Средняя функция потерь для дискриминатора = 0.021822981101838102\n",
      "Средняя функция потерь для генератора = 11.248018355205142\n",
      "Today we are going to ourselves. President,” Roland said. “THISTERSH SAINE YOUR RIDDLE, ROLAND OF GILEAD, ROLAND\n",
      "Следующая эпоха\n",
      "Эпоха 88\n"
     ]
    },
    {
     "name": "stderr",
     "output_type": "stream",
     "text": [
      "116it [02:04,  1.07s/it]\n"
     ]
    },
    {
     "name": "stdout",
     "output_type": "stream",
     "text": [
      "Эпоха прошла за 124.54 секунд\n",
      "Средняя функция потерь для дискриминатора = 0.01878546743595005\n",
      "Средняя функция потерь для генератора = 10.784844932885006\n",
      "Today we are going one.” “Do you want?” Susannah asked, and the gunslinger repeated. “YESed. 12 THERE WAS AREAM AREMODILE. I\n",
      "Следующая эпоха\n",
      "Эпоха 89\n"
     ]
    },
    {
     "name": "stderr",
     "output_type": "stream",
     "text": [
      "116it [02:04,  1.07s/it]\n"
     ]
    },
    {
     "name": "stdout",
     "output_type": "stream",
     "text": [
      "Эпоха прошла за 124.59 секунд\n",
      "Средняя функция потерь для дискриминатора = 0.015361097251272816\n",
      "Средняя функция потерь для генератора = 12.370259342522457\n",
      "Today we are going to find out.” “Don’t ask me?” “Yes,” Jake said. “I didn’t know.” He looked up at the gunslinger. The boy looked up at the gunslinger. The gunslinger looked up at him with a\n",
      "Следующая эпоха\n",
      "Эпоха 90\n"
     ]
    },
    {
     "name": "stderr",
     "output_type": "stream",
     "text": [
      "116it [02:04,  1.07s/it]\n"
     ]
    },
    {
     "name": "stdout",
     "output_type": "stream",
     "text": [
      "Эпоха прошла за 124.58 секунд\n",
      "Средняя функция потерь для дискриминатора = 0.014669961198047405\n",
      "Средняя функция потерь для генератора = 12.947942199378177\n",
      "Today we are going?” “Did you see?” “Yes-AME, SAKE YOU SAID. IT WILL NOW HAVE ARE NOPEREW YORK\n",
      "Следующая эпоха\n",
      "Эпоха 91\n"
     ]
    },
    {
     "name": "stderr",
     "output_type": "stream",
     "text": [
      "116it [02:04,  1.07s/it]\n"
     ]
    },
    {
     "name": "stdout",
     "output_type": "stream",
     "text": [
      "Эпоха прошла за 124.61 секунд\n",
      "Средняя функция потерь для дискриминатора = 0.011846919237823699\n",
      "Средняя функция потерь для генератора = 12.425237630975657\n",
      "Today we are going to be a good, Roland?” “I don’t know.” Roland nodded.“I don’t know.” “That’s a good idea of the Tower,” Eddie said. “Thorrow.” Roland nodded.“It is\n",
      "Следующая эпоха\n",
      "Эпоха 92\n"
     ]
    },
    {
     "name": "stderr",
     "output_type": "stream",
     "text": [
      "116it [02:04,  1.07s/it]\n"
     ]
    },
    {
     "name": "stdout",
     "output_type": "stream",
     "text": [
      "Эпоха прошла за 124.6 секунд\n",
      "Средняя функция потерь для дискриминатора = 0.009278008844720999\n",
      "Средняя функция потерь для генератора = 12.628746632871957\n",
      "Today we are going?” “I have,” Susannah said. “If you are we – “ “I don’t know.” “Answer,” Eddie said, “but the story” Roland said softly. “If you know, I\n",
      "Следующая эпоха\n",
      "Эпоха 93\n"
     ]
    },
    {
     "name": "stderr",
     "output_type": "stream",
     "text": [
      "116it [02:04,  1.07s/it]\n"
     ]
    },
    {
     "name": "stdout",
     "output_type": "stream",
     "text": [
      "Эпоха прошла за 124.57 секунд\n",
      "Средняя функция потерь для дискриминатора = 0.012399883452448633\n",
      "Средняя функция потерь для генератора = 13.328819324230325\n",
      "Today we are going to position?” Blaine asked. “THATIE YOUR ROSE IS NEW YORK.” “THAT I BE, JAKE OF NEW YOR\n",
      "Следующая эпоха\n",
      "Эпоха 94\n"
     ]
    },
    {
     "name": "stderr",
     "output_type": "stream",
     "text": [
      "116it [02:04,  1.07s/it]\n"
     ]
    },
    {
     "name": "stdout",
     "output_type": "stream",
     "text": [
      "Эпоха прошла за 124.56 секунд\n",
      "Средняя функция потерь для дискриминатора = 0.01117279836354759\n",
      "Средняя функция потерь для генератора = 13.331925490806842\n",
      "Today we are going over there, are you?” The gunslinger nodded, and his eyes gazed at the boy’s eyes of the High Speech High Speech, and Cort, who had\n",
      "Следующая эпоха\n",
      "Эпоха 95\n"
     ]
    },
    {
     "name": "stderr",
     "output_type": "stream",
     "text": [
      "116it [02:04,  1.07s/it]\n"
     ]
    },
    {
     "name": "stdout",
     "output_type": "stream",
     "text": [
      "Эпоха прошла за 124.68 секунд\n",
      "Средняя функция потерь для дискриминатора = 0.018157751827073236\n",
      "Средняя функция потерь для генератора = 12.988289726191553\n",
      "Today we are going on to Durrave. The cabyls are the Pathamilized, and the Beyond the Cradle of Lud, the Grays of the\n",
      "Следующая эпоха\n",
      "Эпоха 96\n"
     ]
    },
    {
     "name": "stderr",
     "output_type": "stream",
     "text": [
      "116it [02:04,  1.07s/it]\n"
     ]
    },
    {
     "name": "stdout",
     "output_type": "stream",
     "text": [
      "Эпоха прошла за 124.66 секунд\n",
      "Средняя функция потерь для дискриминатора = 0.0115279104948372\n",
      "Средняя функция потерь для генератора = 13.314712376430117\n",
      "Today we are going in the Bursl English Central Publatic Parks Park School In the Path of the Barony Coach. The\n",
      "Следующая эпоха\n",
      "Эпоха 97\n"
     ]
    },
    {
     "name": "stderr",
     "output_type": "stream",
     "text": [
      "116it [02:04,  1.07s/it]\n"
     ]
    },
    {
     "name": "stdout",
     "output_type": "stream",
     "text": [
      "Эпоха прошла за 124.63 секунд\n",
      "Средняя функция потерь для дискриминатора = 0.012361945024669443\n",
      "Средняя функция потерь для генератора = 13.172805514828912\n",
      "Today we are going on the Pnifty of the Beams and the Grays of the Western Sendown , Miz Hax and the Monors of Mid-W\n",
      "Следующая эпоха\n",
      "Эпоха 98\n"
     ]
    },
    {
     "name": "stderr",
     "output_type": "stream",
     "text": [
      "116it [02:04,  1.07s/it]\n"
     ]
    },
    {
     "name": "stdout",
     "output_type": "stream",
     "text": [
      "Эпоха прошла за 124.62 секунд\n",
      "Средняя функция потерь для дискриминатора = 0.0101963240379299\n",
      "Средняя функция потерь для генератора = 12.547171181645886\n",
      "Today we are going?” Eddie asked. “Thankee asked. “YOU ANT HAVE MINUTES,” Blaine said. “THOPLETING NOTHER OF NO MY\n",
      "Следующая эпоха\n",
      "Эпоха 99\n"
     ]
    },
    {
     "name": "stderr",
     "output_type": "stream",
     "text": [
      "116it [02:04,  1.07s/it]\n"
     ]
    },
    {
     "name": "stdout",
     "output_type": "stream",
     "text": [
      "Эпоха прошла за 124.64 секунд\n",
      "Средняя функция потерь для дискриминатора = 0.0148344528444858\n",
      "Средняя функция потерь для генератора = 12.985234367436377\n",
      "Today we are going?” “I mean, Blaine asked Engineer Beside Bob, Engineer Bob. “Why?” Blaine asked Engineer Bob and Engineer B\n",
      "Следующая эпоха\n",
      "Эпоха 100\n"
     ]
    },
    {
     "name": "stderr",
     "output_type": "stream",
     "text": [
      "116it [02:04,  1.07s/it]\n"
     ]
    },
    {
     "name": "stdout",
     "output_type": "stream",
     "text": [
      "Эпоха прошла за 124.63 секунд\n",
      "Средняя функция потерь для дискриминатора = 0.009299551942164945\n",
      "Средняя функция потерь для генератора = 12.797208802453403\n",
      "Today we are going to sorrow.” “I don’t know,” the gunslinger said softly. “I’m sorry about the Tower.” “Either.” The gunslinger nodded.“And the man in black,” he said.\n",
      "Следующая эпоха\n",
      "Эпоха 101\n"
     ]
    },
    {
     "name": "stderr",
     "output_type": "stream",
     "text": [
      "116it [02:04,  1.07s/it]\n"
     ]
    },
    {
     "name": "stdout",
     "output_type": "stream",
     "text": [
      "Эпоха прошла за 124.62 секунд\n",
      "Средняя функция потерь для дискриминатора = 0.008345783135845178\n",
      "Средняя функция потерь для генератора = 12.864324150414303\n",
      "Today we are going?” Jake asked. “Do you know?” The gunslinger nodded, but his voice was loud. He looked at the gunslingers of the man in black. He heard a croadly shrie\n",
      "Следующая эпоха\n",
      "Эпоха 102\n"
     ]
    },
    {
     "name": "stderr",
     "output_type": "stream",
     "text": [
      "116it [02:04,  1.07s/it]\n"
     ]
    },
    {
     "name": "stdout",
     "output_type": "stream",
     "text": [
      "Эпоха прошла за 124.62 секунд\n",
      "Средняя функция потерь для дискриминатора = 0.005348146329824572\n",
      "Средняя функция потерь для генератора = 13.32057834493703\n",
      "Today we are going.” “INYOULD YOU KA-TET MALLY RIDDLE,” Blaine said. “I HAVE SHEREE WITH STOPPER\n",
      "Следующая эпоха\n",
      "Эпоха 103\n"
     ]
    },
    {
     "name": "stderr",
     "output_type": "stream",
     "text": [
      "116it [02:04,  1.07s/it]\n"
     ]
    },
    {
     "name": "stdout",
     "output_type": "stream",
     "text": [
      "Эпоха прошла за 124.58 секунд\n",
      "Средняя функция потерь для дискриминатора = 0.0021080935902914617\n",
      "Средняя функция потерь для генератора = 13.88014974265263\n",
      "Today we are going to stand on our side.” “Thank. Topeka, Blaine. Aunt Talitha’s Talitha of the storm of the Talitha and Tal\n",
      "Следующая эпоха\n",
      "Эпоха 104\n"
     ]
    },
    {
     "name": "stderr",
     "output_type": "stream",
     "text": [
      "116it [02:04,  1.07s/it]\n"
     ]
    },
    {
     "name": "stdout",
     "output_type": "stream",
     "text": [
      "Эпоха прошла за 124.58 секунд\n",
      "Средняя функция потерь для дискриминатора = 0.0027336276959650948\n",
      "Средняя функция потерь для генератора = 14.331711053848267\n",
      "Today we are going?\" \"Listen,\" the gunslinger said calmly. \"Yes.\" \"It's not!\" Eddie shouted. \"But you.\" \"Cime.\" \"Ka.\" \"It's\n",
      "Следующая эпоха\n",
      "Эпоха 105\n"
     ]
    },
    {
     "name": "stderr",
     "output_type": "stream",
     "text": [
      "116it [02:04,  1.07s/it]\n"
     ]
    },
    {
     "name": "stdout",
     "output_type": "stream",
     "text": [
      "Эпоха прошла за 124.62 секунд\n",
      "Средняя функция потерь для дискриминатора = 0.005111962646408536\n",
      "Средняя функция потерь для генератора = 14.634795591748993\n",
      "Today we are going on?” “AS MOM MAH AN GUNSLINGER.” “All right?” “Yes.” “All right.” Roland looked at the gunslinger. “Is it was a\n",
      "Следующая эпоха\n",
      "Эпоха 106\n"
     ]
    },
    {
     "name": "stderr",
     "output_type": "stream",
     "text": [
      "116it [02:04,  1.07s/it]\n"
     ]
    },
    {
     "name": "stdout",
     "output_type": "stream",
     "text": [
      "Эпоха прошла за 124.57 секунд\n",
      "Средняя функция потерь для дискриминатора = 0.002447006808261935\n",
      "Средняя функция потерь для генератора = 14.807903462442859\n",
      "Today we are going on fire?” Engineer Bob. “SUCKSLINGERE ANAH OF NEW YORK. “John, JAKE OF N\n",
      "Следующая эпоха\n",
      "Эпоха 107\n"
     ]
    },
    {
     "name": "stderr",
     "output_type": "stream",
     "text": [
      "116it [02:04,  1.07s/it]\n"
     ]
    },
    {
     "name": "stdout",
     "output_type": "stream",
     "text": [
      "Эпоха прошла за 124.6 секунд\n",
      "Средняя функция потерь для дискриминатора = 0.003313419286463425\n",
      "Средняя функция потерь для генератора = 14.995759865333294\n",
      "Today we are going?” “I don’t know,” Roland said in a low voice. “I know.” “That’s a machines that doesn’t matter?” Susannah. “Is it possible.” Roland shook his head.“It’s\n",
      "Следующая эпоха\n",
      "Эпоха 108\n"
     ]
    },
    {
     "name": "stderr",
     "output_type": "stream",
     "text": [
      "116it [02:04,  1.07s/it]\n"
     ]
    },
    {
     "name": "stdout",
     "output_type": "stream",
     "text": [
      "Эпоха прошла за 124.57 секунд\n",
      "Средняя функция потерь для дискриминатора = 0.003499098245183945\n",
      "Средняя функция потерь для генератора = 15.540487930692475\n",
      "Today we are going to go on. Topeka, Mr. Bissette Charlie’s Engineer Bob and Topeka, Mr. Martin’s Engineer Bob to Charlie the Choo\n",
      "Следующая эпоха\n",
      "Эпоха 109\n"
     ]
    },
    {
     "name": "stderr",
     "output_type": "stream",
     "text": [
      "116it [02:04,  1.07s/it]\n"
     ]
    },
    {
     "name": "stdout",
     "output_type": "stream",
     "text": [
      "Эпоха прошла за 124.61 секунд\n",
      "Средняя функция потерь для дискриминатора = 0.003925263511236749\n",
      "Средняя функция потерь для генератора = 15.61270550201679\n",
      "Today we are going for ourselves.” The gunslinger looked down at him with his long and his eyes gleamed.“Thankee-sixed.” “Yeah,” Roland said. “Are you sure\n",
      "Следующая эпоха\n",
      "Эпоха 110\n"
     ]
    },
    {
     "name": "stderr",
     "output_type": "stream",
     "text": [
      "116it [02:04,  1.07s/it]\n"
     ]
    },
    {
     "name": "stdout",
     "output_type": "stream",
     "text": [
      "Эпоха прошла за 124.65 секунд\n",
      "Средняя функция потерь для дискриминатора = 0.0030563000957264537\n",
      "Средняя функция потерь для генератора = 16.121169591772144\n",
      "Today we are going on the Topeka, Mr. Ka, KNOW MAH MYS. KA-TETH KNOW MYER IS RIDDLES, JAKE\n",
      "Следующая эпоха\n",
      "Эпоха 111\n"
     ]
    },
    {
     "name": "stderr",
     "output_type": "stream",
     "text": [
      "116it [02:04,  1.07s/it]\n"
     ]
    },
    {
     "name": "stdout",
     "output_type": "stream",
     "text": [
      "Эпоха прошла за 124.61 секунд\n",
      "Средняя функция потерь для дискриминатора = 0.006587178383597347\n",
      "Средняя функция потерь для генератора = 16.09548964171574\n",
      "Today we are going?” Susannah asked. “All right,” the gunslinger said. “I’m not very close to the Dark Tower.” “I don’t know. “Please?” The gunslinger nodded. “I’m not.” The gunslinger nodded, but\n",
      "Следующая эпоха\n",
      "Эпоха 112\n"
     ]
    },
    {
     "name": "stderr",
     "output_type": "stream",
     "text": [
      "116it [02:04,  1.07s/it]\n"
     ]
    },
    {
     "name": "stdout",
     "output_type": "stream",
     "text": [
      "Эпоха прошла за 124.59 секунд\n",
      "Средняя функция потерь для дискриминатора = 0.007677140933867185\n",
      "Средняя функция потерь для генератора = 15.072754506407113\n",
      "Today we are going to Topeka, and Topeka Topeka, KAKE Topeka, Mr. Kansas, King Missettz City Keflex P\n",
      "Следующая эпоха\n",
      "Эпоха 113\n"
     ]
    },
    {
     "name": "stderr",
     "output_type": "stream",
     "text": [
      "116it [02:04,  1.07s/it]\n"
     ]
    },
    {
     "name": "stdout",
     "output_type": "stream",
     "text": [
      "Эпоха прошла за 124.65 секунд\n",
      "Средняя функция потерь для дискриминатора = 0.007936351153948008\n",
      "Средняя функция потерь для генератора = 13.715607667791433\n",
      "Today we are going?” Roland nodded.“It’s a little latest.” “Even’t we a little long,” he said. “I don’t know,” Roland said. “If we agreed, I must have to\n",
      "Следующая эпоха\n",
      "Эпоха 114\n"
     ]
    },
    {
     "name": "stderr",
     "output_type": "stream",
     "text": [
      "116it [02:04,  1.07s/it]\n"
     ]
    },
    {
     "name": "stdout",
     "output_type": "stream",
     "text": [
      "Эпоха прошла за 124.59 секунд\n",
      "Средняя функция потерь для дискриминатора = 0.00827122638954812\n",
      "Средняя функция потерь для генератора = 14.002267829303083\n",
      "Today we are going.” “Tell me the truth about the Turkswer.” “All right?” “I’m not,” Eddie said. “I’m sorry.” “I’m sorry,” Roland said, “but\n",
      "Следующая эпоха\n",
      "Эпоха 115\n"
     ]
    },
    {
     "name": "stderr",
     "output_type": "stream",
     "text": [
      "116it [02:04,  1.07s/it]\n"
     ]
    },
    {
     "name": "stdout",
     "output_type": "stream",
     "text": [
      "Эпоха прошла за 124.66 секунд\n",
      "Средняя функция потерь для дискриминатора = 0.018236636043403795\n",
      "Средняя функция потерь для генератора = 13.94363884268136\n",
      "Today we are going to death. Two Go on Second Avenue’s Avenue’s Arthurm and Aunt Talitha said discovery-shirts\n",
      "Следующая эпоха\n",
      "Эпоха 116\n"
     ]
    },
    {
     "name": "stderr",
     "output_type": "stream",
     "text": [
      "116it [02:04,  1.07s/it]\n"
     ]
    },
    {
     "name": "stdout",
     "output_type": "stream",
     "text": [
      "Эпоха прошла за 124.6 секунд\n",
      "Средняя функция потерь для дискриминатора = 0.013831875840220038\n",
      "Средняя функция потерь для генератора = 13.360847884211047\n",
      "Today we are going?” The gunslinger shook his head.“It was a little better, but it didn’t weep. I know if we were remember. But I didn’t like to believe that.” He looked up at the\n",
      "Следующая эпоха\n",
      "Эпоха 117\n"
     ]
    },
    {
     "name": "stderr",
     "output_type": "stream",
     "text": [
      "116it [02:04,  1.07s/it]\n"
     ]
    },
    {
     "name": "stdout",
     "output_type": "stream",
     "text": [
      "Эпоха прошла за 124.61 секунд\n",
      "Средняя функция потерь для дискриминатора = 0.010610522769450749\n",
      "Средняя функция потерь для генератора = 13.497825540345291\n",
      "Today we are going far Topeka, Blaine, and the Mark-World Rompan and Grays Boardia Park. Louple of the Barony Coach\n",
      "Следующая эпоха\n",
      "Эпоха 118\n"
     ]
    },
    {
     "name": "stderr",
     "output_type": "stream",
     "text": [
      "116it [02:04,  1.07s/it]\n"
     ]
    },
    {
     "name": "stdout",
     "output_type": "stream",
     "text": [
      "Эпоха прошла за 124.63 секунд\n",
      "Средняя функция потерь для дискриминатора = 0.018107124658556507\n",
      "Средняя функция потерь для генератора = 13.192912817001343\n",
      "Today we are going to beats on our own country.” “Then we’re condition?” “Yes. Blaine the Mono.” He paused for a moment, then shook his head.“It\n",
      "Следующая эпоха\n",
      "Эпоха 119\n"
     ]
    },
    {
     "name": "stderr",
     "output_type": "stream",
     "text": [
      "116it [02:04,  1.07s/it]\n"
     ]
    },
    {
     "name": "stdout",
     "output_type": "stream",
     "text": [
      "Эпоха прошла за 124.66 секунд\n",
      "Средняя функция потерь для дискриминатора = 0.02066691213321033\n",
      "Средняя функция потерь для генератора = 12.532065843713694\n",
      "Today we are going to sleep?” The gunslinger nodded, and the boy looked at him unbuttouched. “Why not?” The boy said nothing. “I’m afraid,” the gunslinger said softly. The boy said\n",
      "Следующая эпоха\n",
      "Эпоха 120\n"
     ]
    },
    {
     "name": "stderr",
     "output_type": "stream",
     "text": [
      "116it [02:04,  1.07s/it]\n"
     ]
    },
    {
     "name": "stdout",
     "output_type": "stream",
     "text": [
      "Эпоха прошла за 124.62 секунд\n",
      "Средняя функция потерь для дискриминатора = 0.011190125340551181\n",
      "Средняя функция потерь для генератора = 11.934115508507038\n",
      "Today we are going for Gray” Two hours in the Burgers of the Grays and the Wron Maybitan-World Red Mid-World\n",
      "Следующая эпоха\n",
      "Эпоха 121\n"
     ]
    },
    {
     "name": "stderr",
     "output_type": "stream",
     "text": [
      "116it [02:06,  1.09s/it]\n"
     ]
    },
    {
     "name": "stdout",
     "output_type": "stream",
     "text": [
      "Эпоха прошла за 126.0 секунд\n",
      "Средняя функция потерь для дискриминатора = 0.014685443504778708\n",
      "Средняя функция потерь для генератора = 12.927750118847552\n",
      "Today we are going to stay,” Cort said, “or perhaps even a boyscome.” “Is that a little.” “If Is it a boy who is silent in my mind?” “Yes,” the gunslinger said.\n",
      "Следующая эпоха\n",
      "Эпоха 122\n"
     ]
    },
    {
     "name": "stderr",
     "output_type": "stream",
     "text": [
      "2it [00:03,  1.73s/it]"
     ]
    },
    {
     "name": "stdout",
     "output_type": "stream",
     "text": [
      "Досрочно остановлено пользователем\n"
     ]
    },
    {
     "name": "stderr",
     "output_type": "stream",
     "text": [
      "\n"
     ]
    }
   ],
   "source": [
    "batch_size = 64\n",
    "\n",
    "model_D, model_G, optimizer_D, optimizer_G, loss_history_D, loss_history_G = train_loop_GAN(\n",
    "    D_model,\n",
    "    G_model,\n",
    "    all_dataset,\n",
    "    lm_b_cross_entropy,\n",
    "    lr_D=1e-2,\n",
    "    lr_G=1e-2,\n",
    "    epoch_n=150,\n",
    "    batch_size=batch_size,\n",
    "    device='cuda',\n",
    "    # early_optimizer_SD_D=optimizer_SD_D,\n",
    "    early_optimizer_SD_G=optimizer_SD_G,\n",
    "    tokenizer=tokenizer,\n",
    "    need_to_gen=True,\n",
    "    end_chunk=end_length,\n",
    "    phrase=\"Today we are going\"\n",
    ")"
   ]
  },
  {
   "cell_type": "code",
   "execution_count": 12,
   "metadata": {},
   "outputs": [],
   "source": [
    "from utils.base import save_texts_to_file\n",
    "# Сохранение всех моделей\n",
    "torch.save(model_D.state_dict(), './models/GAN/DT/2/model_D.pth')\n",
    "torch.save(model_G.state_dict(), './models/GAN/DT/2/model_G.pth')\n",
    "torch.save(optimizer_D.state_dict(), './models/GAN/DT/2/optimizer_D.pth')\n",
    "torch.save(optimizer_G.state_dict(), './models/GAN/DT/2/optimizer_G.pth')\n",
    "\n",
    "# И их loss-функций\n",
    "\n",
    "loss_history_D = [str(line) for line in loss_history_D]\n",
    "save_texts_to_file(loss_history_D, \"./models/GAN/DT/2/loss_D_2.txt\")\n",
    "\n",
    "loss_history_G = [str(line) for line in loss_history_G]\n",
    "save_texts_to_file(loss_history_G, \"./models/GAN/DT/2/loss_G_2.txt\")"
   ]
  },
  {
   "attachments": {},
   "cell_type": "markdown",
   "metadata": {},
   "source": [
    "### Генерация текста"
   ]
  },
  {
   "cell_type": "code",
   "execution_count": 10,
   "metadata": {},
   "outputs": [
    {
     "data": {
      "text/plain": [
       "<All keys matched successfully>"
      ]
     },
     "execution_count": 10,
     "metadata": {},
     "output_type": "execute_result"
    }
   ],
   "source": [
    "# Загрузка дискриминатора\n",
    "optimizer_SD_D = torch.load('./models/GAN/DT/2/optimizer_D.pth')\n",
    "D_model.load_state_dict(torch.load('./models/GAN/DT/2/model_D.pth'))"
   ]
  },
  {
   "cell_type": "code",
   "execution_count": 11,
   "metadata": {},
   "outputs": [
    {
     "data": {
      "text/plain": [
       "<All keys matched successfully>"
      ]
     },
     "execution_count": 11,
     "metadata": {},
     "output_type": "execute_result"
    }
   ],
   "source": [
    "# Загрузка генератора\n",
    "optimizer_SD_G = torch.load('./models/GAN/DT/2/optimizer_G.pth')\n",
    "G_model.load_state_dict(torch.load('./models/GAN/DT/2/model_G.pth'))"
   ]
  },
  {
   "cell_type": "code",
   "execution_count": 12,
   "metadata": {},
   "outputs": [],
   "source": [
    "beam_generator = BeamGenerator(G_model, tokenizer)"
   ]
  },
  {
   "cell_type": "code",
   "execution_count": 13,
   "metadata": {},
   "outputs": [],
   "source": [
    "def gen_some_sent(phrase, N, beam_size, need_reweight=False, temperature=0, alpha=0):\n",
    "    answers = []\n",
    "    for i in range(N):\n",
    "        beam_gen_variants = beam_generator(phrase, beamsize=beam_size, return_hypotheses_n=1, need_reweight=need_reweight, temperature=temperature, alpha=alpha)\n",
    "        for score, pred_txt in beam_gen_variants:\n",
    "            answers.append(pred_txt)\n",
    "    return answers"
   ]
  },
  {
   "cell_type": "code",
   "execution_count": 20,
   "metadata": {},
   "outputs": [
    {
     "name": "stdout",
     "output_type": "stream",
     "text": [
      "In the East Co, the Cradle of the City of Lud, and the Cordsule of the Cradillacle of Lud. Beyond the Great Road\n",
      "In the East Cradle of the Prier had given him with the Cradle and Final Esssay. It was a great big degener of the Great\n",
      "In the Eastloper and the Pope of Click. The Cradle of the Cradle of Lud. They went on the Cradle of the Crad\n",
      "In the EastTENTENT, the GUSLDDILINGER, ROLAND OF GILEAD,” Blaine said. “THE IS NOTHER IS NO\n",
      "In the East compone of the Westernatio River Crossing Parks and the Barony Coach Coach. The Big Boboach had been term\n"
     ]
    }
   ],
   "source": [
    "answers = []\n",
    "for i in range(5):\n",
    "    beam_gen_variants = beam_generator('In the East', beamsize=5, return_hypotheses_n=1)\n",
    "    for score, pred_txt in beam_gen_variants:\n",
    "        answers.append(pred_txt)\n",
    "\n",
    "for ans in answers:\n",
    "    print(ans)"
   ]
  },
  {
   "cell_type": "code",
   "execution_count": 17,
   "metadata": {},
   "outputs": [
    {
     "name": "stdout",
     "output_type": "stream",
     "text": [
      "In the East Balazar’s Compana Centra CoCOSE. CHAPSEDICE, JAKE OF NEW YORK, ROLAND\n",
      "In the Eastness of the Baron . . . . “Pardonswer,” the gunslinger said. “Please,” the man in black muttered. The gunslinger nodded.“Not yet –\n",
      "In the East, the Companing Barony Coachs of Fifth Street. Topeka run, and Topeka run, Engineer Bob\n",
      "In the Easts of the Cradle of the Cradle, and the Kingdrawing of the City of the Mid-World River Crossing from the Cross\n",
      "In the Eastloper of the Cradle of the Cradle and the Cradle of the Cradle in the Path of Lud, and the Cradle\n"
     ]
    }
   ],
   "source": [
    "answers = []\n",
    "for i in range(5):\n",
    "    beam_gen_variants = beam_generator('In the East', beamsize=5, return_hypotheses_n=1, temperature=0.3, alpha=0.1, need_reweight=True)\n",
    "    for score, pred_txt in beam_gen_variants:\n",
    "        answers.append(pred_txt)\n",
    "\n",
    "for ans in answers:\n",
    "    print(ans)"
   ]
  },
  {
   "cell_type": "code",
   "execution_count": 21,
   "metadata": {},
   "outputs": [
    {
     "name": "stdout",
     "output_type": "stream",
     "text": [
      "The Sun is going to tell you that?” “I don’t know,” the gunslinger said. “I didn’t like him,” the boy said abruptly. He looked up at him and saw the darkness of the man in black.\n",
      "The Sun is going or Mid-World World World Rilead’s Dark Tower, Had, Barony Stauntonities and Mid-World Railway Compan\n",
      "The Sun is going to the Dark Tower is ‘gate. The plane follows issued. The pizza truing of the piano playgraphic boards.\n",
      "The Sun is going off the Turtle’s Turtle and the Piper’s Topeka, and Turtletle Piper, where the Glad Many Aven\n",
      "The Sun is going to school. I don’t know. I don’t understand that way. I mean, but I don’t know that much.” He looked at Eddie. “I’m not seeing the Tower.” “Yes,” Roland said, “but\n"
     ]
    }
   ],
   "source": [
    "answers = []\n",
    "for i in range(5):\n",
    "    beam_gen_variants = beam_generator('The Sun is going', beamsize=5, return_hypotheses_n=1, temperature=0.3, alpha=0.1, need_reweight=True)\n",
    "    for score, pred_txt in beam_gen_variants:\n",
    "        answers.append(pred_txt)\n",
    "\n",
    "for ans in answers:\n",
    "    print(ans)"
   ]
  },
  {
   "cell_type": "code",
   "execution_count": 22,
   "metadata": {},
   "outputs": [
    {
     "name": "stdout",
     "output_type": "stream",
     "text": [
      "Температура = 0.01, альфа = 0\n",
      "The way was in the direction of The Turtle and Tom 10 ZZZZZoltan.Z.Z.Z. Top Top song and Top\n",
      "The way was sying. Aunt Talitha-burts, but it was not a bunch or a nervous gigant, but it was a bombardier\n",
      "The way was Fifth. A Fairing Forty-second Street, and the Coosecondomms of the Final Essssssay\n",
      "The way was moving. The man in the blue High Speech. The Speech of the man in black had been a black, and the gunslinger's revolted. The man in black stood\n",
      "The way was the only fact she had given her eyes (he had given a pal of paper), and the Really Bad Man and Really Bad Man was Really Bad Man\n",
      "-----\n",
      "Температура = 0.01, альфа = 0.1\n",
      "The way was the man in black. He had never seen such a man who has been temporarily in the middy of the man in black. The man who had been wearing the man who\n",
      "The way was that it had occurred to the symbolience of a bitch of the song. It was the sizophrenication, and if he was going to\n",
      "The way was to the doorkeeper and into the midnight. He looked at the door, then stretched.“Come on,” he said in a voice of a milding voice.\n",
      "The way was occurred to the cycludies of Grays, but the Gunslingers, the Written in the Western Sea Western Sea ,\n",
      "The way was to go right. My World Riddle-De-world Railway Company Steath of the St. Louis to Topeka run,\n",
      "-----\n",
      "Температура = 0.01, альфа = 0.3\n",
      "The way was gone. The Mid-World Railway Compan, the St. Louis and Topeka St. Topeka run, and Topeka runs\n",
      "The way was the deal of Tricks of 19772,6386 930 7 98 1987 986 9 9\n",
      "The way was not gian, but it was also the voice of Little Blaine had given away from the speaker of the Turtle Topeka, and Topeka run, and\n",
      "The way was a Zar of Tarot cards; the Guards of the Western Send RIDDLE,” Blaine said. “THERE HOULD YOUR\n",
      "The way was the desert of the Western Sea-a Guardiko hidden in the Barony Coach of the Boach, and the Barony Co\n",
      "-----\n",
      "Температура = 0.01, альфа = 0.5\n",
      "The way was in Mid-World Railroad of Gilead, and Thorsichly 19th Street, 195986 JAKE TAKE INS\n",
      "The way was gadily-black, but there was a brief beard. The man in black had been wrapped around the black/ The Mansion of the Barony Coach.\n",
      "The way was a Polteless St. Louislean, he thought. Of course. From the Time Z.Zoltan and Topeka Topek\n",
      "The way was becoming a midium: TUMANNAH SPERSED MORTH EDDIE AND SUSANCE IN THESE\n",
      "The way was much more than two women: pointed on the corner. “I ALL THE SAY A RIDDLE,” Blaine said absently, “butturdsently.\n",
      "-----\n",
      "Температура = 0.2, альфа = 0\n",
      "The way was don<EOS>\n",
      "The way was there. The Mid-World came out sound of the wall. Aunt Talitha’s end of the monstrous, a place called Markey Avenue. Ar\n",
      "The way was only a man named Walter. Even the third man in black had become the man in black, and the gunslinger had never seen the man in black. It was the only man in black\n",
      "The way was true, but he knew it was not all. He didn’t think he would be able to think of that thing, but he didn’t think he was true enough. He knew he knew. He knew\n",
      "The way was gone. The Prisoner, the Lady of the Cadle was the Pubes, the Pubes and the Cradle of the Cradle of the Crad\n",
      "-----\n",
      "Температура = 0.2, альфа = 0.1\n",
      "The way was this: What is the place, where it is? What is it possibilies are you doing here? What is it?” Eddie asked. Roland shrugged.“It is the truths is\n",
      "The way was Aunt Talitha, and the Big Emurtleton Zolt’s Turtan and Topeka and Topeka Topeka\n",
      "The way was still being<EOS>\n",
      "The way was a pizza truck. Outomob. Travelled to the point. Topeka, Mr. Martin, Mr. Bissette’s crumbling repres\n",
      "The way was vely a man named. The Prisoner. The gunslinger had not forgotten what he had seen. The man in black had not asked the blue sugggar. The man\n",
      "-----\n",
      "Температура = 0.2, альфа = 0.3\n",
      "The way was beginning to creat<EOS>\n",
      "The way was a symbolic symbol. The gunslinger looked around at him with a sacrifice and his headacrifiosity. The man was the man in black\n",
      "The way was no; it was Blaine. The gunslinger was as cold asleep as a urge to beauty as the man in black rode through the darkness. The man in black returned\n",
      "The way was a casty man in black. The man with the man in black who had brought him to the man in black. The man who had been a young man in black. The gunslinger had been\n",
      "The way was the Chambers.” “In child,” Roland said, “but you’ll never leave you alone.” “When you will riddl your riddles with the riddles.” “Prop\n",
      "-----\n",
      "Температура = 0.2, альфа = 0.5\n",
      "The way was a place called Mid-World Railway COMomp Compompany Street of the St. Louis, and Topeka and Topek\n",
      "The way was becoming to Blaine the Mono. Blaine the name. Blaine is the truth. Blaine is the truth. Blaine the truth. Blaine is the truth. Blaine is Blaine is the truth.\n",
      "The way was species; the man in black was not black. He had been a dimmed by a man named TV shaft of the man in black, and the man in black\n",
      "The way was those. Blaine the Monight of the Mono began to take a point. “THE WAS RIDDLE, BUT OF YOUR ROLAND OF GI\n",
      "The way was something wrong with a cartnnies of crogomers. Two the Tarot cards, the cyclopeka of the Guardian’s E\n",
      "-----\n",
      "Температура = 0.5, альфа = 0\n",
      "The way was much more than the one who had brought out to the corner of the carriot, and the man who had been brought out to a cocknower. Aunt Talitha\n",
      "The way was very much as Topeka Topeka, in Topeka’s Engineer Bob. Topeka and Charlie the Choo, Charlie the Choo-C\n",
      "The way was when the Great Lady, the gunslinger had told him that it was possible. The Prisoner was the Lady of the Lady's Lady's lifelessness, and\n",
      "The way waste landing on the sand. It had been a little, and when the man in black had been. He looked at the stars of the man in black, and saw the man in black\n",
      "The way was blukey, but the most of the Western Sea; the Western Mutants of the World Western Sea Mid-World River Cross\n",
      "-----\n",
      "Температура = 0.5, альфа = 0.1\n",
      "The way was Rhea Compan, and Jeeves! Here! Gunslinger! Brown shrieky! Right!” The Big Cobertany\n",
      "The way was now; it was as if someone had shut it had been. The cyclosed in the airlinder of the cylinder of his revolver. It was the\n",
      "The way was Blaine the Monoon. Bery-WORLY, BUT THE TUSKING, EDDIE OF NOTHEREW YORK OF NE\n",
      "The way was now he was sure he was the Really Bad Man’s Cadletry Really Badio and Copping Big Copper Really Bad Man to\n",
      "The way was intelligent, and the voice of the man who had almost ceased. He had no idea what he had ever heard it in a low human solid smoke. He had\n",
      "-----\n",
      "Температура = 0.5, альфа = 0.3\n",
      "The way was empty. Blaine… and most of the Mono. Instead Riddle-De-De-Dum!- WHOOOOK YOUR RIDDLES\n",
      "The way was it; the people of Gunslinger was Portal, and the Wides of the Pubes, the Grays in the Wasteon Road. The\n",
      "The way was the man with a man who had been temporated by the man in black. He was notice. The man in the man who had not asked the man in black. Marten who\n",
      "The way was becoming ground. It was a thick voice of lighted in the voice of Cort mercy; the voice of the voice of a man in black’s voice, and the voice of\n",
      "The way was turning to the Blue Western Eastean Pope and End-World Rocket, and Engineer Bob. Charlie the Choo-Ch\n",
      "-----\n",
      "Температура = 0.5, альфа = 0.5\n",
      "The way was almost a sacrification of the symboles (the only was the most obluation) had called the March of the Mid-World Rail\n",
      "The way was very high. The man in black. The gunslinger had given him to the man in black. The Prisoner, the man in black was beginning to believe the man in black. The\n",
      "The way was written ones. Listen to the VOCHONTY RIDDLES. BOLAND OF GILEAD IS NEW YORK. AS\n",
      "The way was giving the man in black. He was a cylinder of the man who had written the man in black. The Perhaps the man in black. The man in\n",
      "The way was still possible. Blaine the Marcho. The Mansion of the Mid-World Railway Company, and the Barony Coach, and Blaine\n",
      "-----\n",
      "Температура = 0.8, альфа = 0\n",
      "The way was now recogneless zone. The name of Two of World had been Walker. The Wils of the Beam Which Riddle-D\n",
      "The way was Farth, and when the Really Bad Man had become the Really Bad Man had been given subt Really Bad Man had given the Really Bad Man\n",
      "The way was highwaying. The Mid-World Railway Company, the Mid-World Riddle A-De-De-Dum-a-Dum! of\n",
      "The way was right. The Mid-World Lady. Mid-World Railway Company-gradills were Great Old Star and Old Prid-World’s C\n",
      "The way was beginning to make a differential ambition… and then he thought grimly.“My,” the gunslinger said in front of the High Speech, and the gunslinger\n",
      "-----\n",
      "Температура = 0.8, альфа = 0.1\n",
      "The way was much different people: Prisoner had given a riddle in the Riddle-De-Dum!-Sto-Dum!-PE-Day\n",
      "The way was becoming the Great Lady. The Prisoner. In the Barony Caning Barony Coff, the Coffin High Speech,\n",
      "The way was selcomberrying: the Common Roompanican, and Charlie the Choo-Choo and Engineer Bob Briders\n",
      "The way was on the wall, the floor. The cyclopeanylinders and the Clearing Cradle of the Cradle of the Cradle was\n",
      "The way was driven. “I didn’t know,” Jake said in a distant, “but that’s the Guardwood.” The boy looked up at the gunslinger. He looked back at the gunslinger with\n",
      "-----\n",
      "Температура = 0.8, альфа = 0.3\n",
      "The way was running out of the wallpankee and the cylinder of the pit of the cylinder who called Mid-World and Farson Deep\n",
      "The way was beginning to kill. The gunslinger's bootediculousness. The man in the gunslinger's boot, the man in black held his under the ironic boy. The man in black did\n",
      "The way was con­cative. The gunslinger felt an urge to the Dark Tower. He was suddenly aware that he was going to make sure that the man in black, and the man in black\n",
      "The way was no longer worm, but the voice of the voice of Almphoding; the voice of a machinery, the voice of Little Blaine had gone from the Barony\n",
      "The way waste to speaker Blaine the Christ, was the Spider’s Riddle-Dum! ROLAND OF GIGHT, ROLAND-De\n",
      "-----\n",
      "Температура = 0.8, альфа = 0.5\n",
      "The way was temparation, but it was not quite difference. He had no idea what he had seen in his life, and he was doing more than he had ever seen in the fire. He\n",
      "The way was given by the lobstrosities on the far end of the platfet, and the linety of the rabbit. The Western Sea\n",
      "The way was emptying in the middle of the barfire. Above it, there was no more than four or five or five or five or five, but it was too late. It was\n",
      "The way was becoming a little Zolice Topeka of Tom 1Zoltan. Topeka Topeka Topeka Zoo. Top\n",
      "The way was Mix-World Railway Coms of Mid-World Railway Company, and the Big Earony Coach, and Charlie the Choo-\n",
      "-----\n"
     ]
    }
   ],
   "source": [
    "temperatures = [0.01, 0.2, 0.5, 0.8]\n",
    "alphas = [0, 0.1, 0.3, 0.5]\n",
    "\n",
    "all_test = itertools.product(temperatures, alphas)\n",
    "\n",
    "for t, a in all_test:\n",
    "    print(f\"Температура = {t}, альфа = {a}\")\n",
    "    answers = gen_some_sent(\"The way was\", 5, 10, True, t, a)\n",
    "    for ans in answers:\n",
    "        print(ans)\n",
    "    print(\"-----\")"
   ]
  }
 ],
 "metadata": {
  "kernelspec": {
   "display_name": "Python 3",
   "language": "python",
   "name": "python3"
  },
  "language_info": {
   "codemirror_mode": {
    "name": "ipython",
    "version": 3
   },
   "file_extension": ".py",
   "mimetype": "text/x-python",
   "name": "python",
   "nbconvert_exporter": "python",
   "pygments_lexer": "ipython3",
   "version": "3.10.5"
  },
  "orig_nbformat": 4
 },
 "nbformat": 4,
 "nbformat_minor": 2
}
